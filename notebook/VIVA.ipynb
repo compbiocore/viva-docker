{
 "cells": [
  {
   "cell_type": "markdown",
   "metadata": {},
   "source": [
    "# VIVA: Visualization of Variants\n",
    "\n",
    "## VIVA is a tool for visualizing variant genotype and read depth (coverage) data from variant call format (VCF) files. \n",
    "\n",
    "### Getting Started\n",
    "\n",
    "Enter your VCF filename below and choose your plotting options.\n",
    "\n",
    "Then run the entire notebook. Plots will be saved in the directory you keep your VIVA.ipynb in, or in the directory you specify in the plotting options.\n"
   ]
  },
  {
   "cell_type": "markdown",
   "metadata": {},
   "source": [
    "### Enter You VCF filename\n",
    "\n",
    "Enter filename or file path of a VCF file to visualize. "
   ]
  },
  {
   "cell_type": "code",
   "execution_count": 1,
   "metadata": {},
   "outputs": [
    {
     "name": "stdout",
     "output_type": "stream",
     "text": [
      "loaded filename\n"
     ]
    }
   ],
   "source": [
    "vcf_filename = \"/Users/George/.julia/dev/VariantVisualization/test/test_files/test_4X_191.vcf\" ;\n",
    "println(\"loaded filename\")"
   ]
  },
  {
   "cell_type": "markdown",
   "metadata": {},
   "source": [
    "### Variant Selection\n",
    "\n",
    "Select variant record rows of your VCF file to visualize.\n",
    "\n",
    "*Important Note* Variant selection is recommending when visualizing large VCF files as plotting capability is limited by user's computing power."
   ]
  },
  {
   "cell_type": "code",
   "execution_count": 2,
   "metadata": {},
   "outputs": [
    {
     "name": "stdout",
     "output_type": "stream",
     "text": [
      "loaded options\n"
     ]
    }
   ],
   "source": [
    "genomic_range = \"chr4:0-500000000\" #specify genomic range of variants to select in the format chr4:0-560000000\n",
    "pass_filter = \"true\" #if \"true\", selects variants with Filter Status = PASS\n",
    "positions_list = \"test/test_files/positions_list_no_strings.csv\" #include path and filename to list of variant positions to selects\n",
    "; \n",
    "println(\"loaded options\")"
   ]
  },
  {
   "cell_type": "markdown",
   "metadata": {},
   "source": [
    "### Sample Grouping and Selection\n",
    "\n",
    "Add sample metadata to heatmap plots and group sample columns by metadata traits. This feature is useful for identifying batch effects or differential variation between samples. \n",
    "\n",
    "Additionally, you may select unique samples to include in heatmap and average read depth scatter plots. \n",
    "\n",
    "*Note* If you would like to group samples using a metadata table in combination with the sample selection feature, the metadata table must only include metadata for the samples to be selected."
   ]
  },
  {
   "cell_type": "code",
   "execution_count": 3,
   "metadata": {},
   "outputs": [
    {
     "name": "stdout",
     "output_type": "stream",
     "text": [
      "loaded options\n"
     ]
    }
   ],
   "source": [
    "group_samples = \"/Users/George/.julia/dev/VariantVisualization/test/test_files/sample_metadata_matrix.csv\",\"case,control\" #include path or filename to matrix to group by, as well as trait to group by according to the manual\n",
    "select_samples = \"\" #include path and filename to list of sample names\n",
    ";\n",
    "println(\"loaded options\")"
   ]
  },
  {
   "cell_type": "markdown",
   "metadata": {},
   "source": [
    "### Plotting Options"
   ]
  },
  {
   "cell_type": "code",
   "execution_count": 4,
   "metadata": {},
   "outputs": [
    {
     "name": "stdout",
     "output_type": "stream",
     "text": [
      "loaded options\n"
     ]
    }
   ],
   "source": [
    "heatmaps = \"genotype,read_depth\" #make default both - genotype, read_depth, or genotype,read_depth\n",
    "read_depth_scatter_plots = \"\" \n",
    "y_axis_label_option = \"chromosomes\"#defaults to \"chromosome labels\". If \"positions\", each variant position is labeled on y axis. If \"none\", no y-axis ticklabels are plotted.\n",
    "x_axis_label_option = \"\" #if true, sample ids are labelled on x axis labels\n",
    ";\n",
    "println(\"loaded options\")"
   ]
  },
  {
   "cell_type": "markdown",
   "metadata": {},
   "source": [
    "### Saving Options"
   ]
  },
  {
   "cell_type": "code",
   "execution_count": 5,
   "metadata": {},
   "outputs": [
    {
     "name": "stdout",
     "output_type": "stream",
     "text": [
      "loaded options\n"
     ]
    }
   ],
   "source": [
    "heatmap_title = \"\"\n",
    "save_format = \"html\" #Options include html, pdf, svg, eps, png\n",
    "output_directory = \"\"\n",
    "num_array = \"\" #if \"true\", saves labeled number array of filtered heatmap input\n",
    "save_remotely = \"true\" #if true, html outputs are shareable but viewer must have internet connection to open \n",
    ";\n",
    "println(\"loaded options\")"
   ]
  },
  {
   "cell_type": "markdown",
   "metadata": {},
   "source": [
    "### Run the Analysis\n",
    "##### Now that you've entered your settings, click 'Run All' in the Cell dropdown in the notebook menubar to run the whole notebook and run the VIVA options.\n",
    "Do not alter the code in the cells below. Your files will save to the output directory in which the notebook file (.ipynb) is saved, unless you chose a non-default output directory in the settings."
   ]
  },
  {
   "cell_type": "code",
   "execution_count": 6,
   "metadata": {},
   "outputs": [
    {
     "name": "stdout",
     "output_type": "stream",
     "text": [
      "Welcome to VIVA Jupyter Notebook.\n",
      "\n",
      "Loading packages:\n",
      "\n",
      "1/5 ArgParse\n",
      "2/5 VariantVisualization\n"
     ]
    },
    {
     "name": "stderr",
     "output_type": "stream",
     "text": [
      "┌ Info: Recompiling stale cache file /Users/George/.julia/compiled/v1.1/VariantVisualization/v8cR2.ji for VariantVisualization [7f8bf45c-0ad5-53b5-97e6-33c1305e0aa4]\n",
      "└ @ Base loading.jl:1184\n",
      "WARNING: could not import Base.quit into AtomShell\n",
      "[ Info: Compiling VCF parser...\n"
     ]
    },
    {
     "data": {
      "text/html": [
       "    <script class='js-collapse-script'>\n",
       "        var curMatch =\n",
       "            window.location.href\n",
       "            .match(/(.*?)\\/notebooks\\/.*\\.ipynb/);\n",
       "\n",
       "        curMatch = curMatch ||\n",
       "            window.location.href\n",
       "            .match(/(.*?)\\/apps\\/.*\\.ipynb/);\n",
       "\n",
       "        if ( curMatch ) {\n",
       "            $('head').append('<base href=\"' + curMatch[1] + '/\">');\n",
       "        }\n",
       "    </script>\n"
      ],
      "text/plain": [
       "HTML{String}(\"    <script class='js-collapse-script'>\\n        var curMatch =\\n            window.location.href\\n            .match(/(.*?)\\\\/notebooks\\\\/.*\\\\.ipynb/);\\n\\n        curMatch = curMatch ||\\n            window.location.href\\n            .match(/(.*?)\\\\/apps\\\\/.*\\\\.ipynb/);\\n\\n        if ( curMatch ) {\\n            \\$('head').append('<base href=\\\"' + curMatch[1] + '/\\\">');\\n        }\\n    </script>\\n\")"
      ]
     },
     "metadata": {},
     "output_type": "display_data"
    },
    {
     "data": {
      "text/html": [
       "<script class='js-collapse-script' src='/assetserver/d66afc8b80ce609a2ce630d051df1008d166cdff-assets/webio/dist/bundle.js'></script>"
      ],
      "text/plain": [
       "HTML{String}(\"<script class='js-collapse-script' src='/assetserver/d66afc8b80ce609a2ce630d051df1008d166cdff-assets/webio/dist/bundle.js'></script>\")"
      ]
     },
     "metadata": {},
     "output_type": "display_data"
    },
    {
     "data": {
      "text/html": [
       "<script class='js-collapse-script' src='/assetserver/d66afc8b80ce609a2ce630d051df1008d166cdff-assets/providers/ijulia_setup.js'></script>"
      ],
      "text/plain": [
       "HTML{String}(\"<script class='js-collapse-script' src='/assetserver/d66afc8b80ce609a2ce630d051df1008d166cdff-assets/providers/ijulia_setup.js'></script>\")"
      ]
     },
     "metadata": {},
     "output_type": "display_data"
    },
    {
     "data": {
      "text/html": [
       "  <script class='js-collapse-script'>\n",
       "    $('.js-collapse-script').parent('.output_subarea').css('padding', '0');\n",
       "  </script>\n"
      ],
      "text/plain": [
       "HTML{String}(\"  <script class='js-collapse-script'>\\n    \\$('.js-collapse-script').parent('.output_subarea').css('padding', '0');\\n  </script>\\n\")"
      ]
     },
     "metadata": {},
     "output_type": "display_data"
    },
    {
     "name": "stdout",
     "output_type": "stream",
     "text": [
      "3/5 PlotlyJS\n",
      "4/5 GeneticVariation\n",
      "5/5 DelimitedFiles\n"
     ]
    },
    {
     "data": {
      "text/plain": [
       "(\"\", \"html\", \"\", \"\", \"true\")"
      ]
     },
     "execution_count": 6,
     "metadata": {},
     "output_type": "execute_result"
    }
   ],
   "source": [
    "### DO NOT ALTER THE CODE IN THIS CELL ###\n",
    "### Navigate to `Cell` tab in the menubar and click `Run All` to generate plots ###\n",
    "\n",
    "#Passing settings to VIVA. Do not adjust.\n",
    "\n",
    "println(\"Welcome to VIVA Jupyter Notebook.\")\n",
    "println()\n",
    "println(\"Loading packages:\")\n",
    "println()\n",
    "\n",
    "\n",
    "println(\"1/5 ArgParse\")\n",
    "using ArgParse\n",
    "\n",
    "println(\"2/5 VariantVisualization\")\n",
    "using VariantVisualization\n",
    "\n",
    "println(\"3/5 PlotlyJS\")\n",
    "using PlotlyJS\n",
    "\n",
    "println(\"4/5 GeneticVariation\")\n",
    "using GeneticVariation\n",
    "\n",
    "println(\"5/5 DelimitedFiles\")\n",
    "using DelimitedFiles\n",
    "\n",
    "variant_filters = genomic_range,pass_filter,positions_list\n",
    "sample_selection = group_samples,select_samples\n",
    "plotting_options = heatmaps,read_depth_scatter_plots,y_axis_label_option,x_axis_label_option\n",
    "saving_options = heatmap_title,save_format,output_directory,num_array,save_remotely"
   ]
  },
  {
   "cell_type": "code",
   "execution_count": 7,
   "metadata": {},
   "outputs": [
    {
     "name": "stdout",
     "output_type": "stream",
     "text": [
      "Reading /Users/George/.julia/dev/VariantVisualization/test/test_files/test_4X_191.vcf\n",
      "\n",
      "Selected 5 variants with Filter status: PASS, that match list of chromosome positions of interest, and are within chromosome range: chr4:0-500000000\n",
      "\n",
      "Finished Filtering.\n",
      "_______________________________________________\n",
      "\n",
      "Grouping samples by case,control\n",
      "\n"
     ]
    },
    {
     "data": {
      "application/vnd.plotly.v1+json": {
       "data": [
        {
         "colorbar": {
          "ticktext": [
           "Trait 2",
           "Trait 1",
           "No Call",
           "Homozygous Reference",
           "Heterozygous Variant",
           "Homozygous Variant"
          ],
          "tickvals": [
           -2,
           -1,
           0,
           1,
           2,
           3
          ]
         },
         "colorscale": [
          [
           0,
           "rgb(208, 211, 212)"
          ],
          [
           0.2,
           "rgb(151, 154, 154)"
          ],
          [
           0.4,
           "rgb(255,255,255)"
          ],
          [
           0.6,
           "rgb(51,106,145)"
          ],
          [
           0.8,
           "rgb(65,165,137)"
          ],
          [
           1,
           "rgb(251,231,65)"
          ]
         ],
         "gridcolor": "#E2E2E2",
         "hoverinfo": "text",
         "showscale": false,
         "text": [
          [
           "ID: cas1001 \n chr4,3076150 \n GT: No Call",
           "ID: cas1003 \n chr4,3076150 \n GT: No Call",
           "ID: cas1005 \n chr4,3076150 \n GT: Homozygous Reference",
           "ID: cas1010 \n chr4,3076150 \n GT: Homozygous Reference",
           "ID: cas1012 \n chr4,3076150 \n GT: No Call",
           "ID: cas1013 \n chr4,3076150 \n GT: Homozygous Reference",
           "ID: cas1014 \n chr4,3076150 \n GT: Homozygous Reference",
           "ID: cas1015 \n chr4,3076150 \n GT: Homozygous Reference",
           "ID: cas1017 \n chr4,3076150 \n GT: Homozygous Reference",
           "ID: cas1018 \n chr4,3076150 \n GT: Homozygous Reference",
           "ID: cas1019 \n chr4,3076150 \n GT: Homozygous Reference",
           "ID: cas1020 \n chr4,3076150 \n GT: No Call",
           "ID: cas1021 \n chr4,3076150 \n GT: No Call",
           "ID: cas1022 \n chr4,3076150 \n GT: Homozygous Reference",
           "ID: cas1023 \n chr4,3076150 \n GT: Homozygous Reference",
           "ID: cas1024 \n chr4,3076150 \n GT: No Call",
           "ID: cas2025 \n chr4,3076150 \n GT: No Call",
           "ID: cas2027 \n chr4,3076150 \n GT: No Call",
           "ID: cas2028 \n chr4,3076150 \n GT: No Call",
           "ID: cas2029 \n chr4,3076150 \n GT: No Call",
           "ID: cas2032 \n chr4,3076150 \n GT: No Call",
           "ID: cas2033 \n chr4,3076150 \n GT: No Call",
           "ID: cas2034 \n chr4,3076150 \n GT: No Call",
           "ID: cas2035 \n chr4,3076150 \n GT: No Call",
           "ID: cas2038 \n chr4,3076150 \n GT: Homozygous Reference",
           "ID: cas2039 \n chr4,3076150 \n GT: No Call",
           "ID: cas2040 \n chr4,3076150 \n GT: Homozygous Reference",
           "ID: cas2041 \n chr4,3076150 \n GT: No Call",
           "ID: cas2043 \n chr4,3076150 \n GT: No Call",
           "ID: cas2044 \n chr4,3076150 \n GT: No Call",
           "ID: cas2045 \n chr4,3076150 \n GT: No Call",
           "ID: cas2048 \n chr4,3076150 \n GT: No Call",
           "ID: cas3050 \n chr4,3076150 \n GT: Homozygous Reference",
           "ID: cas3051 \n chr4,3076150 \n GT: No Call",
           "ID: cas3052 \n chr4,3076150 \n GT: Homozygous Reference",
           "ID: cas3053 \n chr4,3076150 \n GT: No Call",
           "ID: cas3054 \n chr4,3076150 \n GT: Homozygous Reference",
           "ID: cas3055 \n chr4,3076150 \n GT: No Call",
           "ID: cas3056 \n chr4,3076150 \n GT: Homozygous Reference",
           "ID: cas3057 \n chr4,3076150 \n GT: No Call",
           "ID: cas3058 \n chr4,3076150 \n GT: Homozygous Reference",
           "ID: cas3059 \n chr4,3076150 \n GT: No Call",
           "ID: cas3060 \n chr4,3076150 \n GT: No Call",
           "ID: cas3061 \n chr4,3076150 \n GT: No Call",
           "ID: cas3062 \n chr4,3076150 \n GT: Homozygous Reference",
           "ID: cas3065 \n chr4,3076150 \n GT: Homozygous Reference",
           "ID: cas3072 \n chr4,3076150 \n GT: Homozygous Reference",
           "ID: cas3073 \n chr4,3076150 \n GT: No Call",
           "ID: cas3074 \n chr4,3076150 \n GT: No Call",
           "ID: cas3075 \n chr4,3076150 \n GT: Homozygous Reference",
           "ID: cas3076 \n chr4,3076150 \n GT: Homozygous Reference",
           "ID: cas3077 \n chr4,3076150 \n GT: Homozygous Reference",
           "ID: cas3078 \n chr4,3076150 \n GT: No Call",
           "ID: cas3079 \n chr4,3076150 \n GT: No Call",
           "ID: cas3080 \n chr4,3076150 \n GT: No Call",
           "ID: cas3081 \n chr4,3076150 \n GT: Homozygous Reference",
           "ID: cas3082 \n chr4,3076150 \n GT: No Call",
           "ID: cas3083 \n chr4,3076150 \n GT: No Call",
           "ID: cas3084 \n chr4,3076150 \n GT: No Call",
           "ID: cas3085 \n chr4,3076150 \n GT: No Call",
           "ID: cas3086 \n chr4,3076150 \n GT: Homozygous Reference",
           "ID: cas3089 \n chr4,3076150 \n GT: Homozygous Reference",
           "ID: cas3092 \n chr4,3076150 \n GT: No Call",
           "ID: cas3096 \n chr4,3076150 \n GT: Homozygous Reference",
           "ID: cas4097 \n chr4,3076150 \n GT: No Call",
           "ID: cas4098 \n chr4,3076150 \n GT: Homozygous Reference",
           "ID: cas4099 \n chr4,3076150 \n GT: No Call",
           "ID: cas4100 \n chr4,3076150 \n GT: No Call",
           "ID: cas4101 \n chr4,3076150 \n GT: No Call",
           "ID: cas4102 \n chr4,3076150 \n GT: No Call",
           "ID: cas4103 \n chr4,3076150 \n GT: No Call",
           "ID: cas4104 \n chr4,3076150 \n GT: No Call",
           "ID: cas4105 \n chr4,3076150 \n GT: No Call",
           "ID: cas4106 \n chr4,3076150 \n GT: No Call",
           "ID: cas4107 \n chr4,3076150 \n GT: Homozygous Reference",
           "ID: cas4108 \n chr4,3076150 \n GT: Homozygous Reference",
           "ID: cas4112 \n chr4,3076150 \n GT: No Call",
           "ID: cas4115 \n chr4,3076150 \n GT: Homozygous Reference",
           "ID: cas4116 \n chr4,3076150 \n GT: No Call",
           "ID: cas4121 \n chr4,3076150 \n GT: Homozygous Reference",
           "ID: cas4122 \n chr4,3076150 \n GT: No Call",
           "ID: cas4123 \n chr4,3076150 \n GT: No Call",
           "ID: cas4124 \n chr4,3076150 \n GT: No Call",
           "ID: cas4125 \n chr4,3076150 \n GT: Homozygous Reference",
           "ID: cas4126 \n chr4,3076150 \n GT: No Call",
           "ID: cas4127 \n chr4,3076150 \n GT: No Call",
           "ID: cas4128 \n chr4,3076150 \n GT: No Call",
           "ID: cas4129 \n chr4,3076150 \n GT: No Call",
           "ID: cas4130 \n chr4,3076150 \n GT: Homozygous Reference",
           "ID: cas4131 \n chr4,3076150 \n GT: Homozygous Reference",
           "ID: cas4132 \n chr4,3076150 \n GT: No Call",
           "ID: cas4133 \n chr4,3076150 \n GT: No Call",
           "ID: cas4134 \n chr4,3076150 \n GT: No Call",
           "ID: con4137 \n chr4,3076150 \n GT: No Call",
           "ID: cas4139 \n chr4,3076150 \n GT: Homozygous Reference",
           "ID: cas4140 \n chr4,3076150 \n GT: No Call",
           "ID: cas5145 \n chr4,3076150 \n GT: No Call",
           "ID: cas5147 \n chr4,3076150 \n GT: Homozygous Reference",
           "ID: cas5150 \n chr4,3076150 \n GT: No Call",
           "ID: cas5152 \n chr4,3076150 \n GT: No Call",
           "ID: cas5153 \n chr4,3076150 \n GT: Homozygous Reference",
           "ID: cas5154 \n chr4,3076150 \n GT: Homozygous Reference",
           "ID: cas5155 \n chr4,3076150 \n GT: Homozygous Variant",
           "ID: cas5156 \n chr4,3076150 \n GT: No Call",
           "ID: cas5162 \n chr4,3076150 \n GT: Homozygous Reference",
           "ID: cas5163 \n chr4,3076150 \n GT: Homozygous Reference",
           "ID: cas5164 \n chr4,3076150 \n GT: No Call",
           "ID: cas5166 \n chr4,3076150 \n GT: No Call",
           "ID: cas5168 \n chr4,3076150 \n GT: No Call",
           "ID: cas5169 \n chr4,3076150 \n GT: No Call",
           "ID: cas5170 \n chr4,3076150 \n GT: No Call",
           "ID: cas5173 \n chr4,3076150 \n GT: No Call",
           "ID: cas5176 \n chr4,3076150 \n GT: Homozygous Reference",
           "ID: cas5177 \n chr4,3076150 \n GT: Homozygous Reference",
           "ID: cas5178 \n chr4,3076150 \n GT: Homozygous Reference",
           "ID: cas5179 \n chr4,3076150 \n GT: Homozygous Reference",
           "ID: cas5180 \n chr4,3076150 \n GT: No Call",
           "ID: cas5181 \n chr4,3076150 \n GT: Homozygous Reference",
           "ID: cas5183 \n chr4,3076150 \n GT: No Call",
           "ID: cas5184 \n chr4,3076150 \n GT: No Call",
           "ID: cas5185 \n chr4,3076150 \n GT: Homozygous Reference",
           "ID: cas5186 \n chr4,3076150 \n GT: No Call",
           "ID: cas5187 \n chr4,3076150 \n GT: Homozygous Reference",
           "ID: cas5188 \n chr4,3076150 \n GT: Homozygous Reference",
           "ID: cas5189 \n chr4,3076150 \n GT: No Call",
           "ID: cas5190 \n chr4,3076150 \n GT: Homozygous Reference",
           "ID: cas5191 \n chr4,3076150 \n GT: No Call",
           "ID: cas5192 \n chr4,3076150 \n GT: Homozygous Reference",
           "ID: cas3067 \n chr4,3076150 \n GT: No Call",
           "ID: cas4109 \n chr4,3076150 \n GT: Homozygous Reference",
           "ID: con1002 \n chr4,3076150 \n GT: No Call",
           "ID: con1004 \n chr4,3076150 \n GT: Homozygous Reference",
           "ID: con1006 \n chr4,3076150 \n GT: Homozygous Reference",
           "ID: con1007 \n chr4,3076150 \n GT: No Call",
           "ID: con1008 \n chr4,3076150 \n GT: No Call",
           "ID: con1009 \n chr4,3076150 \n GT: No Call",
           "ID: con1011 \n chr4,3076150 \n GT: Homozygous Reference",
           "ID: con1016 \n chr4,3076150 \n GT: No Call",
           "ID: con2026 \n chr4,3076150 \n GT: No Call",
           "ID: con2030 \n chr4,3076150 \n GT: No Call",
           "ID: con2031 \n chr4,3076150 \n GT: No Call",
           "ID: con2036 \n chr4,3076150 \n GT: No Call",
           "ID: con2037 \n chr4,3076150 \n GT: No Call",
           "ID: con2042 \n chr4,3076150 \n GT: No Call",
           "ID: con2046 \n chr4,3076150 \n GT: No Call",
           "ID: con2047 \n chr4,3076150 \n GT: No Call",
           "ID: con3063 \n chr4,3076150 \n GT: No Call",
           "ID: con3064 \n chr4,3076150 \n GT: Homozygous Reference",
           "ID: con3066 \n chr4,3076150 \n GT: No Call",
           "ID: con3068 \n chr4,3076150 \n GT: No Call",
           "ID: con3069 \n chr4,3076150 \n GT: Homozygous Reference",
           "ID: con3070 \n chr4,3076150 \n GT: Homozygous Reference",
           "ID: con3071 \n chr4,3076150 \n GT: No Call",
           "ID: con3087 \n chr4,3076150 \n GT: No Call",
           "ID: con3088 \n chr4,3076150 \n GT: Homozygous Reference",
           "ID: con3090 \n chr4,3076150 \n GT: No Call",
           "ID: con3091 \n chr4,3076150 \n GT: Homozygous Reference",
           "ID: con3093 \n chr4,3076150 \n GT: No Call",
           "ID: con3094 \n chr4,3076150 \n GT: Homozygous Reference",
           "ID: con3095 \n chr4,3076150 \n GT: No Call",
           "ID: con4110 \n chr4,3076150 \n GT: No Call",
           "ID: con4113 \n chr4,3076150 \n GT: Homozygous Reference",
           "ID: con4114 \n chr4,3076150 \n GT: Homozygous Reference",
           "ID: con4117 \n chr4,3076150 \n GT: Homozygous Reference",
           "ID: con4118 \n chr4,3076150 \n GT: No Call",
           "ID: con4119 \n chr4,3076150 \n GT: Homozygous Reference",
           "ID: con4120 \n chr4,3076150 \n GT: Homozygous Reference",
           "ID: con4135 \n chr4,3076150 \n GT: Homozygous Reference",
           "ID: con4136 \n chr4,3076150 \n GT: Homozygous Reference",
           "ID: con4138 \n chr4,3076150 \n GT: No Call",
           "ID: con4141 \n chr4,3076150 \n GT: Homozygous Reference",
           "ID: con4142 \n chr4,3076150 \n GT: No Call",
           "ID: con4143 \n chr4,3076150 \n GT: Homozygous Reference",
           "ID: con4144 \n chr4,3076150 \n GT: No Call",
           "ID: con5146 \n chr4,3076150 \n GT: Homozygous Reference",
           "ID: con5148 \n chr4,3076150 \n GT: No Call",
           "ID: con5149 \n chr4,3076150 \n GT: Homozygous Reference",
           "ID: con5151 \n chr4,3076150 \n GT: No Call",
           "ID: con5157 \n chr4,3076150 \n GT: Homozygous Reference",
           "ID: con5158 \n chr4,3076150 \n GT: No Call",
           "ID: con5159 \n chr4,3076150 \n GT: No Call",
           "ID: con5160 \n chr4,3076150 \n GT: No Call",
           "ID: con5161 \n chr4,3076150 \n GT: Homozygous Reference",
           "ID: con5165 \n chr4,3076150 \n GT: Homozygous Reference",
           "ID: con5167 \n chr4,3076150 \n GT: Homozygous Reference",
           "ID: con5171 \n chr4,3076150 \n GT: Homozygous Reference",
           "ID: con5172 \n chr4,3076150 \n GT: Homozygous Reference",
           "ID: con5174 \n chr4,3076150 \n GT: No Call",
           "ID: con5175 \n chr4,3076150 \n GT: Homozygous Reference",
           "ID: con5182 \n chr4,3076150 \n GT: No Call",
           "ID: con4111 \n chr4,3076150 \n GT: Homozygous Reference"
          ],
          [
           "ID: cas1001 \n chr4,3076181 \n GT: No Call",
           "ID: cas1003 \n chr4,3076181 \n GT: Homozygous Reference",
           "ID: cas1005 \n chr4,3076181 \n GT: Homozygous Reference",
           "ID: cas1010 \n chr4,3076181 \n GT: Homozygous Reference",
           "ID: cas1012 \n chr4,3076181 \n GT: No Call",
           "ID: cas1013 \n chr4,3076181 \n GT: Homozygous Reference",
           "ID: cas1014 \n chr4,3076181 \n GT: Homozygous Reference",
           "ID: cas1015 \n chr4,3076181 \n GT: Homozygous Reference",
           "ID: cas1017 \n chr4,3076181 \n GT: Homozygous Reference",
           "ID: cas1018 \n chr4,3076181 \n GT: Homozygous Reference",
           "ID: cas1019 \n chr4,3076181 \n GT: Homozygous Reference",
           "ID: cas1020 \n chr4,3076181 \n GT: Homozygous Reference",
           "ID: cas1021 \n chr4,3076181 \n GT: No Call",
           "ID: cas1022 \n chr4,3076181 \n GT: Homozygous Reference",
           "ID: cas1023 \n chr4,3076181 \n GT: Homozygous Reference",
           "ID: cas1024 \n chr4,3076181 \n GT: Homozygous Reference",
           "ID: cas2025 \n chr4,3076181 \n GT: No Call",
           "ID: cas2027 \n chr4,3076181 \n GT: No Call",
           "ID: cas2028 \n chr4,3076181 \n GT: No Call",
           "ID: cas2029 \n chr4,3076181 \n GT: Homozygous Reference",
           "ID: cas2032 \n chr4,3076181 \n GT: No Call",
           "ID: cas2033 \n chr4,3076181 \n GT: No Call",
           "ID: cas2034 \n chr4,3076181 \n GT: No Call",
           "ID: cas2035 \n chr4,3076181 \n GT: No Call",
           "ID: cas2038 \n chr4,3076181 \n GT: Homozygous Reference",
           "ID: cas2039 \n chr4,3076181 \n GT: Homozygous Reference",
           "ID: cas2040 \n chr4,3076181 \n GT: Homozygous Reference",
           "ID: cas2041 \n chr4,3076181 \n GT: No Call",
           "ID: cas2043 \n chr4,3076181 \n GT: No Call",
           "ID: cas2044 \n chr4,3076181 \n GT: No Call",
           "ID: cas2045 \n chr4,3076181 \n GT: No Call",
           "ID: cas2048 \n chr4,3076181 \n GT: Homozygous Reference",
           "ID: cas3050 \n chr4,3076181 \n GT: Homozygous Reference",
           "ID: cas3051 \n chr4,3076181 \n GT: No Call",
           "ID: cas3052 \n chr4,3076181 \n GT: Homozygous Reference",
           "ID: cas3053 \n chr4,3076181 \n GT: Homozygous Variant",
           "ID: cas3054 \n chr4,3076181 \n GT: Homozygous Reference",
           "ID: cas3055 \n chr4,3076181 \n GT: No Call",
           "ID: cas3056 \n chr4,3076181 \n GT: Homozygous Reference",
           "ID: cas3057 \n chr4,3076181 \n GT: No Call",
           "ID: cas3058 \n chr4,3076181 \n GT: Homozygous Reference",
           "ID: cas3059 \n chr4,3076181 \n GT: No Call",
           "ID: cas3060 \n chr4,3076181 \n GT: No Call",
           "ID: cas3061 \n chr4,3076181 \n GT: No Call",
           "ID: cas3062 \n chr4,3076181 \n GT: No Call",
           "ID: cas3065 \n chr4,3076181 \n GT: Homozygous Reference",
           "ID: cas3072 \n chr4,3076181 \n GT: Homozygous Reference",
           "ID: cas3073 \n chr4,3076181 \n GT: Homozygous Reference",
           "ID: cas3074 \n chr4,3076181 \n GT: No Call",
           "ID: cas3075 \n chr4,3076181 \n GT: Homozygous Reference",
           "ID: cas3076 \n chr4,3076181 \n GT: No Call",
           "ID: cas3077 \n chr4,3076181 \n GT: Homozygous Reference",
           "ID: cas3078 \n chr4,3076181 \n GT: No Call",
           "ID: cas3079 \n chr4,3076181 \n GT: Homozygous Reference",
           "ID: cas3080 \n chr4,3076181 \n GT: No Call",
           "ID: cas3081 \n chr4,3076181 \n GT: Homozygous Reference",
           "ID: cas3082 \n chr4,3076181 \n GT: Homozygous Reference",
           "ID: cas3083 \n chr4,3076181 \n GT: No Call",
           "ID: cas3084 \n chr4,3076181 \n GT: No Call",
           "ID: cas3085 \n chr4,3076181 \n GT: No Call",
           "ID: cas3086 \n chr4,3076181 \n GT: Homozygous Reference",
           "ID: cas3089 \n chr4,3076181 \n GT: Homozygous Reference",
           "ID: cas3092 \n chr4,3076181 \n GT: Homozygous Reference",
           "ID: cas3096 \n chr4,3076181 \n GT: Homozygous Reference",
           "ID: cas4097 \n chr4,3076181 \n GT: Homozygous Reference",
           "ID: cas4098 \n chr4,3076181 \n GT: No Call",
           "ID: cas4099 \n chr4,3076181 \n GT: No Call",
           "ID: cas4100 \n chr4,3076181 \n GT: Homozygous Reference",
           "ID: cas4101 \n chr4,3076181 \n GT: No Call",
           "ID: cas4102 \n chr4,3076181 \n GT: No Call",
           "ID: cas4103 \n chr4,3076181 \n GT: No Call",
           "ID: cas4104 \n chr4,3076181 \n GT: No Call",
           "ID: cas4105 \n chr4,3076181 \n GT: No Call",
           "ID: cas4106 \n chr4,3076181 \n GT: No Call",
           "ID: cas4107 \n chr4,3076181 \n GT: Homozygous Reference",
           "ID: cas4108 \n chr4,3076181 \n GT: No Call",
           "ID: cas4112 \n chr4,3076181 \n GT: Homozygous Reference",
           "ID: cas4115 \n chr4,3076181 \n GT: Homozygous Reference",
           "ID: cas4116 \n chr4,3076181 \n GT: No Call",
           "ID: cas4121 \n chr4,3076181 \n GT: Homozygous Reference",
           "ID: cas4122 \n chr4,3076181 \n GT: No Call",
           "ID: cas4123 \n chr4,3076181 \n GT: Homozygous Reference",
           "ID: cas4124 \n chr4,3076181 \n GT: No Call",
           "ID: cas4125 \n chr4,3076181 \n GT: Homozygous Reference",
           "ID: cas4126 \n chr4,3076181 \n GT: Homozygous Variant",
           "ID: cas4127 \n chr4,3076181 \n GT: No Call",
           "ID: cas4128 \n chr4,3076181 \n GT: Homozygous Reference",
           "ID: cas4129 \n chr4,3076181 \n GT: No Call",
           "ID: cas4130 \n chr4,3076181 \n GT: Homozygous Reference",
           "ID: cas4131 \n chr4,3076181 \n GT: Homozygous Reference",
           "ID: cas4132 \n chr4,3076181 \n GT: No Call",
           "ID: cas4133 \n chr4,3076181 \n GT: Homozygous Reference",
           "ID: cas4134 \n chr4,3076181 \n GT: No Call",
           "ID: con4137 \n chr4,3076181 \n GT: Homozygous Reference",
           "ID: cas4139 \n chr4,3076181 \n GT: Homozygous Reference",
           "ID: cas4140 \n chr4,3076181 \n GT: No Call",
           "ID: cas5145 \n chr4,3076181 \n GT: No Call",
           "ID: cas5147 \n chr4,3076181 \n GT: Homozygous Reference",
           "ID: cas5150 \n chr4,3076181 \n GT: No Call",
           "ID: cas5152 \n chr4,3076181 \n GT: No Call",
           "ID: cas5153 \n chr4,3076181 \n GT: Homozygous Reference",
           "ID: cas5154 \n chr4,3076181 \n GT: Homozygous Variant",
           "ID: cas5155 \n chr4,3076181 \n GT: Homozygous Reference",
           "ID: cas5156 \n chr4,3076181 \n GT: Homozygous Reference",
           "ID: cas5162 \n chr4,3076181 \n GT: Homozygous Reference",
           "ID: cas5163 \n chr4,3076181 \n GT: Homozygous Reference",
           "ID: cas5164 \n chr4,3076181 \n GT: Homozygous Reference",
           "ID: cas5166 \n chr4,3076181 \n GT: Homozygous Reference",
           "ID: cas5168 \n chr4,3076181 \n GT: No Call",
           "ID: cas5169 \n chr4,3076181 \n GT: No Call",
           "ID: cas5170 \n chr4,3076181 \n GT: No Call",
           "ID: cas5173 \n chr4,3076181 \n GT: No Call",
           "ID: cas5176 \n chr4,3076181 \n GT: Homozygous Reference",
           "ID: cas5177 \n chr4,3076181 \n GT: Homozygous Reference",
           "ID: cas5178 \n chr4,3076181 \n GT: Homozygous Reference",
           "ID: cas5179 \n chr4,3076181 \n GT: Homozygous Reference",
           "ID: cas5180 \n chr4,3076181 \n GT: No Call",
           "ID: cas5181 \n chr4,3076181 \n GT: Heterozygous Variant",
           "ID: cas5183 \n chr4,3076181 \n GT: No Call",
           "ID: cas5184 \n chr4,3076181 \n GT: No Call",
           "ID: cas5185 \n chr4,3076181 \n GT: No Call",
           "ID: cas5186 \n chr4,3076181 \n GT: Homozygous Reference",
           "ID: cas5187 \n chr4,3076181 \n GT: Homozygous Reference",
           "ID: cas5188 \n chr4,3076181 \n GT: Homozygous Reference",
           "ID: cas5189 \n chr4,3076181 \n GT: No Call",
           "ID: cas5190 \n chr4,3076181 \n GT: Homozygous Reference",
           "ID: cas5191 \n chr4,3076181 \n GT: No Call",
           "ID: cas5192 \n chr4,3076181 \n GT: Homozygous Reference",
           "ID: cas3067 \n chr4,3076181 \n GT: No Call",
           "ID: cas4109 \n chr4,3076181 \n GT: Homozygous Reference",
           "ID: con1002 \n chr4,3076181 \n GT: No Call",
           "ID: con1004 \n chr4,3076181 \n GT: Homozygous Reference",
           "ID: con1006 \n chr4,3076181 \n GT: Homozygous Reference",
           "ID: con1007 \n chr4,3076181 \n GT: No Call",
           "ID: con1008 \n chr4,3076181 \n GT: Homozygous Reference",
           "ID: con1009 \n chr4,3076181 \n GT: No Call",
           "ID: con1011 \n chr4,3076181 \n GT: No Call",
           "ID: con1016 \n chr4,3076181 \n GT: No Call",
           "ID: con2026 \n chr4,3076181 \n GT: No Call",
           "ID: con2030 \n chr4,3076181 \n GT: No Call",
           "ID: con2031 \n chr4,3076181 \n GT: No Call",
           "ID: con2036 \n chr4,3076181 \n GT: No Call",
           "ID: con2037 \n chr4,3076181 \n GT: No Call",
           "ID: con2042 \n chr4,3076181 \n GT: No Call",
           "ID: con2046 \n chr4,3076181 \n GT: No Call",
           "ID: con2047 \n chr4,3076181 \n GT: No Call",
           "ID: con3063 \n chr4,3076181 \n GT: No Call",
           "ID: con3064 \n chr4,3076181 \n GT: Homozygous Reference",
           "ID: con3066 \n chr4,3076181 \n GT: No Call",
           "ID: con3068 \n chr4,3076181 \n GT: No Call",
           "ID: con3069 \n chr4,3076181 \n GT: Homozygous Reference",
           "ID: con3070 \n chr4,3076181 \n GT: Homozygous Reference",
           "ID: con3071 \n chr4,3076181 \n GT: No Call",
           "ID: con3087 \n chr4,3076181 \n GT: No Call",
           "ID: con3088 \n chr4,3076181 \n GT: No Call",
           "ID: con3090 \n chr4,3076181 \n GT: No Call",
           "ID: con3091 \n chr4,3076181 \n GT: Heterozygous Variant",
           "ID: con3093 \n chr4,3076181 \n GT: No Call",
           "ID: con3094 \n chr4,3076181 \n GT: Homozygous Reference",
           "ID: con3095 \n chr4,3076181 \n GT: Homozygous Reference",
           "ID: con4110 \n chr4,3076181 \n GT: No Call",
           "ID: con4113 \n chr4,3076181 \n GT: Homozygous Reference",
           "ID: con4114 \n chr4,3076181 \n GT: Heterozygous Variant",
           "ID: con4117 \n chr4,3076181 \n GT: Homozygous Reference",
           "ID: con4118 \n chr4,3076181 \n GT: No Call",
           "ID: con4119 \n chr4,3076181 \n GT: Homozygous Reference",
           "ID: con4120 \n chr4,3076181 \n GT: Homozygous Reference",
           "ID: con4135 \n chr4,3076181 \n GT: Homozygous Reference",
           "ID: con4136 \n chr4,3076181 \n GT: No Call",
           "ID: con4138 \n chr4,3076181 \n GT: No Call",
           "ID: con4141 \n chr4,3076181 \n GT: Homozygous Reference",
           "ID: con4142 \n chr4,3076181 \n GT: No Call",
           "ID: con4143 \n chr4,3076181 \n GT: Homozygous Reference",
           "ID: con4144 \n chr4,3076181 \n GT: No Call",
           "ID: con5146 \n chr4,3076181 \n GT: Homozygous Reference",
           "ID: con5148 \n chr4,3076181 \n GT: No Call",
           "ID: con5149 \n chr4,3076181 \n GT: No Call",
           "ID: con5151 \n chr4,3076181 \n GT: No Call",
           "ID: con5157 \n chr4,3076181 \n GT: Homozygous Reference",
           "ID: con5158 \n chr4,3076181 \n GT: No Call",
           "ID: con5159 \n chr4,3076181 \n GT: Homozygous Reference",
           "ID: con5160 \n chr4,3076181 \n GT: Homozygous Reference",
           "ID: con5161 \n chr4,3076181 \n GT: Homozygous Reference",
           "ID: con5165 \n chr4,3076181 \n GT: Homozygous Reference",
           "ID: con5167 \n chr4,3076181 \n GT: Homozygous Reference",
           "ID: con5171 \n chr4,3076181 \n GT: Homozygous Reference",
           "ID: con5172 \n chr4,3076181 \n GT: Homozygous Reference",
           "ID: con5174 \n chr4,3076181 \n GT: Homozygous Reference",
           "ID: con5175 \n chr4,3076181 \n GT: Homozygous Reference",
           "ID: con5182 \n chr4,3076181 \n GT: Homozygous Reference",
           "ID: con4111 \n chr4,3076181 \n GT: Homozygous Reference"
          ],
          [
           "ID: cas1001 \n chr4,3076257 \n GT: No Call",
           "ID: cas1003 \n chr4,3076257 \n GT: Homozygous Reference",
           "ID: cas1005 \n chr4,3076257 \n GT: No Call",
           "ID: cas1010 \n chr4,3076257 \n GT: Homozygous Reference",
           "ID: cas1012 \n chr4,3076257 \n GT: No Call",
           "ID: cas1013 \n chr4,3076257 \n GT: Homozygous Reference",
           "ID: cas1014 \n chr4,3076257 \n GT: Homozygous Reference",
           "ID: cas1015 \n chr4,3076257 \n GT: No Call",
           "ID: cas1017 \n chr4,3076257 \n GT: Homozygous Reference",
           "ID: cas1018 \n chr4,3076257 \n GT: Homozygous Reference",
           "ID: cas1019 \n chr4,3076257 \n GT: No Call",
           "ID: cas1020 \n chr4,3076257 \n GT: No Call",
           "ID: cas1021 \n chr4,3076257 \n GT: Homozygous Reference",
           "ID: cas1022 \n chr4,3076257 \n GT: Homozygous Reference",
           "ID: cas1023 \n chr4,3076257 \n GT: Homozygous Reference",
           "ID: cas1024 \n chr4,3076257 \n GT: No Call",
           "ID: cas2025 \n chr4,3076257 \n GT: Homozygous Reference",
           "ID: cas2027 \n chr4,3076257 \n GT: No Call",
           "ID: cas2028 \n chr4,3076257 \n GT: Homozygous Reference",
           "ID: cas2029 \n chr4,3076257 \n GT: Homozygous Reference",
           "ID: cas2032 \n chr4,3076257 \n GT: Homozygous Reference",
           "ID: cas2033 \n chr4,3076257 \n GT: Homozygous Reference",
           "ID: cas2034 \n chr4,3076257 \n GT: No Call",
           "ID: cas2035 \n chr4,3076257 \n GT: No Call",
           "ID: cas2038 \n chr4,3076257 \n GT: Homozygous Reference",
           "ID: cas2039 \n chr4,3076257 \n GT: Homozygous Reference",
           "ID: cas2040 \n chr4,3076257 \n GT: Homozygous Reference",
           "ID: cas2041 \n chr4,3076257 \n GT: Homozygous Reference",
           "ID: cas2043 \n chr4,3076257 \n GT: Homozygous Reference",
           "ID: cas2044 \n chr4,3076257 \n GT: No Call",
           "ID: cas2045 \n chr4,3076257 \n GT: No Call",
           "ID: cas2048 \n chr4,3076257 \n GT: Homozygous Reference",
           "ID: cas3050 \n chr4,3076257 \n GT: Homozygous Reference",
           "ID: cas3051 \n chr4,3076257 \n GT: Homozygous Reference",
           "ID: cas3052 \n chr4,3076257 \n GT: Homozygous Reference",
           "ID: cas3053 \n chr4,3076257 \n GT: Homozygous Reference",
           "ID: cas3054 \n chr4,3076257 \n GT: Homozygous Reference",
           "ID: cas3055 \n chr4,3076257 \n GT: Homozygous Reference",
           "ID: cas3056 \n chr4,3076257 \n GT: Homozygous Reference",
           "ID: cas3057 \n chr4,3076257 \n GT: Homozygous Reference",
           "ID: cas3058 \n chr4,3076257 \n GT: Homozygous Reference",
           "ID: cas3059 \n chr4,3076257 \n GT: No Call",
           "ID: cas3060 \n chr4,3076257 \n GT: No Call",
           "ID: cas3061 \n chr4,3076257 \n GT: Homozygous Reference",
           "ID: cas3062 \n chr4,3076257 \n GT: Homozygous Reference",
           "ID: cas3065 \n chr4,3076257 \n GT: No Call",
           "ID: cas3072 \n chr4,3076257 \n GT: No Call",
           "ID: cas3073 \n chr4,3076257 \n GT: Homozygous Reference",
           "ID: cas3074 \n chr4,3076257 \n GT: Homozygous Reference",
           "ID: cas3075 \n chr4,3076257 \n GT: Homozygous Reference",
           "ID: cas3076 \n chr4,3076257 \n GT: Homozygous Reference",
           "ID: cas3077 \n chr4,3076257 \n GT: Heterozygous Variant",
           "ID: cas3078 \n chr4,3076257 \n GT: Homozygous Reference",
           "ID: cas3079 \n chr4,3076257 \n GT: No Call",
           "ID: cas3080 \n chr4,3076257 \n GT: Homozygous Reference",
           "ID: cas3081 \n chr4,3076257 \n GT: No Call",
           "ID: cas3082 \n chr4,3076257 \n GT: Heterozygous Variant",
           "ID: cas3083 \n chr4,3076257 \n GT: No Call",
           "ID: cas3084 \n chr4,3076257 \n GT: No Call",
           "ID: cas3085 \n chr4,3076257 \n GT: No Call",
           "ID: cas3086 \n chr4,3076257 \n GT: Homozygous Reference",
           "ID: cas3089 \n chr4,3076257 \n GT: Homozygous Reference",
           "ID: cas3092 \n chr4,3076257 \n GT: No Call",
           "ID: cas3096 \n chr4,3076257 \n GT: Homozygous Reference",
           "ID: cas4097 \n chr4,3076257 \n GT: Homozygous Reference",
           "ID: cas4098 \n chr4,3076257 \n GT: Heterozygous Variant",
           "ID: cas4099 \n chr4,3076257 \n GT: No Call",
           "ID: cas4100 \n chr4,3076257 \n GT: No Call",
           "ID: cas4101 \n chr4,3076257 \n GT: Homozygous Reference",
           "ID: cas4102 \n chr4,3076257 \n GT: No Call",
           "ID: cas4103 \n chr4,3076257 \n GT: Homozygous Reference",
           "ID: cas4104 \n chr4,3076257 \n GT: No Call",
           "ID: cas4105 \n chr4,3076257 \n GT: Homozygous Reference",
           "ID: cas4106 \n chr4,3076257 \n GT: Homozygous Reference",
           "ID: cas4107 \n chr4,3076257 \n GT: Homozygous Reference",
           "ID: cas4108 \n chr4,3076257 \n GT: Homozygous Reference",
           "ID: cas4112 \n chr4,3076257 \n GT: No Call",
           "ID: cas4115 \n chr4,3076257 \n GT: Homozygous Reference",
           "ID: cas4116 \n chr4,3076257 \n GT: No Call",
           "ID: cas4121 \n chr4,3076257 \n GT: Homozygous Reference",
           "ID: cas4122 \n chr4,3076257 \n GT: Homozygous Reference",
           "ID: cas4123 \n chr4,3076257 \n GT: Homozygous Reference",
           "ID: cas4124 \n chr4,3076257 \n GT: Homozygous Reference",
           "ID: cas4125 \n chr4,3076257 \n GT: Homozygous Reference",
           "ID: cas4126 \n chr4,3076257 \n GT: Homozygous Reference",
           "ID: cas4127 \n chr4,3076257 \n GT: Homozygous Reference",
           "ID: cas4128 \n chr4,3076257 \n GT: Homozygous Reference",
           "ID: cas4129 \n chr4,3076257 \n GT: Homozygous Reference",
           "ID: cas4130 \n chr4,3076257 \n GT: Homozygous Reference",
           "ID: cas4131 \n chr4,3076257 \n GT: Homozygous Reference",
           "ID: cas4132 \n chr4,3076257 \n GT: Homozygous Reference",
           "ID: cas4133 \n chr4,3076257 \n GT: Homozygous Reference",
           "ID: cas4134 \n chr4,3076257 \n GT: Homozygous Reference",
           "ID: con4137 \n chr4,3076257 \n GT: Homozygous Reference",
           "ID: cas4139 \n chr4,3076257 \n GT: Homozygous Reference",
           "ID: cas4140 \n chr4,3076257 \n GT: Homozygous Reference",
           "ID: cas5145 \n chr4,3076257 \n GT: Homozygous Reference",
           "ID: cas5147 \n chr4,3076257 \n GT: Heterozygous Variant",
           "ID: cas5150 \n chr4,3076257 \n GT: Homozygous Reference",
           "ID: cas5152 \n chr4,3076257 \n GT: Homozygous Reference",
           "ID: cas5153 \n chr4,3076257 \n GT: Homozygous Reference",
           "ID: cas5154 \n chr4,3076257 \n GT: Heterozygous Variant",
           "ID: cas5155 \n chr4,3076257 \n GT: Homozygous Reference",
           "ID: cas5156 \n chr4,3076257 \n GT: Homozygous Reference",
           "ID: cas5162 \n chr4,3076257 \n GT: Homozygous Reference",
           "ID: cas5163 \n chr4,3076257 \n GT: Homozygous Reference",
           "ID: cas5164 \n chr4,3076257 \n GT: Homozygous Reference",
           "ID: cas5166 \n chr4,3076257 \n GT: Homozygous Reference",
           "ID: cas5168 \n chr4,3076257 \n GT: Homozygous Reference",
           "ID: cas5169 \n chr4,3076257 \n GT: Homozygous Reference",
           "ID: cas5170 \n chr4,3076257 \n GT: Homozygous Reference",
           "ID: cas5173 \n chr4,3076257 \n GT: Homozygous Reference",
           "ID: cas5176 \n chr4,3076257 \n GT: Homozygous Reference",
           "ID: cas5177 \n chr4,3076257 \n GT: Homozygous Reference",
           "ID: cas5178 \n chr4,3076257 \n GT: Homozygous Reference",
           "ID: cas5179 \n chr4,3076257 \n GT: Homozygous Reference",
           "ID: cas5180 \n chr4,3076257 \n GT: Homozygous Reference",
           "ID: cas5181 \n chr4,3076257 \n GT: Homozygous Reference",
           "ID: cas5183 \n chr4,3076257 \n GT: Homozygous Reference",
           "ID: cas5184 \n chr4,3076257 \n GT: Homozygous Reference",
           "ID: cas5185 \n chr4,3076257 \n GT: Homozygous Reference",
           "ID: cas5186 \n chr4,3076257 \n GT: Homozygous Reference",
           "ID: cas5187 \n chr4,3076257 \n GT: Homozygous Reference",
           "ID: cas5188 \n chr4,3076257 \n GT: Homozygous Reference",
           "ID: cas5189 \n chr4,3076257 \n GT: Heterozygous Variant",
           "ID: cas5190 \n chr4,3076257 \n GT: Homozygous Reference",
           "ID: cas5191 \n chr4,3076257 \n GT: Homozygous Reference",
           "ID: cas5192 \n chr4,3076257 \n GT: Homozygous Reference",
           "ID: cas3067 \n chr4,3076257 \n GT: Homozygous Reference",
           "ID: cas4109 \n chr4,3076257 \n GT: Homozygous Reference",
           "ID: con1002 \n chr4,3076257 \n GT: Homozygous Reference",
           "ID: con1004 \n chr4,3076257 \n GT: No Call",
           "ID: con1006 \n chr4,3076257 \n GT: Homozygous Reference",
           "ID: con1007 \n chr4,3076257 \n GT: No Call",
           "ID: con1008 \n chr4,3076257 \n GT: No Call",
           "ID: con1009 \n chr4,3076257 \n GT: Homozygous Reference",
           "ID: con1011 \n chr4,3076257 \n GT: Homozygous Reference",
           "ID: con1016 \n chr4,3076257 \n GT: No Call",
           "ID: con2026 \n chr4,3076257 \n GT: Homozygous Reference",
           "ID: con2030 \n chr4,3076257 \n GT: No Call",
           "ID: con2031 \n chr4,3076257 \n GT: No Call",
           "ID: con2036 \n chr4,3076257 \n GT: No Call",
           "ID: con2037 \n chr4,3076257 \n GT: Homozygous Reference",
           "ID: con2042 \n chr4,3076257 \n GT: Homozygous Reference",
           "ID: con2046 \n chr4,3076257 \n GT: No Call",
           "ID: con2047 \n chr4,3076257 \n GT: No Call",
           "ID: con3063 \n chr4,3076257 \n GT: Homozygous Reference",
           "ID: con3064 \n chr4,3076257 \n GT: Homozygous Reference",
           "ID: con3066 \n chr4,3076257 \n GT: No Call",
           "ID: con3068 \n chr4,3076257 \n GT: Homozygous Reference",
           "ID: con3069 \n chr4,3076257 \n GT: Homozygous Reference",
           "ID: con3070 \n chr4,3076257 \n GT: Homozygous Reference",
           "ID: con3071 \n chr4,3076257 \n GT: Homozygous Reference",
           "ID: con3087 \n chr4,3076257 \n GT: Homozygous Reference",
           "ID: con3088 \n chr4,3076257 \n GT: Homozygous Reference",
           "ID: con3090 \n chr4,3076257 \n GT: Homozygous Reference",
           "ID: con3091 \n chr4,3076257 \n GT: Homozygous Reference",
           "ID: con3093 \n chr4,3076257 \n GT: Homozygous Reference",
           "ID: con3094 \n chr4,3076257 \n GT: Homozygous Reference",
           "ID: con3095 \n chr4,3076257 \n GT: Homozygous Reference",
           "ID: con4110 \n chr4,3076257 \n GT: No Call",
           "ID: con4113 \n chr4,3076257 \n GT: Homozygous Reference",
           "ID: con4114 \n chr4,3076257 \n GT: Homozygous Reference",
           "ID: con4117 \n chr4,3076257 \n GT: Homozygous Reference",
           "ID: con4118 \n chr4,3076257 \n GT: Homozygous Reference",
           "ID: con4119 \n chr4,3076257 \n GT: Homozygous Reference",
           "ID: con4120 \n chr4,3076257 \n GT: Homozygous Reference",
           "ID: con4135 \n chr4,3076257 \n GT: Homozygous Reference",
           "ID: con4136 \n chr4,3076257 \n GT: Homozygous Reference",
           "ID: con4138 \n chr4,3076257 \n GT: Homozygous Reference",
           "ID: con4141 \n chr4,3076257 \n GT: Homozygous Reference",
           "ID: con4142 \n chr4,3076257 \n GT: Homozygous Reference",
           "ID: con4143 \n chr4,3076257 \n GT: Homozygous Reference",
           "ID: con4144 \n chr4,3076257 \n GT: Homozygous Reference",
           "ID: con5146 \n chr4,3076257 \n GT: Heterozygous Variant",
           "ID: con5148 \n chr4,3076257 \n GT: Homozygous Reference",
           "ID: con5149 \n chr4,3076257 \n GT: Homozygous Reference",
           "ID: con5151 \n chr4,3076257 \n GT: Homozygous Variant",
           "ID: con5157 \n chr4,3076257 \n GT: Homozygous Reference",
           "ID: con5158 \n chr4,3076257 \n GT: Homozygous Reference",
           "ID: con5159 \n chr4,3076257 \n GT: Homozygous Reference",
           "ID: con5160 \n chr4,3076257 \n GT: Homozygous Reference",
           "ID: con5161 \n chr4,3076257 \n GT: Homozygous Reference",
           "ID: con5165 \n chr4,3076257 \n GT: Heterozygous Variant",
           "ID: con5167 \n chr4,3076257 \n GT: Homozygous Reference",
           "ID: con5171 \n chr4,3076257 \n GT: Homozygous Reference",
           "ID: con5172 \n chr4,3076257 \n GT: Homozygous Reference",
           "ID: con5174 \n chr4,3076257 \n GT: Homozygous Reference",
           "ID: con5175 \n chr4,3076257 \n GT: Homozygous Reference",
           "ID: con5182 \n chr4,3076257 \n GT: Heterozygous Variant",
           "ID: con4111 \n chr4,3076257 \n GT: Homozygous Variant"
          ],
          [
           "ID: cas1001 \n chr4,3076266 \n GT: No Call",
           "ID: cas1003 \n chr4,3076266 \n GT: Homozygous Reference",
           "ID: cas1005 \n chr4,3076266 \n GT: No Call",
           "ID: cas1010 \n chr4,3076266 \n GT: Homozygous Reference",
           "ID: cas1012 \n chr4,3076266 \n GT: No Call",
           "ID: cas1013 \n chr4,3076266 \n GT: Homozygous Reference",
           "ID: cas1014 \n chr4,3076266 \n GT: Homozygous Reference",
           "ID: cas1015 \n chr4,3076266 \n GT: No Call",
           "ID: cas1017 \n chr4,3076266 \n GT: Homozygous Reference",
           "ID: cas1018 \n chr4,3076266 \n GT: Homozygous Reference",
           "ID: cas1019 \n chr4,3076266 \n GT: No Call",
           "ID: cas1020 \n chr4,3076266 \n GT: No Call",
           "ID: cas1021 \n chr4,3076266 \n GT: No Call",
           "ID: cas1022 \n chr4,3076266 \n GT: Homozygous Reference",
           "ID: cas1023 \n chr4,3076266 \n GT: Homozygous Reference",
           "ID: cas1024 \n chr4,3076266 \n GT: No Call",
           "ID: cas2025 \n chr4,3076266 \n GT: Homozygous Reference",
           "ID: cas2027 \n chr4,3076266 \n GT: No Call",
           "ID: cas2028 \n chr4,3076266 \n GT: Homozygous Reference",
           "ID: cas2029 \n chr4,3076266 \n GT: Homozygous Reference",
           "ID: cas2032 \n chr4,3076266 \n GT: No Call",
           "ID: cas2033 \n chr4,3076266 \n GT: Homozygous Reference",
           "ID: cas2034 \n chr4,3076266 \n GT: No Call",
           "ID: cas2035 \n chr4,3076266 \n GT: No Call",
           "ID: cas2038 \n chr4,3076266 \n GT: Homozygous Reference",
           "ID: cas2039 \n chr4,3076266 \n GT: Homozygous Reference",
           "ID: cas2040 \n chr4,3076266 \n GT: Homozygous Reference",
           "ID: cas2041 \n chr4,3076266 \n GT: Homozygous Reference",
           "ID: cas2043 \n chr4,3076266 \n GT: Homozygous Reference",
           "ID: cas2044 \n chr4,3076266 \n GT: No Call",
           "ID: cas2045 \n chr4,3076266 \n GT: No Call",
           "ID: cas2048 \n chr4,3076266 \n GT: Homozygous Reference",
           "ID: cas3050 \n chr4,3076266 \n GT: Homozygous Reference",
           "ID: cas3051 \n chr4,3076266 \n GT: Homozygous Reference",
           "ID: cas3052 \n chr4,3076266 \n GT: Homozygous Reference",
           "ID: cas3053 \n chr4,3076266 \n GT: Homozygous Reference",
           "ID: cas3054 \n chr4,3076266 \n GT: Homozygous Reference",
           "ID: cas3055 \n chr4,3076266 \n GT: Homozygous Reference",
           "ID: cas3056 \n chr4,3076266 \n GT: Homozygous Reference",
           "ID: cas3057 \n chr4,3076266 \n GT: Homozygous Reference",
           "ID: cas3058 \n chr4,3076266 \n GT: Homozygous Reference",
           "ID: cas3059 \n chr4,3076266 \n GT: No Call",
           "ID: cas3060 \n chr4,3076266 \n GT: No Call",
           "ID: cas3061 \n chr4,3076266 \n GT: Homozygous Reference",
           "ID: cas3062 \n chr4,3076266 \n GT: Homozygous Reference",
           "ID: cas3065 \n chr4,3076266 \n GT: No Call",
           "ID: cas3072 \n chr4,3076266 \n GT: Homozygous Reference",
           "ID: cas3073 \n chr4,3076266 \n GT: Homozygous Reference",
           "ID: cas3074 \n chr4,3076266 \n GT: Homozygous Reference",
           "ID: cas3075 \n chr4,3076266 \n GT: Homozygous Reference",
           "ID: cas3076 \n chr4,3076266 \n GT: Homozygous Reference",
           "ID: cas3077 \n chr4,3076266 \n GT: Homozygous Reference",
           "ID: cas3078 \n chr4,3076266 \n GT: Homozygous Variant",
           "ID: cas3079 \n chr4,3076266 \n GT: No Call",
           "ID: cas3080 \n chr4,3076266 \n GT: Homozygous Reference",
           "ID: cas3081 \n chr4,3076266 \n GT: Homozygous Reference",
           "ID: cas3082 \n chr4,3076266 \n GT: Homozygous Reference",
           "ID: cas3083 \n chr4,3076266 \n GT: Homozygous Reference",
           "ID: cas3084 \n chr4,3076266 \n GT: No Call",
           "ID: cas3085 \n chr4,3076266 \n GT: No Call",
           "ID: cas3086 \n chr4,3076266 \n GT: Homozygous Reference",
           "ID: cas3089 \n chr4,3076266 \n GT: Homozygous Reference",
           "ID: cas3092 \n chr4,3076266 \n GT: No Call",
           "ID: cas3096 \n chr4,3076266 \n GT: Homozygous Reference",
           "ID: cas4097 \n chr4,3076266 \n GT: Homozygous Reference",
           "ID: cas4098 \n chr4,3076266 \n GT: Heterozygous Variant",
           "ID: cas4099 \n chr4,3076266 \n GT: No Call",
           "ID: cas4100 \n chr4,3076266 \n GT: No Call",
           "ID: cas4101 \n chr4,3076266 \n GT: Homozygous Reference",
           "ID: cas4102 \n chr4,3076266 \n GT: Homozygous Reference",
           "ID: cas4103 \n chr4,3076266 \n GT: Homozygous Reference",
           "ID: cas4104 \n chr4,3076266 \n GT: No Call",
           "ID: cas4105 \n chr4,3076266 \n GT: Homozygous Reference",
           "ID: cas4106 \n chr4,3076266 \n GT: Homozygous Reference",
           "ID: cas4107 \n chr4,3076266 \n GT: Homozygous Reference",
           "ID: cas4108 \n chr4,3076266 \n GT: Homozygous Reference",
           "ID: cas4112 \n chr4,3076266 \n GT: Homozygous Reference",
           "ID: cas4115 \n chr4,3076266 \n GT: Homozygous Reference",
           "ID: cas4116 \n chr4,3076266 \n GT: No Call",
           "ID: cas4121 \n chr4,3076266 \n GT: Homozygous Reference",
           "ID: cas4122 \n chr4,3076266 \n GT: Homozygous Reference",
           "ID: cas4123 \n chr4,3076266 \n GT: Homozygous Reference",
           "ID: cas4124 \n chr4,3076266 \n GT: Homozygous Reference",
           "ID: cas4125 \n chr4,3076266 \n GT: Homozygous Reference",
           "ID: cas4126 \n chr4,3076266 \n GT: Homozygous Reference",
           "ID: cas4127 \n chr4,3076266 \n GT: Homozygous Reference",
           "ID: cas4128 \n chr4,3076266 \n GT: Homozygous Reference",
           "ID: cas4129 \n chr4,3076266 \n GT: Homozygous Reference",
           "ID: cas4130 \n chr4,3076266 \n GT: Homozygous Reference",
           "ID: cas4131 \n chr4,3076266 \n GT: Homozygous Reference",
           "ID: cas4132 \n chr4,3076266 \n GT: Homozygous Reference",
           "ID: cas4133 \n chr4,3076266 \n GT: Homozygous Reference",
           "ID: cas4134 \n chr4,3076266 \n GT: Homozygous Reference",
           "ID: con4137 \n chr4,3076266 \n GT: Homozygous Reference",
           "ID: cas4139 \n chr4,3076266 \n GT: Homozygous Reference",
           "ID: cas4140 \n chr4,3076266 \n GT: Homozygous Reference",
           "ID: cas5145 \n chr4,3076266 \n GT: Homozygous Reference",
           "ID: cas5147 \n chr4,3076266 \n GT: Homozygous Reference",
           "ID: cas5150 \n chr4,3076266 \n GT: Homozygous Reference",
           "ID: cas5152 \n chr4,3076266 \n GT: Homozygous Reference",
           "ID: cas5153 \n chr4,3076266 \n GT: Homozygous Reference",
           "ID: cas5154 \n chr4,3076266 \n GT: Heterozygous Variant",
           "ID: cas5155 \n chr4,3076266 \n GT: Homozygous Reference",
           "ID: cas5156 \n chr4,3076266 \n GT: Homozygous Reference",
           "ID: cas5162 \n chr4,3076266 \n GT: Homozygous Reference",
           "ID: cas5163 \n chr4,3076266 \n GT: Homozygous Reference",
           "ID: cas5164 \n chr4,3076266 \n GT: Homozygous Reference",
           "ID: cas5166 \n chr4,3076266 \n GT: Homozygous Reference",
           "ID: cas5168 \n chr4,3076266 \n GT: Homozygous Reference",
           "ID: cas5169 \n chr4,3076266 \n GT: Homozygous Reference",
           "ID: cas5170 \n chr4,3076266 \n GT: Homozygous Reference",
           "ID: cas5173 \n chr4,3076266 \n GT: Homozygous Reference",
           "ID: cas5176 \n chr4,3076266 \n GT: Homozygous Reference",
           "ID: cas5177 \n chr4,3076266 \n GT: Homozygous Reference",
           "ID: cas5178 \n chr4,3076266 \n GT: Homozygous Reference",
           "ID: cas5179 \n chr4,3076266 \n GT: Homozygous Reference",
           "ID: cas5180 \n chr4,3076266 \n GT: Homozygous Reference",
           "ID: cas5181 \n chr4,3076266 \n GT: Heterozygous Variant",
           "ID: cas5183 \n chr4,3076266 \n GT: Homozygous Reference",
           "ID: cas5184 \n chr4,3076266 \n GT: Homozygous Reference",
           "ID: cas5185 \n chr4,3076266 \n GT: Homozygous Reference",
           "ID: cas5186 \n chr4,3076266 \n GT: Homozygous Reference",
           "ID: cas5187 \n chr4,3076266 \n GT: Heterozygous Variant",
           "ID: cas5188 \n chr4,3076266 \n GT: Homozygous Reference",
           "ID: cas5189 \n chr4,3076266 \n GT: Homozygous Reference",
           "ID: cas5190 \n chr4,3076266 \n GT: Homozygous Reference",
           "ID: cas5191 \n chr4,3076266 \n GT: Homozygous Reference",
           "ID: cas5192 \n chr4,3076266 \n GT: Homozygous Reference",
           "ID: cas3067 \n chr4,3076266 \n GT: Homozygous Reference",
           "ID: cas4109 \n chr4,3076266 \n GT: Homozygous Reference",
           "ID: con1002 \n chr4,3076266 \n GT: Homozygous Reference",
           "ID: con1004 \n chr4,3076266 \n GT: No Call",
           "ID: con1006 \n chr4,3076266 \n GT: Homozygous Reference",
           "ID: con1007 \n chr4,3076266 \n GT: No Call",
           "ID: con1008 \n chr4,3076266 \n GT: No Call",
           "ID: con1009 \n chr4,3076266 \n GT: Homozygous Reference",
           "ID: con1011 \n chr4,3076266 \n GT: Homozygous Reference",
           "ID: con1016 \n chr4,3076266 \n GT: No Call",
           "ID: con2026 \n chr4,3076266 \n GT: Homozygous Reference",
           "ID: con2030 \n chr4,3076266 \n GT: No Call",
           "ID: con2031 \n chr4,3076266 \n GT: No Call",
           "ID: con2036 \n chr4,3076266 \n GT: No Call",
           "ID: con2037 \n chr4,3076266 \n GT: Homozygous Reference",
           "ID: con2042 \n chr4,3076266 \n GT: Homozygous Reference",
           "ID: con2046 \n chr4,3076266 \n GT: No Call",
           "ID: con2047 \n chr4,3076266 \n GT: No Call",
           "ID: con3063 \n chr4,3076266 \n GT: Homozygous Reference",
           "ID: con3064 \n chr4,3076266 \n GT: Homozygous Reference",
           "ID: con3066 \n chr4,3076266 \n GT: Homozygous Reference",
           "ID: con3068 \n chr4,3076266 \n GT: Homozygous Reference",
           "ID: con3069 \n chr4,3076266 \n GT: Homozygous Reference",
           "ID: con3070 \n chr4,3076266 \n GT: Homozygous Reference",
           "ID: con3071 \n chr4,3076266 \n GT: Homozygous Reference",
           "ID: con3087 \n chr4,3076266 \n GT: Homozygous Reference",
           "ID: con3088 \n chr4,3076266 \n GT: Homozygous Reference",
           "ID: con3090 \n chr4,3076266 \n GT: Heterozygous Variant",
           "ID: con3091 \n chr4,3076266 \n GT: Homozygous Reference",
           "ID: con3093 \n chr4,3076266 \n GT: Homozygous Reference",
           "ID: con3094 \n chr4,3076266 \n GT: Homozygous Reference",
           "ID: con3095 \n chr4,3076266 \n GT: Homozygous Reference",
           "ID: con4110 \n chr4,3076266 \n GT: No Call",
           "ID: con4113 \n chr4,3076266 \n GT: Homozygous Reference",
           "ID: con4114 \n chr4,3076266 \n GT: Heterozygous Variant",
           "ID: con4117 \n chr4,3076266 \n GT: Homozygous Reference",
           "ID: con4118 \n chr4,3076266 \n GT: Homozygous Reference",
           "ID: con4119 \n chr4,3076266 \n GT: Homozygous Reference",
           "ID: con4120 \n chr4,3076266 \n GT: Homozygous Reference",
           "ID: con4135 \n chr4,3076266 \n GT: Homozygous Reference",
           "ID: con4136 \n chr4,3076266 \n GT: Heterozygous Variant",
           "ID: con4138 \n chr4,3076266 \n GT: No Call",
           "ID: con4141 \n chr4,3076266 \n GT: Homozygous Reference",
           "ID: con4142 \n chr4,3076266 \n GT: Homozygous Reference",
           "ID: con4143 \n chr4,3076266 \n GT: Homozygous Reference",
           "ID: con4144 \n chr4,3076266 \n GT: Homozygous Reference",
           "ID: con5146 \n chr4,3076266 \n GT: Homozygous Reference",
           "ID: con5148 \n chr4,3076266 \n GT: Homozygous Reference",
           "ID: con5149 \n chr4,3076266 \n GT: Homozygous Reference",
           "ID: con5151 \n chr4,3076266 \n GT: Homozygous Reference",
           "ID: con5157 \n chr4,3076266 \n GT: Homozygous Reference",
           "ID: con5158 \n chr4,3076266 \n GT: Heterozygous Variant",
           "ID: con5159 \n chr4,3076266 \n GT: Homozygous Reference",
           "ID: con5160 \n chr4,3076266 \n GT: Homozygous Reference",
           "ID: con5161 \n chr4,3076266 \n GT: Homozygous Reference",
           "ID: con5165 \n chr4,3076266 \n GT: Homozygous Reference",
           "ID: con5167 \n chr4,3076266 \n GT: Homozygous Reference",
           "ID: con5171 \n chr4,3076266 \n GT: Homozygous Reference",
           "ID: con5172 \n chr4,3076266 \n GT: Homozygous Reference",
           "ID: con5174 \n chr4,3076266 \n GT: Homozygous Reference",
           "ID: con5175 \n chr4,3076266 \n GT: Homozygous Reference",
           "ID: con5182 \n chr4,3076266 \n GT: Homozygous Reference",
           "ID: con4111 \n chr4,3076266 \n GT: Homozygous Reference"
          ],
          [
           "ID: cas1001 \n chr4,3076339 \n GT: No Call",
           "ID: cas1003 \n chr4,3076339 \n GT: No Call",
           "ID: cas1005 \n chr4,3076339 \n GT: No Call",
           "ID: cas1010 \n chr4,3076339 \n GT: No Call",
           "ID: cas1012 \n chr4,3076339 \n GT: No Call",
           "ID: cas1013 \n chr4,3076339 \n GT: No Call",
           "ID: cas1014 \n chr4,3076339 \n GT: No Call",
           "ID: cas1015 \n chr4,3076339 \n GT: No Call",
           "ID: cas1017 \n chr4,3076339 \n GT: No Call",
           "ID: cas1018 \n chr4,3076339 \n GT: No Call",
           "ID: cas1019 \n chr4,3076339 \n GT: No Call",
           "ID: cas1020 \n chr4,3076339 \n GT: No Call",
           "ID: cas1021 \n chr4,3076339 \n GT: No Call",
           "ID: cas1022 \n chr4,3076339 \n GT: No Call",
           "ID: cas1023 \n chr4,3076339 \n GT: No Call",
           "ID: cas1024 \n chr4,3076339 \n GT: No Call",
           "ID: cas2025 \n chr4,3076339 \n GT: No Call",
           "ID: cas2027 \n chr4,3076339 \n GT: No Call",
           "ID: cas2028 \n chr4,3076339 \n GT: No Call",
           "ID: cas2029 \n chr4,3076339 \n GT: No Call",
           "ID: cas2032 \n chr4,3076339 \n GT: No Call",
           "ID: cas2033 \n chr4,3076339 \n GT: No Call",
           "ID: cas2034 \n chr4,3076339 \n GT: No Call",
           "ID: cas2035 \n chr4,3076339 \n GT: Homozygous Reference",
           "ID: cas2038 \n chr4,3076339 \n GT: Homozygous Reference",
           "ID: cas2039 \n chr4,3076339 \n GT: No Call",
           "ID: cas2040 \n chr4,3076339 \n GT: Homozygous Variant",
           "ID: cas2041 \n chr4,3076339 \n GT: No Call",
           "ID: cas2043 \n chr4,3076339 \n GT: No Call",
           "ID: cas2044 \n chr4,3076339 \n GT: No Call",
           "ID: cas2045 \n chr4,3076339 \n GT: No Call",
           "ID: cas2048 \n chr4,3076339 \n GT: Homozygous Variant",
           "ID: cas3050 \n chr4,3076339 \n GT: Homozygous Reference",
           "ID: cas3051 \n chr4,3076339 \n GT: Homozygous Reference",
           "ID: cas3052 \n chr4,3076339 \n GT: Homozygous Reference",
           "ID: cas3053 \n chr4,3076339 \n GT: Homozygous Reference",
           "ID: cas3054 \n chr4,3076339 \n GT: Homozygous Reference",
           "ID: cas3055 \n chr4,3076339 \n GT: Heterozygous Variant",
           "ID: cas3056 \n chr4,3076339 \n GT: Homozygous Reference",
           "ID: cas3057 \n chr4,3076339 \n GT: No Call",
           "ID: cas3058 \n chr4,3076339 \n GT: Homozygous Reference",
           "ID: cas3059 \n chr4,3076339 \n GT: No Call",
           "ID: cas3060 \n chr4,3076339 \n GT: No Call",
           "ID: cas3061 \n chr4,3076339 \n GT: Homozygous Reference",
           "ID: cas3062 \n chr4,3076339 \n GT: Homozygous Reference",
           "ID: cas3065 \n chr4,3076339 \n GT: No Call",
           "ID: cas3072 \n chr4,3076339 \n GT: Homozygous Reference",
           "ID: cas3073 \n chr4,3076339 \n GT: Homozygous Reference",
           "ID: cas3074 \n chr4,3076339 \n GT: Homozygous Reference",
           "ID: cas3075 \n chr4,3076339 \n GT: Homozygous Reference",
           "ID: cas3076 \n chr4,3076339 \n GT: Homozygous Reference",
           "ID: cas3077 \n chr4,3076339 \n GT: Homozygous Reference",
           "ID: cas3078 \n chr4,3076339 \n GT: Homozygous Reference",
           "ID: cas3079 \n chr4,3076339 \n GT: Homozygous Reference",
           "ID: cas3080 \n chr4,3076339 \n GT: Homozygous Reference",
           "ID: cas3081 \n chr4,3076339 \n GT: Homozygous Reference",
           "ID: cas3082 \n chr4,3076339 \n GT: Homozygous Reference",
           "ID: cas3083 \n chr4,3076339 \n GT: Homozygous Reference",
           "ID: cas3084 \n chr4,3076339 \n GT: No Call",
           "ID: cas3085 \n chr4,3076339 \n GT: Homozygous Reference",
           "ID: cas3086 \n chr4,3076339 \n GT: Homozygous Reference",
           "ID: cas3089 \n chr4,3076339 \n GT: Homozygous Reference",
           "ID: cas3092 \n chr4,3076339 \n GT: Homozygous Reference",
           "ID: cas3096 \n chr4,3076339 \n GT: Homozygous Reference",
           "ID: cas4097 \n chr4,3076339 \n GT: Homozygous Reference",
           "ID: cas4098 \n chr4,3076339 \n GT: Homozygous Reference",
           "ID: cas4099 \n chr4,3076339 \n GT: Homozygous Reference",
           "ID: cas4100 \n chr4,3076339 \n GT: Homozygous Reference",
           "ID: cas4101 \n chr4,3076339 \n GT: Homozygous Reference",
           "ID: cas4102 \n chr4,3076339 \n GT: Homozygous Reference",
           "ID: cas4103 \n chr4,3076339 \n GT: Homozygous Reference",
           "ID: cas4104 \n chr4,3076339 \n GT: Homozygous Reference",
           "ID: cas4105 \n chr4,3076339 \n GT: Homozygous Reference",
           "ID: cas4106 \n chr4,3076339 \n GT: Homozygous Reference",
           "ID: cas4107 \n chr4,3076339 \n GT: Homozygous Reference",
           "ID: cas4108 \n chr4,3076339 \n GT: Homozygous Reference",
           "ID: cas4112 \n chr4,3076339 \n GT: Homozygous Reference",
           "ID: cas4115 \n chr4,3076339 \n GT: Homozygous Reference",
           "ID: cas4116 \n chr4,3076339 \n GT: Homozygous Reference",
           "ID: cas4121 \n chr4,3076339 \n GT: Heterozygous Variant",
           "ID: cas4122 \n chr4,3076339 \n GT: Homozygous Reference",
           "ID: cas4123 \n chr4,3076339 \n GT: Heterozygous Variant",
           "ID: cas4124 \n chr4,3076339 \n GT: Homozygous Reference",
           "ID: cas4125 \n chr4,3076339 \n GT: Homozygous Reference",
           "ID: cas4126 \n chr4,3076339 \n GT: Homozygous Reference",
           "ID: cas4127 \n chr4,3076339 \n GT: Heterozygous Variant",
           "ID: cas4128 \n chr4,3076339 \n GT: Homozygous Reference",
           "ID: cas4129 \n chr4,3076339 \n GT: Homozygous Reference",
           "ID: cas4130 \n chr4,3076339 \n GT: Homozygous Reference",
           "ID: cas4131 \n chr4,3076339 \n GT: Homozygous Reference",
           "ID: cas4132 \n chr4,3076339 \n GT: Homozygous Reference",
           "ID: cas4133 \n chr4,3076339 \n GT: Homozygous Reference",
           "ID: cas4134 \n chr4,3076339 \n GT: Homozygous Reference",
           "ID: con4137 \n chr4,3076339 \n GT: Heterozygous Variant",
           "ID: cas4139 \n chr4,3076339 \n GT: Homozygous Reference",
           "ID: cas4140 \n chr4,3076339 \n GT: Homozygous Reference",
           "ID: cas5145 \n chr4,3076339 \n GT: Heterozygous Variant",
           "ID: cas5147 \n chr4,3076339 \n GT: Homozygous Reference",
           "ID: cas5150 \n chr4,3076339 \n GT: Homozygous Reference",
           "ID: cas5152 \n chr4,3076339 \n GT: Heterozygous Variant",
           "ID: cas5153 \n chr4,3076339 \n GT: Homozygous Reference",
           "ID: cas5154 \n chr4,3076339 \n GT: Homozygous Reference",
           "ID: cas5155 \n chr4,3076339 \n GT: Homozygous Reference",
           "ID: cas5156 \n chr4,3076339 \n GT: Homozygous Reference",
           "ID: cas5162 \n chr4,3076339 \n GT: Heterozygous Variant",
           "ID: cas5163 \n chr4,3076339 \n GT: Homozygous Reference",
           "ID: cas5164 \n chr4,3076339 \n GT: Heterozygous Variant",
           "ID: cas5166 \n chr4,3076339 \n GT: Heterozygous Variant",
           "ID: cas5168 \n chr4,3076339 \n GT: Homozygous Reference",
           "ID: cas5169 \n chr4,3076339 \n GT: Homozygous Reference",
           "ID: cas5170 \n chr4,3076339 \n GT: Homozygous Reference",
           "ID: cas5173 \n chr4,3076339 \n GT: Homozygous Reference",
           "ID: cas5176 \n chr4,3076339 \n GT: Homozygous Reference",
           "ID: cas5177 \n chr4,3076339 \n GT: Homozygous Reference",
           "ID: cas5178 \n chr4,3076339 \n GT: Homozygous Reference",
           "ID: cas5179 \n chr4,3076339 \n GT: Homozygous Reference",
           "ID: cas5180 \n chr4,3076339 \n GT: Homozygous Reference",
           "ID: cas5181 \n chr4,3076339 \n GT: Homozygous Reference",
           "ID: cas5183 \n chr4,3076339 \n GT: Homozygous Reference",
           "ID: cas5184 \n chr4,3076339 \n GT: Homozygous Reference",
           "ID: cas5185 \n chr4,3076339 \n GT: Homozygous Reference",
           "ID: cas5186 \n chr4,3076339 \n GT: Homozygous Reference",
           "ID: cas5187 \n chr4,3076339 \n GT: Homozygous Reference",
           "ID: cas5188 \n chr4,3076339 \n GT: Homozygous Reference",
           "ID: cas5189 \n chr4,3076339 \n GT: Homozygous Reference",
           "ID: cas5190 \n chr4,3076339 \n GT: Homozygous Reference",
           "ID: cas5191 \n chr4,3076339 \n GT: Homozygous Reference",
           "ID: cas5192 \n chr4,3076339 \n GT: Homozygous Reference",
           "ID: cas3067 \n chr4,3076339 \n GT: Homozygous Reference",
           "ID: cas4109 \n chr4,3076339 \n GT: Homozygous Reference",
           "ID: con1002 \n chr4,3076339 \n GT: No Call",
           "ID: con1004 \n chr4,3076339 \n GT: No Call",
           "ID: con1006 \n chr4,3076339 \n GT: Homozygous Reference",
           "ID: con1007 \n chr4,3076339 \n GT: No Call",
           "ID: con1008 \n chr4,3076339 \n GT: No Call",
           "ID: con1009 \n chr4,3076339 \n GT: No Call",
           "ID: con1011 \n chr4,3076339 \n GT: No Call",
           "ID: con1016 \n chr4,3076339 \n GT: No Call",
           "ID: con2026 \n chr4,3076339 \n GT: No Call",
           "ID: con2030 \n chr4,3076339 \n GT: No Call",
           "ID: con2031 \n chr4,3076339 \n GT: No Call",
           "ID: con2036 \n chr4,3076339 \n GT: No Call",
           "ID: con2037 \n chr4,3076339 \n GT: No Call",
           "ID: con2042 \n chr4,3076339 \n GT: No Call",
           "ID: con2046 \n chr4,3076339 \n GT: No Call",
           "ID: con2047 \n chr4,3076339 \n GT: No Call",
           "ID: con3063 \n chr4,3076339 \n GT: Homozygous Reference",
           "ID: con3064 \n chr4,3076339 \n GT: Homozygous Reference",
           "ID: con3066 \n chr4,3076339 \n GT: Homozygous Reference",
           "ID: con3068 \n chr4,3076339 \n GT: Homozygous Reference",
           "ID: con3069 \n chr4,3076339 \n GT: Homozygous Reference",
           "ID: con3070 \n chr4,3076339 \n GT: Homozygous Reference",
           "ID: con3071 \n chr4,3076339 \n GT: Homozygous Reference",
           "ID: con3087 \n chr4,3076339 \n GT: Homozygous Reference",
           "ID: con3088 \n chr4,3076339 \n GT: Homozygous Reference",
           "ID: con3090 \n chr4,3076339 \n GT: Homozygous Reference",
           "ID: con3091 \n chr4,3076339 \n GT: Homozygous Reference",
           "ID: con3093 \n chr4,3076339 \n GT: Homozygous Reference",
           "ID: con3094 \n chr4,3076339 \n GT: Homozygous Reference",
           "ID: con3095 \n chr4,3076339 \n GT: Homozygous Reference",
           "ID: con4110 \n chr4,3076339 \n GT: Homozygous Reference",
           "ID: con4113 \n chr4,3076339 \n GT: Homozygous Reference",
           "ID: con4114 \n chr4,3076339 \n GT: Homozygous Reference",
           "ID: con4117 \n chr4,3076339 \n GT: Homozygous Reference",
           "ID: con4118 \n chr4,3076339 \n GT: Homozygous Reference",
           "ID: con4119 \n chr4,3076339 \n GT: Homozygous Reference",
           "ID: con4120 \n chr4,3076339 \n GT: Homozygous Reference",
           "ID: con4135 \n chr4,3076339 \n GT: Homozygous Reference",
           "ID: con4136 \n chr4,3076339 \n GT: Homozygous Reference",
           "ID: con4138 \n chr4,3076339 \n GT: Homozygous Reference",
           "ID: con4141 \n chr4,3076339 \n GT: Homozygous Reference",
           "ID: con4142 \n chr4,3076339 \n GT: Homozygous Reference",
           "ID: con4143 \n chr4,3076339 \n GT: Homozygous Reference",
           "ID: con4144 \n chr4,3076339 \n GT: Homozygous Reference",
           "ID: con5146 \n chr4,3076339 \n GT: Homozygous Reference",
           "ID: con5148 \n chr4,3076339 \n GT: Homozygous Reference",
           "ID: con5149 \n chr4,3076339 \n GT: Heterozygous Variant",
           "ID: con5151 \n chr4,3076339 \n GT: Homozygous Reference",
           "ID: con5157 \n chr4,3076339 \n GT: Heterozygous Variant",
           "ID: con5158 \n chr4,3076339 \n GT: Homozygous Reference",
           "ID: con5159 \n chr4,3076339 \n GT: Homozygous Reference",
           "ID: con5160 \n chr4,3076339 \n GT: Homozygous Reference",
           "ID: con5161 \n chr4,3076339 \n GT: Homozygous Reference",
           "ID: con5165 \n chr4,3076339 \n GT: Heterozygous Variant",
           "ID: con5167 \n chr4,3076339 \n GT: Homozygous Reference",
           "ID: con5171 \n chr4,3076339 \n GT: Homozygous Reference",
           "ID: con5172 \n chr4,3076339 \n GT: Heterozygous Variant",
           "ID: con5174 \n chr4,3076339 \n GT: Homozygous Reference",
           "ID: con5175 \n chr4,3076339 \n GT: Homozygous Reference",
           "ID: con5182 \n chr4,3076339 \n GT: Heterozygous Variant",
           "ID: con4111 \n chr4,3076339 \n GT: Homozygous Reference"
          ],
          [
           "ID: cas1001 \n Trait 1: seq_site_1",
           "ID: cas1003 \n Trait 1: seq_site_1",
           "ID: cas1005 \n Trait 1: seq_site_1",
           "ID: cas1010 \n Trait 1: seq_site_1",
           "ID: cas1012 \n Trait 1: seq_site_1",
           "ID: cas1013 \n Trait 1: seq_site_1",
           "ID: cas1014 \n Trait 1: seq_site_1",
           "ID: cas1015 \n Trait 1: seq_site_1",
           "ID: cas1017 \n Trait 1: seq_site_1",
           "ID: cas1018 \n Trait 1: seq_site_1",
           "ID: cas1019 \n Trait 1: seq_site_1",
           "ID: cas1020 \n Trait 1: seq_site_1",
           "ID: cas1021 \n Trait 1: seq_site_1",
           "ID: cas1022 \n Trait 1: seq_site_1",
           "ID: cas1023 \n Trait 1: seq_site_1",
           "ID: cas1024 \n Trait 1: seq_site_1",
           "ID: cas2025 \n Trait 1: seq_site_1",
           "ID: cas2027 \n Trait 1: seq_site_1",
           "ID: cas2028 \n Trait 1: seq_site_1",
           "ID: cas2029 \n Trait 1: seq_site_1",
           "ID: cas2032 \n Trait 1: seq_site_1",
           "ID: cas2033 \n Trait 1: seq_site_1",
           "ID: cas2034 \n Trait 1: seq_site_1",
           "ID: cas2035 \n Trait 1: seq_site_1",
           "ID: cas2038 \n Trait 1: seq_site_1",
           "ID: cas2039 \n Trait 1: seq_site_1",
           "ID: cas2040 \n Trait 1: seq_site_1",
           "ID: cas2041 \n Trait 1: seq_site_1",
           "ID: cas2043 \n Trait 1: seq_site_1",
           "ID: cas2044 \n Trait 1: seq_site_1",
           "ID: cas2045 \n Trait 1: seq_site_1",
           "ID: cas2048 \n Trait 1: seq_site_1",
           "ID: cas3050 \n Trait 1: seq_site_1",
           "ID: cas3051 \n Trait 1: seq_site_1",
           "ID: cas3052 \n Trait 1: seq_site_1",
           "ID: cas3053 \n Trait 1: seq_site_1",
           "ID: cas3054 \n Trait 1: seq_site_1",
           "ID: cas3055 \n Trait 1: seq_site_1",
           "ID: cas3056 \n Trait 1: seq_site_1",
           "ID: cas3057 \n Trait 1: seq_site_1",
           "ID: cas3058 \n Trait 1: seq_site_1",
           "ID: cas3059 \n Trait 1: seq_site_1",
           "ID: cas3060 \n Trait 1: seq_site_1",
           "ID: cas3061 \n Trait 1: seq_site_1",
           "ID: cas3062 \n Trait 1: seq_site_1",
           "ID: cas3065 \n Trait 1: seq_site_1",
           "ID: cas3072 \n Trait 1: seq_site_1",
           "ID: cas3073 \n Trait 1: seq_site_1",
           "ID: cas3074 \n Trait 1: seq_site_1",
           "ID: cas3075 \n Trait 1: seq_site_1",
           "ID: cas3076 \n Trait 1: seq_site_1",
           "ID: cas3077 \n Trait 1: seq_site_1",
           "ID: cas3078 \n Trait 1: seq_site_1",
           "ID: cas3079 \n Trait 1: seq_site_1",
           "ID: cas3080 \n Trait 1: seq_site_1",
           "ID: cas3081 \n Trait 1: seq_site_1",
           "ID: cas3082 \n Trait 1: seq_site_1",
           "ID: cas3083 \n Trait 1: seq_site_1",
           "ID: cas3084 \n Trait 1: seq_site_1",
           "ID: cas3085 \n Trait 1: seq_site_1",
           "ID: cas3086 \n Trait 1: seq_site_1",
           "ID: cas3089 \n Trait 1: seq_site_1",
           "ID: cas3092 \n Trait 1: seq_site_1",
           "ID: cas3096 \n Trait 1: seq_site_1",
           "ID: cas4097 \n Trait 1: seq_site_1",
           "ID: cas4098 \n Trait 1: seq_site_1",
           "ID: cas4099 \n Trait 1: seq_site_1",
           "ID: cas4100 \n Trait 1: seq_site_1",
           "ID: cas4101 \n Trait 1: seq_site_1",
           "ID: cas4102 \n Trait 1: seq_site_1",
           "ID: cas4103 \n Trait 1: seq_site_1",
           "ID: cas4104 \n Trait 1: seq_site_1",
           "ID: cas4105 \n Trait 1: seq_site_1",
           "ID: cas4106 \n Trait 1: seq_site_1",
           "ID: cas4107 \n Trait 1: seq_site_1",
           "ID: cas4108 \n Trait 1: seq_site_1",
           "ID: cas4112 \n Trait 1: seq_site_1",
           "ID: cas4115 \n Trait 1: seq_site_1",
           "ID: cas4116 \n Trait 1: seq_site_1",
           "ID: cas4121 \n Trait 2: seq_site_2",
           "ID: cas4122 \n Trait 2: seq_site_2",
           "ID: cas4123 \n Trait 2: seq_site_2",
           "ID: cas4124 \n Trait 2: seq_site_2",
           "ID: cas4125 \n Trait 2: seq_site_2",
           "ID: cas4126 \n Trait 2: seq_site_2",
           "ID: cas4127 \n Trait 2: seq_site_2",
           "ID: cas4128 \n Trait 2: seq_site_2",
           "ID: cas4129 \n Trait 2: seq_site_2",
           "ID: cas4130 \n Trait 2: seq_site_2",
           "ID: cas4131 \n Trait 2: seq_site_2",
           "ID: cas4132 \n Trait 2: seq_site_2",
           "ID: cas4133 \n Trait 2: seq_site_2",
           "ID: cas4134 \n Trait 2: seq_site_2",
           "ID: con4137 \n Trait 2: seq_site_2",
           "ID: cas4139 \n Trait 2: seq_site_2",
           "ID: cas4140 \n Trait 2: seq_site_2",
           "ID: cas5145 \n Trait 2: seq_site_2",
           "ID: cas5147 \n Trait 2: seq_site_2",
           "ID: cas5150 \n Trait 2: seq_site_2",
           "ID: cas5152 \n Trait 2: seq_site_2",
           "ID: cas5153 \n Trait 2: seq_site_2",
           "ID: cas5154 \n Trait 2: seq_site_2",
           "ID: cas5155 \n Trait 2: seq_site_2",
           "ID: cas5156 \n Trait 2: seq_site_2",
           "ID: cas5162 \n Trait 2: seq_site_2",
           "ID: cas5163 \n Trait 2: seq_site_2",
           "ID: cas5164 \n Trait 2: seq_site_2",
           "ID: cas5166 \n Trait 2: seq_site_2",
           "ID: cas5168 \n Trait 2: seq_site_2",
           "ID: cas5169 \n Trait 2: seq_site_2",
           "ID: cas5170 \n Trait 2: seq_site_2",
           "ID: cas5173 \n Trait 2: seq_site_2",
           "ID: cas5176 \n Trait 2: seq_site_2",
           "ID: cas5177 \n Trait 2: seq_site_2",
           "ID: cas5178 \n Trait 2: seq_site_2",
           "ID: cas5179 \n Trait 2: seq_site_2",
           "ID: cas5180 \n Trait 2: seq_site_2",
           "ID: cas5181 \n Trait 2: seq_site_2",
           "ID: cas5183 \n Trait 2: seq_site_2",
           "ID: cas5184 \n Trait 2: seq_site_2",
           "ID: cas5185 \n Trait 2: seq_site_2",
           "ID: cas5186 \n Trait 2: seq_site_2",
           "ID: cas5187 \n Trait 2: seq_site_2",
           "ID: cas5188 \n Trait 2: seq_site_2",
           "ID: cas5189 \n Trait 2: seq_site_2",
           "ID: cas5190 \n Trait 2: seq_site_2",
           "ID: cas5191 \n Trait 2: seq_site_2",
           "ID: cas5192 \n Trait 2: seq_site_2",
           "ID: cas3067 \n Trait 1: seq_site_1",
           "ID: cas4109 \n Trait 1: seq_site_1",
           "ID: con1002 \n Trait 1: seq_site_1",
           "ID: con1004 \n Trait 1: seq_site_1",
           "ID: con1006 \n Trait 1: seq_site_1",
           "ID: con1007 \n Trait 1: seq_site_1",
           "ID: con1008 \n Trait 1: seq_site_1",
           "ID: con1009 \n Trait 1: seq_site_1",
           "ID: con1011 \n Trait 1: seq_site_1",
           "ID: con1016 \n Trait 1: seq_site_1",
           "ID: con2026 \n Trait 1: seq_site_1",
           "ID: con2030 \n Trait 1: seq_site_1",
           "ID: con2031 \n Trait 1: seq_site_1",
           "ID: con2036 \n Trait 1: seq_site_1",
           "ID: con2037 \n Trait 1: seq_site_1",
           "ID: con2042 \n Trait 1: seq_site_1",
           "ID: con2046 \n Trait 1: seq_site_1",
           "ID: con2047 \n Trait 1: seq_site_1",
           "ID: con3063 \n Trait 1: seq_site_1",
           "ID: con3064 \n Trait 1: seq_site_1",
           "ID: con3066 \n Trait 1: seq_site_1",
           "ID: con3068 \n Trait 1: seq_site_1",
           "ID: con3069 \n Trait 1: seq_site_1",
           "ID: con3070 \n Trait 1: seq_site_1",
           "ID: con3071 \n Trait 1: seq_site_1",
           "ID: con3087 \n Trait 1: seq_site_1",
           "ID: con3088 \n Trait 1: seq_site_1",
           "ID: con3090 \n Trait 1: seq_site_1",
           "ID: con3091 \n Trait 1: seq_site_1",
           "ID: con3093 \n Trait 1: seq_site_1",
           "ID: con3094 \n Trait 1: seq_site_1",
           "ID: con3095 \n Trait 1: seq_site_1",
           "ID: con4110 \n Trait 1: seq_site_1",
           "ID: con4113 \n Trait 1: seq_site_1",
           "ID: con4114 \n Trait 1: seq_site_1",
           "ID: con4117 \n Trait 1: seq_site_1",
           "ID: con4118 \n Trait 1: seq_site_1",
           "ID: con4119 \n Trait 1: seq_site_1",
           "ID: con4120 \n Trait 1: seq_site_1",
           "ID: con4135 \n Trait 2: seq_site_2",
           "ID: con4136 \n Trait 2: seq_site_2",
           "ID: con4138 \n Trait 2: seq_site_2",
           "ID: con4141 \n Trait 2: seq_site_2",
           "ID: con4142 \n Trait 2: seq_site_2",
           "ID: con4143 \n Trait 2: seq_site_2",
           "ID: con4144 \n Trait 2: seq_site_2",
           "ID: con5146 \n Trait 2: seq_site_2",
           "ID: con5148 \n Trait 2: seq_site_2",
           "ID: con5149 \n Trait 2: seq_site_2",
           "ID: con5151 \n Trait 2: seq_site_2",
           "ID: con5157 \n Trait 2: seq_site_2",
           "ID: con5158 \n Trait 2: seq_site_2",
           "ID: con5159 \n Trait 2: seq_site_2",
           "ID: con5160 \n Trait 2: seq_site_2",
           "ID: con5161 \n Trait 2: seq_site_2",
           "ID: con5165 \n Trait 2: seq_site_2",
           "ID: con5167 \n Trait 2: seq_site_2",
           "ID: con5171 \n Trait 2: seq_site_2",
           "ID: con5172 \n Trait 2: seq_site_2",
           "ID: con5174 \n Trait 2: seq_site_2",
           "ID: con5175 \n Trait 2: seq_site_2",
           "ID: con5182 \n Trait 2: seq_site_2",
           "ID: con4111 \n Trait 1: seq_site_1"
          ],
          [
           "ID: cas1001 \n Trait 1: case",
           "ID: cas1003 \n Trait 1: case",
           "ID: cas1005 \n Trait 1: case",
           "ID: cas1010 \n Trait 1: case",
           "ID: cas1012 \n Trait 1: case",
           "ID: cas1013 \n Trait 1: case",
           "ID: cas1014 \n Trait 1: case",
           "ID: cas1015 \n Trait 1: case",
           "ID: cas1017 \n Trait 1: case",
           "ID: cas1018 \n Trait 1: case",
           "ID: cas1019 \n Trait 1: case",
           "ID: cas1020 \n Trait 1: case",
           "ID: cas1021 \n Trait 1: case",
           "ID: cas1022 \n Trait 1: case",
           "ID: cas1023 \n Trait 1: case",
           "ID: cas1024 \n Trait 1: case",
           "ID: cas2025 \n Trait 1: case",
           "ID: cas2027 \n Trait 1: case",
           "ID: cas2028 \n Trait 1: case",
           "ID: cas2029 \n Trait 1: case",
           "ID: cas2032 \n Trait 1: case",
           "ID: cas2033 \n Trait 1: case",
           "ID: cas2034 \n Trait 1: case",
           "ID: cas2035 \n Trait 1: case",
           "ID: cas2038 \n Trait 1: case",
           "ID: cas2039 \n Trait 1: case",
           "ID: cas2040 \n Trait 1: case",
           "ID: cas2041 \n Trait 1: case",
           "ID: cas2043 \n Trait 1: case",
           "ID: cas2044 \n Trait 1: case",
           "ID: cas2045 \n Trait 1: case",
           "ID: cas2048 \n Trait 1: case",
           "ID: cas3050 \n Trait 1: case",
           "ID: cas3051 \n Trait 1: case",
           "ID: cas3052 \n Trait 1: case",
           "ID: cas3053 \n Trait 1: case",
           "ID: cas3054 \n Trait 1: case",
           "ID: cas3055 \n Trait 1: case",
           "ID: cas3056 \n Trait 1: case",
           "ID: cas3057 \n Trait 1: case",
           "ID: cas3058 \n Trait 1: case",
           "ID: cas3059 \n Trait 1: case",
           "ID: cas3060 \n Trait 1: case",
           "ID: cas3061 \n Trait 1: case",
           "ID: cas3062 \n Trait 1: case",
           "ID: cas3065 \n Trait 1: case",
           "ID: cas3072 \n Trait 1: case",
           "ID: cas3073 \n Trait 1: case",
           "ID: cas3074 \n Trait 1: case",
           "ID: cas3075 \n Trait 1: case",
           "ID: cas3076 \n Trait 1: case",
           "ID: cas3077 \n Trait 1: case",
           "ID: cas3078 \n Trait 1: case",
           "ID: cas3079 \n Trait 1: case",
           "ID: cas3080 \n Trait 1: case",
           "ID: cas3081 \n Trait 1: case",
           "ID: cas3082 \n Trait 1: case",
           "ID: cas3083 \n Trait 1: case",
           "ID: cas3084 \n Trait 1: case",
           "ID: cas3085 \n Trait 1: case",
           "ID: cas3086 \n Trait 1: case",
           "ID: cas3089 \n Trait 1: case",
           "ID: cas3092 \n Trait 1: case",
           "ID: cas3096 \n Trait 1: case",
           "ID: cas4097 \n Trait 1: case",
           "ID: cas4098 \n Trait 1: case",
           "ID: cas4099 \n Trait 1: case",
           "ID: cas4100 \n Trait 1: case",
           "ID: cas4101 \n Trait 1: case",
           "ID: cas4102 \n Trait 1: case",
           "ID: cas4103 \n Trait 1: case",
           "ID: cas4104 \n Trait 1: case",
           "ID: cas4105 \n Trait 1: case",
           "ID: cas4106 \n Trait 1: case",
           "ID: cas4107 \n Trait 1: case",
           "ID: cas4108 \n Trait 1: case",
           "ID: cas4112 \n Trait 1: case",
           "ID: cas4115 \n Trait 1: case",
           "ID: cas4116 \n Trait 1: case",
           "ID: cas4121 \n Trait 1: case",
           "ID: cas4122 \n Trait 1: case",
           "ID: cas4123 \n Trait 1: case",
           "ID: cas4124 \n Trait 1: case",
           "ID: cas4125 \n Trait 1: case",
           "ID: cas4126 \n Trait 1: case",
           "ID: cas4127 \n Trait 1: case",
           "ID: cas4128 \n Trait 1: case",
           "ID: cas4129 \n Trait 1: case",
           "ID: cas4130 \n Trait 1: case",
           "ID: cas4131 \n Trait 1: case",
           "ID: cas4132 \n Trait 1: case",
           "ID: cas4133 \n Trait 1: case",
           "ID: cas4134 \n Trait 1: case",
           "ID: con4137 \n Trait 1: case",
           "ID: cas4139 \n Trait 1: case",
           "ID: cas4140 \n Trait 1: case",
           "ID: cas5145 \n Trait 1: case",
           "ID: cas5147 \n Trait 1: case",
           "ID: cas5150 \n Trait 1: case",
           "ID: cas5152 \n Trait 1: case",
           "ID: cas5153 \n Trait 1: case",
           "ID: cas5154 \n Trait 1: case",
           "ID: cas5155 \n Trait 1: case",
           "ID: cas5156 \n Trait 1: case",
           "ID: cas5162 \n Trait 1: case",
           "ID: cas5163 \n Trait 1: case",
           "ID: cas5164 \n Trait 1: case",
           "ID: cas5166 \n Trait 1: case",
           "ID: cas5168 \n Trait 1: case",
           "ID: cas5169 \n Trait 1: case",
           "ID: cas5170 \n Trait 1: case",
           "ID: cas5173 \n Trait 1: case",
           "ID: cas5176 \n Trait 1: case",
           "ID: cas5177 \n Trait 1: case",
           "ID: cas5178 \n Trait 1: case",
           "ID: cas5179 \n Trait 1: case",
           "ID: cas5180 \n Trait 1: case",
           "ID: cas5181 \n Trait 1: case",
           "ID: cas5183 \n Trait 1: case",
           "ID: cas5184 \n Trait 1: case",
           "ID: cas5185 \n Trait 1: case",
           "ID: cas5186 \n Trait 1: case",
           "ID: cas5187 \n Trait 1: case",
           "ID: cas5188 \n Trait 1: case",
           "ID: cas5189 \n Trait 1: case",
           "ID: cas5190 \n Trait 1: case",
           "ID: cas5191 \n Trait 1: case",
           "ID: cas5192 \n Trait 1: case",
           "ID: cas3067 \n Trait 1: case",
           "ID: cas4109 \n Trait 1: case",
           "ID: con1002 \n Trait 2: control",
           "ID: con1004 \n Trait 2: control",
           "ID: con1006 \n Trait 2: control",
           "ID: con1007 \n Trait 2: control",
           "ID: con1008 \n Trait 2: control",
           "ID: con1009 \n Trait 2: control",
           "ID: con1011 \n Trait 2: control",
           "ID: con1016 \n Trait 2: control",
           "ID: con2026 \n Trait 2: control",
           "ID: con2030 \n Trait 2: control",
           "ID: con2031 \n Trait 2: control",
           "ID: con2036 \n Trait 2: control",
           "ID: con2037 \n Trait 2: control",
           "ID: con2042 \n Trait 2: control",
           "ID: con2046 \n Trait 2: control",
           "ID: con2047 \n Trait 2: control",
           "ID: con3063 \n Trait 2: control",
           "ID: con3064 \n Trait 2: control",
           "ID: con3066 \n Trait 2: control",
           "ID: con3068 \n Trait 2: control",
           "ID: con3069 \n Trait 2: control",
           "ID: con3070 \n Trait 2: control",
           "ID: con3071 \n Trait 2: control",
           "ID: con3087 \n Trait 2: control",
           "ID: con3088 \n Trait 2: control",
           "ID: con3090 \n Trait 2: control",
           "ID: con3091 \n Trait 2: control",
           "ID: con3093 \n Trait 2: control",
           "ID: con3094 \n Trait 2: control",
           "ID: con3095 \n Trait 2: control",
           "ID: con4110 \n Trait 2: control",
           "ID: con4113 \n Trait 2: control",
           "ID: con4114 \n Trait 2: control",
           "ID: con4117 \n Trait 2: control",
           "ID: con4118 \n Trait 2: control",
           "ID: con4119 \n Trait 2: control",
           "ID: con4120 \n Trait 2: control",
           "ID: con4135 \n Trait 2: control",
           "ID: con4136 \n Trait 2: control",
           "ID: con4138 \n Trait 2: control",
           "ID: con4141 \n Trait 2: control",
           "ID: con4142 \n Trait 2: control",
           "ID: con4143 \n Trait 2: control",
           "ID: con4144 \n Trait 2: control",
           "ID: con5146 \n Trait 2: control",
           "ID: con5148 \n Trait 2: control",
           "ID: con5149 \n Trait 2: control",
           "ID: con5151 \n Trait 2: control",
           "ID: con5157 \n Trait 2: control",
           "ID: con5158 \n Trait 2: control",
           "ID: con5159 \n Trait 2: control",
           "ID: con5160 \n Trait 2: control",
           "ID: con5161 \n Trait 2: control",
           "ID: con5165 \n Trait 2: control",
           "ID: con5167 \n Trait 2: control",
           "ID: con5171 \n Trait 2: control",
           "ID: con5172 \n Trait 2: control",
           "ID: con5174 \n Trait 2: control",
           "ID: con5175 \n Trait 2: control",
           "ID: con5182 \n Trait 2: control",
           "ID: con4111 \n Trait 2: control"
          ]
         ],
         "transpose": true,
         "type": "heatmap",
         "x": [
          1,
          2,
          3,
          4,
          5,
          6,
          7,
          8,
          9,
          10,
          11,
          12,
          13,
          14,
          15,
          16,
          17,
          18,
          19,
          20,
          21,
          22,
          23,
          24,
          25,
          26,
          27,
          28,
          29,
          30,
          31,
          32,
          33,
          34,
          35,
          36,
          37,
          38,
          39,
          40,
          41,
          42,
          43,
          44,
          45,
          46,
          47,
          48,
          49,
          50,
          51,
          52,
          53,
          54,
          55,
          56,
          57,
          58,
          59,
          60,
          61,
          62,
          63,
          64,
          65,
          66,
          67,
          68,
          69,
          70,
          71,
          72,
          73,
          74,
          75,
          76,
          77,
          78,
          79,
          80,
          81,
          82,
          83,
          84,
          85,
          86,
          87,
          88,
          89,
          90,
          91,
          92,
          93,
          94,
          95,
          96,
          97,
          98,
          99,
          100,
          101,
          102,
          103,
          104,
          105,
          106,
          107,
          108,
          109,
          110,
          111,
          112,
          113,
          114,
          115,
          116,
          117,
          118,
          119,
          120,
          121,
          122,
          123,
          124,
          125,
          126,
          127,
          128,
          129,
          130,
          131,
          132,
          133,
          134,
          135,
          136,
          137,
          138,
          139,
          140,
          141,
          142,
          143,
          144,
          145,
          146,
          147,
          148,
          149,
          150,
          151,
          152,
          153,
          154,
          155,
          156,
          157,
          158,
          159,
          160,
          161,
          162,
          163,
          164,
          165,
          166,
          167,
          168,
          169,
          170,
          171,
          172,
          173,
          174,
          175,
          176,
          177,
          178,
          179,
          180,
          181,
          182,
          183,
          184,
          185,
          186,
          187,
          188,
          189,
          190,
          191
         ],
         "y": [
          1,
          2,
          3,
          4,
          5,
          6,
          7
         ],
         "z": [
          [
           0,
           0,
           0,
           0,
           0,
           -1,
           -1
          ],
          [
           0,
           1,
           1,
           1,
           0,
           -1,
           -1
          ],
          [
           1,
           1,
           0,
           0,
           0,
           -1,
           -1
          ],
          [
           1,
           1,
           1,
           1,
           0,
           -1,
           -1
          ],
          [
           0,
           0,
           0,
           0,
           0,
           -1,
           -1
          ],
          [
           1,
           1,
           1,
           1,
           0,
           -1,
           -1
          ],
          [
           1,
           1,
           1,
           1,
           0,
           -1,
           -1
          ],
          [
           1,
           1,
           0,
           0,
           0,
           -1,
           -1
          ],
          [
           1,
           1,
           1,
           1,
           0,
           -1,
           -1
          ],
          [
           1,
           1,
           1,
           1,
           0,
           -1,
           -1
          ],
          [
           1,
           1,
           0,
           0,
           0,
           -1,
           -1
          ],
          [
           0,
           1,
           0,
           0,
           0,
           -1,
           -1
          ],
          [
           0,
           0,
           1,
           0,
           0,
           -1,
           -1
          ],
          [
           1,
           1,
           1,
           1,
           0,
           -1,
           -1
          ],
          [
           1,
           1,
           1,
           1,
           0,
           -1,
           -1
          ],
          [
           0,
           1,
           0,
           0,
           0,
           -1,
           -1
          ],
          [
           0,
           0,
           1,
           1,
           0,
           -1,
           -1
          ],
          [
           0,
           0,
           0,
           0,
           0,
           -1,
           -1
          ],
          [
           0,
           0,
           1,
           1,
           0,
           -1,
           -1
          ],
          [
           0,
           1,
           1,
           1,
           0,
           -1,
           -1
          ],
          [
           0,
           0,
           1,
           0,
           0,
           -1,
           -1
          ],
          [
           0,
           0,
           1,
           1,
           0,
           -1,
           -1
          ],
          [
           0,
           0,
           0,
           0,
           0,
           -1,
           -1
          ],
          [
           0,
           0,
           0,
           0,
           1,
           -1,
           -1
          ],
          [
           1,
           1,
           1,
           1,
           1,
           -1,
           -1
          ],
          [
           0,
           1,
           1,
           1,
           0,
           -1,
           -1
          ],
          [
           1,
           1,
           1,
           1,
           3,
           -1,
           -1
          ],
          [
           0,
           0,
           1,
           1,
           0,
           -1,
           -1
          ],
          [
           0,
           0,
           1,
           1,
           0,
           -1,
           -1
          ],
          [
           0,
           0,
           0,
           0,
           0,
           -1,
           -1
          ],
          [
           0,
           0,
           0,
           0,
           0,
           -1,
           -1
          ],
          [
           0,
           1,
           1,
           1,
           3,
           -1,
           -1
          ],
          [
           1,
           1,
           1,
           1,
           1,
           -1,
           -1
          ],
          [
           0,
           0,
           1,
           1,
           1,
           -1,
           -1
          ],
          [
           1,
           1,
           1,
           1,
           1,
           -1,
           -1
          ],
          [
           0,
           3,
           1,
           1,
           1,
           -1,
           -1
          ],
          [
           1,
           1,
           1,
           1,
           1,
           -1,
           -1
          ],
          [
           0,
           0,
           1,
           1,
           2,
           -1,
           -1
          ],
          [
           1,
           1,
           1,
           1,
           1,
           -1,
           -1
          ],
          [
           0,
           0,
           1,
           1,
           0,
           -1,
           -1
          ],
          [
           1,
           1,
           1,
           1,
           1,
           -1,
           -1
          ],
          [
           0,
           0,
           0,
           0,
           0,
           -1,
           -1
          ],
          [
           0,
           0,
           0,
           0,
           0,
           -1,
           -1
          ],
          [
           0,
           0,
           1,
           1,
           1,
           -1,
           -1
          ],
          [
           1,
           0,
           1,
           1,
           1,
           -1,
           -1
          ],
          [
           1,
           1,
           0,
           0,
           0,
           -1,
           -1
          ],
          [
           1,
           1,
           0,
           1,
           1,
           -1,
           -1
          ],
          [
           0,
           1,
           1,
           1,
           1,
           -1,
           -1
          ],
          [
           0,
           0,
           1,
           1,
           1,
           -1,
           -1
          ],
          [
           1,
           1,
           1,
           1,
           1,
           -1,
           -1
          ],
          [
           1,
           0,
           1,
           1,
           1,
           -1,
           -1
          ],
          [
           1,
           1,
           2,
           1,
           1,
           -1,
           -1
          ],
          [
           0,
           0,
           1,
           3,
           1,
           -1,
           -1
          ],
          [
           0,
           1,
           0,
           0,
           1,
           -1,
           -1
          ],
          [
           0,
           0,
           1,
           1,
           1,
           -1,
           -1
          ],
          [
           1,
           1,
           0,
           1,
           1,
           -1,
           -1
          ],
          [
           0,
           1,
           2,
           1,
           1,
           -1,
           -1
          ],
          [
           0,
           0,
           0,
           1,
           1,
           -1,
           -1
          ],
          [
           0,
           0,
           0,
           0,
           0,
           -1,
           -1
          ],
          [
           0,
           0,
           0,
           0,
           1,
           -1,
           -1
          ],
          [
           1,
           1,
           1,
           1,
           1,
           -1,
           -1
          ],
          [
           1,
           1,
           1,
           1,
           1,
           -1,
           -1
          ],
          [
           0,
           1,
           0,
           0,
           1,
           -1,
           -1
          ],
          [
           1,
           1,
           1,
           1,
           1,
           -1,
           -1
          ],
          [
           0,
           1,
           1,
           1,
           1,
           -1,
           -1
          ],
          [
           1,
           0,
           2,
           2,
           1,
           -1,
           -1
          ],
          [
           0,
           0,
           0,
           0,
           1,
           -1,
           -1
          ],
          [
           0,
           1,
           0,
           0,
           1,
           -1,
           -1
          ],
          [
           0,
           0,
           1,
           1,
           1,
           -1,
           -1
          ],
          [
           0,
           0,
           0,
           1,
           1,
           -1,
           -1
          ],
          [
           0,
           0,
           1,
           1,
           1,
           -1,
           -1
          ],
          [
           0,
           0,
           0,
           0,
           1,
           -1,
           -1
          ],
          [
           0,
           0,
           1,
           1,
           1,
           -1,
           -1
          ],
          [
           0,
           0,
           1,
           1,
           1,
           -1,
           -1
          ],
          [
           1,
           1,
           1,
           1,
           1,
           -1,
           -1
          ],
          [
           1,
           0,
           1,
           1,
           1,
           -1,
           -1
          ],
          [
           0,
           1,
           0,
           1,
           1,
           -1,
           -1
          ],
          [
           1,
           1,
           1,
           1,
           1,
           -1,
           -1
          ],
          [
           0,
           0,
           0,
           0,
           1,
           -1,
           -1
          ],
          [
           1,
           1,
           1,
           1,
           2,
           -2,
           -1
          ],
          [
           0,
           0,
           1,
           1,
           1,
           -2,
           -1
          ],
          [
           0,
           1,
           1,
           1,
           2,
           -2,
           -1
          ],
          [
           0,
           0,
           1,
           1,
           1,
           -2,
           -1
          ],
          [
           1,
           1,
           1,
           1,
           1,
           -2,
           -1
          ],
          [
           0,
           3,
           1,
           1,
           1,
           -2,
           -1
          ],
          [
           0,
           0,
           1,
           1,
           2,
           -2,
           -1
          ],
          [
           0,
           1,
           1,
           1,
           1,
           -2,
           -1
          ],
          [
           0,
           0,
           1,
           1,
           1,
           -2,
           -1
          ],
          [
           1,
           1,
           1,
           1,
           1,
           -2,
           -1
          ],
          [
           1,
           1,
           1,
           1,
           1,
           -2,
           -1
          ],
          [
           0,
           0,
           1,
           1,
           1,
           -2,
           -1
          ],
          [
           0,
           1,
           1,
           1,
           1,
           -2,
           -1
          ],
          [
           0,
           0,
           1,
           1,
           1,
           -2,
           -1
          ],
          [
           0,
           1,
           1,
           1,
           2,
           -2,
           -1
          ],
          [
           1,
           1,
           1,
           1,
           1,
           -2,
           -1
          ],
          [
           0,
           0,
           1,
           1,
           1,
           -2,
           -1
          ],
          [
           0,
           0,
           1,
           1,
           2,
           -2,
           -1
          ],
          [
           1,
           1,
           2,
           1,
           1,
           -2,
           -1
          ],
          [
           0,
           0,
           1,
           1,
           1,
           -2,
           -1
          ],
          [
           0,
           0,
           1,
           1,
           2,
           -2,
           -1
          ],
          [
           1,
           1,
           1,
           1,
           1,
           -2,
           -1
          ],
          [
           1,
           3,
           2,
           2,
           1,
           -2,
           -1
          ],
          [
           3,
           1,
           1,
           1,
           1,
           -2,
           -1
          ],
          [
           0,
           1,
           1,
           1,
           1,
           -2,
           -1
          ],
          [
           1,
           1,
           1,
           1,
           2,
           -2,
           -1
          ],
          [
           1,
           1,
           1,
           1,
           1,
           -2,
           -1
          ],
          [
           0,
           1,
           1,
           1,
           2,
           -2,
           -1
          ],
          [
           0,
           1,
           1,
           1,
           2,
           -2,
           -1
          ],
          [
           0,
           0,
           1,
           1,
           1,
           -2,
           -1
          ],
          [
           0,
           0,
           1,
           1,
           1,
           -2,
           -1
          ],
          [
           0,
           0,
           1,
           1,
           1,
           -2,
           -1
          ],
          [
           0,
           0,
           1,
           1,
           1,
           -2,
           -1
          ],
          [
           1,
           1,
           1,
           1,
           1,
           -2,
           -1
          ],
          [
           1,
           1,
           1,
           1,
           1,
           -2,
           -1
          ],
          [
           1,
           1,
           1,
           1,
           1,
           -2,
           -1
          ],
          [
           1,
           1,
           1,
           1,
           1,
           -2,
           -1
          ],
          [
           0,
           0,
           1,
           1,
           1,
           -2,
           -1
          ],
          [
           1,
           2,
           1,
           2,
           1,
           -2,
           -1
          ],
          [
           0,
           0,
           1,
           1,
           1,
           -2,
           -1
          ],
          [
           0,
           0,
           1,
           1,
           1,
           -2,
           -1
          ],
          [
           1,
           0,
           1,
           1,
           1,
           -2,
           -1
          ],
          [
           0,
           1,
           1,
           1,
           1,
           -2,
           -1
          ],
          [
           1,
           1,
           1,
           2,
           1,
           -2,
           -1
          ],
          [
           1,
           1,
           1,
           1,
           1,
           -2,
           -1
          ],
          [
           0,
           0,
           2,
           1,
           1,
           -2,
           -1
          ],
          [
           1,
           1,
           1,
           1,
           1,
           -2,
           -1
          ],
          [
           0,
           0,
           1,
           1,
           1,
           -2,
           -1
          ],
          [
           1,
           1,
           1,
           1,
           1,
           -2,
           -1
          ],
          [
           0,
           0,
           1,
           1,
           1,
           -1,
           -1
          ],
          [
           1,
           1,
           1,
           1,
           1,
           -1,
           -1
          ],
          [
           0,
           0,
           1,
           1,
           0,
           -1,
           -2
          ],
          [
           1,
           1,
           0,
           0,
           0,
           -1,
           -2
          ],
          [
           1,
           1,
           1,
           1,
           1,
           -1,
           -2
          ],
          [
           0,
           0,
           0,
           0,
           0,
           -1,
           -2
          ],
          [
           0,
           1,
           0,
           0,
           0,
           -1,
           -2
          ],
          [
           0,
           0,
           1,
           1,
           0,
           -1,
           -2
          ],
          [
           1,
           0,
           1,
           1,
           0,
           -1,
           -2
          ],
          [
           0,
           0,
           0,
           0,
           0,
           -1,
           -2
          ],
          [
           0,
           0,
           1,
           1,
           0,
           -1,
           -2
          ],
          [
           0,
           0,
           0,
           0,
           0,
           -1,
           -2
          ],
          [
           0,
           0,
           0,
           0,
           0,
           -1,
           -2
          ],
          [
           0,
           0,
           0,
           0,
           0,
           -1,
           -2
          ],
          [
           0,
           0,
           1,
           1,
           0,
           -1,
           -2
          ],
          [
           0,
           0,
           1,
           1,
           0,
           -1,
           -2
          ],
          [
           0,
           0,
           0,
           0,
           0,
           -1,
           -2
          ],
          [
           0,
           0,
           0,
           0,
           0,
           -1,
           -2
          ],
          [
           0,
           0,
           1,
           1,
           1,
           -1,
           -2
          ],
          [
           1,
           1,
           1,
           1,
           1,
           -1,
           -2
          ],
          [
           0,
           0,
           0,
           1,
           1,
           -1,
           -2
          ],
          [
           0,
           0,
           1,
           1,
           1,
           -1,
           -2
          ],
          [
           1,
           1,
           1,
           1,
           1,
           -1,
           -2
          ],
          [
           1,
           1,
           1,
           1,
           1,
           -1,
           -2
          ],
          [
           0,
           0,
           1,
           1,
           1,
           -1,
           -2
          ],
          [
           0,
           0,
           1,
           1,
           1,
           -1,
           -2
          ],
          [
           1,
           0,
           1,
           1,
           1,
           -1,
           -2
          ],
          [
           0,
           0,
           1,
           2,
           1,
           -1,
           -2
          ],
          [
           1,
           2,
           1,
           1,
           1,
           -1,
           -2
          ],
          [
           0,
           0,
           1,
           1,
           1,
           -1,
           -2
          ],
          [
           1,
           1,
           1,
           1,
           1,
           -1,
           -2
          ],
          [
           0,
           1,
           1,
           1,
           1,
           -1,
           -2
          ],
          [
           0,
           0,
           0,
           0,
           1,
           -1,
           -2
          ],
          [
           1,
           1,
           1,
           1,
           1,
           -1,
           -2
          ],
          [
           1,
           2,
           1,
           2,
           1,
           -1,
           -2
          ],
          [
           1,
           1,
           1,
           1,
           1,
           -1,
           -2
          ],
          [
           0,
           0,
           1,
           1,
           1,
           -1,
           -2
          ],
          [
           1,
           1,
           1,
           1,
           1,
           -1,
           -2
          ],
          [
           1,
           1,
           1,
           1,
           1,
           -1,
           -2
          ],
          [
           1,
           1,
           1,
           1,
           1,
           -2,
           -2
          ],
          [
           1,
           0,
           1,
           2,
           1,
           -2,
           -2
          ],
          [
           0,
           0,
           1,
           0,
           1,
           -2,
           -2
          ],
          [
           1,
           1,
           1,
           1,
           1,
           -2,
           -2
          ],
          [
           0,
           0,
           1,
           1,
           1,
           -2,
           -2
          ],
          [
           1,
           1,
           1,
           1,
           1,
           -2,
           -2
          ],
          [
           0,
           0,
           1,
           1,
           1,
           -2,
           -2
          ],
          [
           1,
           1,
           2,
           1,
           1,
           -2,
           -2
          ],
          [
           0,
           0,
           1,
           1,
           1,
           -2,
           -2
          ],
          [
           1,
           0,
           1,
           1,
           2,
           -2,
           -2
          ],
          [
           0,
           0,
           3,
           1,
           1,
           -2,
           -2
          ],
          [
           1,
           1,
           1,
           1,
           2,
           -2,
           -2
          ],
          [
           0,
           0,
           1,
           2,
           1,
           -2,
           -2
          ],
          [
           0,
           1,
           1,
           1,
           1,
           -2,
           -2
          ],
          [
           0,
           1,
           1,
           1,
           1,
           -2,
           -2
          ],
          [
           1,
           1,
           1,
           1,
           1,
           -2,
           -2
          ],
          [
           1,
           1,
           2,
           1,
           2,
           -2,
           -2
          ],
          [
           1,
           1,
           1,
           1,
           1,
           -2,
           -2
          ],
          [
           1,
           1,
           1,
           1,
           1,
           -2,
           -2
          ],
          [
           1,
           1,
           1,
           1,
           2,
           -2,
           -2
          ],
          [
           0,
           1,
           1,
           1,
           1,
           -2,
           -2
          ],
          [
           1,
           1,
           1,
           1,
           1,
           -2,
           -2
          ],
          [
           0,
           1,
           2,
           1,
           2,
           -2,
           -2
          ],
          [
           1,
           1,
           3,
           1,
           1,
           -1,
           -2
          ]
         ],
         "zauto": false,
         "zmax": 3,
         "zmin": -2
        },
        {
         "marker": {
          "size": 300
         },
         "mode": "text",
         "name": "legend label",
         "text": [
          "No Call",
          "Homozygous Reference",
          "Heterozygous Variant",
          "Homozygous Variant",
          "",
          "Trait 2",
          "Trait 1"
         ],
         "textfont": {
          "family": "Raleway, sans-serif"
         },
         "textposition": "middle right",
         "type": "scatter",
         "x": [
          205.32500000000002,
          205.32500000000002,
          205.32500000000002,
          205.32500000000002,
          243.52500000000003,
          205.32500000000002,
          205.32500000000002
         ],
         "y": [
          2.45,
          2.6833333333333336,
          2.916666666666667,
          3.1500000000000004,
          3.3833333333333337,
          3.8500000000000005,
          4.083333333333334
         ]
        }
       ],
       "layout": {
        "margin": {
         "b": 50,
         "l": 50,
         "r": 50,
         "t": 60
        },
        "shapes": [
         {
          "fillcolor": "rgb(251,231,65)",
          "line": {
           "color": "black"
          },
          "opacity": 1,
          "type": "rect",
          "x0": 195.775,
          "x1": 200.55,
          "y0": 3.0333333333333337,
          "y1": 3.266666666666667
         },
         {
          "fillcolor": "rgb(65,165,137)",
          "line": {
           "color": "black"
          },
          "opacity": 1,
          "type": "rect",
          "x0": 195.775,
          "x1": 200.55,
          "y0": 2.8000000000000003,
          "y1": 3.0333333333333337
         },
         {
          "fillcolor": "rgb(51,106,145)",
          "line": {
           "color": "black"
          },
          "opacity": 1,
          "type": "rect",
          "x0": 195.775,
          "x1": 200.55,
          "y0": 2.566666666666667,
          "y1": 2.8000000000000003
         },
         {
          "fillcolor": "rgb(255,255,255)",
          "line": {
           "color": "black"
          },
          "opacity": 1,
          "type": "rect",
          "x0": 195.775,
          "x1": 200.55,
          "y0": 2.3333333333333335,
          "y1": 2.566666666666667
         },
         {
          "fillcolor": "rgb(151, 154, 154)",
          "line": {
           "color": "black"
          },
          "opacity": 1,
          "type": "rect",
          "x0": 195.775,
          "x1": 200.55,
          "y0": 3.733333333333334,
          "y1": 3.9666666666666672
         },
         {
          "fillcolor": "rgb(208, 211, 212)",
          "line": {
           "color": "black"
          },
          "opacity": 1,
          "type": "rect",
          "x0": 195.775,
          "x1": 200.55,
          "y0": 3.9666666666666672,
          "y1": 4.2
         }
        ],
        "title": "Genotype test 4X 191.vcf",
        "xaxis": {
         "range": [
          [
           1,
           2,
           3,
           4,
           5,
           6,
           7,
           8,
           9,
           10,
           11,
           12,
           13,
           14,
           15,
           16,
           17,
           18,
           19,
           20,
           21,
           22,
           23,
           24,
           25,
           26,
           27,
           28,
           29,
           30,
           31,
           32,
           33,
           34,
           35,
           36,
           37,
           38,
           39,
           40,
           41,
           42,
           43,
           44,
           45,
           46,
           47,
           48,
           49,
           50,
           51,
           52,
           53,
           54,
           55,
           56,
           57,
           58,
           59,
           60,
           61,
           62,
           63,
           64,
           65,
           66,
           67,
           68,
           69,
           70,
           71,
           72,
           73,
           74,
           75,
           76,
           77,
           78,
           79,
           80,
           81,
           82,
           83,
           84,
           85,
           86,
           87,
           88,
           89,
           90,
           91,
           92,
           93,
           94,
           95,
           96,
           97,
           98,
           99,
           100,
           101,
           102,
           103,
           104,
           105,
           106,
           107,
           108,
           109,
           110,
           111,
           112,
           113,
           114,
           115,
           116,
           117,
           118,
           119,
           120,
           121,
           122,
           123,
           124,
           125,
           126,
           127,
           128,
           129,
           130,
           131,
           132,
           133,
           134,
           135,
           136,
           137,
           138,
           139,
           140,
           141,
           142,
           143,
           144,
           145,
           146,
           147,
           148,
           149,
           150,
           151,
           152,
           153,
           154,
           155,
           156,
           157,
           158,
           159,
           160,
           161,
           162,
           163,
           164,
           165,
           166,
           167,
           168,
           169,
           170,
           171,
           172,
           173,
           174,
           175,
           176,
           177,
           178,
           179,
           180,
           181,
           182,
           183,
           184,
           185,
           186,
           187,
           188,
           189,
           190,
           191
          ]
         ],
         "showgrid": false,
         "showticklabels": false,
         "tickangle": 45,
         "ticktext": [
          [
           "cas1001"
          ],
          [
           "cas1003"
          ],
          [
           "cas1005"
          ],
          [
           "cas1010"
          ],
          [
           "cas1012"
          ],
          [
           "cas1013"
          ],
          [
           "cas1014"
          ],
          [
           "cas1015"
          ],
          [
           "cas1017"
          ],
          [
           "cas1018"
          ],
          [
           "cas1019"
          ],
          [
           "cas1020"
          ],
          [
           "cas1021"
          ],
          [
           "cas1022"
          ],
          [
           "cas1023"
          ],
          [
           "cas1024"
          ],
          [
           "cas2025"
          ],
          [
           "cas2027"
          ],
          [
           "cas2028"
          ],
          [
           "cas2029"
          ],
          [
           "cas2032"
          ],
          [
           "cas2033"
          ],
          [
           "cas2034"
          ],
          [
           "cas2035"
          ],
          [
           "cas2038"
          ],
          [
           "cas2039"
          ],
          [
           "cas2040"
          ],
          [
           "cas2041"
          ],
          [
           "cas2043"
          ],
          [
           "cas2044"
          ],
          [
           "cas2045"
          ],
          [
           "cas2048"
          ],
          [
           "cas3050"
          ],
          [
           "cas3051"
          ],
          [
           "cas3052"
          ],
          [
           "cas3053"
          ],
          [
           "cas3054"
          ],
          [
           "cas3055"
          ],
          [
           "cas3056"
          ],
          [
           "cas3057"
          ],
          [
           "cas3058"
          ],
          [
           "cas3059"
          ],
          [
           "cas3060"
          ],
          [
           "cas3061"
          ],
          [
           "cas3062"
          ],
          [
           "cas3065"
          ],
          [
           "cas3072"
          ],
          [
           "cas3073"
          ],
          [
           "cas3074"
          ],
          [
           "cas3075"
          ],
          [
           "cas3076"
          ],
          [
           "cas3077"
          ],
          [
           "cas3078"
          ],
          [
           "cas3079"
          ],
          [
           "cas3080"
          ],
          [
           "cas3081"
          ],
          [
           "cas3082"
          ],
          [
           "cas3083"
          ],
          [
           "cas3084"
          ],
          [
           "cas3085"
          ],
          [
           "cas3086"
          ],
          [
           "cas3089"
          ],
          [
           "cas3092"
          ],
          [
           "cas3096"
          ],
          [
           "cas4097"
          ],
          [
           "cas4098"
          ],
          [
           "cas4099"
          ],
          [
           "cas4100"
          ],
          [
           "cas4101"
          ],
          [
           "cas4102"
          ],
          [
           "cas4103"
          ],
          [
           "cas4104"
          ],
          [
           "cas4105"
          ],
          [
           "cas4106"
          ],
          [
           "cas4107"
          ],
          [
           "cas4108"
          ],
          [
           "cas4112"
          ],
          [
           "cas4115"
          ],
          [
           "cas4116"
          ],
          [
           "cas4121"
          ],
          [
           "cas4122"
          ],
          [
           "cas4123"
          ],
          [
           "cas4124"
          ],
          [
           "cas4125"
          ],
          [
           "cas4126"
          ],
          [
           "cas4127"
          ],
          [
           "cas4128"
          ],
          [
           "cas4129"
          ],
          [
           "cas4130"
          ],
          [
           "cas4131"
          ],
          [
           "cas4132"
          ],
          [
           "cas4133"
          ],
          [
           "cas4134"
          ],
          [
           "con4137"
          ],
          [
           "cas4139"
          ],
          [
           "cas4140"
          ],
          [
           "cas5145"
          ],
          [
           "cas5147"
          ],
          [
           "cas5150"
          ],
          [
           "cas5152"
          ],
          [
           "cas5153"
          ],
          [
           "cas5154"
          ],
          [
           "cas5155"
          ],
          [
           "cas5156"
          ],
          [
           "cas5162"
          ],
          [
           "cas5163"
          ],
          [
           "cas5164"
          ],
          [
           "cas5166"
          ],
          [
           "cas5168"
          ],
          [
           "cas5169"
          ],
          [
           "cas5170"
          ],
          [
           "cas5173"
          ],
          [
           "cas5176"
          ],
          [
           "cas5177"
          ],
          [
           "cas5178"
          ],
          [
           "cas5179"
          ],
          [
           "cas5180"
          ],
          [
           "cas5181"
          ],
          [
           "cas5183"
          ],
          [
           "cas5184"
          ],
          [
           "cas5185"
          ],
          [
           "cas5186"
          ],
          [
           "cas5187"
          ],
          [
           "cas5188"
          ],
          [
           "cas5189"
          ],
          [
           "cas5190"
          ],
          [
           "cas5191"
          ],
          [
           "cas5192"
          ],
          [
           "cas3067"
          ],
          [
           "cas4109"
          ],
          [
           "con1002"
          ],
          [
           "con1004"
          ],
          [
           "con1006"
          ],
          [
           "con1007"
          ],
          [
           "con1008"
          ],
          [
           "con1009"
          ],
          [
           "con1011"
          ],
          [
           "con1016"
          ],
          [
           "con2026"
          ],
          [
           "con2030"
          ],
          [
           "con2031"
          ],
          [
           "con2036"
          ],
          [
           "con2037"
          ],
          [
           "con2042"
          ],
          [
           "con2046"
          ],
          [
           "con2047"
          ],
          [
           "con3063"
          ],
          [
           "con3064"
          ],
          [
           "con3066"
          ],
          [
           "con3068"
          ],
          [
           "con3069"
          ],
          [
           "con3070"
          ],
          [
           "con3071"
          ],
          [
           "con3087"
          ],
          [
           "con3088"
          ],
          [
           "con3090"
          ],
          [
           "con3091"
          ],
          [
           "con3093"
          ],
          [
           "con3094"
          ],
          [
           "con3095"
          ],
          [
           "con4110"
          ],
          [
           "con4113"
          ],
          [
           "con4114"
          ],
          [
           "con4117"
          ],
          [
           "con4118"
          ],
          [
           "con4119"
          ],
          [
           "con4120"
          ],
          [
           "con4135"
          ],
          [
           "con4136"
          ],
          [
           "con4138"
          ],
          [
           "con4141"
          ],
          [
           "con4142"
          ],
          [
           "con4143"
          ],
          [
           "con4144"
          ],
          [
           "con5146"
          ],
          [
           "con5148"
          ],
          [
           "con5149"
          ],
          [
           "con5151"
          ],
          [
           "con5157"
          ],
          [
           "con5158"
          ],
          [
           "con5159"
          ],
          [
           "con5160"
          ],
          [
           "con5161"
          ],
          [
           "con5165"
          ],
          [
           "con5167"
          ],
          [
           "con5171"
          ],
          [
           "con5172"
          ],
          [
           "con5174"
          ],
          [
           "con5175"
          ],
          [
           "con5182"
          ],
          [
           "con4111"
          ]
         ],
         "tickvals": [
          1,
          2,
          3,
          4,
          5,
          6,
          7,
          8,
          9,
          10,
          11,
          12,
          13,
          14,
          15,
          16,
          17,
          18,
          19,
          20,
          21,
          22,
          23,
          24,
          25,
          26,
          27,
          28,
          29,
          30,
          31,
          32,
          33,
          34,
          35,
          36,
          37,
          38,
          39,
          40,
          41,
          42,
          43,
          44,
          45,
          46,
          47,
          48,
          49,
          50,
          51,
          52,
          53,
          54,
          55,
          56,
          57,
          58,
          59,
          60,
          61,
          62,
          63,
          64,
          65,
          66,
          67,
          68,
          69,
          70,
          71,
          72,
          73,
          74,
          75,
          76,
          77,
          78,
          79,
          80,
          81,
          82,
          83,
          84,
          85,
          86,
          87,
          88,
          89,
          90,
          91,
          92,
          93,
          94,
          95,
          96,
          97,
          98,
          99,
          100,
          101,
          102,
          103,
          104,
          105,
          106,
          107,
          108,
          109,
          110,
          111,
          112,
          113,
          114,
          115,
          116,
          117,
          118,
          119,
          120,
          121,
          122,
          123,
          124,
          125,
          126,
          127,
          128,
          129,
          130,
          131,
          132,
          133,
          134,
          135,
          136,
          137,
          138,
          139,
          140,
          141,
          142,
          143,
          144,
          145,
          146,
          147,
          148,
          149,
          150,
          151,
          152,
          153,
          154,
          155,
          156,
          157,
          158,
          159,
          160,
          161,
          162,
          163,
          164,
          165,
          166,
          167,
          168,
          169,
          170,
          171,
          172,
          173,
          174,
          175,
          176,
          177,
          178,
          179,
          180,
          181,
          182,
          183,
          184,
          185,
          186,
          187,
          188,
          189,
          190,
          191
         ],
         "title": "Sample ID (Grouped by case | control)",
         "zeroline": false
        },
        "yaxis": {
         "automargin": true,
         "hovermode": true,
         "range": [
          [
           1,
           2,
           3,
           4,
           5,
           6,
           7
          ]
         ],
         "showgrid": false,
         "tickfont": {
          "size": "10"
         },
         "ticktext": [
          "4",
          "seq_site_1,seq_site_2",
          "case,control"
         ],
         "tickvals": [
          1,
          6,
          7
         ],
         "title": "Genomic Location",
         "zeroline": false
        }
       }
      },
      "text/html": [
       "<div class='display:none'></div><unsafe-script style='display:none'>\n",
       "WebIO.mount(this.previousSibling,{&quot;props&quot;:{},&quot;nodeType&quot;:&quot;Scope&quot;,&quot;type&quot;:&quot;node&quot;,&quot;instanceArgs&quot;:{&quot;imports&quot;:{&quot;data&quot;:[{&quot;name&quot;:&quot;Plotly&quot;,&quot;type&quot;:&quot;js&quot;,&quot;url&quot;:&quot;/assetserver/47a6c8b8da5e6c0f0fce29e6441ca4441e24b09c-plotly-latest.min.js&quot;},{&quot;name&quot;:null,&quot;type&quot;:&quot;js&quot;,&quot;url&quot;:&quot;/assetserver/111f08ddf6b23302847825d4d609c91ca9f080a9-plotly_webio.bundle.js&quot;}],&quot;type&quot;:&quot;async_block&quot;},&quot;id&quot;:&quot;scope-fc0a8873-72b8-42fd-a3f3-2dd837cc641a&quot;,&quot;handlers&quot;:{&quot;_toImage&quot;:[(function (options){return this.Plotly.toImage(this.plotElem,options).then((function (data){return WebIO.setval({&quot;name&quot;:&quot;image&quot;,&quot;scope&quot;:&quot;scope-fc0a8873-72b8-42fd-a3f3-2dd837cc641a&quot;,&quot;id&quot;:&quot;ob_05&quot;,&quot;type&quot;:&quot;observable&quot;},data)}))})],&quot;__get_gd_contents&quot;:[(function (prop){prop==&quot;data&quot; ? (WebIO.setval({&quot;name&quot;:&quot;__gd_contents&quot;,&quot;scope&quot;:&quot;scope-fc0a8873-72b8-42fd-a3f3-2dd837cc641a&quot;,&quot;id&quot;:&quot;ob_06&quot;,&quot;type&quot;:&quot;observable&quot;},this.plotElem.data)) : undefined; return prop==&quot;layout&quot; ? (WebIO.setval({&quot;name&quot;:&quot;__gd_contents&quot;,&quot;scope&quot;:&quot;scope-fc0a8873-72b8-42fd-a3f3-2dd837cc641a&quot;,&quot;id&quot;:&quot;ob_06&quot;,&quot;type&quot;:&quot;observable&quot;},this.plotElem.layout)) : undefined})],&quot;_promises&quot;:{&quot;importsLoaded&quot;:[(function (Plotly){var gd=this.dom.querySelector(&quot;#plot-988dbf8b-0d1c-4af0-8475-f45cf763ee5b&quot;); this.plotElem=gd; this.Plotly=Plotly; (window.Blink!==undefined) ? (gd.style.width=&quot;100%&quot;, gd.style.height=&quot;100vh&quot;, gd.style.marginLeft=&quot;0%&quot;, gd.style.marginTop=&quot;0vh&quot;) : undefined; window.onresize=(function (){return Plotly.Plots.resize(gd)}); Plotly.newPlot(gd,[{&quot;colorbar&quot;:{&quot;tickvals&quot;:[-2,-1,0,1,2,3],&quot;ticktext&quot;:[&quot;Trait 2&quot;,&quot;Trait 1&quot;,&quot;No Call&quot;,&quot;Homozygous Reference&quot;,&quot;Heterozygous Variant&quot;,&quot;Homozygous Variant&quot;]},&quot;colorscale&quot;:[[0,&quot;rgb(208, 211, 212)&quot;],[0.2,&quot;rgb(151, 154, 154)&quot;],[0.4,&quot;rgb(255,255,255)&quot;],[0.6,&quot;rgb(51,106,145)&quot;],[0.8,&quot;rgb(65,165,137)&quot;],[1,&quot;rgb(251,231,65)&quot;]],&quot;text&quot;:[[&quot;ID: cas1001 \\n chr4,3076150 \\n GT: No Call&quot;,&quot;ID: cas1003 \\n chr4,3076150 \\n GT: No Call&quot;,&quot;ID: cas1005 \\n chr4,3076150 \\n GT: Homozygous Reference&quot;,&quot;ID: cas1010 \\n chr4,3076150 \\n GT: Homozygous Reference&quot;,&quot;ID: cas1012 \\n chr4,3076150 \\n GT: No Call&quot;,&quot;ID: cas1013 \\n chr4,3076150 \\n GT: Homozygous Reference&quot;,&quot;ID: cas1014 \\n chr4,3076150 \\n GT: Homozygous Reference&quot;,&quot;ID: cas1015 \\n chr4,3076150 \\n GT: Homozygous Reference&quot;,&quot;ID: cas1017 \\n chr4,3076150 \\n GT: Homozygous Reference&quot;,&quot;ID: cas1018 \\n chr4,3076150 \\n GT: Homozygous Reference&quot;,&quot;ID: cas1019 \\n chr4,3076150 \\n GT: Homozygous Reference&quot;,&quot;ID: cas1020 \\n chr4,3076150 \\n GT: No Call&quot;,&quot;ID: cas1021 \\n chr4,3076150 \\n GT: No Call&quot;,&quot;ID: cas1022 \\n chr4,3076150 \\n GT: Homozygous Reference&quot;,&quot;ID: cas1023 \\n chr4,3076150 \\n GT: Homozygous Reference&quot;,&quot;ID: cas1024 \\n chr4,3076150 \\n GT: No Call&quot;,&quot;ID: cas2025 \\n chr4,3076150 \\n GT: No Call&quot;,&quot;ID: cas2027 \\n chr4,3076150 \\n GT: No Call&quot;,&quot;ID: cas2028 \\n chr4,3076150 \\n GT: No Call&quot;,&quot;ID: cas2029 \\n chr4,3076150 \\n GT: No Call&quot;,&quot;ID: cas2032 \\n chr4,3076150 \\n GT: No Call&quot;,&quot;ID: cas2033 \\n chr4,3076150 \\n GT: No Call&quot;,&quot;ID: cas2034 \\n chr4,3076150 \\n GT: No Call&quot;,&quot;ID: cas2035 \\n chr4,3076150 \\n GT: No Call&quot;,&quot;ID: cas2038 \\n chr4,3076150 \\n GT: Homozygous Reference&quot;,&quot;ID: cas2039 \\n chr4,3076150 \\n GT: No Call&quot;,&quot;ID: cas2040 \\n chr4,3076150 \\n GT: Homozygous Reference&quot;,&quot;ID: cas2041 \\n chr4,3076150 \\n GT: No Call&quot;,&quot;ID: cas2043 \\n chr4,3076150 \\n GT: No Call&quot;,&quot;ID: cas2044 \\n chr4,3076150 \\n GT: No Call&quot;,&quot;ID: cas2045 \\n chr4,3076150 \\n GT: No Call&quot;,&quot;ID: cas2048 \\n chr4,3076150 \\n GT: No Call&quot;,&quot;ID: cas3050 \\n chr4,3076150 \\n GT: Homozygous Reference&quot;,&quot;ID: cas3051 \\n chr4,3076150 \\n GT: No Call&quot;,&quot;ID: cas3052 \\n chr4,3076150 \\n GT: Homozygous Reference&quot;,&quot;ID: cas3053 \\n chr4,3076150 \\n GT: No Call&quot;,&quot;ID: cas3054 \\n chr4,3076150 \\n GT: Homozygous Reference&quot;,&quot;ID: cas3055 \\n chr4,3076150 \\n GT: No Call&quot;,&quot;ID: cas3056 \\n chr4,3076150 \\n GT: Homozygous Reference&quot;,&quot;ID: cas3057 \\n chr4,3076150 \\n GT: No Call&quot;,&quot;ID: cas3058 \\n chr4,3076150 \\n GT: Homozygous Reference&quot;,&quot;ID: cas3059 \\n chr4,3076150 \\n GT: No Call&quot;,&quot;ID: cas3060 \\n chr4,3076150 \\n GT: No Call&quot;,&quot;ID: cas3061 \\n chr4,3076150 \\n GT: No Call&quot;,&quot;ID: cas3062 \\n chr4,3076150 \\n GT: Homozygous Reference&quot;,&quot;ID: cas3065 \\n chr4,3076150 \\n GT: Homozygous Reference&quot;,&quot;ID: cas3072 \\n chr4,3076150 \\n GT: Homozygous Reference&quot;,&quot;ID: cas3073 \\n chr4,3076150 \\n GT: No Call&quot;,&quot;ID: cas3074 \\n chr4,3076150 \\n GT: No Call&quot;,&quot;ID: cas3075 \\n chr4,3076150 \\n GT: Homozygous Reference&quot;,&quot;ID: cas3076 \\n chr4,3076150 \\n GT: Homozygous Reference&quot;,&quot;ID: cas3077 \\n chr4,3076150 \\n GT: Homozygous Reference&quot;,&quot;ID: cas3078 \\n chr4,3076150 \\n GT: No Call&quot;,&quot;ID: cas3079 \\n chr4,3076150 \\n GT: No Call&quot;,&quot;ID: cas3080 \\n chr4,3076150 \\n GT: No Call&quot;,&quot;ID: cas3081 \\n chr4,3076150 \\n GT: Homozygous Reference&quot;,&quot;ID: cas3082 \\n chr4,3076150 \\n GT: No Call&quot;,&quot;ID: cas3083 \\n chr4,3076150 \\n GT: No Call&quot;,&quot;ID: cas3084 \\n chr4,3076150 \\n GT: No Call&quot;,&quot;ID: cas3085 \\n chr4,3076150 \\n GT: No Call&quot;,&quot;ID: cas3086 \\n chr4,3076150 \\n GT: Homozygous Reference&quot;,&quot;ID: cas3089 \\n chr4,3076150 \\n GT: Homozygous Reference&quot;,&quot;ID: cas3092 \\n chr4,3076150 \\n GT: No Call&quot;,&quot;ID: cas3096 \\n chr4,3076150 \\n GT: Homozygous Reference&quot;,&quot;ID: cas4097 \\n chr4,3076150 \\n GT: No Call&quot;,&quot;ID: cas4098 \\n chr4,3076150 \\n GT: Homozygous Reference&quot;,&quot;ID: cas4099 \\n chr4,3076150 \\n GT: No Call&quot;,&quot;ID: cas4100 \\n chr4,3076150 \\n GT: No Call&quot;,&quot;ID: cas4101 \\n chr4,3076150 \\n GT: No Call&quot;,&quot;ID: cas4102 \\n chr4,3076150 \\n GT: No Call&quot;,&quot;ID: cas4103 \\n chr4,3076150 \\n GT: No Call&quot;,&quot;ID: cas4104 \\n chr4,3076150 \\n GT: No Call&quot;,&quot;ID: cas4105 \\n chr4,3076150 \\n GT: No Call&quot;,&quot;ID: cas4106 \\n chr4,3076150 \\n GT: No Call&quot;,&quot;ID: cas4107 \\n chr4,3076150 \\n GT: Homozygous Reference&quot;,&quot;ID: cas4108 \\n chr4,3076150 \\n GT: Homozygous Reference&quot;,&quot;ID: cas4112 \\n chr4,3076150 \\n GT: No Call&quot;,&quot;ID: cas4115 \\n chr4,3076150 \\n GT: Homozygous Reference&quot;,&quot;ID: cas4116 \\n chr4,3076150 \\n GT: No Call&quot;,&quot;ID: cas4121 \\n chr4,3076150 \\n GT: Homozygous Reference&quot;,&quot;ID: cas4122 \\n chr4,3076150 \\n GT: No Call&quot;,&quot;ID: cas4123 \\n chr4,3076150 \\n GT: No Call&quot;,&quot;ID: cas4124 \\n chr4,3076150 \\n GT: No Call&quot;,&quot;ID: cas4125 \\n chr4,3076150 \\n GT: Homozygous Reference&quot;,&quot;ID: cas4126 \\n chr4,3076150 \\n GT: No Call&quot;,&quot;ID: cas4127 \\n chr4,3076150 \\n GT: No Call&quot;,&quot;ID: cas4128 \\n chr4,3076150 \\n GT: No Call&quot;,&quot;ID: cas4129 \\n chr4,3076150 \\n GT: No Call&quot;,&quot;ID: cas4130 \\n chr4,3076150 \\n GT: Homozygous Reference&quot;,&quot;ID: cas4131 \\n chr4,3076150 \\n GT: Homozygous Reference&quot;,&quot;ID: cas4132 \\n chr4,3076150 \\n GT: No Call&quot;,&quot;ID: cas4133 \\n chr4,3076150 \\n GT: No Call&quot;,&quot;ID: cas4134 \\n chr4,3076150 \\n GT: No Call&quot;,&quot;ID: con4137 \\n chr4,3076150 \\n GT: No Call&quot;,&quot;ID: cas4139 \\n chr4,3076150 \\n GT: Homozygous Reference&quot;,&quot;ID: cas4140 \\n chr4,3076150 \\n GT: No Call&quot;,&quot;ID: cas5145 \\n chr4,3076150 \\n GT: No Call&quot;,&quot;ID: cas5147 \\n chr4,3076150 \\n GT: Homozygous Reference&quot;,&quot;ID: cas5150 \\n chr4,3076150 \\n GT: No Call&quot;,&quot;ID: cas5152 \\n chr4,3076150 \\n GT: No Call&quot;,&quot;ID: cas5153 \\n chr4,3076150 \\n GT: Homozygous Reference&quot;,&quot;ID: cas5154 \\n chr4,3076150 \\n GT: Homozygous Reference&quot;,&quot;ID: cas5155 \\n chr4,3076150 \\n GT: Homozygous Variant&quot;,&quot;ID: cas5156 \\n chr4,3076150 \\n GT: No Call&quot;,&quot;ID: cas5162 \\n chr4,3076150 \\n GT: Homozygous Reference&quot;,&quot;ID: cas5163 \\n chr4,3076150 \\n GT: Homozygous Reference&quot;,&quot;ID: cas5164 \\n chr4,3076150 \\n GT: No Call&quot;,&quot;ID: cas5166 \\n chr4,3076150 \\n GT: No Call&quot;,&quot;ID: cas5168 \\n chr4,3076150 \\n GT: No Call&quot;,&quot;ID: cas5169 \\n chr4,3076150 \\n GT: No Call&quot;,&quot;ID: cas5170 \\n chr4,3076150 \\n GT: No Call&quot;,&quot;ID: cas5173 \\n chr4,3076150 \\n GT: No Call&quot;,&quot;ID: cas5176 \\n chr4,3076150 \\n GT: Homozygous Reference&quot;,&quot;ID: cas5177 \\n chr4,3076150 \\n GT: Homozygous Reference&quot;,&quot;ID: cas5178 \\n chr4,3076150 \\n GT: Homozygous Reference&quot;,&quot;ID: cas5179 \\n chr4,3076150 \\n GT: Homozygous Reference&quot;,&quot;ID: cas5180 \\n chr4,3076150 \\n GT: No Call&quot;,&quot;ID: cas5181 \\n chr4,3076150 \\n GT: Homozygous Reference&quot;,&quot;ID: cas5183 \\n chr4,3076150 \\n GT: No Call&quot;,&quot;ID: cas5184 \\n chr4,3076150 \\n GT: No Call&quot;,&quot;ID: cas5185 \\n chr4,3076150 \\n GT: Homozygous Reference&quot;,&quot;ID: cas5186 \\n chr4,3076150 \\n GT: No Call&quot;,&quot;ID: cas5187 \\n chr4,3076150 \\n GT: Homozygous Reference&quot;,&quot;ID: cas5188 \\n chr4,3076150 \\n GT: Homozygous Reference&quot;,&quot;ID: cas5189 \\n chr4,3076150 \\n GT: No Call&quot;,&quot;ID: cas5190 \\n chr4,3076150 \\n GT: Homozygous Reference&quot;,&quot;ID: cas5191 \\n chr4,3076150 \\n GT: No Call&quot;,&quot;ID: cas5192 \\n chr4,3076150 \\n GT: Homozygous Reference&quot;,&quot;ID: cas3067 \\n chr4,3076150 \\n GT: No Call&quot;,&quot;ID: cas4109 \\n chr4,3076150 \\n GT: Homozygous Reference&quot;,&quot;ID: con1002 \\n chr4,3076150 \\n GT: No Call&quot;,&quot;ID: con1004 \\n chr4,3076150 \\n GT: Homozygous Reference&quot;,&quot;ID: con1006 \\n chr4,3076150 \\n GT: Homozygous Reference&quot;,&quot;ID: con1007 \\n chr4,3076150 \\n GT: No Call&quot;,&quot;ID: con1008 \\n chr4,3076150 \\n GT: No Call&quot;,&quot;ID: con1009 \\n chr4,3076150 \\n GT: No Call&quot;,&quot;ID: con1011 \\n chr4,3076150 \\n GT: Homozygous Reference&quot;,&quot;ID: con1016 \\n chr4,3076150 \\n GT: No Call&quot;,&quot;ID: con2026 \\n chr4,3076150 \\n GT: No Call&quot;,&quot;ID: con2030 \\n chr4,3076150 \\n GT: No Call&quot;,&quot;ID: con2031 \\n chr4,3076150 \\n GT: No Call&quot;,&quot;ID: con2036 \\n chr4,3076150 \\n GT: No Call&quot;,&quot;ID: con2037 \\n chr4,3076150 \\n GT: No Call&quot;,&quot;ID: con2042 \\n chr4,3076150 \\n GT: No Call&quot;,&quot;ID: con2046 \\n chr4,3076150 \\n GT: No Call&quot;,&quot;ID: con2047 \\n chr4,3076150 \\n GT: No Call&quot;,&quot;ID: con3063 \\n chr4,3076150 \\n GT: No Call&quot;,&quot;ID: con3064 \\n chr4,3076150 \\n GT: Homozygous Reference&quot;,&quot;ID: con3066 \\n chr4,3076150 \\n GT: No Call&quot;,&quot;ID: con3068 \\n chr4,3076150 \\n GT: No Call&quot;,&quot;ID: con3069 \\n chr4,3076150 \\n GT: Homozygous Reference&quot;,&quot;ID: con3070 \\n chr4,3076150 \\n GT: Homozygous Reference&quot;,&quot;ID: con3071 \\n chr4,3076150 \\n GT: No Call&quot;,&quot;ID: con3087 \\n chr4,3076150 \\n GT: No Call&quot;,&quot;ID: con3088 \\n chr4,3076150 \\n GT: Homozygous Reference&quot;,&quot;ID: con3090 \\n chr4,3076150 \\n GT: No Call&quot;,&quot;ID: con3091 \\n chr4,3076150 \\n GT: Homozygous Reference&quot;,&quot;ID: con3093 \\n chr4,3076150 \\n GT: No Call&quot;,&quot;ID: con3094 \\n chr4,3076150 \\n GT: Homozygous Reference&quot;,&quot;ID: con3095 \\n chr4,3076150 \\n GT: No Call&quot;,&quot;ID: con4110 \\n chr4,3076150 \\n GT: No Call&quot;,&quot;ID: con4113 \\n chr4,3076150 \\n GT: Homozygous Reference&quot;,&quot;ID: con4114 \\n chr4,3076150 \\n GT: Homozygous Reference&quot;,&quot;ID: con4117 \\n chr4,3076150 \\n GT: Homozygous Reference&quot;,&quot;ID: con4118 \\n chr4,3076150 \\n GT: No Call&quot;,&quot;ID: con4119 \\n chr4,3076150 \\n GT: Homozygous Reference&quot;,&quot;ID: con4120 \\n chr4,3076150 \\n GT: Homozygous Reference&quot;,&quot;ID: con4135 \\n chr4,3076150 \\n GT: Homozygous Reference&quot;,&quot;ID: con4136 \\n chr4,3076150 \\n GT: Homozygous Reference&quot;,&quot;ID: con4138 \\n chr4,3076150 \\n GT: No Call&quot;,&quot;ID: con4141 \\n chr4,3076150 \\n GT: Homozygous Reference&quot;,&quot;ID: con4142 \\n chr4,3076150 \\n GT: No Call&quot;,&quot;ID: con4143 \\n chr4,3076150 \\n GT: Homozygous Reference&quot;,&quot;ID: con4144 \\n chr4,3076150 \\n GT: No Call&quot;,&quot;ID: con5146 \\n chr4,3076150 \\n GT: Homozygous Reference&quot;,&quot;ID: con5148 \\n chr4,3076150 \\n GT: No Call&quot;,&quot;ID: con5149 \\n chr4,3076150 \\n GT: Homozygous Reference&quot;,&quot;ID: con5151 \\n chr4,3076150 \\n GT: No Call&quot;,&quot;ID: con5157 \\n chr4,3076150 \\n GT: Homozygous Reference&quot;,&quot;ID: con5158 \\n chr4,3076150 \\n GT: No Call&quot;,&quot;ID: con5159 \\n chr4,3076150 \\n GT: No Call&quot;,&quot;ID: con5160 \\n chr4,3076150 \\n GT: No Call&quot;,&quot;ID: con5161 \\n chr4,3076150 \\n GT: Homozygous Reference&quot;,&quot;ID: con5165 \\n chr4,3076150 \\n GT: Homozygous Reference&quot;,&quot;ID: con5167 \\n chr4,3076150 \\n GT: Homozygous Reference&quot;,&quot;ID: con5171 \\n chr4,3076150 \\n GT: Homozygous Reference&quot;,&quot;ID: con5172 \\n chr4,3076150 \\n GT: Homozygous Reference&quot;,&quot;ID: con5174 \\n chr4,3076150 \\n GT: No Call&quot;,&quot;ID: con5175 \\n chr4,3076150 \\n GT: Homozygous Reference&quot;,&quot;ID: con5182 \\n chr4,3076150 \\n GT: No Call&quot;,&quot;ID: con4111 \\n chr4,3076150 \\n GT: Homozygous Reference&quot;],[&quot;ID: cas1001 \\n chr4,3076181 \\n GT: No Call&quot;,&quot;ID: cas1003 \\n chr4,3076181 \\n GT: Homozygous Reference&quot;,&quot;ID: cas1005 \\n chr4,3076181 \\n GT: Homozygous Reference&quot;,&quot;ID: cas1010 \\n chr4,3076181 \\n GT: Homozygous Reference&quot;,&quot;ID: cas1012 \\n chr4,3076181 \\n GT: No Call&quot;,&quot;ID: cas1013 \\n chr4,3076181 \\n GT: Homozygous Reference&quot;,&quot;ID: cas1014 \\n chr4,3076181 \\n GT: Homozygous Reference&quot;,&quot;ID: cas1015 \\n chr4,3076181 \\n GT: Homozygous Reference&quot;,&quot;ID: cas1017 \\n chr4,3076181 \\n GT: Homozygous Reference&quot;,&quot;ID: cas1018 \\n chr4,3076181 \\n GT: Homozygous Reference&quot;,&quot;ID: cas1019 \\n chr4,3076181 \\n GT: Homozygous Reference&quot;,&quot;ID: cas1020 \\n chr4,3076181 \\n GT: Homozygous Reference&quot;,&quot;ID: cas1021 \\n chr4,3076181 \\n GT: No Call&quot;,&quot;ID: cas1022 \\n chr4,3076181 \\n GT: Homozygous Reference&quot;,&quot;ID: cas1023 \\n chr4,3076181 \\n GT: Homozygous Reference&quot;,&quot;ID: cas1024 \\n chr4,3076181 \\n GT: Homozygous Reference&quot;,&quot;ID: cas2025 \\n chr4,3076181 \\n GT: No Call&quot;,&quot;ID: cas2027 \\n chr4,3076181 \\n GT: No Call&quot;,&quot;ID: cas2028 \\n chr4,3076181 \\n GT: No Call&quot;,&quot;ID: cas2029 \\n chr4,3076181 \\n GT: Homozygous Reference&quot;,&quot;ID: cas2032 \\n chr4,3076181 \\n GT: No Call&quot;,&quot;ID: cas2033 \\n chr4,3076181 \\n GT: No Call&quot;,&quot;ID: cas2034 \\n chr4,3076181 \\n GT: No Call&quot;,&quot;ID: cas2035 \\n chr4,3076181 \\n GT: No Call&quot;,&quot;ID: cas2038 \\n chr4,3076181 \\n GT: Homozygous Reference&quot;,&quot;ID: cas2039 \\n chr4,3076181 \\n GT: Homozygous Reference&quot;,&quot;ID: cas2040 \\n chr4,3076181 \\n GT: Homozygous Reference&quot;,&quot;ID: cas2041 \\n chr4,3076181 \\n GT: No Call&quot;,&quot;ID: cas2043 \\n chr4,3076181 \\n GT: No Call&quot;,&quot;ID: cas2044 \\n chr4,3076181 \\n GT: No Call&quot;,&quot;ID: cas2045 \\n chr4,3076181 \\n GT: No Call&quot;,&quot;ID: cas2048 \\n chr4,3076181 \\n GT: Homozygous Reference&quot;,&quot;ID: cas3050 \\n chr4,3076181 \\n GT: Homozygous Reference&quot;,&quot;ID: cas3051 \\n chr4,3076181 \\n GT: No Call&quot;,&quot;ID: cas3052 \\n chr4,3076181 \\n GT: Homozygous Reference&quot;,&quot;ID: cas3053 \\n chr4,3076181 \\n GT: Homozygous Variant&quot;,&quot;ID: cas3054 \\n chr4,3076181 \\n GT: Homozygous Reference&quot;,&quot;ID: cas3055 \\n chr4,3076181 \\n GT: No Call&quot;,&quot;ID: cas3056 \\n chr4,3076181 \\n GT: Homozygous Reference&quot;,&quot;ID: cas3057 \\n chr4,3076181 \\n GT: No Call&quot;,&quot;ID: cas3058 \\n chr4,3076181 \\n GT: Homozygous Reference&quot;,&quot;ID: cas3059 \\n chr4,3076181 \\n GT: No Call&quot;,&quot;ID: cas3060 \\n chr4,3076181 \\n GT: No Call&quot;,&quot;ID: cas3061 \\n chr4,3076181 \\n GT: No Call&quot;,&quot;ID: cas3062 \\n chr4,3076181 \\n GT: No Call&quot;,&quot;ID: cas3065 \\n chr4,3076181 \\n GT: Homozygous Reference&quot;,&quot;ID: cas3072 \\n chr4,3076181 \\n GT: Homozygous Reference&quot;,&quot;ID: cas3073 \\n chr4,3076181 \\n GT: Homozygous Reference&quot;,&quot;ID: cas3074 \\n chr4,3076181 \\n GT: No Call&quot;,&quot;ID: cas3075 \\n chr4,3076181 \\n GT: Homozygous Reference&quot;,&quot;ID: cas3076 \\n chr4,3076181 \\n GT: No Call&quot;,&quot;ID: cas3077 \\n chr4,3076181 \\n GT: Homozygous Reference&quot;,&quot;ID: cas3078 \\n chr4,3076181 \\n GT: No Call&quot;,&quot;ID: cas3079 \\n chr4,3076181 \\n GT: Homozygous Reference&quot;,&quot;ID: cas3080 \\n chr4,3076181 \\n GT: No Call&quot;,&quot;ID: cas3081 \\n chr4,3076181 \\n GT: Homozygous Reference&quot;,&quot;ID: cas3082 \\n chr4,3076181 \\n GT: Homozygous Reference&quot;,&quot;ID: cas3083 \\n chr4,3076181 \\n GT: No Call&quot;,&quot;ID: cas3084 \\n chr4,3076181 \\n GT: No Call&quot;,&quot;ID: cas3085 \\n chr4,3076181 \\n GT: No Call&quot;,&quot;ID: cas3086 \\n chr4,3076181 \\n GT: Homozygous Reference&quot;,&quot;ID: cas3089 \\n chr4,3076181 \\n GT: Homozygous Reference&quot;,&quot;ID: cas3092 \\n chr4,3076181 \\n GT: Homozygous Reference&quot;,&quot;ID: cas3096 \\n chr4,3076181 \\n GT: Homozygous Reference&quot;,&quot;ID: cas4097 \\n chr4,3076181 \\n GT: Homozygous Reference&quot;,&quot;ID: cas4098 \\n chr4,3076181 \\n GT: No Call&quot;,&quot;ID: cas4099 \\n chr4,3076181 \\n GT: No Call&quot;,&quot;ID: cas4100 \\n chr4,3076181 \\n GT: Homozygous Reference&quot;,&quot;ID: cas4101 \\n chr4,3076181 \\n GT: No Call&quot;,&quot;ID: cas4102 \\n chr4,3076181 \\n GT: No Call&quot;,&quot;ID: cas4103 \\n chr4,3076181 \\n GT: No Call&quot;,&quot;ID: cas4104 \\n chr4,3076181 \\n GT: No Call&quot;,&quot;ID: cas4105 \\n chr4,3076181 \\n GT: No Call&quot;,&quot;ID: cas4106 \\n chr4,3076181 \\n GT: No Call&quot;,&quot;ID: cas4107 \\n chr4,3076181 \\n GT: Homozygous Reference&quot;,&quot;ID: cas4108 \\n chr4,3076181 \\n GT: No Call&quot;,&quot;ID: cas4112 \\n chr4,3076181 \\n GT: Homozygous Reference&quot;,&quot;ID: cas4115 \\n chr4,3076181 \\n GT: Homozygous Reference&quot;,&quot;ID: cas4116 \\n chr4,3076181 \\n GT: No Call&quot;,&quot;ID: cas4121 \\n chr4,3076181 \\n GT: Homozygous Reference&quot;,&quot;ID: cas4122 \\n chr4,3076181 \\n GT: No Call&quot;,&quot;ID: cas4123 \\n chr4,3076181 \\n GT: Homozygous Reference&quot;,&quot;ID: cas4124 \\n chr4,3076181 \\n GT: No Call&quot;,&quot;ID: cas4125 \\n chr4,3076181 \\n GT: Homozygous Reference&quot;,&quot;ID: cas4126 \\n chr4,3076181 \\n GT: Homozygous Variant&quot;,&quot;ID: cas4127 \\n chr4,3076181 \\n GT: No Call&quot;,&quot;ID: cas4128 \\n chr4,3076181 \\n GT: Homozygous Reference&quot;,&quot;ID: cas4129 \\n chr4,3076181 \\n GT: No Call&quot;,&quot;ID: cas4130 \\n chr4,3076181 \\n GT: Homozygous Reference&quot;,&quot;ID: cas4131 \\n chr4,3076181 \\n GT: Homozygous Reference&quot;,&quot;ID: cas4132 \\n chr4,3076181 \\n GT: No Call&quot;,&quot;ID: cas4133 \\n chr4,3076181 \\n GT: Homozygous Reference&quot;,&quot;ID: cas4134 \\n chr4,3076181 \\n GT: No Call&quot;,&quot;ID: con4137 \\n chr4,3076181 \\n GT: Homozygous Reference&quot;,&quot;ID: cas4139 \\n chr4,3076181 \\n GT: Homozygous Reference&quot;,&quot;ID: cas4140 \\n chr4,3076181 \\n GT: No Call&quot;,&quot;ID: cas5145 \\n chr4,3076181 \\n GT: No Call&quot;,&quot;ID: cas5147 \\n chr4,3076181 \\n GT: Homozygous Reference&quot;,&quot;ID: cas5150 \\n chr4,3076181 \\n GT: No Call&quot;,&quot;ID: cas5152 \\n chr4,3076181 \\n GT: No Call&quot;,&quot;ID: cas5153 \\n chr4,3076181 \\n GT: Homozygous Reference&quot;,&quot;ID: cas5154 \\n chr4,3076181 \\n GT: Homozygous Variant&quot;,&quot;ID: cas5155 \\n chr4,3076181 \\n GT: Homozygous Reference&quot;,&quot;ID: cas5156 \\n chr4,3076181 \\n GT: Homozygous Reference&quot;,&quot;ID: cas5162 \\n chr4,3076181 \\n GT: Homozygous Reference&quot;,&quot;ID: cas5163 \\n chr4,3076181 \\n GT: Homozygous Reference&quot;,&quot;ID: cas5164 \\n chr4,3076181 \\n GT: Homozygous Reference&quot;,&quot;ID: cas5166 \\n chr4,3076181 \\n GT: Homozygous Reference&quot;,&quot;ID: cas5168 \\n chr4,3076181 \\n GT: No Call&quot;,&quot;ID: cas5169 \\n chr4,3076181 \\n GT: No Call&quot;,&quot;ID: cas5170 \\n chr4,3076181 \\n GT: No Call&quot;,&quot;ID: cas5173 \\n chr4,3076181 \\n GT: No Call&quot;,&quot;ID: cas5176 \\n chr4,3076181 \\n GT: Homozygous Reference&quot;,&quot;ID: cas5177 \\n chr4,3076181 \\n GT: Homozygous Reference&quot;,&quot;ID: cas5178 \\n chr4,3076181 \\n GT: Homozygous Reference&quot;,&quot;ID: cas5179 \\n chr4,3076181 \\n GT: Homozygous Reference&quot;,&quot;ID: cas5180 \\n chr4,3076181 \\n GT: No Call&quot;,&quot;ID: cas5181 \\n chr4,3076181 \\n GT: Heterozygous Variant&quot;,&quot;ID: cas5183 \\n chr4,3076181 \\n GT: No Call&quot;,&quot;ID: cas5184 \\n chr4,3076181 \\n GT: No Call&quot;,&quot;ID: cas5185 \\n chr4,3076181 \\n GT: No Call&quot;,&quot;ID: cas5186 \\n chr4,3076181 \\n GT: Homozygous Reference&quot;,&quot;ID: cas5187 \\n chr4,3076181 \\n GT: Homozygous Reference&quot;,&quot;ID: cas5188 \\n chr4,3076181 \\n GT: Homozygous Reference&quot;,&quot;ID: cas5189 \\n chr4,3076181 \\n GT: No Call&quot;,&quot;ID: cas5190 \\n chr4,3076181 \\n GT: Homozygous Reference&quot;,&quot;ID: cas5191 \\n chr4,3076181 \\n GT: No Call&quot;,&quot;ID: cas5192 \\n chr4,3076181 \\n GT: Homozygous Reference&quot;,&quot;ID: cas3067 \\n chr4,3076181 \\n GT: No Call&quot;,&quot;ID: cas4109 \\n chr4,3076181 \\n GT: Homozygous Reference&quot;,&quot;ID: con1002 \\n chr4,3076181 \\n GT: No Call&quot;,&quot;ID: con1004 \\n chr4,3076181 \\n GT: Homozygous Reference&quot;,&quot;ID: con1006 \\n chr4,3076181 \\n GT: Homozygous Reference&quot;,&quot;ID: con1007 \\n chr4,3076181 \\n GT: No Call&quot;,&quot;ID: con1008 \\n chr4,3076181 \\n GT: Homozygous Reference&quot;,&quot;ID: con1009 \\n chr4,3076181 \\n GT: No Call&quot;,&quot;ID: con1011 \\n chr4,3076181 \\n GT: No Call&quot;,&quot;ID: con1016 \\n chr4,3076181 \\n GT: No Call&quot;,&quot;ID: con2026 \\n chr4,3076181 \\n GT: No Call&quot;,&quot;ID: con2030 \\n chr4,3076181 \\n GT: No Call&quot;,&quot;ID: con2031 \\n chr4,3076181 \\n GT: No Call&quot;,&quot;ID: con2036 \\n chr4,3076181 \\n GT: No Call&quot;,&quot;ID: con2037 \\n chr4,3076181 \\n GT: No Call&quot;,&quot;ID: con2042 \\n chr4,3076181 \\n GT: No Call&quot;,&quot;ID: con2046 \\n chr4,3076181 \\n GT: No Call&quot;,&quot;ID: con2047 \\n chr4,3076181 \\n GT: No Call&quot;,&quot;ID: con3063 \\n chr4,3076181 \\n GT: No Call&quot;,&quot;ID: con3064 \\n chr4,3076181 \\n GT: Homozygous Reference&quot;,&quot;ID: con3066 \\n chr4,3076181 \\n GT: No Call&quot;,&quot;ID: con3068 \\n chr4,3076181 \\n GT: No Call&quot;,&quot;ID: con3069 \\n chr4,3076181 \\n GT: Homozygous Reference&quot;,&quot;ID: con3070 \\n chr4,3076181 \\n GT: Homozygous Reference&quot;,&quot;ID: con3071 \\n chr4,3076181 \\n GT: No Call&quot;,&quot;ID: con3087 \\n chr4,3076181 \\n GT: No Call&quot;,&quot;ID: con3088 \\n chr4,3076181 \\n GT: No Call&quot;,&quot;ID: con3090 \\n chr4,3076181 \\n GT: No Call&quot;,&quot;ID: con3091 \\n chr4,3076181 \\n GT: Heterozygous Variant&quot;,&quot;ID: con3093 \\n chr4,3076181 \\n GT: No Call&quot;,&quot;ID: con3094 \\n chr4,3076181 \\n GT: Homozygous Reference&quot;,&quot;ID: con3095 \\n chr4,3076181 \\n GT: Homozygous Reference&quot;,&quot;ID: con4110 \\n chr4,3076181 \\n GT: No Call&quot;,&quot;ID: con4113 \\n chr4,3076181 \\n GT: Homozygous Reference&quot;,&quot;ID: con4114 \\n chr4,3076181 \\n GT: Heterozygous Variant&quot;,&quot;ID: con4117 \\n chr4,3076181 \\n GT: Homozygous Reference&quot;,&quot;ID: con4118 \\n chr4,3076181 \\n GT: No Call&quot;,&quot;ID: con4119 \\n chr4,3076181 \\n GT: Homozygous Reference&quot;,&quot;ID: con4120 \\n chr4,3076181 \\n GT: Homozygous Reference&quot;,&quot;ID: con4135 \\n chr4,3076181 \\n GT: Homozygous Reference&quot;,&quot;ID: con4136 \\n chr4,3076181 \\n GT: No Call&quot;,&quot;ID: con4138 \\n chr4,3076181 \\n GT: No Call&quot;,&quot;ID: con4141 \\n chr4,3076181 \\n GT: Homozygous Reference&quot;,&quot;ID: con4142 \\n chr4,3076181 \\n GT: No Call&quot;,&quot;ID: con4143 \\n chr4,3076181 \\n GT: Homozygous Reference&quot;,&quot;ID: con4144 \\n chr4,3076181 \\n GT: No Call&quot;,&quot;ID: con5146 \\n chr4,3076181 \\n GT: Homozygous Reference&quot;,&quot;ID: con5148 \\n chr4,3076181 \\n GT: No Call&quot;,&quot;ID: con5149 \\n chr4,3076181 \\n GT: No Call&quot;,&quot;ID: con5151 \\n chr4,3076181 \\n GT: No Call&quot;,&quot;ID: con5157 \\n chr4,3076181 \\n GT: Homozygous Reference&quot;,&quot;ID: con5158 \\n chr4,3076181 \\n GT: No Call&quot;,&quot;ID: con5159 \\n chr4,3076181 \\n GT: Homozygous Reference&quot;,&quot;ID: con5160 \\n chr4,3076181 \\n GT: Homozygous Reference&quot;,&quot;ID: con5161 \\n chr4,3076181 \\n GT: Homozygous Reference&quot;,&quot;ID: con5165 \\n chr4,3076181 \\n GT: Homozygous Reference&quot;,&quot;ID: con5167 \\n chr4,3076181 \\n GT: Homozygous Reference&quot;,&quot;ID: con5171 \\n chr4,3076181 \\n GT: Homozygous Reference&quot;,&quot;ID: con5172 \\n chr4,3076181 \\n GT: Homozygous Reference&quot;,&quot;ID: con5174 \\n chr4,3076181 \\n GT: Homozygous Reference&quot;,&quot;ID: con5175 \\n chr4,3076181 \\n GT: Homozygous Reference&quot;,&quot;ID: con5182 \\n chr4,3076181 \\n GT: Homozygous Reference&quot;,&quot;ID: con4111 \\n chr4,3076181 \\n GT: Homozygous Reference&quot;],[&quot;ID: cas1001 \\n chr4,3076257 \\n GT: No Call&quot;,&quot;ID: cas1003 \\n chr4,3076257 \\n GT: Homozygous Reference&quot;,&quot;ID: cas1005 \\n chr4,3076257 \\n GT: No Call&quot;,&quot;ID: cas1010 \\n chr4,3076257 \\n GT: Homozygous Reference&quot;,&quot;ID: cas1012 \\n chr4,3076257 \\n GT: No Call&quot;,&quot;ID: cas1013 \\n chr4,3076257 \\n GT: Homozygous Reference&quot;,&quot;ID: cas1014 \\n chr4,3076257 \\n GT: Homozygous Reference&quot;,&quot;ID: cas1015 \\n chr4,3076257 \\n GT: No Call&quot;,&quot;ID: cas1017 \\n chr4,3076257 \\n GT: Homozygous Reference&quot;,&quot;ID: cas1018 \\n chr4,3076257 \\n GT: Homozygous Reference&quot;,&quot;ID: cas1019 \\n chr4,3076257 \\n GT: No Call&quot;,&quot;ID: cas1020 \\n chr4,3076257 \\n GT: No Call&quot;,&quot;ID: cas1021 \\n chr4,3076257 \\n GT: Homozygous Reference&quot;,&quot;ID: cas1022 \\n chr4,3076257 \\n GT: Homozygous Reference&quot;,&quot;ID: cas1023 \\n chr4,3076257 \\n GT: Homozygous Reference&quot;,&quot;ID: cas1024 \\n chr4,3076257 \\n GT: No Call&quot;,&quot;ID: cas2025 \\n chr4,3076257 \\n GT: Homozygous Reference&quot;,&quot;ID: cas2027 \\n chr4,3076257 \\n GT: No Call&quot;,&quot;ID: cas2028 \\n chr4,3076257 \\n GT: Homozygous Reference&quot;,&quot;ID: cas2029 \\n chr4,3076257 \\n GT: Homozygous Reference&quot;,&quot;ID: cas2032 \\n chr4,3076257 \\n GT: Homozygous Reference&quot;,&quot;ID: cas2033 \\n chr4,3076257 \\n GT: Homozygous Reference&quot;,&quot;ID: cas2034 \\n chr4,3076257 \\n GT: No Call&quot;,&quot;ID: cas2035 \\n chr4,3076257 \\n GT: No Call&quot;,&quot;ID: cas2038 \\n chr4,3076257 \\n GT: Homozygous Reference&quot;,&quot;ID: cas2039 \\n chr4,3076257 \\n GT: Homozygous Reference&quot;,&quot;ID: cas2040 \\n chr4,3076257 \\n GT: Homozygous Reference&quot;,&quot;ID: cas2041 \\n chr4,3076257 \\n GT: Homozygous Reference&quot;,&quot;ID: cas2043 \\n chr4,3076257 \\n GT: Homozygous Reference&quot;,&quot;ID: cas2044 \\n chr4,3076257 \\n GT: No Call&quot;,&quot;ID: cas2045 \\n chr4,3076257 \\n GT: No Call&quot;,&quot;ID: cas2048 \\n chr4,3076257 \\n GT: Homozygous Reference&quot;,&quot;ID: cas3050 \\n chr4,3076257 \\n GT: Homozygous Reference&quot;,&quot;ID: cas3051 \\n chr4,3076257 \\n GT: Homozygous Reference&quot;,&quot;ID: cas3052 \\n chr4,3076257 \\n GT: Homozygous Reference&quot;,&quot;ID: cas3053 \\n chr4,3076257 \\n GT: Homozygous Reference&quot;,&quot;ID: cas3054 \\n chr4,3076257 \\n GT: Homozygous Reference&quot;,&quot;ID: cas3055 \\n chr4,3076257 \\n GT: Homozygous Reference&quot;,&quot;ID: cas3056 \\n chr4,3076257 \\n GT: Homozygous Reference&quot;,&quot;ID: cas3057 \\n chr4,3076257 \\n GT: Homozygous Reference&quot;,&quot;ID: cas3058 \\n chr4,3076257 \\n GT: Homozygous Reference&quot;,&quot;ID: cas3059 \\n chr4,3076257 \\n GT: No Call&quot;,&quot;ID: cas3060 \\n chr4,3076257 \\n GT: No Call&quot;,&quot;ID: cas3061 \\n chr4,3076257 \\n GT: Homozygous Reference&quot;,&quot;ID: cas3062 \\n chr4,3076257 \\n GT: Homozygous Reference&quot;,&quot;ID: cas3065 \\n chr4,3076257 \\n GT: No Call&quot;,&quot;ID: cas3072 \\n chr4,3076257 \\n GT: No Call&quot;,&quot;ID: cas3073 \\n chr4,3076257 \\n GT: Homozygous Reference&quot;,&quot;ID: cas3074 \\n chr4,3076257 \\n GT: Homozygous Reference&quot;,&quot;ID: cas3075 \\n chr4,3076257 \\n GT: Homozygous Reference&quot;,&quot;ID: cas3076 \\n chr4,3076257 \\n GT: Homozygous Reference&quot;,&quot;ID: cas3077 \\n chr4,3076257 \\n GT: Heterozygous Variant&quot;,&quot;ID: cas3078 \\n chr4,3076257 \\n GT: Homozygous Reference&quot;,&quot;ID: cas3079 \\n chr4,3076257 \\n GT: No Call&quot;,&quot;ID: cas3080 \\n chr4,3076257 \\n GT: Homozygous Reference&quot;,&quot;ID: cas3081 \\n chr4,3076257 \\n GT: No Call&quot;,&quot;ID: cas3082 \\n chr4,3076257 \\n GT: Heterozygous Variant&quot;,&quot;ID: cas3083 \\n chr4,3076257 \\n GT: No Call&quot;,&quot;ID: cas3084 \\n chr4,3076257 \\n GT: No Call&quot;,&quot;ID: cas3085 \\n chr4,3076257 \\n GT: No Call&quot;,&quot;ID: cas3086 \\n chr4,3076257 \\n GT: Homozygous Reference&quot;,&quot;ID: cas3089 \\n chr4,3076257 \\n GT: Homozygous Reference&quot;,&quot;ID: cas3092 \\n chr4,3076257 \\n GT: No Call&quot;,&quot;ID: cas3096 \\n chr4,3076257 \\n GT: Homozygous Reference&quot;,&quot;ID: cas4097 \\n chr4,3076257 \\n GT: Homozygous Reference&quot;,&quot;ID: cas4098 \\n chr4,3076257 \\n GT: Heterozygous Variant&quot;,&quot;ID: cas4099 \\n chr4,3076257 \\n GT: No Call&quot;,&quot;ID: cas4100 \\n chr4,3076257 \\n GT: No Call&quot;,&quot;ID: cas4101 \\n chr4,3076257 \\n GT: Homozygous Reference&quot;,&quot;ID: cas4102 \\n chr4,3076257 \\n GT: No Call&quot;,&quot;ID: cas4103 \\n chr4,3076257 \\n GT: Homozygous Reference&quot;,&quot;ID: cas4104 \\n chr4,3076257 \\n GT: No Call&quot;,&quot;ID: cas4105 \\n chr4,3076257 \\n GT: Homozygous Reference&quot;,&quot;ID: cas4106 \\n chr4,3076257 \\n GT: Homozygous Reference&quot;,&quot;ID: cas4107 \\n chr4,3076257 \\n GT: Homozygous Reference&quot;,&quot;ID: cas4108 \\n chr4,3076257 \\n GT: Homozygous Reference&quot;,&quot;ID: cas4112 \\n chr4,3076257 \\n GT: No Call&quot;,&quot;ID: cas4115 \\n chr4,3076257 \\n GT: Homozygous Reference&quot;,&quot;ID: cas4116 \\n chr4,3076257 \\n GT: No Call&quot;,&quot;ID: cas4121 \\n chr4,3076257 \\n GT: Homozygous Reference&quot;,&quot;ID: cas4122 \\n chr4,3076257 \\n GT: Homozygous Reference&quot;,&quot;ID: cas4123 \\n chr4,3076257 \\n GT: Homozygous Reference&quot;,&quot;ID: cas4124 \\n chr4,3076257 \\n GT: Homozygous Reference&quot;,&quot;ID: cas4125 \\n chr4,3076257 \\n GT: Homozygous Reference&quot;,&quot;ID: cas4126 \\n chr4,3076257 \\n GT: Homozygous Reference&quot;,&quot;ID: cas4127 \\n chr4,3076257 \\n GT: Homozygous Reference&quot;,&quot;ID: cas4128 \\n chr4,3076257 \\n GT: Homozygous Reference&quot;,&quot;ID: cas4129 \\n chr4,3076257 \\n GT: Homozygous Reference&quot;,&quot;ID: cas4130 \\n chr4,3076257 \\n GT: Homozygous Reference&quot;,&quot;ID: cas4131 \\n chr4,3076257 \\n GT: Homozygous Reference&quot;,&quot;ID: cas4132 \\n chr4,3076257 \\n GT: Homozygous Reference&quot;,&quot;ID: cas4133 \\n chr4,3076257 \\n GT: Homozygous Reference&quot;,&quot;ID: cas4134 \\n chr4,3076257 \\n GT: Homozygous Reference&quot;,&quot;ID: con4137 \\n chr4,3076257 \\n GT: Homozygous Reference&quot;,&quot;ID: cas4139 \\n chr4,3076257 \\n GT: Homozygous Reference&quot;,&quot;ID: cas4140 \\n chr4,3076257 \\n GT: Homozygous Reference&quot;,&quot;ID: cas5145 \\n chr4,3076257 \\n GT: Homozygous Reference&quot;,&quot;ID: cas5147 \\n chr4,3076257 \\n GT: Heterozygous Variant&quot;,&quot;ID: cas5150 \\n chr4,3076257 \\n GT: Homozygous Reference&quot;,&quot;ID: cas5152 \\n chr4,3076257 \\n GT: Homozygous Reference&quot;,&quot;ID: cas5153 \\n chr4,3076257 \\n GT: Homozygous Reference&quot;,&quot;ID: cas5154 \\n chr4,3076257 \\n GT: Heterozygous Variant&quot;,&quot;ID: cas5155 \\n chr4,3076257 \\n GT: Homozygous Reference&quot;,&quot;ID: cas5156 \\n chr4,3076257 \\n GT: Homozygous Reference&quot;,&quot;ID: cas5162 \\n chr4,3076257 \\n GT: Homozygous Reference&quot;,&quot;ID: cas5163 \\n chr4,3076257 \\n GT: Homozygous Reference&quot;,&quot;ID: cas5164 \\n chr4,3076257 \\n GT: Homozygous Reference&quot;,&quot;ID: cas5166 \\n chr4,3076257 \\n GT: Homozygous Reference&quot;,&quot;ID: cas5168 \\n chr4,3076257 \\n GT: Homozygous Reference&quot;,&quot;ID: cas5169 \\n chr4,3076257 \\n GT: Homozygous Reference&quot;,&quot;ID: cas5170 \\n chr4,3076257 \\n GT: Homozygous Reference&quot;,&quot;ID: cas5173 \\n chr4,3076257 \\n GT: Homozygous Reference&quot;,&quot;ID: cas5176 \\n chr4,3076257 \\n GT: Homozygous Reference&quot;,&quot;ID: cas5177 \\n chr4,3076257 \\n GT: Homozygous Reference&quot;,&quot;ID: cas5178 \\n chr4,3076257 \\n GT: Homozygous Reference&quot;,&quot;ID: cas5179 \\n chr4,3076257 \\n GT: Homozygous Reference&quot;,&quot;ID: cas5180 \\n chr4,3076257 \\n GT: Homozygous Reference&quot;,&quot;ID: cas5181 \\n chr4,3076257 \\n GT: Homozygous Reference&quot;,&quot;ID: cas5183 \\n chr4,3076257 \\n GT: Homozygous Reference&quot;,&quot;ID: cas5184 \\n chr4,3076257 \\n GT: Homozygous Reference&quot;,&quot;ID: cas5185 \\n chr4,3076257 \\n GT: Homozygous Reference&quot;,&quot;ID: cas5186 \\n chr4,3076257 \\n GT: Homozygous Reference&quot;,&quot;ID: cas5187 \\n chr4,3076257 \\n GT: Homozygous Reference&quot;,&quot;ID: cas5188 \\n chr4,3076257 \\n GT: Homozygous Reference&quot;,&quot;ID: cas5189 \\n chr4,3076257 \\n GT: Heterozygous Variant&quot;,&quot;ID: cas5190 \\n chr4,3076257 \\n GT: Homozygous Reference&quot;,&quot;ID: cas5191 \\n chr4,3076257 \\n GT: Homozygous Reference&quot;,&quot;ID: cas5192 \\n chr4,3076257 \\n GT: Homozygous Reference&quot;,&quot;ID: cas3067 \\n chr4,3076257 \\n GT: Homozygous Reference&quot;,&quot;ID: cas4109 \\n chr4,3076257 \\n GT: Homozygous Reference&quot;,&quot;ID: con1002 \\n chr4,3076257 \\n GT: Homozygous Reference&quot;,&quot;ID: con1004 \\n chr4,3076257 \\n GT: No Call&quot;,&quot;ID: con1006 \\n chr4,3076257 \\n GT: Homozygous Reference&quot;,&quot;ID: con1007 \\n chr4,3076257 \\n GT: No Call&quot;,&quot;ID: con1008 \\n chr4,3076257 \\n GT: No Call&quot;,&quot;ID: con1009 \\n chr4,3076257 \\n GT: Homozygous Reference&quot;,&quot;ID: con1011 \\n chr4,3076257 \\n GT: Homozygous Reference&quot;,&quot;ID: con1016 \\n chr4,3076257 \\n GT: No Call&quot;,&quot;ID: con2026 \\n chr4,3076257 \\n GT: Homozygous Reference&quot;,&quot;ID: con2030 \\n chr4,3076257 \\n GT: No Call&quot;,&quot;ID: con2031 \\n chr4,3076257 \\n GT: No Call&quot;,&quot;ID: con2036 \\n chr4,3076257 \\n GT: No Call&quot;,&quot;ID: con2037 \\n chr4,3076257 \\n GT: Homozygous Reference&quot;,&quot;ID: con2042 \\n chr4,3076257 \\n GT: Homozygous Reference&quot;,&quot;ID: con2046 \\n chr4,3076257 \\n GT: No Call&quot;,&quot;ID: con2047 \\n chr4,3076257 \\n GT: No Call&quot;,&quot;ID: con3063 \\n chr4,3076257 \\n GT: Homozygous Reference&quot;,&quot;ID: con3064 \\n chr4,3076257 \\n GT: Homozygous Reference&quot;,&quot;ID: con3066 \\n chr4,3076257 \\n GT: No Call&quot;,&quot;ID: con3068 \\n chr4,3076257 \\n GT: Homozygous Reference&quot;,&quot;ID: con3069 \\n chr4,3076257 \\n GT: Homozygous Reference&quot;,&quot;ID: con3070 \\n chr4,3076257 \\n GT: Homozygous Reference&quot;,&quot;ID: con3071 \\n chr4,3076257 \\n GT: Homozygous Reference&quot;,&quot;ID: con3087 \\n chr4,3076257 \\n GT: Homozygous Reference&quot;,&quot;ID: con3088 \\n chr4,3076257 \\n GT: Homozygous Reference&quot;,&quot;ID: con3090 \\n chr4,3076257 \\n GT: Homozygous Reference&quot;,&quot;ID: con3091 \\n chr4,3076257 \\n GT: Homozygous Reference&quot;,&quot;ID: con3093 \\n chr4,3076257 \\n GT: Homozygous Reference&quot;,&quot;ID: con3094 \\n chr4,3076257 \\n GT: Homozygous Reference&quot;,&quot;ID: con3095 \\n chr4,3076257 \\n GT: Homozygous Reference&quot;,&quot;ID: con4110 \\n chr4,3076257 \\n GT: No Call&quot;,&quot;ID: con4113 \\n chr4,3076257 \\n GT: Homozygous Reference&quot;,&quot;ID: con4114 \\n chr4,3076257 \\n GT: Homozygous Reference&quot;,&quot;ID: con4117 \\n chr4,3076257 \\n GT: Homozygous Reference&quot;,&quot;ID: con4118 \\n chr4,3076257 \\n GT: Homozygous Reference&quot;,&quot;ID: con4119 \\n chr4,3076257 \\n GT: Homozygous Reference&quot;,&quot;ID: con4120 \\n chr4,3076257 \\n GT: Homozygous Reference&quot;,&quot;ID: con4135 \\n chr4,3076257 \\n GT: Homozygous Reference&quot;,&quot;ID: con4136 \\n chr4,3076257 \\n GT: Homozygous Reference&quot;,&quot;ID: con4138 \\n chr4,3076257 \\n GT: Homozygous Reference&quot;,&quot;ID: con4141 \\n chr4,3076257 \\n GT: Homozygous Reference&quot;,&quot;ID: con4142 \\n chr4,3076257 \\n GT: Homozygous Reference&quot;,&quot;ID: con4143 \\n chr4,3076257 \\n GT: Homozygous Reference&quot;,&quot;ID: con4144 \\n chr4,3076257 \\n GT: Homozygous Reference&quot;,&quot;ID: con5146 \\n chr4,3076257 \\n GT: Heterozygous Variant&quot;,&quot;ID: con5148 \\n chr4,3076257 \\n GT: Homozygous Reference&quot;,&quot;ID: con5149 \\n chr4,3076257 \\n GT: Homozygous Reference&quot;,&quot;ID: con5151 \\n chr4,3076257 \\n GT: Homozygous Variant&quot;,&quot;ID: con5157 \\n chr4,3076257 \\n GT: Homozygous Reference&quot;,&quot;ID: con5158 \\n chr4,3076257 \\n GT: Homozygous Reference&quot;,&quot;ID: con5159 \\n chr4,3076257 \\n GT: Homozygous Reference&quot;,&quot;ID: con5160 \\n chr4,3076257 \\n GT: Homozygous Reference&quot;,&quot;ID: con5161 \\n chr4,3076257 \\n GT: Homozygous Reference&quot;,&quot;ID: con5165 \\n chr4,3076257 \\n GT: Heterozygous Variant&quot;,&quot;ID: con5167 \\n chr4,3076257 \\n GT: Homozygous Reference&quot;,&quot;ID: con5171 \\n chr4,3076257 \\n GT: Homozygous Reference&quot;,&quot;ID: con5172 \\n chr4,3076257 \\n GT: Homozygous Reference&quot;,&quot;ID: con5174 \\n chr4,3076257 \\n GT: Homozygous Reference&quot;,&quot;ID: con5175 \\n chr4,3076257 \\n GT: Homozygous Reference&quot;,&quot;ID: con5182 \\n chr4,3076257 \\n GT: Heterozygous Variant&quot;,&quot;ID: con4111 \\n chr4,3076257 \\n GT: Homozygous Variant&quot;],[&quot;ID: cas1001 \\n chr4,3076266 \\n GT: No Call&quot;,&quot;ID: cas1003 \\n chr4,3076266 \\n GT: Homozygous Reference&quot;,&quot;ID: cas1005 \\n chr4,3076266 \\n GT: No Call&quot;,&quot;ID: cas1010 \\n chr4,3076266 \\n GT: Homozygous Reference&quot;,&quot;ID: cas1012 \\n chr4,3076266 \\n GT: No Call&quot;,&quot;ID: cas1013 \\n chr4,3076266 \\n GT: Homozygous Reference&quot;,&quot;ID: cas1014 \\n chr4,3076266 \\n GT: Homozygous Reference&quot;,&quot;ID: cas1015 \\n chr4,3076266 \\n GT: No Call&quot;,&quot;ID: cas1017 \\n chr4,3076266 \\n GT: Homozygous Reference&quot;,&quot;ID: cas1018 \\n chr4,3076266 \\n GT: Homozygous Reference&quot;,&quot;ID: cas1019 \\n chr4,3076266 \\n GT: No Call&quot;,&quot;ID: cas1020 \\n chr4,3076266 \\n GT: No Call&quot;,&quot;ID: cas1021 \\n chr4,3076266 \\n GT: No Call&quot;,&quot;ID: cas1022 \\n chr4,3076266 \\n GT: Homozygous Reference&quot;,&quot;ID: cas1023 \\n chr4,3076266 \\n GT: Homozygous Reference&quot;,&quot;ID: cas1024 \\n chr4,3076266 \\n GT: No Call&quot;,&quot;ID: cas2025 \\n chr4,3076266 \\n GT: Homozygous Reference&quot;,&quot;ID: cas2027 \\n chr4,3076266 \\n GT: No Call&quot;,&quot;ID: cas2028 \\n chr4,3076266 \\n GT: Homozygous Reference&quot;,&quot;ID: cas2029 \\n chr4,3076266 \\n GT: Homozygous Reference&quot;,&quot;ID: cas2032 \\n chr4,3076266 \\n GT: No Call&quot;,&quot;ID: cas2033 \\n chr4,3076266 \\n GT: Homozygous Reference&quot;,&quot;ID: cas2034 \\n chr4,3076266 \\n GT: No Call&quot;,&quot;ID: cas2035 \\n chr4,3076266 \\n GT: No Call&quot;,&quot;ID: cas2038 \\n chr4,3076266 \\n GT: Homozygous Reference&quot;,&quot;ID: cas2039 \\n chr4,3076266 \\n GT: Homozygous Reference&quot;,&quot;ID: cas2040 \\n chr4,3076266 \\n GT: Homozygous Reference&quot;,&quot;ID: cas2041 \\n chr4,3076266 \\n GT: Homozygous Reference&quot;,&quot;ID: cas2043 \\n chr4,3076266 \\n GT: Homozygous Reference&quot;,&quot;ID: cas2044 \\n chr4,3076266 \\n GT: No Call&quot;,&quot;ID: cas2045 \\n chr4,3076266 \\n GT: No Call&quot;,&quot;ID: cas2048 \\n chr4,3076266 \\n GT: Homozygous Reference&quot;,&quot;ID: cas3050 \\n chr4,3076266 \\n GT: Homozygous Reference&quot;,&quot;ID: cas3051 \\n chr4,3076266 \\n GT: Homozygous Reference&quot;,&quot;ID: cas3052 \\n chr4,3076266 \\n GT: Homozygous Reference&quot;,&quot;ID: cas3053 \\n chr4,3076266 \\n GT: Homozygous Reference&quot;,&quot;ID: cas3054 \\n chr4,3076266 \\n GT: Homozygous Reference&quot;,&quot;ID: cas3055 \\n chr4,3076266 \\n GT: Homozygous Reference&quot;,&quot;ID: cas3056 \\n chr4,3076266 \\n GT: Homozygous Reference&quot;,&quot;ID: cas3057 \\n chr4,3076266 \\n GT: Homozygous Reference&quot;,&quot;ID: cas3058 \\n chr4,3076266 \\n GT: Homozygous Reference&quot;,&quot;ID: cas3059 \\n chr4,3076266 \\n GT: No Call&quot;,&quot;ID: cas3060 \\n chr4,3076266 \\n GT: No Call&quot;,&quot;ID: cas3061 \\n chr4,3076266 \\n GT: Homozygous Reference&quot;,&quot;ID: cas3062 \\n chr4,3076266 \\n GT: Homozygous Reference&quot;,&quot;ID: cas3065 \\n chr4,3076266 \\n GT: No Call&quot;,&quot;ID: cas3072 \\n chr4,3076266 \\n GT: Homozygous Reference&quot;,&quot;ID: cas3073 \\n chr4,3076266 \\n GT: Homozygous Reference&quot;,&quot;ID: cas3074 \\n chr4,3076266 \\n GT: Homozygous Reference&quot;,&quot;ID: cas3075 \\n chr4,3076266 \\n GT: Homozygous Reference&quot;,&quot;ID: cas3076 \\n chr4,3076266 \\n GT: Homozygous Reference&quot;,&quot;ID: cas3077 \\n chr4,3076266 \\n GT: Homozygous Reference&quot;,&quot;ID: cas3078 \\n chr4,3076266 \\n GT: Homozygous Variant&quot;,&quot;ID: cas3079 \\n chr4,3076266 \\n GT: No Call&quot;,&quot;ID: cas3080 \\n chr4,3076266 \\n GT: Homozygous Reference&quot;,&quot;ID: cas3081 \\n chr4,3076266 \\n GT: Homozygous Reference&quot;,&quot;ID: cas3082 \\n chr4,3076266 \\n GT: Homozygous Reference&quot;,&quot;ID: cas3083 \\n chr4,3076266 \\n GT: Homozygous Reference&quot;,&quot;ID: cas3084 \\n chr4,3076266 \\n GT: No Call&quot;,&quot;ID: cas3085 \\n chr4,3076266 \\n GT: No Call&quot;,&quot;ID: cas3086 \\n chr4,3076266 \\n GT: Homozygous Reference&quot;,&quot;ID: cas3089 \\n chr4,3076266 \\n GT: Homozygous Reference&quot;,&quot;ID: cas3092 \\n chr4,3076266 \\n GT: No Call&quot;,&quot;ID: cas3096 \\n chr4,3076266 \\n GT: Homozygous Reference&quot;,&quot;ID: cas4097 \\n chr4,3076266 \\n GT: Homozygous Reference&quot;,&quot;ID: cas4098 \\n chr4,3076266 \\n GT: Heterozygous Variant&quot;,&quot;ID: cas4099 \\n chr4,3076266 \\n GT: No Call&quot;,&quot;ID: cas4100 \\n chr4,3076266 \\n GT: No Call&quot;,&quot;ID: cas4101 \\n chr4,3076266 \\n GT: Homozygous Reference&quot;,&quot;ID: cas4102 \\n chr4,3076266 \\n GT: Homozygous Reference&quot;,&quot;ID: cas4103 \\n chr4,3076266 \\n GT: Homozygous Reference&quot;,&quot;ID: cas4104 \\n chr4,3076266 \\n GT: No Call&quot;,&quot;ID: cas4105 \\n chr4,3076266 \\n GT: Homozygous Reference&quot;,&quot;ID: cas4106 \\n chr4,3076266 \\n GT: Homozygous Reference&quot;,&quot;ID: cas4107 \\n chr4,3076266 \\n GT: Homozygous Reference&quot;,&quot;ID: cas4108 \\n chr4,3076266 \\n GT: Homozygous Reference&quot;,&quot;ID: cas4112 \\n chr4,3076266 \\n GT: Homozygous Reference&quot;,&quot;ID: cas4115 \\n chr4,3076266 \\n GT: Homozygous Reference&quot;,&quot;ID: cas4116 \\n chr4,3076266 \\n GT: No Call&quot;,&quot;ID: cas4121 \\n chr4,3076266 \\n GT: Homozygous Reference&quot;,&quot;ID: cas4122 \\n chr4,3076266 \\n GT: Homozygous Reference&quot;,&quot;ID: cas4123 \\n chr4,3076266 \\n GT: Homozygous Reference&quot;,&quot;ID: cas4124 \\n chr4,3076266 \\n GT: Homozygous Reference&quot;,&quot;ID: cas4125 \\n chr4,3076266 \\n GT: Homozygous Reference&quot;,&quot;ID: cas4126 \\n chr4,3076266 \\n GT: Homozygous Reference&quot;,&quot;ID: cas4127 \\n chr4,3076266 \\n GT: Homozygous Reference&quot;,&quot;ID: cas4128 \\n chr4,3076266 \\n GT: Homozygous Reference&quot;,&quot;ID: cas4129 \\n chr4,3076266 \\n GT: Homozygous Reference&quot;,&quot;ID: cas4130 \\n chr4,3076266 \\n GT: Homozygous Reference&quot;,&quot;ID: cas4131 \\n chr4,3076266 \\n GT: Homozygous Reference&quot;,&quot;ID: cas4132 \\n chr4,3076266 \\n GT: Homozygous Reference&quot;,&quot;ID: cas4133 \\n chr4,3076266 \\n GT: Homozygous Reference&quot;,&quot;ID: cas4134 \\n chr4,3076266 \\n GT: Homozygous Reference&quot;,&quot;ID: con4137 \\n chr4,3076266 \\n GT: Homozygous Reference&quot;,&quot;ID: cas4139 \\n chr4,3076266 \\n GT: Homozygous Reference&quot;,&quot;ID: cas4140 \\n chr4,3076266 \\n GT: Homozygous Reference&quot;,&quot;ID: cas5145 \\n chr4,3076266 \\n GT: Homozygous Reference&quot;,&quot;ID: cas5147 \\n chr4,3076266 \\n GT: Homozygous Reference&quot;,&quot;ID: cas5150 \\n chr4,3076266 \\n GT: Homozygous Reference&quot;,&quot;ID: cas5152 \\n chr4,3076266 \\n GT: Homozygous Reference&quot;,&quot;ID: cas5153 \\n chr4,3076266 \\n GT: Homozygous Reference&quot;,&quot;ID: cas5154 \\n chr4,3076266 \\n GT: Heterozygous Variant&quot;,&quot;ID: cas5155 \\n chr4,3076266 \\n GT: Homozygous Reference&quot;,&quot;ID: cas5156 \\n chr4,3076266 \\n GT: Homozygous Reference&quot;,&quot;ID: cas5162 \\n chr4,3076266 \\n GT: Homozygous Reference&quot;,&quot;ID: cas5163 \\n chr4,3076266 \\n GT: Homozygous Reference&quot;,&quot;ID: cas5164 \\n chr4,3076266 \\n GT: Homozygous Reference&quot;,&quot;ID: cas5166 \\n chr4,3076266 \\n GT: Homozygous Reference&quot;,&quot;ID: cas5168 \\n chr4,3076266 \\n GT: Homozygous Reference&quot;,&quot;ID: cas5169 \\n chr4,3076266 \\n GT: Homozygous Reference&quot;,&quot;ID: cas5170 \\n chr4,3076266 \\n GT: Homozygous Reference&quot;,&quot;ID: cas5173 \\n chr4,3076266 \\n GT: Homozygous Reference&quot;,&quot;ID: cas5176 \\n chr4,3076266 \\n GT: Homozygous Reference&quot;,&quot;ID: cas5177 \\n chr4,3076266 \\n GT: Homozygous Reference&quot;,&quot;ID: cas5178 \\n chr4,3076266 \\n GT: Homozygous Reference&quot;,&quot;ID: cas5179 \\n chr4,3076266 \\n GT: Homozygous Reference&quot;,&quot;ID: cas5180 \\n chr4,3076266 \\n GT: Homozygous Reference&quot;,&quot;ID: cas5181 \\n chr4,3076266 \\n GT: Heterozygous Variant&quot;,&quot;ID: cas5183 \\n chr4,3076266 \\n GT: Homozygous Reference&quot;,&quot;ID: cas5184 \\n chr4,3076266 \\n GT: Homozygous Reference&quot;,&quot;ID: cas5185 \\n chr4,3076266 \\n GT: Homozygous Reference&quot;,&quot;ID: cas5186 \\n chr4,3076266 \\n GT: Homozygous Reference&quot;,&quot;ID: cas5187 \\n chr4,3076266 \\n GT: Heterozygous Variant&quot;,&quot;ID: cas5188 \\n chr4,3076266 \\n GT: Homozygous Reference&quot;,&quot;ID: cas5189 \\n chr4,3076266 \\n GT: Homozygous Reference&quot;,&quot;ID: cas5190 \\n chr4,3076266 \\n GT: Homozygous Reference&quot;,&quot;ID: cas5191 \\n chr4,3076266 \\n GT: Homozygous Reference&quot;,&quot;ID: cas5192 \\n chr4,3076266 \\n GT: Homozygous Reference&quot;,&quot;ID: cas3067 \\n chr4,3076266 \\n GT: Homozygous Reference&quot;,&quot;ID: cas4109 \\n chr4,3076266 \\n GT: Homozygous Reference&quot;,&quot;ID: con1002 \\n chr4,3076266 \\n GT: Homozygous Reference&quot;,&quot;ID: con1004 \\n chr4,3076266 \\n GT: No Call&quot;,&quot;ID: con1006 \\n chr4,3076266 \\n GT: Homozygous Reference&quot;,&quot;ID: con1007 \\n chr4,3076266 \\n GT: No Call&quot;,&quot;ID: con1008 \\n chr4,3076266 \\n GT: No Call&quot;,&quot;ID: con1009 \\n chr4,3076266 \\n GT: Homozygous Reference&quot;,&quot;ID: con1011 \\n chr4,3076266 \\n GT: Homozygous Reference&quot;,&quot;ID: con1016 \\n chr4,3076266 \\n GT: No Call&quot;,&quot;ID: con2026 \\n chr4,3076266 \\n GT: Homozygous Reference&quot;,&quot;ID: con2030 \\n chr4,3076266 \\n GT: No Call&quot;,&quot;ID: con2031 \\n chr4,3076266 \\n GT: No Call&quot;,&quot;ID: con2036 \\n chr4,3076266 \\n GT: No Call&quot;,&quot;ID: con2037 \\n chr4,3076266 \\n GT: Homozygous Reference&quot;,&quot;ID: con2042 \\n chr4,3076266 \\n GT: Homozygous Reference&quot;,&quot;ID: con2046 \\n chr4,3076266 \\n GT: No Call&quot;,&quot;ID: con2047 \\n chr4,3076266 \\n GT: No Call&quot;,&quot;ID: con3063 \\n chr4,3076266 \\n GT: Homozygous Reference&quot;,&quot;ID: con3064 \\n chr4,3076266 \\n GT: Homozygous Reference&quot;,&quot;ID: con3066 \\n chr4,3076266 \\n GT: Homozygous Reference&quot;,&quot;ID: con3068 \\n chr4,3076266 \\n GT: Homozygous Reference&quot;,&quot;ID: con3069 \\n chr4,3076266 \\n GT: Homozygous Reference&quot;,&quot;ID: con3070 \\n chr4,3076266 \\n GT: Homozygous Reference&quot;,&quot;ID: con3071 \\n chr4,3076266 \\n GT: Homozygous Reference&quot;,&quot;ID: con3087 \\n chr4,3076266 \\n GT: Homozygous Reference&quot;,&quot;ID: con3088 \\n chr4,3076266 \\n GT: Homozygous Reference&quot;,&quot;ID: con3090 \\n chr4,3076266 \\n GT: Heterozygous Variant&quot;,&quot;ID: con3091 \\n chr4,3076266 \\n GT: Homozygous Reference&quot;,&quot;ID: con3093 \\n chr4,3076266 \\n GT: Homozygous Reference&quot;,&quot;ID: con3094 \\n chr4,3076266 \\n GT: Homozygous Reference&quot;,&quot;ID: con3095 \\n chr4,3076266 \\n GT: Homozygous Reference&quot;,&quot;ID: con4110 \\n chr4,3076266 \\n GT: No Call&quot;,&quot;ID: con4113 \\n chr4,3076266 \\n GT: Homozygous Reference&quot;,&quot;ID: con4114 \\n chr4,3076266 \\n GT: Heterozygous Variant&quot;,&quot;ID: con4117 \\n chr4,3076266 \\n GT: Homozygous Reference&quot;,&quot;ID: con4118 \\n chr4,3076266 \\n GT: Homozygous Reference&quot;,&quot;ID: con4119 \\n chr4,3076266 \\n GT: Homozygous Reference&quot;,&quot;ID: con4120 \\n chr4,3076266 \\n GT: Homozygous Reference&quot;,&quot;ID: con4135 \\n chr4,3076266 \\n GT: Homozygous Reference&quot;,&quot;ID: con4136 \\n chr4,3076266 \\n GT: Heterozygous Variant&quot;,&quot;ID: con4138 \\n chr4,3076266 \\n GT: No Call&quot;,&quot;ID: con4141 \\n chr4,3076266 \\n GT: Homozygous Reference&quot;,&quot;ID: con4142 \\n chr4,3076266 \\n GT: Homozygous Reference&quot;,&quot;ID: con4143 \\n chr4,3076266 \\n GT: Homozygous Reference&quot;,&quot;ID: con4144 \\n chr4,3076266 \\n GT: Homozygous Reference&quot;,&quot;ID: con5146 \\n chr4,3076266 \\n GT: Homozygous Reference&quot;,&quot;ID: con5148 \\n chr4,3076266 \\n GT: Homozygous Reference&quot;,&quot;ID: con5149 \\n chr4,3076266 \\n GT: Homozygous Reference&quot;,&quot;ID: con5151 \\n chr4,3076266 \\n GT: Homozygous Reference&quot;,&quot;ID: con5157 \\n chr4,3076266 \\n GT: Homozygous Reference&quot;,&quot;ID: con5158 \\n chr4,3076266 \\n GT: Heterozygous Variant&quot;,&quot;ID: con5159 \\n chr4,3076266 \\n GT: Homozygous Reference&quot;,&quot;ID: con5160 \\n chr4,3076266 \\n GT: Homozygous Reference&quot;,&quot;ID: con5161 \\n chr4,3076266 \\n GT: Homozygous Reference&quot;,&quot;ID: con5165 \\n chr4,3076266 \\n GT: Homozygous Reference&quot;,&quot;ID: con5167 \\n chr4,3076266 \\n GT: Homozygous Reference&quot;,&quot;ID: con5171 \\n chr4,3076266 \\n GT: Homozygous Reference&quot;,&quot;ID: con5172 \\n chr4,3076266 \\n GT: Homozygous Reference&quot;,&quot;ID: con5174 \\n chr4,3076266 \\n GT: Homozygous Reference&quot;,&quot;ID: con5175 \\n chr4,3076266 \\n GT: Homozygous Reference&quot;,&quot;ID: con5182 \\n chr4,3076266 \\n GT: Homozygous Reference&quot;,&quot;ID: con4111 \\n chr4,3076266 \\n GT: Homozygous Reference&quot;],[&quot;ID: cas1001 \\n chr4,3076339 \\n GT: No Call&quot;,&quot;ID: cas1003 \\n chr4,3076339 \\n GT: No Call&quot;,&quot;ID: cas1005 \\n chr4,3076339 \\n GT: No Call&quot;,&quot;ID: cas1010 \\n chr4,3076339 \\n GT: No Call&quot;,&quot;ID: cas1012 \\n chr4,3076339 \\n GT: No Call&quot;,&quot;ID: cas1013 \\n chr4,3076339 \\n GT: No Call&quot;,&quot;ID: cas1014 \\n chr4,3076339 \\n GT: No Call&quot;,&quot;ID: cas1015 \\n chr4,3076339 \\n GT: No Call&quot;,&quot;ID: cas1017 \\n chr4,3076339 \\n GT: No Call&quot;,&quot;ID: cas1018 \\n chr4,3076339 \\n GT: No Call&quot;,&quot;ID: cas1019 \\n chr4,3076339 \\n GT: No Call&quot;,&quot;ID: cas1020 \\n chr4,3076339 \\n GT: No Call&quot;,&quot;ID: cas1021 \\n chr4,3076339 \\n GT: No Call&quot;,&quot;ID: cas1022 \\n chr4,3076339 \\n GT: No Call&quot;,&quot;ID: cas1023 \\n chr4,3076339 \\n GT: No Call&quot;,&quot;ID: cas1024 \\n chr4,3076339 \\n GT: No Call&quot;,&quot;ID: cas2025 \\n chr4,3076339 \\n GT: No Call&quot;,&quot;ID: cas2027 \\n chr4,3076339 \\n GT: No Call&quot;,&quot;ID: cas2028 \\n chr4,3076339 \\n GT: No Call&quot;,&quot;ID: cas2029 \\n chr4,3076339 \\n GT: No Call&quot;,&quot;ID: cas2032 \\n chr4,3076339 \\n GT: No Call&quot;,&quot;ID: cas2033 \\n chr4,3076339 \\n GT: No Call&quot;,&quot;ID: cas2034 \\n chr4,3076339 \\n GT: No Call&quot;,&quot;ID: cas2035 \\n chr4,3076339 \\n GT: Homozygous Reference&quot;,&quot;ID: cas2038 \\n chr4,3076339 \\n GT: Homozygous Reference&quot;,&quot;ID: cas2039 \\n chr4,3076339 \\n GT: No Call&quot;,&quot;ID: cas2040 \\n chr4,3076339 \\n GT: Homozygous Variant&quot;,&quot;ID: cas2041 \\n chr4,3076339 \\n GT: No Call&quot;,&quot;ID: cas2043 \\n chr4,3076339 \\n GT: No Call&quot;,&quot;ID: cas2044 \\n chr4,3076339 \\n GT: No Call&quot;,&quot;ID: cas2045 \\n chr4,3076339 \\n GT: No Call&quot;,&quot;ID: cas2048 \\n chr4,3076339 \\n GT: Homozygous Variant&quot;,&quot;ID: cas3050 \\n chr4,3076339 \\n GT: Homozygous Reference&quot;,&quot;ID: cas3051 \\n chr4,3076339 \\n GT: Homozygous Reference&quot;,&quot;ID: cas3052 \\n chr4,3076339 \\n GT: Homozygous Reference&quot;,&quot;ID: cas3053 \\n chr4,3076339 \\n GT: Homozygous Reference&quot;,&quot;ID: cas3054 \\n chr4,3076339 \\n GT: Homozygous Reference&quot;,&quot;ID: cas3055 \\n chr4,3076339 \\n GT: Heterozygous Variant&quot;,&quot;ID: cas3056 \\n chr4,3076339 \\n GT: Homozygous Reference&quot;,&quot;ID: cas3057 \\n chr4,3076339 \\n GT: No Call&quot;,&quot;ID: cas3058 \\n chr4,3076339 \\n GT: Homozygous Reference&quot;,&quot;ID: cas3059 \\n chr4,3076339 \\n GT: No Call&quot;,&quot;ID: cas3060 \\n chr4,3076339 \\n GT: No Call&quot;,&quot;ID: cas3061 \\n chr4,3076339 \\n GT: Homozygous Reference&quot;,&quot;ID: cas3062 \\n chr4,3076339 \\n GT: Homozygous Reference&quot;,&quot;ID: cas3065 \\n chr4,3076339 \\n GT: No Call&quot;,&quot;ID: cas3072 \\n chr4,3076339 \\n GT: Homozygous Reference&quot;,&quot;ID: cas3073 \\n chr4,3076339 \\n GT: Homozygous Reference&quot;,&quot;ID: cas3074 \\n chr4,3076339 \\n GT: Homozygous Reference&quot;,&quot;ID: cas3075 \\n chr4,3076339 \\n GT: Homozygous Reference&quot;,&quot;ID: cas3076 \\n chr4,3076339 \\n GT: Homozygous Reference&quot;,&quot;ID: cas3077 \\n chr4,3076339 \\n GT: Homozygous Reference&quot;,&quot;ID: cas3078 \\n chr4,3076339 \\n GT: Homozygous Reference&quot;,&quot;ID: cas3079 \\n chr4,3076339 \\n GT: Homozygous Reference&quot;,&quot;ID: cas3080 \\n chr4,3076339 \\n GT: Homozygous Reference&quot;,&quot;ID: cas3081 \\n chr4,3076339 \\n GT: Homozygous Reference&quot;,&quot;ID: cas3082 \\n chr4,3076339 \\n GT: Homozygous Reference&quot;,&quot;ID: cas3083 \\n chr4,3076339 \\n GT: Homozygous Reference&quot;,&quot;ID: cas3084 \\n chr4,3076339 \\n GT: No Call&quot;,&quot;ID: cas3085 \\n chr4,3076339 \\n GT: Homozygous Reference&quot;,&quot;ID: cas3086 \\n chr4,3076339 \\n GT: Homozygous Reference&quot;,&quot;ID: cas3089 \\n chr4,3076339 \\n GT: Homozygous Reference&quot;,&quot;ID: cas3092 \\n chr4,3076339 \\n GT: Homozygous Reference&quot;,&quot;ID: cas3096 \\n chr4,3076339 \\n GT: Homozygous Reference&quot;,&quot;ID: cas4097 \\n chr4,3076339 \\n GT: Homozygous Reference&quot;,&quot;ID: cas4098 \\n chr4,3076339 \\n GT: Homozygous Reference&quot;,&quot;ID: cas4099 \\n chr4,3076339 \\n GT: Homozygous Reference&quot;,&quot;ID: cas4100 \\n chr4,3076339 \\n GT: Homozygous Reference&quot;,&quot;ID: cas4101 \\n chr4,3076339 \\n GT: Homozygous Reference&quot;,&quot;ID: cas4102 \\n chr4,3076339 \\n GT: Homozygous Reference&quot;,&quot;ID: cas4103 \\n chr4,3076339 \\n GT: Homozygous Reference&quot;,&quot;ID: cas4104 \\n chr4,3076339 \\n GT: Homozygous Reference&quot;,&quot;ID: cas4105 \\n chr4,3076339 \\n GT: Homozygous Reference&quot;,&quot;ID: cas4106 \\n chr4,3076339 \\n GT: Homozygous Reference&quot;,&quot;ID: cas4107 \\n chr4,3076339 \\n GT: Homozygous Reference&quot;,&quot;ID: cas4108 \\n chr4,3076339 \\n GT: Homozygous Reference&quot;,&quot;ID: cas4112 \\n chr4,3076339 \\n GT: Homozygous Reference&quot;,&quot;ID: cas4115 \\n chr4,3076339 \\n GT: Homozygous Reference&quot;,&quot;ID: cas4116 \\n chr4,3076339 \\n GT: Homozygous Reference&quot;,&quot;ID: cas4121 \\n chr4,3076339 \\n GT: Heterozygous Variant&quot;,&quot;ID: cas4122 \\n chr4,3076339 \\n GT: Homozygous Reference&quot;,&quot;ID: cas4123 \\n chr4,3076339 \\n GT: Heterozygous Variant&quot;,&quot;ID: cas4124 \\n chr4,3076339 \\n GT: Homozygous Reference&quot;,&quot;ID: cas4125 \\n chr4,3076339 \\n GT: Homozygous Reference&quot;,&quot;ID: cas4126 \\n chr4,3076339 \\n GT: Homozygous Reference&quot;,&quot;ID: cas4127 \\n chr4,3076339 \\n GT: Heterozygous Variant&quot;,&quot;ID: cas4128 \\n chr4,3076339 \\n GT: Homozygous Reference&quot;,&quot;ID: cas4129 \\n chr4,3076339 \\n GT: Homozygous Reference&quot;,&quot;ID: cas4130 \\n chr4,3076339 \\n GT: Homozygous Reference&quot;,&quot;ID: cas4131 \\n chr4,3076339 \\n GT: Homozygous Reference&quot;,&quot;ID: cas4132 \\n chr4,3076339 \\n GT: Homozygous Reference&quot;,&quot;ID: cas4133 \\n chr4,3076339 \\n GT: Homozygous Reference&quot;,&quot;ID: cas4134 \\n chr4,3076339 \\n GT: Homozygous Reference&quot;,&quot;ID: con4137 \\n chr4,3076339 \\n GT: Heterozygous Variant&quot;,&quot;ID: cas4139 \\n chr4,3076339 \\n GT: Homozygous Reference&quot;,&quot;ID: cas4140 \\n chr4,3076339 \\n GT: Homozygous Reference&quot;,&quot;ID: cas5145 \\n chr4,3076339 \\n GT: Heterozygous Variant&quot;,&quot;ID: cas5147 \\n chr4,3076339 \\n GT: Homozygous Reference&quot;,&quot;ID: cas5150 \\n chr4,3076339 \\n GT: Homozygous Reference&quot;,&quot;ID: cas5152 \\n chr4,3076339 \\n GT: Heterozygous Variant&quot;,&quot;ID: cas5153 \\n chr4,3076339 \\n GT: Homozygous Reference&quot;,&quot;ID: cas5154 \\n chr4,3076339 \\n GT: Homozygous Reference&quot;,&quot;ID: cas5155 \\n chr4,3076339 \\n GT: Homozygous Reference&quot;,&quot;ID: cas5156 \\n chr4,3076339 \\n GT: Homozygous Reference&quot;,&quot;ID: cas5162 \\n chr4,3076339 \\n GT: Heterozygous Variant&quot;,&quot;ID: cas5163 \\n chr4,3076339 \\n GT: Homozygous Reference&quot;,&quot;ID: cas5164 \\n chr4,3076339 \\n GT: Heterozygous Variant&quot;,&quot;ID: cas5166 \\n chr4,3076339 \\n GT: Heterozygous Variant&quot;,&quot;ID: cas5168 \\n chr4,3076339 \\n GT: Homozygous Reference&quot;,&quot;ID: cas5169 \\n chr4,3076339 \\n GT: Homozygous Reference&quot;,&quot;ID: cas5170 \\n chr4,3076339 \\n GT: Homozygous Reference&quot;,&quot;ID: cas5173 \\n chr4,3076339 \\n GT: Homozygous Reference&quot;,&quot;ID: cas5176 \\n chr4,3076339 \\n GT: Homozygous Reference&quot;,&quot;ID: cas5177 \\n chr4,3076339 \\n GT: Homozygous Reference&quot;,&quot;ID: cas5178 \\n chr4,3076339 \\n GT: Homozygous Reference&quot;,&quot;ID: cas5179 \\n chr4,3076339 \\n GT: Homozygous Reference&quot;,&quot;ID: cas5180 \\n chr4,3076339 \\n GT: Homozygous Reference&quot;,&quot;ID: cas5181 \\n chr4,3076339 \\n GT: Homozygous Reference&quot;,&quot;ID: cas5183 \\n chr4,3076339 \\n GT: Homozygous Reference&quot;,&quot;ID: cas5184 \\n chr4,3076339 \\n GT: Homozygous Reference&quot;,&quot;ID: cas5185 \\n chr4,3076339 \\n GT: Homozygous Reference&quot;,&quot;ID: cas5186 \\n chr4,3076339 \\n GT: Homozygous Reference&quot;,&quot;ID: cas5187 \\n chr4,3076339 \\n GT: Homozygous Reference&quot;,&quot;ID: cas5188 \\n chr4,3076339 \\n GT: Homozygous Reference&quot;,&quot;ID: cas5189 \\n chr4,3076339 \\n GT: Homozygous Reference&quot;,&quot;ID: cas5190 \\n chr4,3076339 \\n GT: Homozygous Reference&quot;,&quot;ID: cas5191 \\n chr4,3076339 \\n GT: Homozygous Reference&quot;,&quot;ID: cas5192 \\n chr4,3076339 \\n GT: Homozygous Reference&quot;,&quot;ID: cas3067 \\n chr4,3076339 \\n GT: Homozygous Reference&quot;,&quot;ID: cas4109 \\n chr4,3076339 \\n GT: Homozygous Reference&quot;,&quot;ID: con1002 \\n chr4,3076339 \\n GT: No Call&quot;,&quot;ID: con1004 \\n chr4,3076339 \\n GT: No Call&quot;,&quot;ID: con1006 \\n chr4,3076339 \\n GT: Homozygous Reference&quot;,&quot;ID: con1007 \\n chr4,3076339 \\n GT: No Call&quot;,&quot;ID: con1008 \\n chr4,3076339 \\n GT: No Call&quot;,&quot;ID: con1009 \\n chr4,3076339 \\n GT: No Call&quot;,&quot;ID: con1011 \\n chr4,3076339 \\n GT: No Call&quot;,&quot;ID: con1016 \\n chr4,3076339 \\n GT: No Call&quot;,&quot;ID: con2026 \\n chr4,3076339 \\n GT: No Call&quot;,&quot;ID: con2030 \\n chr4,3076339 \\n GT: No Call&quot;,&quot;ID: con2031 \\n chr4,3076339 \\n GT: No Call&quot;,&quot;ID: con2036 \\n chr4,3076339 \\n GT: No Call&quot;,&quot;ID: con2037 \\n chr4,3076339 \\n GT: No Call&quot;,&quot;ID: con2042 \\n chr4,3076339 \\n GT: No Call&quot;,&quot;ID: con2046 \\n chr4,3076339 \\n GT: No Call&quot;,&quot;ID: con2047 \\n chr4,3076339 \\n GT: No Call&quot;,&quot;ID: con3063 \\n chr4,3076339 \\n GT: Homozygous Reference&quot;,&quot;ID: con3064 \\n chr4,3076339 \\n GT: Homozygous Reference&quot;,&quot;ID: con3066 \\n chr4,3076339 \\n GT: Homozygous Reference&quot;,&quot;ID: con3068 \\n chr4,3076339 \\n GT: Homozygous Reference&quot;,&quot;ID: con3069 \\n chr4,3076339 \\n GT: Homozygous Reference&quot;,&quot;ID: con3070 \\n chr4,3076339 \\n GT: Homozygous Reference&quot;,&quot;ID: con3071 \\n chr4,3076339 \\n GT: Homozygous Reference&quot;,&quot;ID: con3087 \\n chr4,3076339 \\n GT: Homozygous Reference&quot;,&quot;ID: con3088 \\n chr4,3076339 \\n GT: Homozygous Reference&quot;,&quot;ID: con3090 \\n chr4,3076339 \\n GT: Homozygous Reference&quot;,&quot;ID: con3091 \\n chr4,3076339 \\n GT: Homozygous Reference&quot;,&quot;ID: con3093 \\n chr4,3076339 \\n GT: Homozygous Reference&quot;,&quot;ID: con3094 \\n chr4,3076339 \\n GT: Homozygous Reference&quot;,&quot;ID: con3095 \\n chr4,3076339 \\n GT: Homozygous Reference&quot;,&quot;ID: con4110 \\n chr4,3076339 \\n GT: Homozygous Reference&quot;,&quot;ID: con4113 \\n chr4,3076339 \\n GT: Homozygous Reference&quot;,&quot;ID: con4114 \\n chr4,3076339 \\n GT: Homozygous Reference&quot;,&quot;ID: con4117 \\n chr4,3076339 \\n GT: Homozygous Reference&quot;,&quot;ID: con4118 \\n chr4,3076339 \\n GT: Homozygous Reference&quot;,&quot;ID: con4119 \\n chr4,3076339 \\n GT: Homozygous Reference&quot;,&quot;ID: con4120 \\n chr4,3076339 \\n GT: Homozygous Reference&quot;,&quot;ID: con4135 \\n chr4,3076339 \\n GT: Homozygous Reference&quot;,&quot;ID: con4136 \\n chr4,3076339 \\n GT: Homozygous Reference&quot;,&quot;ID: con4138 \\n chr4,3076339 \\n GT: Homozygous Reference&quot;,&quot;ID: con4141 \\n chr4,3076339 \\n GT: Homozygous Reference&quot;,&quot;ID: con4142 \\n chr4,3076339 \\n GT: Homozygous Reference&quot;,&quot;ID: con4143 \\n chr4,3076339 \\n GT: Homozygous Reference&quot;,&quot;ID: con4144 \\n chr4,3076339 \\n GT: Homozygous Reference&quot;,&quot;ID: con5146 \\n chr4,3076339 \\n GT: Homozygous Reference&quot;,&quot;ID: con5148 \\n chr4,3076339 \\n GT: Homozygous Reference&quot;,&quot;ID: con5149 \\n chr4,3076339 \\n GT: Heterozygous Variant&quot;,&quot;ID: con5151 \\n chr4,3076339 \\n GT: Homozygous Reference&quot;,&quot;ID: con5157 \\n chr4,3076339 \\n GT: Heterozygous Variant&quot;,&quot;ID: con5158 \\n chr4,3076339 \\n GT: Homozygous Reference&quot;,&quot;ID: con5159 \\n chr4,3076339 \\n GT: Homozygous Reference&quot;,&quot;ID: con5160 \\n chr4,3076339 \\n GT: Homozygous Reference&quot;,&quot;ID: con5161 \\n chr4,3076339 \\n GT: Homozygous Reference&quot;,&quot;ID: con5165 \\n chr4,3076339 \\n GT: Heterozygous Variant&quot;,&quot;ID: con5167 \\n chr4,3076339 \\n GT: Homozygous Reference&quot;,&quot;ID: con5171 \\n chr4,3076339 \\n GT: Homozygous Reference&quot;,&quot;ID: con5172 \\n chr4,3076339 \\n GT: Heterozygous Variant&quot;,&quot;ID: con5174 \\n chr4,3076339 \\n GT: Homozygous Reference&quot;,&quot;ID: con5175 \\n chr4,3076339 \\n GT: Homozygous Reference&quot;,&quot;ID: con5182 \\n chr4,3076339 \\n GT: Heterozygous Variant&quot;,&quot;ID: con4111 \\n chr4,3076339 \\n GT: Homozygous Reference&quot;],[&quot;ID: cas1001 \\n Trait 1: seq_site_1&quot;,&quot;ID: cas1003 \\n Trait 1: seq_site_1&quot;,&quot;ID: cas1005 \\n Trait 1: seq_site_1&quot;,&quot;ID: cas1010 \\n Trait 1: seq_site_1&quot;,&quot;ID: cas1012 \\n Trait 1: seq_site_1&quot;,&quot;ID: cas1013 \\n Trait 1: seq_site_1&quot;,&quot;ID: cas1014 \\n Trait 1: seq_site_1&quot;,&quot;ID: cas1015 \\n Trait 1: seq_site_1&quot;,&quot;ID: cas1017 \\n Trait 1: seq_site_1&quot;,&quot;ID: cas1018 \\n Trait 1: seq_site_1&quot;,&quot;ID: cas1019 \\n Trait 1: seq_site_1&quot;,&quot;ID: cas1020 \\n Trait 1: seq_site_1&quot;,&quot;ID: cas1021 \\n Trait 1: seq_site_1&quot;,&quot;ID: cas1022 \\n Trait 1: seq_site_1&quot;,&quot;ID: cas1023 \\n Trait 1: seq_site_1&quot;,&quot;ID: cas1024 \\n Trait 1: seq_site_1&quot;,&quot;ID: cas2025 \\n Trait 1: seq_site_1&quot;,&quot;ID: cas2027 \\n Trait 1: seq_site_1&quot;,&quot;ID: cas2028 \\n Trait 1: seq_site_1&quot;,&quot;ID: cas2029 \\n Trait 1: seq_site_1&quot;,&quot;ID: cas2032 \\n Trait 1: seq_site_1&quot;,&quot;ID: cas2033 \\n Trait 1: seq_site_1&quot;,&quot;ID: cas2034 \\n Trait 1: seq_site_1&quot;,&quot;ID: cas2035 \\n Trait 1: seq_site_1&quot;,&quot;ID: cas2038 \\n Trait 1: seq_site_1&quot;,&quot;ID: cas2039 \\n Trait 1: seq_site_1&quot;,&quot;ID: cas2040 \\n Trait 1: seq_site_1&quot;,&quot;ID: cas2041 \\n Trait 1: seq_site_1&quot;,&quot;ID: cas2043 \\n Trait 1: seq_site_1&quot;,&quot;ID: cas2044 \\n Trait 1: seq_site_1&quot;,&quot;ID: cas2045 \\n Trait 1: seq_site_1&quot;,&quot;ID: cas2048 \\n Trait 1: seq_site_1&quot;,&quot;ID: cas3050 \\n Trait 1: seq_site_1&quot;,&quot;ID: cas3051 \\n Trait 1: seq_site_1&quot;,&quot;ID: cas3052 \\n Trait 1: seq_site_1&quot;,&quot;ID: cas3053 \\n Trait 1: seq_site_1&quot;,&quot;ID: cas3054 \\n Trait 1: seq_site_1&quot;,&quot;ID: cas3055 \\n Trait 1: seq_site_1&quot;,&quot;ID: cas3056 \\n Trait 1: seq_site_1&quot;,&quot;ID: cas3057 \\n Trait 1: seq_site_1&quot;,&quot;ID: cas3058 \\n Trait 1: seq_site_1&quot;,&quot;ID: cas3059 \\n Trait 1: seq_site_1&quot;,&quot;ID: cas3060 \\n Trait 1: seq_site_1&quot;,&quot;ID: cas3061 \\n Trait 1: seq_site_1&quot;,&quot;ID: cas3062 \\n Trait 1: seq_site_1&quot;,&quot;ID: cas3065 \\n Trait 1: seq_site_1&quot;,&quot;ID: cas3072 \\n Trait 1: seq_site_1&quot;,&quot;ID: cas3073 \\n Trait 1: seq_site_1&quot;,&quot;ID: cas3074 \\n Trait 1: seq_site_1&quot;,&quot;ID: cas3075 \\n Trait 1: seq_site_1&quot;,&quot;ID: cas3076 \\n Trait 1: seq_site_1&quot;,&quot;ID: cas3077 \\n Trait 1: seq_site_1&quot;,&quot;ID: cas3078 \\n Trait 1: seq_site_1&quot;,&quot;ID: cas3079 \\n Trait 1: seq_site_1&quot;,&quot;ID: cas3080 \\n Trait 1: seq_site_1&quot;,&quot;ID: cas3081 \\n Trait 1: seq_site_1&quot;,&quot;ID: cas3082 \\n Trait 1: seq_site_1&quot;,&quot;ID: cas3083 \\n Trait 1: seq_site_1&quot;,&quot;ID: cas3084 \\n Trait 1: seq_site_1&quot;,&quot;ID: cas3085 \\n Trait 1: seq_site_1&quot;,&quot;ID: cas3086 \\n Trait 1: seq_site_1&quot;,&quot;ID: cas3089 \\n Trait 1: seq_site_1&quot;,&quot;ID: cas3092 \\n Trait 1: seq_site_1&quot;,&quot;ID: cas3096 \\n Trait 1: seq_site_1&quot;,&quot;ID: cas4097 \\n Trait 1: seq_site_1&quot;,&quot;ID: cas4098 \\n Trait 1: seq_site_1&quot;,&quot;ID: cas4099 \\n Trait 1: seq_site_1&quot;,&quot;ID: cas4100 \\n Trait 1: seq_site_1&quot;,&quot;ID: cas4101 \\n Trait 1: seq_site_1&quot;,&quot;ID: cas4102 \\n Trait 1: seq_site_1&quot;,&quot;ID: cas4103 \\n Trait 1: seq_site_1&quot;,&quot;ID: cas4104 \\n Trait 1: seq_site_1&quot;,&quot;ID: cas4105 \\n Trait 1: seq_site_1&quot;,&quot;ID: cas4106 \\n Trait 1: seq_site_1&quot;,&quot;ID: cas4107 \\n Trait 1: seq_site_1&quot;,&quot;ID: cas4108 \\n Trait 1: seq_site_1&quot;,&quot;ID: cas4112 \\n Trait 1: seq_site_1&quot;,&quot;ID: cas4115 \\n Trait 1: seq_site_1&quot;,&quot;ID: cas4116 \\n Trait 1: seq_site_1&quot;,&quot;ID: cas4121 \\n Trait 2: seq_site_2&quot;,&quot;ID: cas4122 \\n Trait 2: seq_site_2&quot;,&quot;ID: cas4123 \\n Trait 2: seq_site_2&quot;,&quot;ID: cas4124 \\n Trait 2: seq_site_2&quot;,&quot;ID: cas4125 \\n Trait 2: seq_site_2&quot;,&quot;ID: cas4126 \\n Trait 2: seq_site_2&quot;,&quot;ID: cas4127 \\n Trait 2: seq_site_2&quot;,&quot;ID: cas4128 \\n Trait 2: seq_site_2&quot;,&quot;ID: cas4129 \\n Trait 2: seq_site_2&quot;,&quot;ID: cas4130 \\n Trait 2: seq_site_2&quot;,&quot;ID: cas4131 \\n Trait 2: seq_site_2&quot;,&quot;ID: cas4132 \\n Trait 2: seq_site_2&quot;,&quot;ID: cas4133 \\n Trait 2: seq_site_2&quot;,&quot;ID: cas4134 \\n Trait 2: seq_site_2&quot;,&quot;ID: con4137 \\n Trait 2: seq_site_2&quot;,&quot;ID: cas4139 \\n Trait 2: seq_site_2&quot;,&quot;ID: cas4140 \\n Trait 2: seq_site_2&quot;,&quot;ID: cas5145 \\n Trait 2: seq_site_2&quot;,&quot;ID: cas5147 \\n Trait 2: seq_site_2&quot;,&quot;ID: cas5150 \\n Trait 2: seq_site_2&quot;,&quot;ID: cas5152 \\n Trait 2: seq_site_2&quot;,&quot;ID: cas5153 \\n Trait 2: seq_site_2&quot;,&quot;ID: cas5154 \\n Trait 2: seq_site_2&quot;,&quot;ID: cas5155 \\n Trait 2: seq_site_2&quot;,&quot;ID: cas5156 \\n Trait 2: seq_site_2&quot;,&quot;ID: cas5162 \\n Trait 2: seq_site_2&quot;,&quot;ID: cas5163 \\n Trait 2: seq_site_2&quot;,&quot;ID: cas5164 \\n Trait 2: seq_site_2&quot;,&quot;ID: cas5166 \\n Trait 2: seq_site_2&quot;,&quot;ID: cas5168 \\n Trait 2: seq_site_2&quot;,&quot;ID: cas5169 \\n Trait 2: seq_site_2&quot;,&quot;ID: cas5170 \\n Trait 2: seq_site_2&quot;,&quot;ID: cas5173 \\n Trait 2: seq_site_2&quot;,&quot;ID: cas5176 \\n Trait 2: seq_site_2&quot;,&quot;ID: cas5177 \\n Trait 2: seq_site_2&quot;,&quot;ID: cas5178 \\n Trait 2: seq_site_2&quot;,&quot;ID: cas5179 \\n Trait 2: seq_site_2&quot;,&quot;ID: cas5180 \\n Trait 2: seq_site_2&quot;,&quot;ID: cas5181 \\n Trait 2: seq_site_2&quot;,&quot;ID: cas5183 \\n Trait 2: seq_site_2&quot;,&quot;ID: cas5184 \\n Trait 2: seq_site_2&quot;,&quot;ID: cas5185 \\n Trait 2: seq_site_2&quot;,&quot;ID: cas5186 \\n Trait 2: seq_site_2&quot;,&quot;ID: cas5187 \\n Trait 2: seq_site_2&quot;,&quot;ID: cas5188 \\n Trait 2: seq_site_2&quot;,&quot;ID: cas5189 \\n Trait 2: seq_site_2&quot;,&quot;ID: cas5190 \\n Trait 2: seq_site_2&quot;,&quot;ID: cas5191 \\n Trait 2: seq_site_2&quot;,&quot;ID: cas5192 \\n Trait 2: seq_site_2&quot;,&quot;ID: cas3067 \\n Trait 1: seq_site_1&quot;,&quot;ID: cas4109 \\n Trait 1: seq_site_1&quot;,&quot;ID: con1002 \\n Trait 1: seq_site_1&quot;,&quot;ID: con1004 \\n Trait 1: seq_site_1&quot;,&quot;ID: con1006 \\n Trait 1: seq_site_1&quot;,&quot;ID: con1007 \\n Trait 1: seq_site_1&quot;,&quot;ID: con1008 \\n Trait 1: seq_site_1&quot;,&quot;ID: con1009 \\n Trait 1: seq_site_1&quot;,&quot;ID: con1011 \\n Trait 1: seq_site_1&quot;,&quot;ID: con1016 \\n Trait 1: seq_site_1&quot;,&quot;ID: con2026 \\n Trait 1: seq_site_1&quot;,&quot;ID: con2030 \\n Trait 1: seq_site_1&quot;,&quot;ID: con2031 \\n Trait 1: seq_site_1&quot;,&quot;ID: con2036 \\n Trait 1: seq_site_1&quot;,&quot;ID: con2037 \\n Trait 1: seq_site_1&quot;,&quot;ID: con2042 \\n Trait 1: seq_site_1&quot;,&quot;ID: con2046 \\n Trait 1: seq_site_1&quot;,&quot;ID: con2047 \\n Trait 1: seq_site_1&quot;,&quot;ID: con3063 \\n Trait 1: seq_site_1&quot;,&quot;ID: con3064 \\n Trait 1: seq_site_1&quot;,&quot;ID: con3066 \\n Trait 1: seq_site_1&quot;,&quot;ID: con3068 \\n Trait 1: seq_site_1&quot;,&quot;ID: con3069 \\n Trait 1: seq_site_1&quot;,&quot;ID: con3070 \\n Trait 1: seq_site_1&quot;,&quot;ID: con3071 \\n Trait 1: seq_site_1&quot;,&quot;ID: con3087 \\n Trait 1: seq_site_1&quot;,&quot;ID: con3088 \\n Trait 1: seq_site_1&quot;,&quot;ID: con3090 \\n Trait 1: seq_site_1&quot;,&quot;ID: con3091 \\n Trait 1: seq_site_1&quot;,&quot;ID: con3093 \\n Trait 1: seq_site_1&quot;,&quot;ID: con3094 \\n Trait 1: seq_site_1&quot;,&quot;ID: con3095 \\n Trait 1: seq_site_1&quot;,&quot;ID: con4110 \\n Trait 1: seq_site_1&quot;,&quot;ID: con4113 \\n Trait 1: seq_site_1&quot;,&quot;ID: con4114 \\n Trait 1: seq_site_1&quot;,&quot;ID: con4117 \\n Trait 1: seq_site_1&quot;,&quot;ID: con4118 \\n Trait 1: seq_site_1&quot;,&quot;ID: con4119 \\n Trait 1: seq_site_1&quot;,&quot;ID: con4120 \\n Trait 1: seq_site_1&quot;,&quot;ID: con4135 \\n Trait 2: seq_site_2&quot;,&quot;ID: con4136 \\n Trait 2: seq_site_2&quot;,&quot;ID: con4138 \\n Trait 2: seq_site_2&quot;,&quot;ID: con4141 \\n Trait 2: seq_site_2&quot;,&quot;ID: con4142 \\n Trait 2: seq_site_2&quot;,&quot;ID: con4143 \\n Trait 2: seq_site_2&quot;,&quot;ID: con4144 \\n Trait 2: seq_site_2&quot;,&quot;ID: con5146 \\n Trait 2: seq_site_2&quot;,&quot;ID: con5148 \\n Trait 2: seq_site_2&quot;,&quot;ID: con5149 \\n Trait 2: seq_site_2&quot;,&quot;ID: con5151 \\n Trait 2: seq_site_2&quot;,&quot;ID: con5157 \\n Trait 2: seq_site_2&quot;,&quot;ID: con5158 \\n Trait 2: seq_site_2&quot;,&quot;ID: con5159 \\n Trait 2: seq_site_2&quot;,&quot;ID: con5160 \\n Trait 2: seq_site_2&quot;,&quot;ID: con5161 \\n Trait 2: seq_site_2&quot;,&quot;ID: con5165 \\n Trait 2: seq_site_2&quot;,&quot;ID: con5167 \\n Trait 2: seq_site_2&quot;,&quot;ID: con5171 \\n Trait 2: seq_site_2&quot;,&quot;ID: con5172 \\n Trait 2: seq_site_2&quot;,&quot;ID: con5174 \\n Trait 2: seq_site_2&quot;,&quot;ID: con5175 \\n Trait 2: seq_site_2&quot;,&quot;ID: con5182 \\n Trait 2: seq_site_2&quot;,&quot;ID: con4111 \\n Trait 1: seq_site_1&quot;],[&quot;ID: cas1001 \\n Trait 1: case&quot;,&quot;ID: cas1003 \\n Trait 1: case&quot;,&quot;ID: cas1005 \\n Trait 1: case&quot;,&quot;ID: cas1010 \\n Trait 1: case&quot;,&quot;ID: cas1012 \\n Trait 1: case&quot;,&quot;ID: cas1013 \\n Trait 1: case&quot;,&quot;ID: cas1014 \\n Trait 1: case&quot;,&quot;ID: cas1015 \\n Trait 1: case&quot;,&quot;ID: cas1017 \\n Trait 1: case&quot;,&quot;ID: cas1018 \\n Trait 1: case&quot;,&quot;ID: cas1019 \\n Trait 1: case&quot;,&quot;ID: cas1020 \\n Trait 1: case&quot;,&quot;ID: cas1021 \\n Trait 1: case&quot;,&quot;ID: cas1022 \\n Trait 1: case&quot;,&quot;ID: cas1023 \\n Trait 1: case&quot;,&quot;ID: cas1024 \\n Trait 1: case&quot;,&quot;ID: cas2025 \\n Trait 1: case&quot;,&quot;ID: cas2027 \\n Trait 1: case&quot;,&quot;ID: cas2028 \\n Trait 1: case&quot;,&quot;ID: cas2029 \\n Trait 1: case&quot;,&quot;ID: cas2032 \\n Trait 1: case&quot;,&quot;ID: cas2033 \\n Trait 1: case&quot;,&quot;ID: cas2034 \\n Trait 1: case&quot;,&quot;ID: cas2035 \\n Trait 1: case&quot;,&quot;ID: cas2038 \\n Trait 1: case&quot;,&quot;ID: cas2039 \\n Trait 1: case&quot;,&quot;ID: cas2040 \\n Trait 1: case&quot;,&quot;ID: cas2041 \\n Trait 1: case&quot;,&quot;ID: cas2043 \\n Trait 1: case&quot;,&quot;ID: cas2044 \\n Trait 1: case&quot;,&quot;ID: cas2045 \\n Trait 1: case&quot;,&quot;ID: cas2048 \\n Trait 1: case&quot;,&quot;ID: cas3050 \\n Trait 1: case&quot;,&quot;ID: cas3051 \\n Trait 1: case&quot;,&quot;ID: cas3052 \\n Trait 1: case&quot;,&quot;ID: cas3053 \\n Trait 1: case&quot;,&quot;ID: cas3054 \\n Trait 1: case&quot;,&quot;ID: cas3055 \\n Trait 1: case&quot;,&quot;ID: cas3056 \\n Trait 1: case&quot;,&quot;ID: cas3057 \\n Trait 1: case&quot;,&quot;ID: cas3058 \\n Trait 1: case&quot;,&quot;ID: cas3059 \\n Trait 1: case&quot;,&quot;ID: cas3060 \\n Trait 1: case&quot;,&quot;ID: cas3061 \\n Trait 1: case&quot;,&quot;ID: cas3062 \\n Trait 1: case&quot;,&quot;ID: cas3065 \\n Trait 1: case&quot;,&quot;ID: cas3072 \\n Trait 1: case&quot;,&quot;ID: cas3073 \\n Trait 1: case&quot;,&quot;ID: cas3074 \\n Trait 1: case&quot;,&quot;ID: cas3075 \\n Trait 1: case&quot;,&quot;ID: cas3076 \\n Trait 1: case&quot;,&quot;ID: cas3077 \\n Trait 1: case&quot;,&quot;ID: cas3078 \\n Trait 1: case&quot;,&quot;ID: cas3079 \\n Trait 1: case&quot;,&quot;ID: cas3080 \\n Trait 1: case&quot;,&quot;ID: cas3081 \\n Trait 1: case&quot;,&quot;ID: cas3082 \\n Trait 1: case&quot;,&quot;ID: cas3083 \\n Trait 1: case&quot;,&quot;ID: cas3084 \\n Trait 1: case&quot;,&quot;ID: cas3085 \\n Trait 1: case&quot;,&quot;ID: cas3086 \\n Trait 1: case&quot;,&quot;ID: cas3089 \\n Trait 1: case&quot;,&quot;ID: cas3092 \\n Trait 1: case&quot;,&quot;ID: cas3096 \\n Trait 1: case&quot;,&quot;ID: cas4097 \\n Trait 1: case&quot;,&quot;ID: cas4098 \\n Trait 1: case&quot;,&quot;ID: cas4099 \\n Trait 1: case&quot;,&quot;ID: cas4100 \\n Trait 1: case&quot;,&quot;ID: cas4101 \\n Trait 1: case&quot;,&quot;ID: cas4102 \\n Trait 1: case&quot;,&quot;ID: cas4103 \\n Trait 1: case&quot;,&quot;ID: cas4104 \\n Trait 1: case&quot;,&quot;ID: cas4105 \\n Trait 1: case&quot;,&quot;ID: cas4106 \\n Trait 1: case&quot;,&quot;ID: cas4107 \\n Trait 1: case&quot;,&quot;ID: cas4108 \\n Trait 1: case&quot;,&quot;ID: cas4112 \\n Trait 1: case&quot;,&quot;ID: cas4115 \\n Trait 1: case&quot;,&quot;ID: cas4116 \\n Trait 1: case&quot;,&quot;ID: cas4121 \\n Trait 1: case&quot;,&quot;ID: cas4122 \\n Trait 1: case&quot;,&quot;ID: cas4123 \\n Trait 1: case&quot;,&quot;ID: cas4124 \\n Trait 1: case&quot;,&quot;ID: cas4125 \\n Trait 1: case&quot;,&quot;ID: cas4126 \\n Trait 1: case&quot;,&quot;ID: cas4127 \\n Trait 1: case&quot;,&quot;ID: cas4128 \\n Trait 1: case&quot;,&quot;ID: cas4129 \\n Trait 1: case&quot;,&quot;ID: cas4130 \\n Trait 1: case&quot;,&quot;ID: cas4131 \\n Trait 1: case&quot;,&quot;ID: cas4132 \\n Trait 1: case&quot;,&quot;ID: cas4133 \\n Trait 1: case&quot;,&quot;ID: cas4134 \\n Trait 1: case&quot;,&quot;ID: con4137 \\n Trait 1: case&quot;,&quot;ID: cas4139 \\n Trait 1: case&quot;,&quot;ID: cas4140 \\n Trait 1: case&quot;,&quot;ID: cas5145 \\n Trait 1: case&quot;,&quot;ID: cas5147 \\n Trait 1: case&quot;,&quot;ID: cas5150 \\n Trait 1: case&quot;,&quot;ID: cas5152 \\n Trait 1: case&quot;,&quot;ID: cas5153 \\n Trait 1: case&quot;,&quot;ID: cas5154 \\n Trait 1: case&quot;,&quot;ID: cas5155 \\n Trait 1: case&quot;,&quot;ID: cas5156 \\n Trait 1: case&quot;,&quot;ID: cas5162 \\n Trait 1: case&quot;,&quot;ID: cas5163 \\n Trait 1: case&quot;,&quot;ID: cas5164 \\n Trait 1: case&quot;,&quot;ID: cas5166 \\n Trait 1: case&quot;,&quot;ID: cas5168 \\n Trait 1: case&quot;,&quot;ID: cas5169 \\n Trait 1: case&quot;,&quot;ID: cas5170 \\n Trait 1: case&quot;,&quot;ID: cas5173 \\n Trait 1: case&quot;,&quot;ID: cas5176 \\n Trait 1: case&quot;,&quot;ID: cas5177 \\n Trait 1: case&quot;,&quot;ID: cas5178 \\n Trait 1: case&quot;,&quot;ID: cas5179 \\n Trait 1: case&quot;,&quot;ID: cas5180 \\n Trait 1: case&quot;,&quot;ID: cas5181 \\n Trait 1: case&quot;,&quot;ID: cas5183 \\n Trait 1: case&quot;,&quot;ID: cas5184 \\n Trait 1: case&quot;,&quot;ID: cas5185 \\n Trait 1: case&quot;,&quot;ID: cas5186 \\n Trait 1: case&quot;,&quot;ID: cas5187 \\n Trait 1: case&quot;,&quot;ID: cas5188 \\n Trait 1: case&quot;,&quot;ID: cas5189 \\n Trait 1: case&quot;,&quot;ID: cas5190 \\n Trait 1: case&quot;,&quot;ID: cas5191 \\n Trait 1: case&quot;,&quot;ID: cas5192 \\n Trait 1: case&quot;,&quot;ID: cas3067 \\n Trait 1: case&quot;,&quot;ID: cas4109 \\n Trait 1: case&quot;,&quot;ID: con1002 \\n Trait 2: control&quot;,&quot;ID: con1004 \\n Trait 2: control&quot;,&quot;ID: con1006 \\n Trait 2: control&quot;,&quot;ID: con1007 \\n Trait 2: control&quot;,&quot;ID: con1008 \\n Trait 2: control&quot;,&quot;ID: con1009 \\n Trait 2: control&quot;,&quot;ID: con1011 \\n Trait 2: control&quot;,&quot;ID: con1016 \\n Trait 2: control&quot;,&quot;ID: con2026 \\n Trait 2: control&quot;,&quot;ID: con2030 \\n Trait 2: control&quot;,&quot;ID: con2031 \\n Trait 2: control&quot;,&quot;ID: con2036 \\n Trait 2: control&quot;,&quot;ID: con2037 \\n Trait 2: control&quot;,&quot;ID: con2042 \\n Trait 2: control&quot;,&quot;ID: con2046 \\n Trait 2: control&quot;,&quot;ID: con2047 \\n Trait 2: control&quot;,&quot;ID: con3063 \\n Trait 2: control&quot;,&quot;ID: con3064 \\n Trait 2: control&quot;,&quot;ID: con3066 \\n Trait 2: control&quot;,&quot;ID: con3068 \\n Trait 2: control&quot;,&quot;ID: con3069 \\n Trait 2: control&quot;,&quot;ID: con3070 \\n Trait 2: control&quot;,&quot;ID: con3071 \\n Trait 2: control&quot;,&quot;ID: con3087 \\n Trait 2: control&quot;,&quot;ID: con3088 \\n Trait 2: control&quot;,&quot;ID: con3090 \\n Trait 2: control&quot;,&quot;ID: con3091 \\n Trait 2: control&quot;,&quot;ID: con3093 \\n Trait 2: control&quot;,&quot;ID: con3094 \\n Trait 2: control&quot;,&quot;ID: con3095 \\n Trait 2: control&quot;,&quot;ID: con4110 \\n Trait 2: control&quot;,&quot;ID: con4113 \\n Trait 2: control&quot;,&quot;ID: con4114 \\n Trait 2: control&quot;,&quot;ID: con4117 \\n Trait 2: control&quot;,&quot;ID: con4118 \\n Trait 2: control&quot;,&quot;ID: con4119 \\n Trait 2: control&quot;,&quot;ID: con4120 \\n Trait 2: control&quot;,&quot;ID: con4135 \\n Trait 2: control&quot;,&quot;ID: con4136 \\n Trait 2: control&quot;,&quot;ID: con4138 \\n Trait 2: control&quot;,&quot;ID: con4141 \\n Trait 2: control&quot;,&quot;ID: con4142 \\n Trait 2: control&quot;,&quot;ID: con4143 \\n Trait 2: control&quot;,&quot;ID: con4144 \\n Trait 2: control&quot;,&quot;ID: con5146 \\n Trait 2: control&quot;,&quot;ID: con5148 \\n Trait 2: control&quot;,&quot;ID: con5149 \\n Trait 2: control&quot;,&quot;ID: con5151 \\n Trait 2: control&quot;,&quot;ID: con5157 \\n Trait 2: control&quot;,&quot;ID: con5158 \\n Trait 2: control&quot;,&quot;ID: con5159 \\n Trait 2: control&quot;,&quot;ID: con5160 \\n Trait 2: control&quot;,&quot;ID: con5161 \\n Trait 2: control&quot;,&quot;ID: con5165 \\n Trait 2: control&quot;,&quot;ID: con5167 \\n Trait 2: control&quot;,&quot;ID: con5171 \\n Trait 2: control&quot;,&quot;ID: con5172 \\n Trait 2: control&quot;,&quot;ID: con5174 \\n Trait 2: control&quot;,&quot;ID: con5175 \\n Trait 2: control&quot;,&quot;ID: con5182 \\n Trait 2: control&quot;,&quot;ID: con4111 \\n Trait 2: control&quot;]],&quot;showscale&quot;:false,&quot;x&quot;:[1,2,3,4,5,6,7,8,9,10,11,12,13,14,15,16,17,18,19,20,21,22,23,24,25,26,27,28,29,30,31,32,33,34,35,36,37,38,39,40,41,42,43,44,45,46,47,48,49,50,51,52,53,54,55,56,57,58,59,60,61,62,63,64,65,66,67,68,69,70,71,72,73,74,75,76,77,78,79,80,81,82,83,84,85,86,87,88,89,90,91,92,93,94,95,96,97,98,99,100,101,102,103,104,105,106,107,108,109,110,111,112,113,114,115,116,117,118,119,120,121,122,123,124,125,126,127,128,129,130,131,132,133,134,135,136,137,138,139,140,141,142,143,144,145,146,147,148,149,150,151,152,153,154,155,156,157,158,159,160,161,162,163,164,165,166,167,168,169,170,171,172,173,174,175,176,177,178,179,180,181,182,183,184,185,186,187,188,189,190,191],&quot;gridcolor&quot;:&quot;#E2E2E2&quot;,&quot;zmin&quot;:-2,&quot;z&quot;:[[0,0,0,0,0,-1,-1],[0,1,1,1,0,-1,-1],[1,1,0,0,0,-1,-1],[1,1,1,1,0,-1,-1],[0,0,0,0,0,-1,-1],[1,1,1,1,0,-1,-1],[1,1,1,1,0,-1,-1],[1,1,0,0,0,-1,-1],[1,1,1,1,0,-1,-1],[1,1,1,1,0,-1,-1],[1,1,0,0,0,-1,-1],[0,1,0,0,0,-1,-1],[0,0,1,0,0,-1,-1],[1,1,1,1,0,-1,-1],[1,1,1,1,0,-1,-1],[0,1,0,0,0,-1,-1],[0,0,1,1,0,-1,-1],[0,0,0,0,0,-1,-1],[0,0,1,1,0,-1,-1],[0,1,1,1,0,-1,-1],[0,0,1,0,0,-1,-1],[0,0,1,1,0,-1,-1],[0,0,0,0,0,-1,-1],[0,0,0,0,1,-1,-1],[1,1,1,1,1,-1,-1],[0,1,1,1,0,-1,-1],[1,1,1,1,3,-1,-1],[0,0,1,1,0,-1,-1],[0,0,1,1,0,-1,-1],[0,0,0,0,0,-1,-1],[0,0,0,0,0,-1,-1],[0,1,1,1,3,-1,-1],[1,1,1,1,1,-1,-1],[0,0,1,1,1,-1,-1],[1,1,1,1,1,-1,-1],[0,3,1,1,1,-1,-1],[1,1,1,1,1,-1,-1],[0,0,1,1,2,-1,-1],[1,1,1,1,1,-1,-1],[0,0,1,1,0,-1,-1],[1,1,1,1,1,-1,-1],[0,0,0,0,0,-1,-1],[0,0,0,0,0,-1,-1],[0,0,1,1,1,-1,-1],[1,0,1,1,1,-1,-1],[1,1,0,0,0,-1,-1],[1,1,0,1,1,-1,-1],[0,1,1,1,1,-1,-1],[0,0,1,1,1,-1,-1],[1,1,1,1,1,-1,-1],[1,0,1,1,1,-1,-1],[1,1,2,1,1,-1,-1],[0,0,1,3,1,-1,-1],[0,1,0,0,1,-1,-1],[0,0,1,1,1,-1,-1],[1,1,0,1,1,-1,-1],[0,1,2,1,1,-1,-1],[0,0,0,1,1,-1,-1],[0,0,0,0,0,-1,-1],[0,0,0,0,1,-1,-1],[1,1,1,1,1,-1,-1],[1,1,1,1,1,-1,-1],[0,1,0,0,1,-1,-1],[1,1,1,1,1,-1,-1],[0,1,1,1,1,-1,-1],[1,0,2,2,1,-1,-1],[0,0,0,0,1,-1,-1],[0,1,0,0,1,-1,-1],[0,0,1,1,1,-1,-1],[0,0,0,1,1,-1,-1],[0,0,1,1,1,-1,-1],[0,0,0,0,1,-1,-1],[0,0,1,1,1,-1,-1],[0,0,1,1,1,-1,-1],[1,1,1,1,1,-1,-1],[1,0,1,1,1,-1,-1],[0,1,0,1,1,-1,-1],[1,1,1,1,1,-1,-1],[0,0,0,0,1,-1,-1],[1,1,1,1,2,-2,-1],[0,0,1,1,1,-2,-1],[0,1,1,1,2,-2,-1],[0,0,1,1,1,-2,-1],[1,1,1,1,1,-2,-1],[0,3,1,1,1,-2,-1],[0,0,1,1,2,-2,-1],[0,1,1,1,1,-2,-1],[0,0,1,1,1,-2,-1],[1,1,1,1,1,-2,-1],[1,1,1,1,1,-2,-1],[0,0,1,1,1,-2,-1],[0,1,1,1,1,-2,-1],[0,0,1,1,1,-2,-1],[0,1,1,1,2,-2,-1],[1,1,1,1,1,-2,-1],[0,0,1,1,1,-2,-1],[0,0,1,1,2,-2,-1],[1,1,2,1,1,-2,-1],[0,0,1,1,1,-2,-1],[0,0,1,1,2,-2,-1],[1,1,1,1,1,-2,-1],[1,3,2,2,1,-2,-1],[3,1,1,1,1,-2,-1],[0,1,1,1,1,-2,-1],[1,1,1,1,2,-2,-1],[1,1,1,1,1,-2,-1],[0,1,1,1,2,-2,-1],[0,1,1,1,2,-2,-1],[0,0,1,1,1,-2,-1],[0,0,1,1,1,-2,-1],[0,0,1,1,1,-2,-1],[0,0,1,1,1,-2,-1],[1,1,1,1,1,-2,-1],[1,1,1,1,1,-2,-1],[1,1,1,1,1,-2,-1],[1,1,1,1,1,-2,-1],[0,0,1,1,1,-2,-1],[1,2,1,2,1,-2,-1],[0,0,1,1,1,-2,-1],[0,0,1,1,1,-2,-1],[1,0,1,1,1,-2,-1],[0,1,1,1,1,-2,-1],[1,1,1,2,1,-2,-1],[1,1,1,1,1,-2,-1],[0,0,2,1,1,-2,-1],[1,1,1,1,1,-2,-1],[0,0,1,1,1,-2,-1],[1,1,1,1,1,-2,-1],[0,0,1,1,1,-1,-1],[1,1,1,1,1,-1,-1],[0,0,1,1,0,-1,-2],[1,1,0,0,0,-1,-2],[1,1,1,1,1,-1,-2],[0,0,0,0,0,-1,-2],[0,1,0,0,0,-1,-2],[0,0,1,1,0,-1,-2],[1,0,1,1,0,-1,-2],[0,0,0,0,0,-1,-2],[0,0,1,1,0,-1,-2],[0,0,0,0,0,-1,-2],[0,0,0,0,0,-1,-2],[0,0,0,0,0,-1,-2],[0,0,1,1,0,-1,-2],[0,0,1,1,0,-1,-2],[0,0,0,0,0,-1,-2],[0,0,0,0,0,-1,-2],[0,0,1,1,1,-1,-2],[1,1,1,1,1,-1,-2],[0,0,0,1,1,-1,-2],[0,0,1,1,1,-1,-2],[1,1,1,1,1,-1,-2],[1,1,1,1,1,-1,-2],[0,0,1,1,1,-1,-2],[0,0,1,1,1,-1,-2],[1,0,1,1,1,-1,-2],[0,0,1,2,1,-1,-2],[1,2,1,1,1,-1,-2],[0,0,1,1,1,-1,-2],[1,1,1,1,1,-1,-2],[0,1,1,1,1,-1,-2],[0,0,0,0,1,-1,-2],[1,1,1,1,1,-1,-2],[1,2,1,2,1,-1,-2],[1,1,1,1,1,-1,-2],[0,0,1,1,1,-1,-2],[1,1,1,1,1,-1,-2],[1,1,1,1,1,-1,-2],[1,1,1,1,1,-2,-2],[1,0,1,2,1,-2,-2],[0,0,1,0,1,-2,-2],[1,1,1,1,1,-2,-2],[0,0,1,1,1,-2,-2],[1,1,1,1,1,-2,-2],[0,0,1,1,1,-2,-2],[1,1,2,1,1,-2,-2],[0,0,1,1,1,-2,-2],[1,0,1,1,2,-2,-2],[0,0,3,1,1,-2,-2],[1,1,1,1,2,-2,-2],[0,0,1,2,1,-2,-2],[0,1,1,1,1,-2,-2],[0,1,1,1,1,-2,-2],[1,1,1,1,1,-2,-2],[1,1,2,1,2,-2,-2],[1,1,1,1,1,-2,-2],[1,1,1,1,1,-2,-2],[1,1,1,1,2,-2,-2],[0,1,1,1,1,-2,-2],[1,1,1,1,1,-2,-2],[0,1,2,1,2,-2,-2],[1,1,3,1,1,-1,-2]],&quot;zauto&quot;:false,&quot;zmax&quot;:3,&quot;y&quot;:[1,2,3,4,5,6,7],&quot;type&quot;:&quot;heatmap&quot;,&quot;hoverinfo&quot;:&quot;text&quot;,&quot;transpose&quot;:true},{&quot;marker&quot;:{&quot;size&quot;:300},&quot;mode&quot;:&quot;text&quot;,&quot;textfont&quot;:{&quot;family&quot;:&quot;Raleway, sans-serif&quot;},&quot;textposition&quot;:&quot;middle right&quot;,&quot;y&quot;:[2.45,2.6833333333333336,2.916666666666667,3.1500000000000004,3.3833333333333337,3.8500000000000005,4.083333333333334],&quot;type&quot;:&quot;scatter&quot;,&quot;name&quot;:&quot;legend label&quot;,&quot;text&quot;:[&quot;No Call&quot;,&quot;Homozygous Reference&quot;,&quot;Heterozygous Variant&quot;,&quot;Homozygous Variant&quot;,&quot;&quot;,&quot;Trait 2&quot;,&quot;Trait 1&quot;],&quot;x&quot;:[205.32500000000002,205.32500000000002,205.32500000000002,205.32500000000002,243.52500000000003,205.32500000000002,205.32500000000002]}],{&quot;xaxis&quot;:{&quot;showgrid&quot;:false,&quot;tickangle&quot;:45,&quot;showticklabels&quot;:false,&quot;zeroline&quot;:false,&quot;tickvals&quot;:[1,2,3,4,5,6,7,8,9,10,11,12,13,14,15,16,17,18,19,20,21,22,23,24,25,26,27,28,29,30,31,32,33,34,35,36,37,38,39,40,41,42,43,44,45,46,47,48,49,50,51,52,53,54,55,56,57,58,59,60,61,62,63,64,65,66,67,68,69,70,71,72,73,74,75,76,77,78,79,80,81,82,83,84,85,86,87,88,89,90,91,92,93,94,95,96,97,98,99,100,101,102,103,104,105,106,107,108,109,110,111,112,113,114,115,116,117,118,119,120,121,122,123,124,125,126,127,128,129,130,131,132,133,134,135,136,137,138,139,140,141,142,143,144,145,146,147,148,149,150,151,152,153,154,155,156,157,158,159,160,161,162,163,164,165,166,167,168,169,170,171,172,173,174,175,176,177,178,179,180,181,182,183,184,185,186,187,188,189,190,191],&quot;title&quot;:&quot;Sample ID (Grouped by case | control)&quot;,&quot;range&quot;:[[1,2,3,4,5,6,7,8,9,10,11,12,13,14,15,16,17,18,19,20,21,22,23,24,25,26,27,28,29,30,31,32,33,34,35,36,37,38,39,40,41,42,43,44,45,46,47,48,49,50,51,52,53,54,55,56,57,58,59,60,61,62,63,64,65,66,67,68,69,70,71,72,73,74,75,76,77,78,79,80,81,82,83,84,85,86,87,88,89,90,91,92,93,94,95,96,97,98,99,100,101,102,103,104,105,106,107,108,109,110,111,112,113,114,115,116,117,118,119,120,121,122,123,124,125,126,127,128,129,130,131,132,133,134,135,136,137,138,139,140,141,142,143,144,145,146,147,148,149,150,151,152,153,154,155,156,157,158,159,160,161,162,163,164,165,166,167,168,169,170,171,172,173,174,175,176,177,178,179,180,181,182,183,184,185,186,187,188,189,190,191]],&quot;ticktext&quot;:[[&quot;cas1001&quot;],[&quot;cas1003&quot;],[&quot;cas1005&quot;],[&quot;cas1010&quot;],[&quot;cas1012&quot;],[&quot;cas1013&quot;],[&quot;cas1014&quot;],[&quot;cas1015&quot;],[&quot;cas1017&quot;],[&quot;cas1018&quot;],[&quot;cas1019&quot;],[&quot;cas1020&quot;],[&quot;cas1021&quot;],[&quot;cas1022&quot;],[&quot;cas1023&quot;],[&quot;cas1024&quot;],[&quot;cas2025&quot;],[&quot;cas2027&quot;],[&quot;cas2028&quot;],[&quot;cas2029&quot;],[&quot;cas2032&quot;],[&quot;cas2033&quot;],[&quot;cas2034&quot;],[&quot;cas2035&quot;],[&quot;cas2038&quot;],[&quot;cas2039&quot;],[&quot;cas2040&quot;],[&quot;cas2041&quot;],[&quot;cas2043&quot;],[&quot;cas2044&quot;],[&quot;cas2045&quot;],[&quot;cas2048&quot;],[&quot;cas3050&quot;],[&quot;cas3051&quot;],[&quot;cas3052&quot;],[&quot;cas3053&quot;],[&quot;cas3054&quot;],[&quot;cas3055&quot;],[&quot;cas3056&quot;],[&quot;cas3057&quot;],[&quot;cas3058&quot;],[&quot;cas3059&quot;],[&quot;cas3060&quot;],[&quot;cas3061&quot;],[&quot;cas3062&quot;],[&quot;cas3065&quot;],[&quot;cas3072&quot;],[&quot;cas3073&quot;],[&quot;cas3074&quot;],[&quot;cas3075&quot;],[&quot;cas3076&quot;],[&quot;cas3077&quot;],[&quot;cas3078&quot;],[&quot;cas3079&quot;],[&quot;cas3080&quot;],[&quot;cas3081&quot;],[&quot;cas3082&quot;],[&quot;cas3083&quot;],[&quot;cas3084&quot;],[&quot;cas3085&quot;],[&quot;cas3086&quot;],[&quot;cas3089&quot;],[&quot;cas3092&quot;],[&quot;cas3096&quot;],[&quot;cas4097&quot;],[&quot;cas4098&quot;],[&quot;cas4099&quot;],[&quot;cas4100&quot;],[&quot;cas4101&quot;],[&quot;cas4102&quot;],[&quot;cas4103&quot;],[&quot;cas4104&quot;],[&quot;cas4105&quot;],[&quot;cas4106&quot;],[&quot;cas4107&quot;],[&quot;cas4108&quot;],[&quot;cas4112&quot;],[&quot;cas4115&quot;],[&quot;cas4116&quot;],[&quot;cas4121&quot;],[&quot;cas4122&quot;],[&quot;cas4123&quot;],[&quot;cas4124&quot;],[&quot;cas4125&quot;],[&quot;cas4126&quot;],[&quot;cas4127&quot;],[&quot;cas4128&quot;],[&quot;cas4129&quot;],[&quot;cas4130&quot;],[&quot;cas4131&quot;],[&quot;cas4132&quot;],[&quot;cas4133&quot;],[&quot;cas4134&quot;],[&quot;con4137&quot;],[&quot;cas4139&quot;],[&quot;cas4140&quot;],[&quot;cas5145&quot;],[&quot;cas5147&quot;],[&quot;cas5150&quot;],[&quot;cas5152&quot;],[&quot;cas5153&quot;],[&quot;cas5154&quot;],[&quot;cas5155&quot;],[&quot;cas5156&quot;],[&quot;cas5162&quot;],[&quot;cas5163&quot;],[&quot;cas5164&quot;],[&quot;cas5166&quot;],[&quot;cas5168&quot;],[&quot;cas5169&quot;],[&quot;cas5170&quot;],[&quot;cas5173&quot;],[&quot;cas5176&quot;],[&quot;cas5177&quot;],[&quot;cas5178&quot;],[&quot;cas5179&quot;],[&quot;cas5180&quot;],[&quot;cas5181&quot;],[&quot;cas5183&quot;],[&quot;cas5184&quot;],[&quot;cas5185&quot;],[&quot;cas5186&quot;],[&quot;cas5187&quot;],[&quot;cas5188&quot;],[&quot;cas5189&quot;],[&quot;cas5190&quot;],[&quot;cas5191&quot;],[&quot;cas5192&quot;],[&quot;cas3067&quot;],[&quot;cas4109&quot;],[&quot;con1002&quot;],[&quot;con1004&quot;],[&quot;con1006&quot;],[&quot;con1007&quot;],[&quot;con1008&quot;],[&quot;con1009&quot;],[&quot;con1011&quot;],[&quot;con1016&quot;],[&quot;con2026&quot;],[&quot;con2030&quot;],[&quot;con2031&quot;],[&quot;con2036&quot;],[&quot;con2037&quot;],[&quot;con2042&quot;],[&quot;con2046&quot;],[&quot;con2047&quot;],[&quot;con3063&quot;],[&quot;con3064&quot;],[&quot;con3066&quot;],[&quot;con3068&quot;],[&quot;con3069&quot;],[&quot;con3070&quot;],[&quot;con3071&quot;],[&quot;con3087&quot;],[&quot;con3088&quot;],[&quot;con3090&quot;],[&quot;con3091&quot;],[&quot;con3093&quot;],[&quot;con3094&quot;],[&quot;con3095&quot;],[&quot;con4110&quot;],[&quot;con4113&quot;],[&quot;con4114&quot;],[&quot;con4117&quot;],[&quot;con4118&quot;],[&quot;con4119&quot;],[&quot;con4120&quot;],[&quot;con4135&quot;],[&quot;con4136&quot;],[&quot;con4138&quot;],[&quot;con4141&quot;],[&quot;con4142&quot;],[&quot;con4143&quot;],[&quot;con4144&quot;],[&quot;con5146&quot;],[&quot;con5148&quot;],[&quot;con5149&quot;],[&quot;con5151&quot;],[&quot;con5157&quot;],[&quot;con5158&quot;],[&quot;con5159&quot;],[&quot;con5160&quot;],[&quot;con5161&quot;],[&quot;con5165&quot;],[&quot;con5167&quot;],[&quot;con5171&quot;],[&quot;con5172&quot;],[&quot;con5174&quot;],[&quot;con5175&quot;],[&quot;con5182&quot;],[&quot;con4111&quot;]]},&quot;shapes&quot;:[{&quot;x0&quot;:195.775,&quot;fillcolor&quot;:&quot;rgb(251,231,65)&quot;,&quot;line&quot;:{&quot;color&quot;:&quot;black&quot;},&quot;type&quot;:&quot;rect&quot;,&quot;y0&quot;:3.0333333333333337,&quot;y1&quot;:3.266666666666667,&quot;opacity&quot;:1.0,&quot;x1&quot;:200.55},{&quot;x0&quot;:195.775,&quot;fillcolor&quot;:&quot;rgb(65,165,137)&quot;,&quot;line&quot;:{&quot;color&quot;:&quot;black&quot;},&quot;type&quot;:&quot;rect&quot;,&quot;y0&quot;:2.8000000000000003,&quot;y1&quot;:3.0333333333333337,&quot;opacity&quot;:1.0,&quot;x1&quot;:200.55},{&quot;x0&quot;:195.775,&quot;fillcolor&quot;:&quot;rgb(51,106,145)&quot;,&quot;line&quot;:{&quot;color&quot;:&quot;black&quot;},&quot;type&quot;:&quot;rect&quot;,&quot;y0&quot;:2.566666666666667,&quot;y1&quot;:2.8000000000000003,&quot;opacity&quot;:1.0,&quot;x1&quot;:200.55},{&quot;x0&quot;:195.775,&quot;fillcolor&quot;:&quot;rgb(255,255,255)&quot;,&quot;line&quot;:{&quot;color&quot;:&quot;black&quot;},&quot;type&quot;:&quot;rect&quot;,&quot;y0&quot;:2.3333333333333335,&quot;y1&quot;:2.566666666666667,&quot;opacity&quot;:1.0,&quot;x1&quot;:200.55},{&quot;x0&quot;:195.775,&quot;fillcolor&quot;:&quot;rgb(151, 154, 154)&quot;,&quot;line&quot;:{&quot;color&quot;:&quot;black&quot;},&quot;type&quot;:&quot;rect&quot;,&quot;y0&quot;:3.733333333333334,&quot;y1&quot;:3.9666666666666672,&quot;opacity&quot;:1.0,&quot;x1&quot;:200.55},{&quot;x0&quot;:195.775,&quot;fillcolor&quot;:&quot;rgb(208, 211, 212)&quot;,&quot;line&quot;:{&quot;color&quot;:&quot;black&quot;},&quot;type&quot;:&quot;rect&quot;,&quot;y0&quot;:3.9666666666666672,&quot;y1&quot;:4.2,&quot;opacity&quot;:1.0,&quot;x1&quot;:200.55}],&quot;margin&quot;:{&quot;l&quot;:50,&quot;b&quot;:50,&quot;r&quot;:50,&quot;t&quot;:60},&quot;title&quot;:&quot;Genotype test 4X 191.vcf&quot;,&quot;yaxis&quot;:{&quot;showgrid&quot;:false,&quot;zeroline&quot;:false,&quot;tickvals&quot;:[1,6,7],&quot;tickfont&quot;:{&quot;size&quot;:&quot;10&quot;},&quot;hovermode&quot;:true,&quot;title&quot;:&quot;Genomic Location&quot;,&quot;range&quot;:[[1,2,3,4,5,6,7]],&quot;ticktext&quot;:[&quot;4&quot;,&quot;seq_site_1,seq_site_2&quot;,&quot;case,control&quot;],&quot;automargin&quot;:true}},{}); gd.on(&quot;plotly_hover&quot;,(function (data){var filtered_data=WebIO.PlotlyCommands.filterEventData(gd,data,&quot;hover&quot;); return !(filtered_data.isnil) ? (WebIO.setval({&quot;name&quot;:&quot;hover&quot;,&quot;scope&quot;:&quot;scope-fc0a8873-72b8-42fd-a3f3-2dd837cc641a&quot;,&quot;id&quot;:&quot;ob_01&quot;,&quot;type&quot;:&quot;observable&quot;},filtered_data.out)) : undefined})); gd.on(&quot;plotly_unhover&quot;,(function (){return WebIO.setval({&quot;name&quot;:&quot;hover&quot;,&quot;scope&quot;:&quot;scope-fc0a8873-72b8-42fd-a3f3-2dd837cc641a&quot;,&quot;id&quot;:&quot;ob_01&quot;,&quot;type&quot;:&quot;observable&quot;},{})})); gd.on(&quot;plotly_selected&quot;,(function (data){var filtered_data=WebIO.PlotlyCommands.filterEventData(gd,data,&quot;selected&quot;); return !(filtered_data.isnil) ? (WebIO.setval({&quot;name&quot;:&quot;selected&quot;,&quot;scope&quot;:&quot;scope-fc0a8873-72b8-42fd-a3f3-2dd837cc641a&quot;,&quot;id&quot;:&quot;ob_02&quot;,&quot;type&quot;:&quot;observable&quot;},filtered_data.out)) : undefined})); gd.on(&quot;plotly_deselect&quot;,(function (){return WebIO.setval({&quot;name&quot;:&quot;selected&quot;,&quot;scope&quot;:&quot;scope-fc0a8873-72b8-42fd-a3f3-2dd837cc641a&quot;,&quot;id&quot;:&quot;ob_02&quot;,&quot;type&quot;:&quot;observable&quot;},{})})); gd.on(&quot;plotly_relayout&quot;,(function (data){var filtered_data=WebIO.PlotlyCommands.filterEventData(gd,data,&quot;relayout&quot;); return !(filtered_data.isnil) ? (WebIO.setval({&quot;name&quot;:&quot;relayout&quot;,&quot;scope&quot;:&quot;scope-fc0a8873-72b8-42fd-a3f3-2dd837cc641a&quot;,&quot;id&quot;:&quot;ob_04&quot;,&quot;type&quot;:&quot;observable&quot;},filtered_data.out)) : undefined})); return gd.on(&quot;plotly_click&quot;,(function (data){var filtered_data=WebIO.PlotlyCommands.filterEventData(gd,data,&quot;click&quot;); return !(filtered_data.isnil) ? (WebIO.setval({&quot;name&quot;:&quot;click&quot;,&quot;scope&quot;:&quot;scope-fc0a8873-72b8-42fd-a3f3-2dd837cc641a&quot;,&quot;id&quot;:&quot;ob_03&quot;,&quot;type&quot;:&quot;observable&quot;},filtered_data.out)) : undefined}))})]},&quot;_downloadImage&quot;:[(function (options){return this.Plotly.downloadImage(this.plotElem,options)})],&quot;_commands&quot;:[(function (args){var fn=args.shift(); var elem=this.plotElem; var Plotly=this.Plotly; args.unshift(elem); return Plotly[fn].apply(this,args)})]},&quot;systemjs_options&quot;:null,&quot;observables&quot;:{&quot;_toImage&quot;:{&quot;sync&quot;:false,&quot;id&quot;:&quot;ob_08&quot;,&quot;value&quot;:{}},&quot;hover&quot;:{&quot;sync&quot;:false,&quot;id&quot;:&quot;ob_01&quot;,&quot;value&quot;:{}},&quot;selected&quot;:{&quot;sync&quot;:false,&quot;id&quot;:&quot;ob_02&quot;,&quot;value&quot;:{}},&quot;__gd_contents&quot;:{&quot;sync&quot;:false,&quot;id&quot;:&quot;ob_06&quot;,&quot;value&quot;:{}},&quot;click&quot;:{&quot;sync&quot;:false,&quot;id&quot;:&quot;ob_03&quot;,&quot;value&quot;:{}},&quot;image&quot;:{&quot;sync&quot;:true,&quot;id&quot;:&quot;ob_05&quot;,&quot;value&quot;:&quot;&quot;},&quot;__get_gd_contents&quot;:{&quot;sync&quot;:false,&quot;id&quot;:&quot;ob_10&quot;,&quot;value&quot;:&quot;&quot;},&quot;_downloadImage&quot;:{&quot;sync&quot;:false,&quot;id&quot;:&quot;ob_09&quot;,&quot;value&quot;:{}},&quot;relayout&quot;:{&quot;sync&quot;:false,&quot;id&quot;:&quot;ob_04&quot;,&quot;value&quot;:{}},&quot;_commands&quot;:{&quot;sync&quot;:false,&quot;id&quot;:&quot;ob_07&quot;,&quot;value&quot;:[]}}},&quot;children&quot;:[{&quot;props&quot;:{&quot;id&quot;:&quot;plot-988dbf8b-0d1c-4af0-8475-f45cf763ee5b&quot;},&quot;nodeType&quot;:&quot;DOM&quot;,&quot;type&quot;:&quot;node&quot;,&quot;instanceArgs&quot;:{&quot;namespace&quot;:&quot;html&quot;,&quot;tag&quot;:&quot;div&quot;},&quot;children&quot;:[]}]})</unsafe-script>"
      ],
      "text/plain": [
       "data: [\n",
       "  \"heatmap with fields colorbar, colorscale, gridcolor, hoverinfo, showscale, text, transpose, type, x, y, z, zauto, zmax, and zmin\",\n",
       "  \"scatter with fields marker, mode, name, text, textfont, textposition, type, x, and y\"\n",
       "]\n",
       "\n",
       "layout: \"layout with fields margin, shapes, title, xaxis, and yaxis\"\n",
       "\n"
      ]
     },
     "metadata": {},
     "output_type": "display_data"
    },
    {
     "name": "stdout",
     "output_type": "stream",
     "text": [
      "Saving genotype heatmap\n",
      "\n",
      "Grouping samples by case,control\n",
      "\n"
     ]
    },
    {
     "data": {
      "application/vnd.plotly.v1+json": {
       "data": [
        {
         "colorbar": {
          "ticktext": [
           "Trait 2",
           "Trait 1",
           "No Call",
           "0",
           "20",
           "40",
           "60",
           "80",
           "100+"
          ],
          "tickvals": [
           -60,
           -40,
           -20,
           0,
           20,
           40,
           60,
           80,
           99
          ],
          "title": "Depth / Trait"
         },
         "colorscale": [
          [
           0,
           "rgb(208, 211, 212)"
          ],
          [
           0.125,
           "rgb(151, 154, 154)"
          ],
          [
           0.25,
           "rgb(255, 255, 255)"
          ],
          [
           0.4,
           "rgb(153,231,255)"
          ],
          [
           0.5,
           "rgb(79,146,255)"
          ],
          [
           0.5625,
           "rgb(43,124,255)"
          ],
          [
           1,
           "rgb(0,64,168)"
          ]
         ],
         "gridcolor": "#E2E2E2",
         "hoverinfo": "text",
         "showscale": false,
         "text": [
          [
           "ID: cas1001 \n chr4,3076150 \n DP: 0",
           "ID: cas1003 \n chr4,3076150 \n DP: 0",
           "ID: cas1005 \n chr4,3076150 \n DP: 1",
           "ID: cas1010 \n chr4,3076150 \n DP: 1",
           "ID: cas1012 \n chr4,3076150 \n DP: 0",
           "ID: cas1013 \n chr4,3076150 \n DP: 1",
           "ID: cas1014 \n chr4,3076150 \n DP: 2",
           "ID: cas1015 \n chr4,3076150 \n DP: 1",
           "ID: cas1017 \n chr4,3076150 \n DP: 2",
           "ID: cas1018 \n chr4,3076150 \n DP: 1",
           "ID: cas1019 \n chr4,3076150 \n DP: 1",
           "ID: cas1020 \n chr4,3076150 \n DP: 0",
           "ID: cas1021 \n chr4,3076150 \n DP: 0",
           "ID: cas1022 \n chr4,3076150 \n DP: 4",
           "ID: cas1023 \n chr4,3076150 \n DP: 2",
           "ID: cas1024 \n chr4,3076150 \n DP: 0",
           "ID: cas2025 \n chr4,3076150 \n DP: 0",
           "ID: cas2027 \n chr4,3076150 \n DP: 0",
           "ID: cas2028 \n chr4,3076150 \n DP: 0",
           "ID: cas2029 \n chr4,3076150 \n DP: 0",
           "ID: cas2032 \n chr4,3076150 \n DP: 0",
           "ID: cas2033 \n chr4,3076150 \n DP: 0",
           "ID: cas2034 \n chr4,3076150 \n DP: 0",
           "ID: cas2035 \n chr4,3076150 \n DP: 0",
           "ID: cas2038 \n chr4,3076150 \n DP: 1",
           "ID: cas2039 \n chr4,3076150 \n DP: 0",
           "ID: cas2040 \n chr4,3076150 \n DP: 1",
           "ID: cas2041 \n chr4,3076150 \n DP: 0",
           "ID: cas2043 \n chr4,3076150 \n DP: 0",
           "ID: cas2044 \n chr4,3076150 \n DP: 0",
           "ID: cas2045 \n chr4,3076150 \n DP: 0",
           "ID: cas2048 \n chr4,3076150 \n DP: 0",
           "ID: cas3050 \n chr4,3076150 \n DP: 1",
           "ID: cas3051 \n chr4,3076150 \n DP: 0",
           "ID: cas3052 \n chr4,3076150 \n DP: 1",
           "ID: cas3053 \n chr4,3076150 \n DP: 0",
           "ID: cas3054 \n chr4,3076150 \n DP: 1",
           "ID: cas3055 \n chr4,3076150 \n DP: 0",
           "ID: cas3056 \n chr4,3076150 \n DP: 10",
           "ID: cas3057 \n chr4,3076150 \n DP: 0",
           "ID: cas3058 \n chr4,3076150 \n DP: 1",
           "ID: cas3059 \n chr4,3076150 \n DP: 0",
           "ID: cas3060 \n chr4,3076150 \n DP: 0",
           "ID: cas3061 \n chr4,3076150 \n DP: 0",
           "ID: cas3062 \n chr4,3076150 \n DP: 1",
           "ID: cas3065 \n chr4,3076150 \n DP: 1",
           "ID: cas3072 \n chr4,3076150 \n DP: 4",
           "ID: cas3073 \n chr4,3076150 \n DP: 0",
           "ID: cas3074 \n chr4,3076150 \n DP: 0",
           "ID: cas3075 \n chr4,3076150 \n DP: 1",
           "ID: cas3076 \n chr4,3076150 \n DP: 1",
           "ID: cas3077 \n chr4,3076150 \n DP: 1",
           "ID: cas3078 \n chr4,3076150 \n DP: 0",
           "ID: cas3079 \n chr4,3076150 \n DP: 0",
           "ID: cas3080 \n chr4,3076150 \n DP: 0",
           "ID: cas3081 \n chr4,3076150 \n DP: 4",
           "ID: cas3082 \n chr4,3076150 \n DP: 0",
           "ID: cas3083 \n chr4,3076150 \n DP: 0",
           "ID: cas3084 \n chr4,3076150 \n DP: 0",
           "ID: cas3085 \n chr4,3076150 \n DP: 0",
           "ID: cas3086 \n chr4,3076150 \n DP: 4",
           "ID: cas3089 \n chr4,3076150 \n DP: 1",
           "ID: cas3092 \n chr4,3076150 \n DP: 0",
           "ID: cas3096 \n chr4,3076150 \n DP: 1",
           "ID: cas4097 \n chr4,3076150 \n DP: 0",
           "ID: cas4098 \n chr4,3076150 \n DP: 1",
           "ID: cas4099 \n chr4,3076150 \n DP: 0",
           "ID: cas4100 \n chr4,3076150 \n DP: 0",
           "ID: cas4101 \n chr4,3076150 \n DP: 0",
           "ID: cas4102 \n chr4,3076150 \n DP: 0",
           "ID: cas4103 \n chr4,3076150 \n DP: 0",
           "ID: cas4104 \n chr4,3076150 \n DP: 0",
           "ID: cas4105 \n chr4,3076150 \n DP: 0",
           "ID: cas4106 \n chr4,3076150 \n DP: 0",
           "ID: cas4107 \n chr4,3076150 \n DP: 2",
           "ID: cas4108 \n chr4,3076150 \n DP: 1",
           "ID: cas4112 \n chr4,3076150 \n DP: 0",
           "ID: cas4115 \n chr4,3076150 \n DP: 3",
           "ID: cas4116 \n chr4,3076150 \n DP: 0",
           "ID: cas4121 \n chr4,3076150 \n DP: 4",
           "ID: cas4122 \n chr4,3076150 \n DP: 0",
           "ID: cas4123 \n chr4,3076150 \n DP: 0",
           "ID: cas4124 \n chr4,3076150 \n DP: 0",
           "ID: cas4125 \n chr4,3076150 \n DP: 2",
           "ID: cas4126 \n chr4,3076150 \n DP: 0",
           "ID: cas4127 \n chr4,3076150 \n DP: 0",
           "ID: cas4128 \n chr4,3076150 \n DP: 0",
           "ID: cas4129 \n chr4,3076150 \n DP: 0",
           "ID: cas4130 \n chr4,3076150 \n DP: 1",
           "ID: cas4131 \n chr4,3076150 \n DP: 1",
           "ID: cas4132 \n chr4,3076150 \n DP: 0",
           "ID: cas4133 \n chr4,3076150 \n DP: 0",
           "ID: cas4134 \n chr4,3076150 \n DP: 0",
           "ID: con4137 \n chr4,3076150 \n DP: 0",
           "ID: cas4139 \n chr4,3076150 \n DP: 2",
           "ID: cas4140 \n chr4,3076150 \n DP: 0",
           "ID: cas5145 \n chr4,3076150 \n DP: 0",
           "ID: cas5147 \n chr4,3076150 \n DP: 2",
           "ID: cas5150 \n chr4,3076150 \n DP: 0",
           "ID: cas5152 \n chr4,3076150 \n DP: 0",
           "ID: cas5153 \n chr4,3076150 \n DP: 3",
           "ID: cas5154 \n chr4,3076150 \n DP: 3",
           "ID: cas5155 \n chr4,3076150 \n DP: 3",
           "ID: cas5156 \n chr4,3076150 \n DP: 0",
           "ID: cas5162 \n chr4,3076150 \n DP: 2",
           "ID: cas5163 \n chr4,3076150 \n DP: 4",
           "ID: cas5164 \n chr4,3076150 \n DP: 0",
           "ID: cas5166 \n chr4,3076150 \n DP: 0",
           "ID: cas5168 \n chr4,3076150 \n DP: 0",
           "ID: cas5169 \n chr4,3076150 \n DP: 0",
           "ID: cas5170 \n chr4,3076150 \n DP: 0",
           "ID: cas5173 \n chr4,3076150 \n DP: 0",
           "ID: cas5176 \n chr4,3076150 \n DP: 5",
           "ID: cas5177 \n chr4,3076150 \n DP: 1",
           "ID: cas5178 \n chr4,3076150 \n DP: 2",
           "ID: cas5179 \n chr4,3076150 \n DP: 3",
           "ID: cas5180 \n chr4,3076150 \n DP: 0",
           "ID: cas5181 \n chr4,3076150 \n DP: 1",
           "ID: cas5183 \n chr4,3076150 \n DP: 0",
           "ID: cas5184 \n chr4,3076150 \n DP: 0",
           "ID: cas5185 \n chr4,3076150 \n DP: 1",
           "ID: cas5186 \n chr4,3076150 \n DP: 0",
           "ID: cas5187 \n chr4,3076150 \n DP: 2",
           "ID: cas5188 \n chr4,3076150 \n DP: 1",
           "ID: cas5189 \n chr4,3076150 \n DP: 0",
           "ID: cas5190 \n chr4,3076150 \n DP: 1",
           "ID: cas5191 \n chr4,3076150 \n DP: 1",
           "ID: cas5192 \n chr4,3076150 \n DP: 3",
           "ID: cas3067 \n chr4,3076150 \n DP: 0",
           "ID: cas4109 \n chr4,3076150 \n DP: 3",
           "ID: con1002 \n chr4,3076150 \n DP: 0",
           "ID: con1004 \n chr4,3076150 \n DP: 1",
           "ID: con1006 \n chr4,3076150 \n DP: 2",
           "ID: con1007 \n chr4,3076150 \n DP: 0",
           "ID: con1008 \n chr4,3076150 \n DP: 0",
           "ID: con1009 \n chr4,3076150 \n DP: 0",
           "ID: con1011 \n chr4,3076150 \n DP: 1",
           "ID: con1016 \n chr4,3076150 \n DP: 0",
           "ID: con2026 \n chr4,3076150 \n DP: 0",
           "ID: con2030 \n chr4,3076150 \n DP: 0",
           "ID: con2031 \n chr4,3076150 \n DP: 0",
           "ID: con2036 \n chr4,3076150 \n DP: 0",
           "ID: con2037 \n chr4,3076150 \n DP: 0",
           "ID: con2042 \n chr4,3076150 \n DP: 0",
           "ID: con2046 \n chr4,3076150 \n DP: 0",
           "ID: con2047 \n chr4,3076150 \n DP: 0",
           "ID: con3063 \n chr4,3076150 \n DP: 0",
           "ID: con3064 \n chr4,3076150 \n DP: 2",
           "ID: con3066 \n chr4,3076150 \n DP: 0",
           "ID: con3068 \n chr4,3076150 \n DP: 0",
           "ID: con3069 \n chr4,3076150 \n DP: 1",
           "ID: con3070 \n chr4,3076150 \n DP: 3",
           "ID: con3071 \n chr4,3076150 \n DP: 0",
           "ID: con3087 \n chr4,3076150 \n DP: 0",
           "ID: con3088 \n chr4,3076150 \n DP: 1",
           "ID: con3090 \n chr4,3076150 \n DP: 0",
           "ID: con3091 \n chr4,3076150 \n DP: 4",
           "ID: con3093 \n chr4,3076150 \n DP: 0",
           "ID: con3094 \n chr4,3076150 \n DP: 1",
           "ID: con3095 \n chr4,3076150 \n DP: 0",
           "ID: con4110 \n chr4,3076150 \n DP: 0",
           "ID: con4113 \n chr4,3076150 \n DP: 10",
           "ID: con4114 \n chr4,3076150 \n DP: 3",
           "ID: con4117 \n chr4,3076150 \n DP: 3",
           "ID: con4118 \n chr4,3076150 \n DP: 0",
           "ID: con4119 \n chr4,3076150 \n DP: 12",
           "ID: con4120 \n chr4,3076150 \n DP: 3",
           "ID: con4135 \n chr4,3076150 \n DP: 1",
           "ID: con4136 \n chr4,3076150 \n DP: 1",
           "ID: con4138 \n chr4,3076150 \n DP: 0",
           "ID: con4141 \n chr4,3076150 \n DP: 2",
           "ID: con4142 \n chr4,3076150 \n DP: 0",
           "ID: con4143 \n chr4,3076150 \n DP: 1",
           "ID: con4144 \n chr4,3076150 \n DP: 0",
           "ID: con5146 \n chr4,3076150 \n DP: 1",
           "ID: con5148 \n chr4,3076150 \n DP: 0",
           "ID: con5149 \n chr4,3076150 \n DP: 2",
           "ID: con5151 \n chr4,3076150 \n DP: 0",
           "ID: con5157 \n chr4,3076150 \n DP: 1",
           "ID: con5158 \n chr4,3076150 \n DP: 0",
           "ID: con5159 \n chr4,3076150 \n DP: 0",
           "ID: con5160 \n chr4,3076150 \n DP: 0",
           "ID: con5161 \n chr4,3076150 \n DP: 2",
           "ID: con5165 \n chr4,3076150 \n DP: 2",
           "ID: con5167 \n chr4,3076150 \n DP: 1",
           "ID: con5171 \n chr4,3076150 \n DP: 1",
           "ID: con5172 \n chr4,3076150 \n DP: 1",
           "ID: con5174 \n chr4,3076150 \n DP: 0",
           "ID: con5175 \n chr4,3076150 \n DP: 1",
           "ID: con5182 \n chr4,3076150 \n DP: 0",
           "ID: con4111 \n chr4,3076150 \n DP: 1"
          ],
          [
           "ID: cas1001 \n chr4,3076181 \n DP: 0",
           "ID: cas1003 \n chr4,3076181 \n DP: 7",
           "ID: cas1005 \n chr4,3076181 \n DP: 1",
           "ID: cas1010 \n chr4,3076181 \n DP: 2",
           "ID: cas1012 \n chr4,3076181 \n DP: 0",
           "ID: cas1013 \n chr4,3076181 \n DP: 2",
           "ID: cas1014 \n chr4,3076181 \n DP: 2",
           "ID: cas1015 \n chr4,3076181 \n DP: 1",
           "ID: cas1017 \n chr4,3076181 \n DP: 3",
           "ID: cas1018 \n chr4,3076181 \n DP: 1",
           "ID: cas1019 \n chr4,3076181 \n DP: 1",
           "ID: cas1020 \n chr4,3076181 \n DP: 1",
           "ID: cas1021 \n chr4,3076181 \n DP: 0",
           "ID: cas1022 \n chr4,3076181 \n DP: 5",
           "ID: cas1023 \n chr4,3076181 \n DP: 4",
           "ID: cas1024 \n chr4,3076181 \n DP: 1",
           "ID: cas2025 \n chr4,3076181 \n DP: 0",
           "ID: cas2027 \n chr4,3076181 \n DP: 0",
           "ID: cas2028 \n chr4,3076181 \n DP: 0",
           "ID: cas2029 \n chr4,3076181 \n DP: 1",
           "ID: cas2032 \n chr4,3076181 \n DP: 0",
           "ID: cas2033 \n chr4,3076181 \n DP: 0",
           "ID: cas2034 \n chr4,3076181 \n DP: 0",
           "ID: cas2035 \n chr4,3076181 \n DP: 0",
           "ID: cas2038 \n chr4,3076181 \n DP: 3",
           "ID: cas2039 \n chr4,3076181 \n DP: 1",
           "ID: cas2040 \n chr4,3076181 \n DP: 1",
           "ID: cas2041 \n chr4,3076181 \n DP: 0",
           "ID: cas2043 \n chr4,3076181 \n DP: 0",
           "ID: cas2044 \n chr4,3076181 \n DP: 0",
           "ID: cas2045 \n chr4,3076181 \n DP: 0",
           "ID: cas2048 \n chr4,3076181 \n DP: 1",
           "ID: cas3050 \n chr4,3076181 \n DP: 1",
           "ID: cas3051 \n chr4,3076181 \n DP: 0",
           "ID: cas3052 \n chr4,3076181 \n DP: 2",
           "ID: cas3053 \n chr4,3076181 \n DP: 2",
           "ID: cas3054 \n chr4,3076181 \n DP: 1",
           "ID: cas3055 \n chr4,3076181 \n DP: 0",
           "ID: cas3056 \n chr4,3076181 \n DP: 10",
           "ID: cas3057 \n chr4,3076181 \n DP: 0",
           "ID: cas3058 \n chr4,3076181 \n DP: 1",
           "ID: cas3059 \n chr4,3076181 \n DP: 0",
           "ID: cas3060 \n chr4,3076181 \n DP: 0",
           "ID: cas3061 \n chr4,3076181 \n DP: 0",
           "ID: cas3062 \n chr4,3076181 \n DP: 0",
           "ID: cas3065 \n chr4,3076181 \n DP: 1",
           "ID: cas3072 \n chr4,3076181 \n DP: 2",
           "ID: cas3073 \n chr4,3076181 \n DP: 1",
           "ID: cas3074 \n chr4,3076181 \n DP: 0",
           "ID: cas3075 \n chr4,3076181 \n DP: 1",
           "ID: cas3076 \n chr4,3076181 \n DP: 0",
           "ID: cas3077 \n chr4,3076181 \n DP: 2",
           "ID: cas3078 \n chr4,3076181 \n DP: 0",
           "ID: cas3079 \n chr4,3076181 \n DP: 1",
           "ID: cas3080 \n chr4,3076181 \n DP: 0",
           "ID: cas3081 \n chr4,3076181 \n DP: 2",
           "ID: cas3082 \n chr4,3076181 \n DP: 1",
           "ID: cas3083 \n chr4,3076181 \n DP: 0",
           "ID: cas3084 \n chr4,3076181 \n DP: 0",
           "ID: cas3085 \n chr4,3076181 \n DP: 0",
           "ID: cas3086 \n chr4,3076181 \n DP: 2",
           "ID: cas3089 \n chr4,3076181 \n DP: 4",
           "ID: cas3092 \n chr4,3076181 \n DP: 1",
           "ID: cas3096 \n chr4,3076181 \n DP: 2",
           "ID: cas4097 \n chr4,3076181 \n DP: 1",
           "ID: cas4098 \n chr4,3076181 \n DP: 4",
           "ID: cas4099 \n chr4,3076181 \n DP: 0",
           "ID: cas4100 \n chr4,3076181 \n DP: 1",
           "ID: cas4101 \n chr4,3076181 \n DP: 0",
           "ID: cas4102 \n chr4,3076181 \n DP: 0",
           "ID: cas4103 \n chr4,3076181 \n DP: 0",
           "ID: cas4104 \n chr4,3076181 \n DP: 0",
           "ID: cas4105 \n chr4,3076181 \n DP: 0",
           "ID: cas4106 \n chr4,3076181 \n DP: 0",
           "ID: cas4107 \n chr4,3076181 \n DP: 2",
           "ID: cas4108 \n chr4,3076181 \n DP: 0",
           "ID: cas4112 \n chr4,3076181 \n DP: 2",
           "ID: cas4115 \n chr4,3076181 \n DP: 4",
           "ID: cas4116 \n chr4,3076181 \n DP: 0",
           "ID: cas4121 \n chr4,3076181 \n DP: 7",
           "ID: cas4122 \n chr4,3076181 \n DP: 0",
           "ID: cas4123 \n chr4,3076181 \n DP: 1",
           "ID: cas4124 \n chr4,3076181 \n DP: 0",
           "ID: cas4125 \n chr4,3076181 \n DP: 4",
           "ID: cas4126 \n chr4,3076181 \n DP: 2",
           "ID: cas4127 \n chr4,3076181 \n DP: 0",
           "ID: cas4128 \n chr4,3076181 \n DP: 2",
           "ID: cas4129 \n chr4,3076181 \n DP: 0",
           "ID: cas4130 \n chr4,3076181 \n DP: 2",
           "ID: cas4131 \n chr4,3076181 \n DP: 3",
           "ID: cas4132 \n chr4,3076181 \n DP: 0",
           "ID: cas4133 \n chr4,3076181 \n DP: 2",
           "ID: cas4134 \n chr4,3076181 \n DP: 0",
           "ID: con4137 \n chr4,3076181 \n DP: 1",
           "ID: cas4139 \n chr4,3076181 \n DP: 3",
           "ID: cas4140 \n chr4,3076181 \n DP: 0",
           "ID: cas5145 \n chr4,3076181 \n DP: 0",
           "ID: cas5147 \n chr4,3076181 \n DP: 2",
           "ID: cas5150 \n chr4,3076181 \n DP: 0",
           "ID: cas5152 \n chr4,3076181 \n DP: 0",
           "ID: cas5153 \n chr4,3076181 \n DP: 7",
           "ID: cas5154 \n chr4,3076181 \n DP: 7",
           "ID: cas5155 \n chr4,3076181 \n DP: 4",
           "ID: cas5156 \n chr4,3076181 \n DP: 1",
           "ID: cas5162 \n chr4,3076181 \n DP: 2",
           "ID: cas5163 \n chr4,3076181 \n DP: 7",
           "ID: cas5164 \n chr4,3076181 \n DP: 1",
           "ID: cas5166 \n chr4,3076181 \n DP: 1",
           "ID: cas5168 \n chr4,3076181 \n DP: 0",
           "ID: cas5169 \n chr4,3076181 \n DP: 0",
           "ID: cas5170 \n chr4,3076181 \n DP: 0",
           "ID: cas5173 \n chr4,3076181 \n DP: 0",
           "ID: cas5176 \n chr4,3076181 \n DP: 5",
           "ID: cas5177 \n chr4,3076181 \n DP: 2",
           "ID: cas5178 \n chr4,3076181 \n DP: 3",
           "ID: cas5179 \n chr4,3076181 \n DP: 4",
           "ID: cas5180 \n chr4,3076181 \n DP: 0",
           "ID: cas5181 \n chr4,3076181 \n DP: 5",
           "ID: cas5183 \n chr4,3076181 \n DP: 0",
           "ID: cas5184 \n chr4,3076181 \n DP: 0",
           "ID: cas5185 \n chr4,3076181 \n DP: 2",
           "ID: cas5186 \n chr4,3076181 \n DP: 1",
           "ID: cas5187 \n chr4,3076181 \n DP: 1",
           "ID: cas5188 \n chr4,3076181 \n DP: 4",
           "ID: cas5189 \n chr4,3076181 \n DP: 0",
           "ID: cas5190 \n chr4,3076181 \n DP: 2",
           "ID: cas5191 \n chr4,3076181 \n DP: 0",
           "ID: cas5192 \n chr4,3076181 \n DP: 2",
           "ID: cas3067 \n chr4,3076181 \n DP: 0",
           "ID: cas4109 \n chr4,3076181 \n DP: 2",
           "ID: con1002 \n chr4,3076181 \n DP: 0",
           "ID: con1004 \n chr4,3076181 \n DP: 1",
           "ID: con1006 \n chr4,3076181 \n DP: 2",
           "ID: con1007 \n chr4,3076181 \n DP: 0",
           "ID: con1008 \n chr4,3076181 \n DP: 1",
           "ID: con1009 \n chr4,3076181 \n DP: 0",
           "ID: con1011 \n chr4,3076181 \n DP: 0",
           "ID: con1016 \n chr4,3076181 \n DP: 0",
           "ID: con2026 \n chr4,3076181 \n DP: 0",
           "ID: con2030 \n chr4,3076181 \n DP: 0",
           "ID: con2031 \n chr4,3076181 \n DP: 0",
           "ID: con2036 \n chr4,3076181 \n DP: 0",
           "ID: con2037 \n chr4,3076181 \n DP: 0",
           "ID: con2042 \n chr4,3076181 \n DP: 0",
           "ID: con2046 \n chr4,3076181 \n DP: 0",
           "ID: con2047 \n chr4,3076181 \n DP: 1",
           "ID: con3063 \n chr4,3076181 \n DP: 0",
           "ID: con3064 \n chr4,3076181 \n DP: 1",
           "ID: con3066 \n chr4,3076181 \n DP: 0",
           "ID: con3068 \n chr4,3076181 \n DP: 0",
           "ID: con3069 \n chr4,3076181 \n DP: 3",
           "ID: con3070 \n chr4,3076181 \n DP: 4",
           "ID: con3071 \n chr4,3076181 \n DP: 0",
           "ID: con3087 \n chr4,3076181 \n DP: 0",
           "ID: con3088 \n chr4,3076181 \n DP: 0",
           "ID: con3090 \n chr4,3076181 \n DP: 0",
           "ID: con3091 \n chr4,3076181 \n DP: 4",
           "ID: con3093 \n chr4,3076181 \n DP: 0",
           "ID: con3094 \n chr4,3076181 \n DP: 1",
           "ID: con3095 \n chr4,3076181 \n DP: 1",
           "ID: con4110 \n chr4,3076181 \n DP: 0",
           "ID: con4113 \n chr4,3076181 \n DP: 20",
           "ID: con4114 \n chr4,3076181 \n DP: 5",
           "ID: con4117 \n chr4,3076181 \n DP: 2",
           "ID: con4118 \n chr4,3076181 \n DP: 0",
           "ID: con4119 \n chr4,3076181 \n DP: 11",
           "ID: con4120 \n chr4,3076181 \n DP: 5",
           "ID: con4135 \n chr4,3076181 \n DP: 1",
           "ID: con4136 \n chr4,3076181 \n DP: 0",
           "ID: con4138 \n chr4,3076181 \n DP: 1",
           "ID: con4141 \n chr4,3076181 \n DP: 2",
           "ID: con4142 \n chr4,3076181 \n DP: 0",
           "ID: con4143 \n chr4,3076181 \n DP: 2",
           "ID: con4144 \n chr4,3076181 \n DP: 0",
           "ID: con5146 \n chr4,3076181 \n DP: 3",
           "ID: con5148 \n chr4,3076181 \n DP: 0",
           "ID: con5149 \n chr4,3076181 \n DP: 1",
           "ID: con5151 \n chr4,3076181 \n DP: 0",
           "ID: con5157 \n chr4,3076181 \n DP: 4",
           "ID: con5158 \n chr4,3076181 \n DP: 0",
           "ID: con5159 \n chr4,3076181 \n DP: 1",
           "ID: con5160 \n chr4,3076181 \n DP: 1",
           "ID: con5161 \n chr4,3076181 \n DP: 2",
           "ID: con5165 \n chr4,3076181 \n DP: 3",
           "ID: con5167 \n chr4,3076181 \n DP: 1",
           "ID: con5171 \n chr4,3076181 \n DP: 1",
           "ID: con5172 \n chr4,3076181 \n DP: 4",
           "ID: con5174 \n chr4,3076181 \n DP: 1",
           "ID: con5175 \n chr4,3076181 \n DP: 1",
           "ID: con5182 \n chr4,3076181 \n DP: 1",
           "ID: con4111 \n chr4,3076181 \n DP: 3"
          ],
          [
           "ID: cas1001 \n chr4,3076257 \n DP: 0",
           "ID: cas1003 \n chr4,3076257 \n DP: 8",
           "ID: cas1005 \n chr4,3076257 \n DP: 0",
           "ID: cas1010 \n chr4,3076257 \n DP: 4",
           "ID: cas1012 \n chr4,3076257 \n DP: 0",
           "ID: cas1013 \n chr4,3076257 \n DP: 2",
           "ID: cas1014 \n chr4,3076257 \n DP: 1",
           "ID: cas1015 \n chr4,3076257 \n DP: 0",
           "ID: cas1017 \n chr4,3076257 \n DP: 2",
           "ID: cas1018 \n chr4,3076257 \n DP: 4",
           "ID: cas1019 \n chr4,3076257 \n DP: 0",
           "ID: cas1020 \n chr4,3076257 \n DP: 0",
           "ID: cas1021 \n chr4,3076257 \n DP: 1",
           "ID: cas1022 \n chr4,3076257 \n DP: 1",
           "ID: cas1023 \n chr4,3076257 \n DP: 3",
           "ID: cas1024 \n chr4,3076257 \n DP: 0",
           "ID: cas2025 \n chr4,3076257 \n DP: 1",
           "ID: cas2027 \n chr4,3076257 \n DP: 0",
           "ID: cas2028 \n chr4,3076257 \n DP: 1",
           "ID: cas2029 \n chr4,3076257 \n DP: 2",
           "ID: cas2032 \n chr4,3076257 \n DP: 1",
           "ID: cas2033 \n chr4,3076257 \n DP: 1",
           "ID: cas2034 \n chr4,3076257 \n DP: 0",
           "ID: cas2035 \n chr4,3076257 \n DP: 0",
           "ID: cas2038 \n chr4,3076257 \n DP: 6",
           "ID: cas2039 \n chr4,3076257 \n DP: 1",
           "ID: cas2040 \n chr4,3076257 \n DP: 3",
           "ID: cas2041 \n chr4,3076257 \n DP: 1",
           "ID: cas2043 \n chr4,3076257 \n DP: 2",
           "ID: cas2044 \n chr4,3076257 \n DP: 0",
           "ID: cas2045 \n chr4,3076257 \n DP: 0",
           "ID: cas2048 \n chr4,3076257 \n DP: 2",
           "ID: cas3050 \n chr4,3076257 \n DP: 1",
           "ID: cas3051 \n chr4,3076257 \n DP: 1",
           "ID: cas3052 \n chr4,3076257 \n DP: 6",
           "ID: cas3053 \n chr4,3076257 \n DP: 2",
           "ID: cas3054 \n chr4,3076257 \n DP: 10",
           "ID: cas3055 \n chr4,3076257 \n DP: 3",
           "ID: cas3056 \n chr4,3076257 \n DP: 25",
           "ID: cas3057 \n chr4,3076257 \n DP: 3",
           "ID: cas3058 \n chr4,3076257 \n DP: 2",
           "ID: cas3059 \n chr4,3076257 \n DP: 0",
           "ID: cas3060 \n chr4,3076257 \n DP: 0",
           "ID: cas3061 \n chr4,3076257 \n DP: 5",
           "ID: cas3062 \n chr4,3076257 \n DP: 3",
           "ID: cas3065 \n chr4,3076257 \n DP: 0",
           "ID: cas3072 \n chr4,3076257 \n DP: 1",
           "ID: cas3073 \n chr4,3076257 \n DP: 5",
           "ID: cas3074 \n chr4,3076257 \n DP: 3",
           "ID: cas3075 \n chr4,3076257 \n DP: 3",
           "ID: cas3076 \n chr4,3076257 \n DP: 5",
           "ID: cas3077 \n chr4,3076257 \n DP: 3",
           "ID: cas3078 \n chr4,3076257 \n DP: 1",
           "ID: cas3079 \n chr4,3076257 \n DP: 0",
           "ID: cas3080 \n chr4,3076257 \n DP: 2",
           "ID: cas3081 \n chr4,3076257 \n DP: 0",
           "ID: cas3082 \n chr4,3076257 \n DP: 9",
           "ID: cas3083 \n chr4,3076257 \n DP: 2",
           "ID: cas3084 \n chr4,3076257 \n DP: 0",
           "ID: cas3085 \n chr4,3076257 \n DP: 0",
           "ID: cas3086 \n chr4,3076257 \n DP: 6",
           "ID: cas3089 \n chr4,3076257 \n DP: 8",
           "ID: cas3092 \n chr4,3076257 \n DP: 0",
           "ID: cas3096 \n chr4,3076257 \n DP: 4",
           "ID: cas4097 \n chr4,3076257 \n DP: 4",
           "ID: cas4098 \n chr4,3076257 \n DP: 4",
           "ID: cas4099 \n chr4,3076257 \n DP: 0",
           "ID: cas4100 \n chr4,3076257 \n DP: 1",
           "ID: cas4101 \n chr4,3076257 \n DP: 2",
           "ID: cas4102 \n chr4,3076257 \n DP: 0",
           "ID: cas4103 \n chr4,3076257 \n DP: 2",
           "ID: cas4104 \n chr4,3076257 \n DP: 0",
           "ID: cas4105 \n chr4,3076257 \n DP: 6",
           "ID: cas4106 \n chr4,3076257 \n DP: 5",
           "ID: cas4107 \n chr4,3076257 \n DP: 8",
           "ID: cas4108 \n chr4,3076257 \n DP: 1",
           "ID: cas4112 \n chr4,3076257 \n DP: 2",
           "ID: cas4115 \n chr4,3076257 \n DP: 5",
           "ID: cas4116 \n chr4,3076257 \n DP: 0",
           "ID: cas4121 \n chr4,3076257 \n DP: 12",
           "ID: cas4122 \n chr4,3076257 \n DP: 5",
           "ID: cas4123 \n chr4,3076257 \n DP: 3",
           "ID: cas4124 \n chr4,3076257 \n DP: 2",
           "ID: cas4125 \n chr4,3076257 \n DP: 10",
           "ID: cas4126 \n chr4,3076257 \n DP: 3",
           "ID: cas4127 \n chr4,3076257 \n DP: 2",
           "ID: cas4128 \n chr4,3076257 \n DP: 3",
           "ID: cas4129 \n chr4,3076257 \n DP: 3",
           "ID: cas4130 \n chr4,3076257 \n DP: 3",
           "ID: cas4131 \n chr4,3076257 \n DP: 7",
           "ID: cas4132 \n chr4,3076257 \n DP: 5",
           "ID: cas4133 \n chr4,3076257 \n DP: 7",
           "ID: cas4134 \n chr4,3076257 \n DP: 4",
           "ID: con4137 \n chr4,3076257 \n DP: 10",
           "ID: cas4139 \n chr4,3076257 \n DP: 3",
           "ID: cas4140 \n chr4,3076257 \n DP: 10",
           "ID: cas5145 \n chr4,3076257 \n DP: 3",
           "ID: cas5147 \n chr4,3076257 \n DP: 6",
           "ID: cas5150 \n chr4,3076257 \n DP: 2",
           "ID: cas5152 \n chr4,3076257 \n DP: 2",
           "ID: cas5153 \n chr4,3076257 \n DP: 8",
           "ID: cas5154 \n chr4,3076257 \n DP: 15",
           "ID: cas5155 \n chr4,3076257 \n DP: 5",
           "ID: cas5156 \n chr4,3076257 \n DP: 14",
           "ID: cas5162 \n chr4,3076257 \n DP: 4",
           "ID: cas5163 \n chr4,3076257 \n DP: 21",
           "ID: cas5164 \n chr4,3076257 \n DP: 9",
           "ID: cas5166 \n chr4,3076257 \n DP: 1",
           "ID: cas5168 \n chr4,3076257 \n DP: 1",
           "ID: cas5169 \n chr4,3076257 \n DP: 5",
           "ID: cas5170 \n chr4,3076257 \n DP: 14",
           "ID: cas5173 \n chr4,3076257 \n DP: 6",
           "ID: cas5176 \n chr4,3076257 \n DP: 17",
           "ID: cas5177 \n chr4,3076257 \n DP: 9",
           "ID: cas5178 \n chr4,3076257 \n DP: 5",
           "ID: cas5179 \n chr4,3076257 \n DP: 6",
           "ID: cas5180 \n chr4,3076257 \n DP: 3",
           "ID: cas5181 \n chr4,3076257 \n DP: 17",
           "ID: cas5183 \n chr4,3076257 \n DP: 10",
           "ID: cas5184 \n chr4,3076257 \n DP: 3",
           "ID: cas5185 \n chr4,3076257 \n DP: 4",
           "ID: cas5186 \n chr4,3076257 \n DP: 5",
           "ID: cas5187 \n chr4,3076257 \n DP: 11",
           "ID: cas5188 \n chr4,3076257 \n DP: 7",
           "ID: cas5189 \n chr4,3076257 \n DP: 7",
           "ID: cas5190 \n chr4,3076257 \n DP: 7",
           "ID: cas5191 \n chr4,3076257 \n DP: 8",
           "ID: cas5192 \n chr4,3076257 \n DP: 2",
           "ID: cas3067 \n chr4,3076257 \n DP: 1",
           "ID: cas4109 \n chr4,3076257 \n DP: 7",
           "ID: con1002 \n chr4,3076257 \n DP: 2",
           "ID: con1004 \n chr4,3076257 \n DP: 0",
           "ID: con1006 \n chr4,3076257 \n DP: 1",
           "ID: con1007 \n chr4,3076257 \n DP: 0",
           "ID: con1008 \n chr4,3076257 \n DP: 0",
           "ID: con1009 \n chr4,3076257 \n DP: 3",
           "ID: con1011 \n chr4,3076257 \n DP: 1",
           "ID: con1016 \n chr4,3076257 \n DP: 0",
           "ID: con2026 \n chr4,3076257 \n DP: 1",
           "ID: con2030 \n chr4,3076257 \n DP: 0",
           "ID: con2031 \n chr4,3076257 \n DP: 0",
           "ID: con2036 \n chr4,3076257 \n DP: 0",
           "ID: con2037 \n chr4,3076257 \n DP: 1",
           "ID: con2042 \n chr4,3076257 \n DP: 1",
           "ID: con2046 \n chr4,3076257 \n DP: 0",
           "ID: con2047 \n chr4,3076257 \n DP: 0",
           "ID: con3063 \n chr4,3076257 \n DP: 1",
           "ID: con3064 \n chr4,3076257 \n DP: 9",
           "ID: con3066 \n chr4,3076257 \n DP: 0",
           "ID: con3068 \n chr4,3076257 \n DP: 1",
           "ID: con3069 \n chr4,3076257 \n DP: 7",
           "ID: con3070 \n chr4,3076257 \n DP: 12",
           "ID: con3071 \n chr4,3076257 \n DP: 1",
           "ID: con3087 \n chr4,3076257 \n DP: 2",
           "ID: con3088 \n chr4,3076257 \n DP: 2",
           "ID: con3090 \n chr4,3076257 \n DP: 4",
           "ID: con3091 \n chr4,3076257 \n DP: 5",
           "ID: con3093 \n chr4,3076257 \n DP: 3",
           "ID: con3094 \n chr4,3076257 \n DP: 2",
           "ID: con3095 \n chr4,3076257 \n DP: 3",
           "ID: con4110 \n chr4,3076257 \n DP: 0",
           "ID: con4113 \n chr4,3076257 \n DP: 20",
           "ID: con4114 \n chr4,3076257 \n DP: 12",
           "ID: con4117 \n chr4,3076257 \n DP: 1",
           "ID: con4118 \n chr4,3076257 \n DP: 1",
           "ID: con4119 \n chr4,3076257 \n DP: 21",
           "ID: con4120 \n chr4,3076257 \n DP: 9",
           "ID: con4135 \n chr4,3076257 \n DP: 1",
           "ID: con4136 \n chr4,3076257 \n DP: 5",
           "ID: con4138 \n chr4,3076257 \n DP: 3",
           "ID: con4141 \n chr4,3076257 \n DP: 9",
           "ID: con4142 \n chr4,3076257 \n DP: 2",
           "ID: con4143 \n chr4,3076257 \n DP: 3",
           "ID: con4144 \n chr4,3076257 \n DP: 2",
           "ID: con5146 \n chr4,3076257 \n DP: 8",
           "ID: con5148 \n chr4,3076257 \n DP: 2",
           "ID: con5149 \n chr4,3076257 \n DP: 12",
           "ID: con5151 \n chr4,3076257 \n DP: 5",
           "ID: con5157 \n chr4,3076257 \n DP: 7",
           "ID: con5158 \n chr4,3076257 \n DP: 5",
           "ID: con5159 \n chr4,3076257 \n DP: 11",
           "ID: con5160 \n chr4,3076257 \n DP: 2",
           "ID: con5161 \n chr4,3076257 \n DP: 8",
           "ID: con5165 \n chr4,3076257 \n DP: 11",
           "ID: con5167 \n chr4,3076257 \n DP: 2",
           "ID: con5171 \n chr4,3076257 \n DP: 9",
           "ID: con5172 \n chr4,3076257 \n DP: 7",
           "ID: con5174 \n chr4,3076257 \n DP: 7",
           "ID: con5175 \n chr4,3076257 \n DP: 6",
           "ID: con5182 \n chr4,3076257 \n DP: 17",
           "ID: con4111 \n chr4,3076257 \n DP: 4"
          ],
          [
           "ID: cas1001 \n chr4,3076266 \n DP: 0",
           "ID: cas1003 \n chr4,3076266 \n DP: 2",
           "ID: cas1005 \n chr4,3076266 \n DP: 0",
           "ID: cas1010 \n chr4,3076266 \n DP: 3",
           "ID: cas1012 \n chr4,3076266 \n DP: 0",
           "ID: cas1013 \n chr4,3076266 \n DP: 1",
           "ID: cas1014 \n chr4,3076266 \n DP: 1",
           "ID: cas1015 \n chr4,3076266 \n DP: 0",
           "ID: cas1017 \n chr4,3076266 \n DP: 1",
           "ID: cas1018 \n chr4,3076266 \n DP: 4",
           "ID: cas1019 \n chr4,3076266 \n DP: 0",
           "ID: cas1020 \n chr4,3076266 \n DP: 0",
           "ID: cas1021 \n chr4,3076266 \n DP: 1",
           "ID: cas1022 \n chr4,3076266 \n DP: 1",
           "ID: cas1023 \n chr4,3076266 \n DP: 2",
           "ID: cas1024 \n chr4,3076266 \n DP: 0",
           "ID: cas2025 \n chr4,3076266 \n DP: 1",
           "ID: cas2027 \n chr4,3076266 \n DP: 0",
           "ID: cas2028 \n chr4,3076266 \n DP: 1",
           "ID: cas2029 \n chr4,3076266 \n DP: 1",
           "ID: cas2032 \n chr4,3076266 \n DP: 1",
           "ID: cas2033 \n chr4,3076266 \n DP: 1",
           "ID: cas2034 \n chr4,3076266 \n DP: 0",
           "ID: cas2035 \n chr4,3076266 \n DP: 0",
           "ID: cas2038 \n chr4,3076266 \n DP: 5",
           "ID: cas2039 \n chr4,3076266 \n DP: 1",
           "ID: cas2040 \n chr4,3076266 \n DP: 3",
           "ID: cas2041 \n chr4,3076266 \n DP: 1",
           "ID: cas2043 \n chr4,3076266 \n DP: 2",
           "ID: cas2044 \n chr4,3076266 \n DP: 0",
           "ID: cas2045 \n chr4,3076266 \n DP: 0",
           "ID: cas2048 \n chr4,3076266 \n DP: 2",
           "ID: cas3050 \n chr4,3076266 \n DP: 2",
           "ID: cas3051 \n chr4,3076266 \n DP: 1",
           "ID: cas3052 \n chr4,3076266 \n DP: 6",
           "ID: cas3053 \n chr4,3076266 \n DP: 2",
           "ID: cas3054 \n chr4,3076266 \n DP: 10",
           "ID: cas3055 \n chr4,3076266 \n DP: 3",
           "ID: cas3056 \n chr4,3076266 \n DP: 30",
           "ID: cas3057 \n chr4,3076266 \n DP: 2",
           "ID: cas3058 \n chr4,3076266 \n DP: 2",
           "ID: cas3059 \n chr4,3076266 \n DP: 0",
           "ID: cas3060 \n chr4,3076266 \n DP: 0",
           "ID: cas3061 \n chr4,3076266 \n DP: 5",
           "ID: cas3062 \n chr4,3076266 \n DP: 3",
           "ID: cas3065 \n chr4,3076266 \n DP: 0",
           "ID: cas3072 \n chr4,3076266 \n DP: 2",
           "ID: cas3073 \n chr4,3076266 \n DP: 4",
           "ID: cas3074 \n chr4,3076266 \n DP: 4",
           "ID: cas3075 \n chr4,3076266 \n DP: 3",
           "ID: cas3076 \n chr4,3076266 \n DP: 6",
           "ID: cas3077 \n chr4,3076266 \n DP: 5",
           "ID: cas3078 \n chr4,3076266 \n DP: 2",
           "ID: cas3079 \n chr4,3076266 \n DP: 0",
           "ID: cas3080 \n chr4,3076266 \n DP: 1",
           "ID: cas3081 \n chr4,3076266 \n DP: 1",
           "ID: cas3082 \n chr4,3076266 \n DP: 10",
           "ID: cas3083 \n chr4,3076266 \n DP: 2",
           "ID: cas3084 \n chr4,3076266 \n DP: 0",
           "ID: cas3085 \n chr4,3076266 \n DP: 0",
           "ID: cas3086 \n chr4,3076266 \n DP: 6",
           "ID: cas3089 \n chr4,3076266 \n DP: 9",
           "ID: cas3092 \n chr4,3076266 \n DP: 0",
           "ID: cas3096 \n chr4,3076266 \n DP: 4",
           "ID: cas4097 \n chr4,3076266 \n DP: 4",
           "ID: cas4098 \n chr4,3076266 \n DP: 7",
           "ID: cas4099 \n chr4,3076266 \n DP: 0",
           "ID: cas4100 \n chr4,3076266 \n DP: 1",
           "ID: cas4101 \n chr4,3076266 \n DP: 2",
           "ID: cas4102 \n chr4,3076266 \n DP: 1",
           "ID: cas4103 \n chr4,3076266 \n DP: 2",
           "ID: cas4104 \n chr4,3076266 \n DP: 0",
           "ID: cas4105 \n chr4,3076266 \n DP: 6",
           "ID: cas4106 \n chr4,3076266 \n DP: 5",
           "ID: cas4107 \n chr4,3076266 \n DP: 10",
           "ID: cas4108 \n chr4,3076266 \n DP: 2",
           "ID: cas4112 \n chr4,3076266 \n DP: 2",
           "ID: cas4115 \n chr4,3076266 \n DP: 5",
           "ID: cas4116 \n chr4,3076266 \n DP: 0",
           "ID: cas4121 \n chr4,3076266 \n DP: 12",
           "ID: cas4122 \n chr4,3076266 \n DP: 6",
           "ID: cas4123 \n chr4,3076266 \n DP: 4",
           "ID: cas4124 \n chr4,3076266 \n DP: 3",
           "ID: cas4125 \n chr4,3076266 \n DP: 10",
           "ID: cas4126 \n chr4,3076266 \n DP: 5",
           "ID: cas4127 \n chr4,3076266 \n DP: 2",
           "ID: cas4128 \n chr4,3076266 \n DP: 3",
           "ID: cas4129 \n chr4,3076266 \n DP: 7",
           "ID: cas4130 \n chr4,3076266 \n DP: 6",
           "ID: cas4131 \n chr4,3076266 \n DP: 7",
           "ID: cas4132 \n chr4,3076266 \n DP: 10",
           "ID: cas4133 \n chr4,3076266 \n DP: 6",
           "ID: cas4134 \n chr4,3076266 \n DP: 4",
           "ID: con4137 \n chr4,3076266 \n DP: 14",
           "ID: cas4139 \n chr4,3076266 \n DP: 3",
           "ID: cas4140 \n chr4,3076266 \n DP: 10",
           "ID: cas5145 \n chr4,3076266 \n DP: 3",
           "ID: cas5147 \n chr4,3076266 \n DP: 10",
           "ID: cas5150 \n chr4,3076266 \n DP: 2",
           "ID: cas5152 \n chr4,3076266 \n DP: 2",
           "ID: cas5153 \n chr4,3076266 \n DP: 8",
           "ID: cas5154 \n chr4,3076266 \n DP: 16",
           "ID: cas5155 \n chr4,3076266 \n DP: 6",
           "ID: cas5156 \n chr4,3076266 \n DP: 14",
           "ID: cas5162 \n chr4,3076266 \n DP: 4",
           "ID: cas5163 \n chr4,3076266 \n DP: 19",
           "ID: cas5164 \n chr4,3076266 \n DP: 9",
           "ID: cas5166 \n chr4,3076266 \n DP: 3",
           "ID: cas5168 \n chr4,3076266 \n DP: 1",
           "ID: cas5169 \n chr4,3076266 \n DP: 6",
           "ID: cas5170 \n chr4,3076266 \n DP: 16",
           "ID: cas5173 \n chr4,3076266 \n DP: 10",
           "ID: cas5176 \n chr4,3076266 \n DP: 18",
           "ID: cas5177 \n chr4,3076266 \n DP: 9",
           "ID: cas5178 \n chr4,3076266 \n DP: 5",
           "ID: cas5179 \n chr4,3076266 \n DP: 6",
           "ID: cas5180 \n chr4,3076266 \n DP: 4",
           "ID: cas5181 \n chr4,3076266 \n DP: 15",
           "ID: cas5183 \n chr4,3076266 \n DP: 10",
           "ID: cas5184 \n chr4,3076266 \n DP: 3",
           "ID: cas5185 \n chr4,3076266 \n DP: 3",
           "ID: cas5186 \n chr4,3076266 \n DP: 5",
           "ID: cas5187 \n chr4,3076266 \n DP: 13",
           "ID: cas5188 \n chr4,3076266 \n DP: 7",
           "ID: cas5189 \n chr4,3076266 \n DP: 10",
           "ID: cas5190 \n chr4,3076266 \n DP: 9",
           "ID: cas5191 \n chr4,3076266 \n DP: 11",
           "ID: cas5192 \n chr4,3076266 \n DP: 2",
           "ID: cas3067 \n chr4,3076266 \n DP: 1",
           "ID: cas4109 \n chr4,3076266 \n DP: 7",
           "ID: con1002 \n chr4,3076266 \n DP: 2",
           "ID: con1004 \n chr4,3076266 \n DP: 0",
           "ID: con1006 \n chr4,3076266 \n DP: 1",
           "ID: con1007 \n chr4,3076266 \n DP: 0",
           "ID: con1008 \n chr4,3076266 \n DP: 0",
           "ID: con1009 \n chr4,3076266 \n DP: 3",
           "ID: con1011 \n chr4,3076266 \n DP: 1",
           "ID: con1016 \n chr4,3076266 \n DP: 0",
           "ID: con2026 \n chr4,3076266 \n DP: 1",
           "ID: con2030 \n chr4,3076266 \n DP: 0",
           "ID: con2031 \n chr4,3076266 \n DP: 0",
           "ID: con2036 \n chr4,3076266 \n DP: 0",
           "ID: con2037 \n chr4,3076266 \n DP: 1",
           "ID: con2042 \n chr4,3076266 \n DP: 1",
           "ID: con2046 \n chr4,3076266 \n DP: 0",
           "ID: con2047 \n chr4,3076266 \n DP: 0",
           "ID: con3063 \n chr4,3076266 \n DP: 1",
           "ID: con3064 \n chr4,3076266 \n DP: 10",
           "ID: con3066 \n chr4,3076266 \n DP: 1",
           "ID: con3068 \n chr4,3076266 \n DP: 1",
           "ID: con3069 \n chr4,3076266 \n DP: 7",
           "ID: con3070 \n chr4,3076266 \n DP: 15",
           "ID: con3071 \n chr4,3076266 \n DP: 1",
           "ID: con3087 \n chr4,3076266 \n DP: 4",
           "ID: con3088 \n chr4,3076266 \n DP: 2",
           "ID: con3090 \n chr4,3076266 \n DP: 4",
           "ID: con3091 \n chr4,3076266 \n DP: 5",
           "ID: con3093 \n chr4,3076266 \n DP: 3",
           "ID: con3094 \n chr4,3076266 \n DP: 2",
           "ID: con3095 \n chr4,3076266 \n DP: 1",
           "ID: con4110 \n chr4,3076266 \n DP: 0",
           "ID: con4113 \n chr4,3076266 \n DP: 24",
           "ID: con4114 \n chr4,3076266 \n DP: 6",
           "ID: con4117 \n chr4,3076266 \n DP: 1",
           "ID: con4118 \n chr4,3076266 \n DP: 1",
           "ID: con4119 \n chr4,3076266 \n DP: 24",
           "ID: con4120 \n chr4,3076266 \n DP: 11",
           "ID: con4135 \n chr4,3076266 \n DP: 1",
           "ID: con4136 \n chr4,3076266 \n DP: 7",
           "ID: con4138 \n chr4,3076266 \n DP: 3",
           "ID: con4141 \n chr4,3076266 \n DP: 9",
           "ID: con4142 \n chr4,3076266 \n DP: 3",
           "ID: con4143 \n chr4,3076266 \n DP: 4",
           "ID: con4144 \n chr4,3076266 \n DP: 2",
           "ID: con5146 \n chr4,3076266 \n DP: 10",
           "ID: con5148 \n chr4,3076266 \n DP: 4",
           "ID: con5149 \n chr4,3076266 \n DP: 12",
           "ID: con5151 \n chr4,3076266 \n DP: 7",
           "ID: con5157 \n chr4,3076266 \n DP: 5",
           "ID: con5158 \n chr4,3076266 \n DP: 6",
           "ID: con5159 \n chr4,3076266 \n DP: 13",
           "ID: con5160 \n chr4,3076266 \n DP: 2",
           "ID: con5161 \n chr4,3076266 \n DP: 9",
           "ID: con5165 \n chr4,3076266 \n DP: 13",
           "ID: con5167 \n chr4,3076266 \n DP: 2",
           "ID: con5171 \n chr4,3076266 \n DP: 10",
           "ID: con5172 \n chr4,3076266 \n DP: 6",
           "ID: con5174 \n chr4,3076266 \n DP: 7",
           "ID: con5175 \n chr4,3076266 \n DP: 8",
           "ID: con5182 \n chr4,3076266 \n DP: 18",
           "ID: con4111 \n chr4,3076266 \n DP: 3"
          ],
          [
           "ID: cas1001 \n chr4,3076339 \n DP: 0",
           "ID: cas1003 \n chr4,3076339 \n DP: 0",
           "ID: cas1005 \n chr4,3076339 \n DP: 0",
           "ID: cas1010 \n chr4,3076339 \n DP: 0",
           "ID: cas1012 \n chr4,3076339 \n DP: 0",
           "ID: cas1013 \n chr4,3076339 \n DP: 0",
           "ID: cas1014 \n chr4,3076339 \n DP: 0",
           "ID: cas1015 \n chr4,3076339 \n DP: 0",
           "ID: cas1017 \n chr4,3076339 \n DP: 0",
           "ID: cas1018 \n chr4,3076339 \n DP: 0",
           "ID: cas1019 \n chr4,3076339 \n DP: 0",
           "ID: cas1020 \n chr4,3076339 \n DP: 1",
           "ID: cas1021 \n chr4,3076339 \n DP: 0",
           "ID: cas1022 \n chr4,3076339 \n DP: 0",
           "ID: cas1023 \n chr4,3076339 \n DP: 1",
           "ID: cas1024 \n chr4,3076339 \n DP: 0",
           "ID: cas2025 \n chr4,3076339 \n DP: 0",
           "ID: cas2027 \n chr4,3076339 \n DP: 0",
           "ID: cas2028 \n chr4,3076339 \n DP: 0",
           "ID: cas2029 \n chr4,3076339 \n DP: 0",
           "ID: cas2032 \n chr4,3076339 \n DP: 0",
           "ID: cas2033 \n chr4,3076339 \n DP: 0",
           "ID: cas2034 \n chr4,3076339 \n DP: 0",
           "ID: cas2035 \n chr4,3076339 \n DP: 1",
           "ID: cas2038 \n chr4,3076339 \n DP: 1",
           "ID: cas2039 \n chr4,3076339 \n DP: 0",
           "ID: cas2040 \n chr4,3076339 \n DP: 4",
           "ID: cas2041 \n chr4,3076339 \n DP: 0",
           "ID: cas2043 \n chr4,3076339 \n DP: 0",
           "ID: cas2044 \n chr4,3076339 \n DP: 0",
           "ID: cas2045 \n chr4,3076339 \n DP: 0",
           "ID: cas2048 \n chr4,3076339 \n DP: 1",
           "ID: cas3050 \n chr4,3076339 \n DP: 4",
           "ID: cas3051 \n chr4,3076339 \n DP: 7",
           "ID: cas3052 \n chr4,3076339 \n DP: 26",
           "ID: cas3053 \n chr4,3076339 \n DP: 3",
           "ID: cas3054 \n chr4,3076339 \n DP: 33",
           "ID: cas3055 \n chr4,3076339 \n DP: 7",
           "ID: cas3056 \n chr4,3076339 \n DP: 36",
           "ID: cas3057 \n chr4,3076339 \n DP: 4",
           "ID: cas3058 \n chr4,3076339 \n DP: 9",
           "ID: cas3059 \n chr4,3076339 \n DP: 0",
           "ID: cas3060 \n chr4,3076339 \n DP: 0",
           "ID: cas3061 \n chr4,3076339 \n DP: 14",
           "ID: cas3062 \n chr4,3076339 \n DP: 17",
           "ID: cas3065 \n chr4,3076339 \n DP: 0",
           "ID: cas3072 \n chr4,3076339 \n DP: 11",
           "ID: cas3073 \n chr4,3076339 \n DP: 6",
           "ID: cas3074 \n chr4,3076339 \n DP: 6",
           "ID: cas3075 \n chr4,3076339 \n DP: 9",
           "ID: cas3076 \n chr4,3076339 \n DP: 14",
           "ID: cas3077 \n chr4,3076339 \n DP: 14",
           "ID: cas3078 \n chr4,3076339 \n DP: 2",
           "ID: cas3079 \n chr4,3076339 \n DP: 5",
           "ID: cas3080 \n chr4,3076339 \n DP: 3",
           "ID: cas3081 \n chr4,3076339 \n DP: 8",
           "ID: cas3082 \n chr4,3076339 \n DP: 14",
           "ID: cas3083 \n chr4,3076339 \n DP: 2",
           "ID: cas3084 \n chr4,3076339 \n DP: 0",
           "ID: cas3085 \n chr4,3076339 \n DP: 3",
           "ID: cas3086 \n chr4,3076339 \n DP: 33",
           "ID: cas3089 \n chr4,3076339 \n DP: 31",
           "ID: cas3092 \n chr4,3076339 \n DP: 4",
           "ID: cas3096 \n chr4,3076339 \n DP: 3",
           "ID: cas4097 \n chr4,3076339 \n DP: 14",
           "ID: cas4098 \n chr4,3076339 \n DP: 18",
           "ID: cas4099 \n chr4,3076339 \n DP: 11",
           "ID: cas4100 \n chr4,3076339 \n DP: 16",
           "ID: cas4101 \n chr4,3076339 \n DP: 10",
           "ID: cas4102 \n chr4,3076339 \n DP: 17",
           "ID: cas4103 \n chr4,3076339 \n DP: 11",
           "ID: cas4104 \n chr4,3076339 \n DP: 3",
           "ID: cas4105 \n chr4,3076339 \n DP: 19",
           "ID: cas4106 \n chr4,3076339 \n DP: 42",
           "ID: cas4107 \n chr4,3076339 \n DP: 21",
           "ID: cas4108 \n chr4,3076339 \n DP: 10",
           "ID: cas4112 \n chr4,3076339 \n DP: 13",
           "ID: cas4115 \n chr4,3076339 \n DP: 13",
           "ID: cas4116 \n chr4,3076339 \n DP: 3",
           "ID: cas4121 \n chr4,3076339 \n DP: 19",
           "ID: cas4122 \n chr4,3076339 \n DP: 36",
           "ID: cas4123 \n chr4,3076339 \n DP: 24",
           "ID: cas4124 \n chr4,3076339 \n DP: 24",
           "ID: cas4125 \n chr4,3076339 \n DP: 38",
           "ID: cas4126 \n chr4,3076339 \n DP: 39",
           "ID: cas4127 \n chr4,3076339 \n DP: 18",
           "ID: cas4128 \n chr4,3076339 \n DP: 27",
           "ID: cas4129 \n chr4,3076339 \n DP: 24",
           "ID: cas4130 \n chr4,3076339 \n DP: 33",
           "ID: cas4131 \n chr4,3076339 \n DP: 30",
           "ID: cas4132 \n chr4,3076339 \n DP: 31",
           "ID: cas4133 \n chr4,3076339 \n DP: 28",
           "ID: cas4134 \n chr4,3076339 \n DP: 33",
           "ID: con4137 \n chr4,3076339 \n DP: 53",
           "ID: cas4139 \n chr4,3076339 \n DP: 17",
           "ID: cas4140 \n chr4,3076339 \n DP: 35",
           "ID: cas5145 \n chr4,3076339 \n DP: 18",
           "ID: cas5147 \n chr4,3076339 \n DP: 33",
           "ID: cas5150 \n chr4,3076339 \n DP: 34",
           "ID: cas5152 \n chr4,3076339 \n DP: 21",
           "ID: cas5153 \n chr4,3076339 \n DP: 27",
           "ID: cas5154 \n chr4,3076339 \n DP: 34",
           "ID: cas5155 \n chr4,3076339 \n DP: 34",
           "ID: cas5156 \n chr4,3076339 \n DP: 28",
           "ID: cas5162 \n chr4,3076339 \n DP: 15",
           "ID: cas5163 \n chr4,3076339 \n DP: 40",
           "ID: cas5164 \n chr4,3076339 \n DP: 24",
           "ID: cas5166 \n chr4,3076339 \n DP: 18",
           "ID: cas5168 \n chr4,3076339 \n DP: 18",
           "ID: cas5169 \n chr4,3076339 \n DP: 34",
           "ID: cas5170 \n chr4,3076339 \n DP: 35",
           "ID: cas5173 \n chr4,3076339 \n DP: 42",
           "ID: cas5176 \n chr4,3076339 \n DP: 38",
           "ID: cas5177 \n chr4,3076339 \n DP: 34",
           "ID: cas5178 \n chr4,3076339 \n DP: 36",
           "ID: cas5179 \n chr4,3076339 \n DP: 25",
           "ID: cas5180 \n chr4,3076339 \n DP: 20",
           "ID: cas5181 \n chr4,3076339 \n DP: 38",
           "ID: cas5183 \n chr4,3076339 \n DP: 34",
           "ID: cas5184 \n chr4,3076339 \n DP: 20",
           "ID: cas5185 \n chr4,3076339 \n DP: 16",
           "ID: cas5186 \n chr4,3076339 \n DP: 29",
           "ID: cas5187 \n chr4,3076339 \n DP: 40",
           "ID: cas5188 \n chr4,3076339 \n DP: 33",
           "ID: cas5189 \n chr4,3076339 \n DP: 32",
           "ID: cas5190 \n chr4,3076339 \n DP: 34",
           "ID: cas5191 \n chr4,3076339 \n DP: 37",
           "ID: cas5192 \n chr4,3076339 \n DP: 21",
           "ID: cas3067 \n chr4,3076339 \n DP: 21",
           "ID: cas4109 \n chr4,3076339 \n DP: 24",
           "ID: con1002 \n chr4,3076339 \n DP: 0",
           "ID: con1004 \n chr4,3076339 \n DP: 0",
           "ID: con1006 \n chr4,3076339 \n DP: 1",
           "ID: con1007 \n chr4,3076339 \n DP: 0",
           "ID: con1008 \n chr4,3076339 \n DP: 1",
           "ID: con1009 \n chr4,3076339 \n DP: 0",
           "ID: con1011 \n chr4,3076339 \n DP: 0",
           "ID: con1016 \n chr4,3076339 \n DP: 0",
           "ID: con2026 \n chr4,3076339 \n DP: 0",
           "ID: con2030 \n chr4,3076339 \n DP: 0",
           "ID: con2031 \n chr4,3076339 \n DP: 0",
           "ID: con2036 \n chr4,3076339 \n DP: 0",
           "ID: con2037 \n chr4,3076339 \n DP: 0",
           "ID: con2042 \n chr4,3076339 \n DP: 0",
           "ID: con2046 \n chr4,3076339 \n DP: 0",
           "ID: con2047 \n chr4,3076339 \n DP: 0",
           "ID: con3063 \n chr4,3076339 \n DP: 1",
           "ID: con3064 \n chr4,3076339 \n DP: 29",
           "ID: con3066 \n chr4,3076339 \n DP: 4",
           "ID: con3068 \n chr4,3076339 \n DP: 10",
           "ID: con3069 \n chr4,3076339 \n DP: 34",
           "ID: con3070 \n chr4,3076339 \n DP: 34",
           "ID: con3071 \n chr4,3076339 \n DP: 10",
           "ID: con3087 \n chr4,3076339 \n DP: 17",
           "ID: con3088 \n chr4,3076339 \n DP: 19",
           "ID: con3090 \n chr4,3076339 \n DP: 11",
           "ID: con3091 \n chr4,3076339 \n DP: 25",
           "ID: con3093 \n chr4,3076339 \n DP: 17",
           "ID: con3094 \n chr4,3076339 \n DP: 13",
           "ID: con3095 \n chr4,3076339 \n DP: 10",
           "ID: con4110 \n chr4,3076339 \n DP: 7",
           "ID: con4113 \n chr4,3076339 \n DP: 34",
           "ID: con4114 \n chr4,3076339 \n DP: 13",
           "ID: con4117 \n chr4,3076339 \n DP: 15",
           "ID: con4118 \n chr4,3076339 \n DP: 10",
           "ID: con4119 \n chr4,3076339 \n DP: 33",
           "ID: con4120 \n chr4,3076339 \n DP: 33",
           "ID: con4135 \n chr4,3076339 \n DP: 29",
           "ID: con4136 \n chr4,3076339 \n DP: 29",
           "ID: con4138 \n chr4,3076339 \n DP: 34",
           "ID: con4141 \n chr4,3076339 \n DP: 34",
           "ID: con4142 \n chr4,3076339 \n DP: 27",
           "ID: con4143 \n chr4,3076339 \n DP: 32",
           "ID: con4144 \n chr4,3076339 \n DP: 35",
           "ID: con5146 \n chr4,3076339 \n DP: 34",
           "ID: con5148 \n chr4,3076339 \n DP: 33",
           "ID: con5149 \n chr4,3076339 \n DP: 45",
           "ID: con5151 \n chr4,3076339 \n DP: 35",
           "ID: con5157 \n chr4,3076339 \n DP: 11",
           "ID: con5158 \n chr4,3076339 \n DP: 35",
           "ID: con5159 \n chr4,3076339 \n DP: 31",
           "ID: con5160 \n chr4,3076339 \n DP: 24",
           "ID: con5161 \n chr4,3076339 \n DP: 36",
           "ID: con5165 \n chr4,3076339 \n DP: 53",
           "ID: con5167 \n chr4,3076339 \n DP: 20",
           "ID: con5171 \n chr4,3076339 \n DP: 34",
           "ID: con5172 \n chr4,3076339 \n DP: 17",
           "ID: con5174 \n chr4,3076339 \n DP: 37",
           "ID: con5175 \n chr4,3076339 \n DP: 26",
           "ID: con5182 \n chr4,3076339 \n DP: 44",
           "ID: con4111 \n chr4,3076339 \n DP: 9"
          ],
          [
           "ID: cas1001 \n Trait 1: seq_site_1",
           "ID: cas1003 \n Trait 1: seq_site_1",
           "ID: cas1005 \n Trait 1: seq_site_1",
           "ID: cas1010 \n Trait 1: seq_site_1",
           "ID: cas1012 \n Trait 1: seq_site_1",
           "ID: cas1013 \n Trait 1: seq_site_1",
           "ID: cas1014 \n Trait 1: seq_site_1",
           "ID: cas1015 \n Trait 1: seq_site_1",
           "ID: cas1017 \n Trait 1: seq_site_1",
           "ID: cas1018 \n Trait 1: seq_site_1",
           "ID: cas1019 \n Trait 1: seq_site_1",
           "ID: cas1020 \n Trait 1: seq_site_1",
           "ID: cas1021 \n Trait 1: seq_site_1",
           "ID: cas1022 \n Trait 1: seq_site_1",
           "ID: cas1023 \n Trait 1: seq_site_1",
           "ID: cas1024 \n Trait 1: seq_site_1",
           "ID: cas2025 \n Trait 1: seq_site_1",
           "ID: cas2027 \n Trait 1: seq_site_1",
           "ID: cas2028 \n Trait 1: seq_site_1",
           "ID: cas2029 \n Trait 1: seq_site_1",
           "ID: cas2032 \n Trait 1: seq_site_1",
           "ID: cas2033 \n Trait 1: seq_site_1",
           "ID: cas2034 \n Trait 1: seq_site_1",
           "ID: cas2035 \n Trait 1: seq_site_1",
           "ID: cas2038 \n Trait 1: seq_site_1",
           "ID: cas2039 \n Trait 1: seq_site_1",
           "ID: cas2040 \n Trait 1: seq_site_1",
           "ID: cas2041 \n Trait 1: seq_site_1",
           "ID: cas2043 \n Trait 1: seq_site_1",
           "ID: cas2044 \n Trait 1: seq_site_1",
           "ID: cas2045 \n Trait 1: seq_site_1",
           "ID: cas2048 \n Trait 1: seq_site_1",
           "ID: cas3050 \n Trait 1: seq_site_1",
           "ID: cas3051 \n Trait 1: seq_site_1",
           "ID: cas3052 \n Trait 1: seq_site_1",
           "ID: cas3053 \n Trait 1: seq_site_1",
           "ID: cas3054 \n Trait 1: seq_site_1",
           "ID: cas3055 \n Trait 1: seq_site_1",
           "ID: cas3056 \n Trait 1: seq_site_1",
           "ID: cas3057 \n Trait 1: seq_site_1",
           "ID: cas3058 \n Trait 1: seq_site_1",
           "ID: cas3059 \n Trait 1: seq_site_1",
           "ID: cas3060 \n Trait 1: seq_site_1",
           "ID: cas3061 \n Trait 1: seq_site_1",
           "ID: cas3062 \n Trait 1: seq_site_1",
           "ID: cas3065 \n Trait 1: seq_site_1",
           "ID: cas3072 \n Trait 1: seq_site_1",
           "ID: cas3073 \n Trait 1: seq_site_1",
           "ID: cas3074 \n Trait 1: seq_site_1",
           "ID: cas3075 \n Trait 1: seq_site_1",
           "ID: cas3076 \n Trait 1: seq_site_1",
           "ID: cas3077 \n Trait 1: seq_site_1",
           "ID: cas3078 \n Trait 1: seq_site_1",
           "ID: cas3079 \n Trait 1: seq_site_1",
           "ID: cas3080 \n Trait 1: seq_site_1",
           "ID: cas3081 \n Trait 1: seq_site_1",
           "ID: cas3082 \n Trait 1: seq_site_1",
           "ID: cas3083 \n Trait 1: seq_site_1",
           "ID: cas3084 \n Trait 1: seq_site_1",
           "ID: cas3085 \n Trait 1: seq_site_1",
           "ID: cas3086 \n Trait 1: seq_site_1",
           "ID: cas3089 \n Trait 1: seq_site_1",
           "ID: cas3092 \n Trait 1: seq_site_1",
           "ID: cas3096 \n Trait 1: seq_site_1",
           "ID: cas4097 \n Trait 1: seq_site_1",
           "ID: cas4098 \n Trait 1: seq_site_1",
           "ID: cas4099 \n Trait 1: seq_site_1",
           "ID: cas4100 \n Trait 1: seq_site_1",
           "ID: cas4101 \n Trait 1: seq_site_1",
           "ID: cas4102 \n Trait 1: seq_site_1",
           "ID: cas4103 \n Trait 1: seq_site_1",
           "ID: cas4104 \n Trait 1: seq_site_1",
           "ID: cas4105 \n Trait 1: seq_site_1",
           "ID: cas4106 \n Trait 1: seq_site_1",
           "ID: cas4107 \n Trait 1: seq_site_1",
           "ID: cas4108 \n Trait 1: seq_site_1",
           "ID: cas4112 \n Trait 1: seq_site_1",
           "ID: cas4115 \n Trait 1: seq_site_1",
           "ID: cas4116 \n Trait 1: seq_site_1",
           "ID: cas4121 \n Trait 2: seq_site_2",
           "ID: cas4122 \n Trait 2: seq_site_2",
           "ID: cas4123 \n Trait 2: seq_site_2",
           "ID: cas4124 \n Trait 2: seq_site_2",
           "ID: cas4125 \n Trait 2: seq_site_2",
           "ID: cas4126 \n Trait 2: seq_site_2",
           "ID: cas4127 \n Trait 2: seq_site_2",
           "ID: cas4128 \n Trait 2: seq_site_2",
           "ID: cas4129 \n Trait 2: seq_site_2",
           "ID: cas4130 \n Trait 2: seq_site_2",
           "ID: cas4131 \n Trait 2: seq_site_2",
           "ID: cas4132 \n Trait 2: seq_site_2",
           "ID: cas4133 \n Trait 2: seq_site_2",
           "ID: cas4134 \n Trait 2: seq_site_2",
           "ID: con4137 \n Trait 2: seq_site_2",
           "ID: cas4139 \n Trait 2: seq_site_2",
           "ID: cas4140 \n Trait 2: seq_site_2",
           "ID: cas5145 \n Trait 2: seq_site_2",
           "ID: cas5147 \n Trait 2: seq_site_2",
           "ID: cas5150 \n Trait 2: seq_site_2",
           "ID: cas5152 \n Trait 2: seq_site_2",
           "ID: cas5153 \n Trait 2: seq_site_2",
           "ID: cas5154 \n Trait 2: seq_site_2",
           "ID: cas5155 \n Trait 2: seq_site_2",
           "ID: cas5156 \n Trait 2: seq_site_2",
           "ID: cas5162 \n Trait 2: seq_site_2",
           "ID: cas5163 \n Trait 2: seq_site_2",
           "ID: cas5164 \n Trait 2: seq_site_2",
           "ID: cas5166 \n Trait 2: seq_site_2",
           "ID: cas5168 \n Trait 2: seq_site_2",
           "ID: cas5169 \n Trait 2: seq_site_2",
           "ID: cas5170 \n Trait 2: seq_site_2",
           "ID: cas5173 \n Trait 2: seq_site_2",
           "ID: cas5176 \n Trait 2: seq_site_2",
           "ID: cas5177 \n Trait 2: seq_site_2",
           "ID: cas5178 \n Trait 2: seq_site_2",
           "ID: cas5179 \n Trait 2: seq_site_2",
           "ID: cas5180 \n Trait 2: seq_site_2",
           "ID: cas5181 \n Trait 2: seq_site_2",
           "ID: cas5183 \n Trait 2: seq_site_2",
           "ID: cas5184 \n Trait 2: seq_site_2",
           "ID: cas5185 \n Trait 2: seq_site_2",
           "ID: cas5186 \n Trait 2: seq_site_2",
           "ID: cas5187 \n Trait 2: seq_site_2",
           "ID: cas5188 \n Trait 2: seq_site_2",
           "ID: cas5189 \n Trait 2: seq_site_2",
           "ID: cas5190 \n Trait 2: seq_site_2",
           "ID: cas5191 \n Trait 2: seq_site_2",
           "ID: cas5192 \n Trait 2: seq_site_2",
           "ID: cas3067 \n Trait 1: seq_site_1",
           "ID: cas4109 \n Trait 1: seq_site_1",
           "ID: con1002 \n Trait 1: seq_site_1",
           "ID: con1004 \n Trait 1: seq_site_1",
           "ID: con1006 \n Trait 1: seq_site_1",
           "ID: con1007 \n Trait 1: seq_site_1",
           "ID: con1008 \n Trait 1: seq_site_1",
           "ID: con1009 \n Trait 1: seq_site_1",
           "ID: con1011 \n Trait 1: seq_site_1",
           "ID: con1016 \n Trait 1: seq_site_1",
           "ID: con2026 \n Trait 1: seq_site_1",
           "ID: con2030 \n Trait 1: seq_site_1",
           "ID: con2031 \n Trait 1: seq_site_1",
           "ID: con2036 \n Trait 1: seq_site_1",
           "ID: con2037 \n Trait 1: seq_site_1",
           "ID: con2042 \n Trait 1: seq_site_1",
           "ID: con2046 \n Trait 1: seq_site_1",
           "ID: con2047 \n Trait 1: seq_site_1",
           "ID: con3063 \n Trait 1: seq_site_1",
           "ID: con3064 \n Trait 1: seq_site_1",
           "ID: con3066 \n Trait 1: seq_site_1",
           "ID: con3068 \n Trait 1: seq_site_1",
           "ID: con3069 \n Trait 1: seq_site_1",
           "ID: con3070 \n Trait 1: seq_site_1",
           "ID: con3071 \n Trait 1: seq_site_1",
           "ID: con3087 \n Trait 1: seq_site_1",
           "ID: con3088 \n Trait 1: seq_site_1",
           "ID: con3090 \n Trait 1: seq_site_1",
           "ID: con3091 \n Trait 1: seq_site_1",
           "ID: con3093 \n Trait 1: seq_site_1",
           "ID: con3094 \n Trait 1: seq_site_1",
           "ID: con3095 \n Trait 1: seq_site_1",
           "ID: con4110 \n Trait 1: seq_site_1",
           "ID: con4113 \n Trait 1: seq_site_1",
           "ID: con4114 \n Trait 1: seq_site_1",
           "ID: con4117 \n Trait 1: seq_site_1",
           "ID: con4118 \n Trait 1: seq_site_1",
           "ID: con4119 \n Trait 1: seq_site_1",
           "ID: con4120 \n Trait 1: seq_site_1",
           "ID: con4135 \n Trait 2: seq_site_2",
           "ID: con4136 \n Trait 2: seq_site_2",
           "ID: con4138 \n Trait 2: seq_site_2",
           "ID: con4141 \n Trait 2: seq_site_2",
           "ID: con4142 \n Trait 2: seq_site_2",
           "ID: con4143 \n Trait 2: seq_site_2",
           "ID: con4144 \n Trait 2: seq_site_2",
           "ID: con5146 \n Trait 2: seq_site_2",
           "ID: con5148 \n Trait 2: seq_site_2",
           "ID: con5149 \n Trait 2: seq_site_2",
           "ID: con5151 \n Trait 2: seq_site_2",
           "ID: con5157 \n Trait 2: seq_site_2",
           "ID: con5158 \n Trait 2: seq_site_2",
           "ID: con5159 \n Trait 2: seq_site_2",
           "ID: con5160 \n Trait 2: seq_site_2",
           "ID: con5161 \n Trait 2: seq_site_2",
           "ID: con5165 \n Trait 2: seq_site_2",
           "ID: con5167 \n Trait 2: seq_site_2",
           "ID: con5171 \n Trait 2: seq_site_2",
           "ID: con5172 \n Trait 2: seq_site_2",
           "ID: con5174 \n Trait 2: seq_site_2",
           "ID: con5175 \n Trait 2: seq_site_2",
           "ID: con5182 \n Trait 2: seq_site_2",
           "ID: con4111 \n Trait 1: seq_site_1"
          ],
          [
           "ID: cas1001 \n Trait 1: case",
           "ID: cas1003 \n Trait 1: case",
           "ID: cas1005 \n Trait 1: case",
           "ID: cas1010 \n Trait 1: case",
           "ID: cas1012 \n Trait 1: case",
           "ID: cas1013 \n Trait 1: case",
           "ID: cas1014 \n Trait 1: case",
           "ID: cas1015 \n Trait 1: case",
           "ID: cas1017 \n Trait 1: case",
           "ID: cas1018 \n Trait 1: case",
           "ID: cas1019 \n Trait 1: case",
           "ID: cas1020 \n Trait 1: case",
           "ID: cas1021 \n Trait 1: case",
           "ID: cas1022 \n Trait 1: case",
           "ID: cas1023 \n Trait 1: case",
           "ID: cas1024 \n Trait 1: case",
           "ID: cas2025 \n Trait 1: case",
           "ID: cas2027 \n Trait 1: case",
           "ID: cas2028 \n Trait 1: case",
           "ID: cas2029 \n Trait 1: case",
           "ID: cas2032 \n Trait 1: case",
           "ID: cas2033 \n Trait 1: case",
           "ID: cas2034 \n Trait 1: case",
           "ID: cas2035 \n Trait 1: case",
           "ID: cas2038 \n Trait 1: case",
           "ID: cas2039 \n Trait 1: case",
           "ID: cas2040 \n Trait 1: case",
           "ID: cas2041 \n Trait 1: case",
           "ID: cas2043 \n Trait 1: case",
           "ID: cas2044 \n Trait 1: case",
           "ID: cas2045 \n Trait 1: case",
           "ID: cas2048 \n Trait 1: case",
           "ID: cas3050 \n Trait 1: case",
           "ID: cas3051 \n Trait 1: case",
           "ID: cas3052 \n Trait 1: case",
           "ID: cas3053 \n Trait 1: case",
           "ID: cas3054 \n Trait 1: case",
           "ID: cas3055 \n Trait 1: case",
           "ID: cas3056 \n Trait 1: case",
           "ID: cas3057 \n Trait 1: case",
           "ID: cas3058 \n Trait 1: case",
           "ID: cas3059 \n Trait 1: case",
           "ID: cas3060 \n Trait 1: case",
           "ID: cas3061 \n Trait 1: case",
           "ID: cas3062 \n Trait 1: case",
           "ID: cas3065 \n Trait 1: case",
           "ID: cas3072 \n Trait 1: case",
           "ID: cas3073 \n Trait 1: case",
           "ID: cas3074 \n Trait 1: case",
           "ID: cas3075 \n Trait 1: case",
           "ID: cas3076 \n Trait 1: case",
           "ID: cas3077 \n Trait 1: case",
           "ID: cas3078 \n Trait 1: case",
           "ID: cas3079 \n Trait 1: case",
           "ID: cas3080 \n Trait 1: case",
           "ID: cas3081 \n Trait 1: case",
           "ID: cas3082 \n Trait 1: case",
           "ID: cas3083 \n Trait 1: case",
           "ID: cas3084 \n Trait 1: case",
           "ID: cas3085 \n Trait 1: case",
           "ID: cas3086 \n Trait 1: case",
           "ID: cas3089 \n Trait 1: case",
           "ID: cas3092 \n Trait 1: case",
           "ID: cas3096 \n Trait 1: case",
           "ID: cas4097 \n Trait 1: case",
           "ID: cas4098 \n Trait 1: case",
           "ID: cas4099 \n Trait 1: case",
           "ID: cas4100 \n Trait 1: case",
           "ID: cas4101 \n Trait 1: case",
           "ID: cas4102 \n Trait 1: case",
           "ID: cas4103 \n Trait 1: case",
           "ID: cas4104 \n Trait 1: case",
           "ID: cas4105 \n Trait 1: case",
           "ID: cas4106 \n Trait 1: case",
           "ID: cas4107 \n Trait 1: case",
           "ID: cas4108 \n Trait 1: case",
           "ID: cas4112 \n Trait 1: case",
           "ID: cas4115 \n Trait 1: case",
           "ID: cas4116 \n Trait 1: case",
           "ID: cas4121 \n Trait 1: case",
           "ID: cas4122 \n Trait 1: case",
           "ID: cas4123 \n Trait 1: case",
           "ID: cas4124 \n Trait 1: case",
           "ID: cas4125 \n Trait 1: case",
           "ID: cas4126 \n Trait 1: case",
           "ID: cas4127 \n Trait 1: case",
           "ID: cas4128 \n Trait 1: case",
           "ID: cas4129 \n Trait 1: case",
           "ID: cas4130 \n Trait 1: case",
           "ID: cas4131 \n Trait 1: case",
           "ID: cas4132 \n Trait 1: case",
           "ID: cas4133 \n Trait 1: case",
           "ID: cas4134 \n Trait 1: case",
           "ID: con4137 \n Trait 1: case",
           "ID: cas4139 \n Trait 1: case",
           "ID: cas4140 \n Trait 1: case",
           "ID: cas5145 \n Trait 1: case",
           "ID: cas5147 \n Trait 1: case",
           "ID: cas5150 \n Trait 1: case",
           "ID: cas5152 \n Trait 1: case",
           "ID: cas5153 \n Trait 1: case",
           "ID: cas5154 \n Trait 1: case",
           "ID: cas5155 \n Trait 1: case",
           "ID: cas5156 \n Trait 1: case",
           "ID: cas5162 \n Trait 1: case",
           "ID: cas5163 \n Trait 1: case",
           "ID: cas5164 \n Trait 1: case",
           "ID: cas5166 \n Trait 1: case",
           "ID: cas5168 \n Trait 1: case",
           "ID: cas5169 \n Trait 1: case",
           "ID: cas5170 \n Trait 1: case",
           "ID: cas5173 \n Trait 1: case",
           "ID: cas5176 \n Trait 1: case",
           "ID: cas5177 \n Trait 1: case",
           "ID: cas5178 \n Trait 1: case",
           "ID: cas5179 \n Trait 1: case",
           "ID: cas5180 \n Trait 1: case",
           "ID: cas5181 \n Trait 1: case",
           "ID: cas5183 \n Trait 1: case",
           "ID: cas5184 \n Trait 1: case",
           "ID: cas5185 \n Trait 1: case",
           "ID: cas5186 \n Trait 1: case",
           "ID: cas5187 \n Trait 1: case",
           "ID: cas5188 \n Trait 1: case",
           "ID: cas5189 \n Trait 1: case",
           "ID: cas5190 \n Trait 1: case",
           "ID: cas5191 \n Trait 1: case",
           "ID: cas5192 \n Trait 1: case",
           "ID: cas3067 \n Trait 1: case",
           "ID: cas4109 \n Trait 1: case",
           "ID: con1002 \n Trait 2: control",
           "ID: con1004 \n Trait 2: control",
           "ID: con1006 \n Trait 2: control",
           "ID: con1007 \n Trait 2: control",
           "ID: con1008 \n Trait 2: control",
           "ID: con1009 \n Trait 2: control",
           "ID: con1011 \n Trait 2: control",
           "ID: con1016 \n Trait 2: control",
           "ID: con2026 \n Trait 2: control",
           "ID: con2030 \n Trait 2: control",
           "ID: con2031 \n Trait 2: control",
           "ID: con2036 \n Trait 2: control",
           "ID: con2037 \n Trait 2: control",
           "ID: con2042 \n Trait 2: control",
           "ID: con2046 \n Trait 2: control",
           "ID: con2047 \n Trait 2: control",
           "ID: con3063 \n Trait 2: control",
           "ID: con3064 \n Trait 2: control",
           "ID: con3066 \n Trait 2: control",
           "ID: con3068 \n Trait 2: control",
           "ID: con3069 \n Trait 2: control",
           "ID: con3070 \n Trait 2: control",
           "ID: con3071 \n Trait 2: control",
           "ID: con3087 \n Trait 2: control",
           "ID: con3088 \n Trait 2: control",
           "ID: con3090 \n Trait 2: control",
           "ID: con3091 \n Trait 2: control",
           "ID: con3093 \n Trait 2: control",
           "ID: con3094 \n Trait 2: control",
           "ID: con3095 \n Trait 2: control",
           "ID: con4110 \n Trait 2: control",
           "ID: con4113 \n Trait 2: control",
           "ID: con4114 \n Trait 2: control",
           "ID: con4117 \n Trait 2: control",
           "ID: con4118 \n Trait 2: control",
           "ID: con4119 \n Trait 2: control",
           "ID: con4120 \n Trait 2: control",
           "ID: con4135 \n Trait 2: control",
           "ID: con4136 \n Trait 2: control",
           "ID: con4138 \n Trait 2: control",
           "ID: con4141 \n Trait 2: control",
           "ID: con4142 \n Trait 2: control",
           "ID: con4143 \n Trait 2: control",
           "ID: con4144 \n Trait 2: control",
           "ID: con5146 \n Trait 2: control",
           "ID: con5148 \n Trait 2: control",
           "ID: con5149 \n Trait 2: control",
           "ID: con5151 \n Trait 2: control",
           "ID: con5157 \n Trait 2: control",
           "ID: con5158 \n Trait 2: control",
           "ID: con5159 \n Trait 2: control",
           "ID: con5160 \n Trait 2: control",
           "ID: con5161 \n Trait 2: control",
           "ID: con5165 \n Trait 2: control",
           "ID: con5167 \n Trait 2: control",
           "ID: con5171 \n Trait 2: control",
           "ID: con5172 \n Trait 2: control",
           "ID: con5174 \n Trait 2: control",
           "ID: con5175 \n Trait 2: control",
           "ID: con5182 \n Trait 2: control",
           "ID: con4111 \n Trait 2: control"
          ]
         ],
         "transpose": true,
         "type": "heatmap",
         "x": [
          1,
          2,
          3,
          4,
          5,
          6,
          7,
          8,
          9,
          10,
          11,
          12,
          13,
          14,
          15,
          16,
          17,
          18,
          19,
          20,
          21,
          22,
          23,
          24,
          25,
          26,
          27,
          28,
          29,
          30,
          31,
          32,
          33,
          34,
          35,
          36,
          37,
          38,
          39,
          40,
          41,
          42,
          43,
          44,
          45,
          46,
          47,
          48,
          49,
          50,
          51,
          52,
          53,
          54,
          55,
          56,
          57,
          58,
          59,
          60,
          61,
          62,
          63,
          64,
          65,
          66,
          67,
          68,
          69,
          70,
          71,
          72,
          73,
          74,
          75,
          76,
          77,
          78,
          79,
          80,
          81,
          82,
          83,
          84,
          85,
          86,
          87,
          88,
          89,
          90,
          91,
          92,
          93,
          94,
          95,
          96,
          97,
          98,
          99,
          100,
          101,
          102,
          103,
          104,
          105,
          106,
          107,
          108,
          109,
          110,
          111,
          112,
          113,
          114,
          115,
          116,
          117,
          118,
          119,
          120,
          121,
          122,
          123,
          124,
          125,
          126,
          127,
          128,
          129,
          130,
          131,
          132,
          133,
          134,
          135,
          136,
          137,
          138,
          139,
          140,
          141,
          142,
          143,
          144,
          145,
          146,
          147,
          148,
          149,
          150,
          151,
          152,
          153,
          154,
          155,
          156,
          157,
          158,
          159,
          160,
          161,
          162,
          163,
          164,
          165,
          166,
          167,
          168,
          169,
          170,
          171,
          172,
          173,
          174,
          175,
          176,
          177,
          178,
          179,
          180,
          181,
          182,
          183,
          184,
          185,
          186,
          187,
          188,
          189,
          190,
          191
         ],
         "y": [
          1,
          2,
          3,
          4,
          5,
          6,
          7
         ],
         "z": [
          [
           0,
           0,
           0,
           0,
           0,
           -40,
           -40
          ],
          [
           0,
           7,
           8,
           2,
           0,
           -40,
           -40
          ],
          [
           1,
           1,
           0,
           0,
           0,
           -40,
           -40
          ],
          [
           1,
           2,
           4,
           3,
           0,
           -40,
           -40
          ],
          [
           0,
           0,
           0,
           0,
           0,
           -40,
           -40
          ],
          [
           1,
           2,
           2,
           1,
           0,
           -40,
           -40
          ],
          [
           2,
           2,
           1,
           1,
           0,
           -40,
           -40
          ],
          [
           1,
           1,
           0,
           0,
           0,
           -40,
           -40
          ],
          [
           2,
           3,
           2,
           1,
           0,
           -40,
           -40
          ],
          [
           1,
           1,
           4,
           4,
           0,
           -40,
           -40
          ],
          [
           1,
           1,
           0,
           0,
           0,
           -40,
           -40
          ],
          [
           0,
           1,
           0,
           0,
           1,
           -40,
           -40
          ],
          [
           0,
           0,
           1,
           1,
           0,
           -40,
           -40
          ],
          [
           4,
           5,
           1,
           1,
           0,
           -40,
           -40
          ],
          [
           2,
           4,
           3,
           2,
           1,
           -40,
           -40
          ],
          [
           0,
           1,
           0,
           0,
           0,
           -40,
           -40
          ],
          [
           0,
           0,
           1,
           1,
           0,
           -40,
           -40
          ],
          [
           0,
           0,
           0,
           0,
           0,
           -40,
           -40
          ],
          [
           0,
           0,
           1,
           1,
           0,
           -40,
           -40
          ],
          [
           0,
           1,
           2,
           1,
           0,
           -40,
           -40
          ],
          [
           0,
           0,
           1,
           1,
           0,
           -40,
           -40
          ],
          [
           0,
           0,
           1,
           1,
           0,
           -40,
           -40
          ],
          [
           0,
           0,
           0,
           0,
           0,
           -40,
           -40
          ],
          [
           0,
           0,
           0,
           0,
           1,
           -40,
           -40
          ],
          [
           1,
           3,
           6,
           5,
           1,
           -40,
           -40
          ],
          [
           0,
           1,
           1,
           1,
           0,
           -40,
           -40
          ],
          [
           1,
           1,
           3,
           3,
           4,
           -40,
           -40
          ],
          [
           0,
           0,
           1,
           1,
           0,
           -40,
           -40
          ],
          [
           0,
           0,
           2,
           2,
           0,
           -40,
           -40
          ],
          [
           0,
           0,
           0,
           0,
           0,
           -40,
           -40
          ],
          [
           0,
           0,
           0,
           0,
           0,
           -40,
           -40
          ],
          [
           0,
           1,
           2,
           2,
           1,
           -40,
           -40
          ],
          [
           1,
           1,
           1,
           2,
           4,
           -40,
           -40
          ],
          [
           0,
           0,
           1,
           1,
           7,
           -40,
           -40
          ],
          [
           1,
           2,
           6,
           6,
           26,
           -40,
           -40
          ],
          [
           0,
           2,
           2,
           2,
           3,
           -40,
           -40
          ],
          [
           1,
           1,
           10,
           10,
           33,
           -40,
           -40
          ],
          [
           0,
           0,
           3,
           3,
           7,
           -40,
           -40
          ],
          [
           10,
           10,
           25,
           30,
           36,
           -40,
           -40
          ],
          [
           0,
           0,
           3,
           2,
           4,
           -40,
           -40
          ],
          [
           1,
           1,
           2,
           2,
           9,
           -40,
           -40
          ],
          [
           0,
           0,
           0,
           0,
           0,
           -40,
           -40
          ],
          [
           0,
           0,
           0,
           0,
           0,
           -40,
           -40
          ],
          [
           0,
           0,
           5,
           5,
           14,
           -40,
           -40
          ],
          [
           1,
           0,
           3,
           3,
           17,
           -40,
           -40
          ],
          [
           1,
           1,
           0,
           0,
           0,
           -40,
           -40
          ],
          [
           4,
           2,
           1,
           2,
           11,
           -40,
           -40
          ],
          [
           0,
           1,
           5,
           4,
           6,
           -40,
           -40
          ],
          [
           0,
           0,
           3,
           4,
           6,
           -40,
           -40
          ],
          [
           1,
           1,
           3,
           3,
           9,
           -40,
           -40
          ],
          [
           1,
           0,
           5,
           6,
           14,
           -40,
           -40
          ],
          [
           1,
           2,
           3,
           5,
           14,
           -40,
           -40
          ],
          [
           0,
           0,
           1,
           2,
           2,
           -40,
           -40
          ],
          [
           0,
           1,
           0,
           0,
           5,
           -40,
           -40
          ],
          [
           0,
           0,
           2,
           1,
           3,
           -40,
           -40
          ],
          [
           4,
           2,
           0,
           1,
           8,
           -40,
           -40
          ],
          [
           0,
           1,
           9,
           10,
           14,
           -40,
           -40
          ],
          [
           0,
           0,
           2,
           2,
           2,
           -40,
           -40
          ],
          [
           0,
           0,
           0,
           0,
           0,
           -40,
           -40
          ],
          [
           0,
           0,
           0,
           0,
           3,
           -40,
           -40
          ],
          [
           4,
           2,
           6,
           6,
           33,
           -40,
           -40
          ],
          [
           1,
           4,
           8,
           9,
           31,
           -40,
           -40
          ],
          [
           0,
           1,
           0,
           0,
           4,
           -40,
           -40
          ],
          [
           1,
           2,
           4,
           4,
           3,
           -40,
           -40
          ],
          [
           0,
           1,
           4,
           4,
           14,
           -40,
           -40
          ],
          [
           1,
           4,
           4,
           7,
           18,
           -40,
           -40
          ],
          [
           0,
           0,
           0,
           0,
           11,
           -40,
           -40
          ],
          [
           0,
           1,
           1,
           1,
           16,
           -40,
           -40
          ],
          [
           0,
           0,
           2,
           2,
           10,
           -40,
           -40
          ],
          [
           0,
           0,
           0,
           1,
           17,
           -40,
           -40
          ],
          [
           0,
           0,
           2,
           2,
           11,
           -40,
           -40
          ],
          [
           0,
           0,
           0,
           0,
           3,
           -40,
           -40
          ],
          [
           0,
           0,
           6,
           6,
           19,
           -40,
           -40
          ],
          [
           0,
           0,
           5,
           5,
           42,
           -40,
           -40
          ],
          [
           2,
           2,
           8,
           10,
           21,
           -40,
           -40
          ],
          [
           1,
           0,
           1,
           2,
           10,
           -40,
           -40
          ],
          [
           0,
           2,
           2,
           2,
           13,
           -40,
           -40
          ],
          [
           3,
           4,
           5,
           5,
           13,
           -40,
           -40
          ],
          [
           0,
           0,
           0,
           0,
           3,
           -40,
           -40
          ],
          [
           4,
           7,
           12,
           12,
           19,
           -60,
           -40
          ],
          [
           0,
           0,
           5,
           6,
           36,
           -60,
           -40
          ],
          [
           0,
           1,
           3,
           4,
           24,
           -60,
           -40
          ],
          [
           0,
           0,
           2,
           3,
           24,
           -60,
           -40
          ],
          [
           2,
           4,
           10,
           10,
           38,
           -60,
           -40
          ],
          [
           0,
           2,
           3,
           5,
           39,
           -60,
           -40
          ],
          [
           0,
           0,
           2,
           2,
           18,
           -60,
           -40
          ],
          [
           0,
           2,
           3,
           3,
           27,
           -60,
           -40
          ],
          [
           0,
           0,
           3,
           7,
           24,
           -60,
           -40
          ],
          [
           1,
           2,
           3,
           6,
           33,
           -60,
           -40
          ],
          [
           1,
           3,
           7,
           7,
           30,
           -60,
           -40
          ],
          [
           0,
           0,
           5,
           10,
           31,
           -60,
           -40
          ],
          [
           0,
           2,
           7,
           6,
           28,
           -60,
           -40
          ],
          [
           0,
           0,
           4,
           4,
           33,
           -60,
           -40
          ],
          [
           0,
           1,
           10,
           14,
           53,
           -60,
           -40
          ],
          [
           2,
           3,
           3,
           3,
           17,
           -60,
           -40
          ],
          [
           0,
           0,
           10,
           10,
           35,
           -60,
           -40
          ],
          [
           0,
           0,
           3,
           3,
           18,
           -60,
           -40
          ],
          [
           2,
           2,
           6,
           10,
           33,
           -60,
           -40
          ],
          [
           0,
           0,
           2,
           2,
           34,
           -60,
           -40
          ],
          [
           0,
           0,
           2,
           2,
           21,
           -60,
           -40
          ],
          [
           3,
           7,
           8,
           8,
           27,
           -60,
           -40
          ],
          [
           3,
           7,
           15,
           16,
           34,
           -60,
           -40
          ],
          [
           3,
           4,
           5,
           6,
           34,
           -60,
           -40
          ],
          [
           0,
           1,
           14,
           14,
           28,
           -60,
           -40
          ],
          [
           2,
           2,
           4,
           4,
           15,
           -60,
           -40
          ],
          [
           4,
           7,
           21,
           19,
           40,
           -60,
           -40
          ],
          [
           0,
           1,
           9,
           9,
           24,
           -60,
           -40
          ],
          [
           0,
           1,
           1,
           3,
           18,
           -60,
           -40
          ],
          [
           0,
           0,
           1,
           1,
           18,
           -60,
           -40
          ],
          [
           0,
           0,
           5,
           6,
           34,
           -60,
           -40
          ],
          [
           0,
           0,
           14,
           16,
           35,
           -60,
           -40
          ],
          [
           0,
           0,
           6,
           10,
           42,
           -60,
           -40
          ],
          [
           5,
           5,
           17,
           18,
           38,
           -60,
           -40
          ],
          [
           1,
           2,
           9,
           9,
           34,
           -60,
           -40
          ],
          [
           2,
           3,
           5,
           5,
           36,
           -60,
           -40
          ],
          [
           3,
           4,
           6,
           6,
           25,
           -60,
           -40
          ],
          [
           0,
           0,
           3,
           4,
           20,
           -60,
           -40
          ],
          [
           1,
           5,
           17,
           15,
           38,
           -60,
           -40
          ],
          [
           0,
           0,
           10,
           10,
           34,
           -60,
           -40
          ],
          [
           0,
           0,
           3,
           3,
           20,
           -60,
           -40
          ],
          [
           1,
           2,
           4,
           3,
           16,
           -60,
           -40
          ],
          [
           0,
           1,
           5,
           5,
           29,
           -60,
           -40
          ],
          [
           2,
           1,
           11,
           13,
           40,
           -60,
           -40
          ],
          [
           1,
           4,
           7,
           7,
           33,
           -60,
           -40
          ],
          [
           0,
           0,
           7,
           10,
           32,
           -60,
           -40
          ],
          [
           1,
           2,
           7,
           9,
           34,
           -60,
           -40
          ],
          [
           1,
           0,
           8,
           11,
           37,
           -60,
           -40
          ],
          [
           3,
           2,
           2,
           2,
           21,
           -60,
           -40
          ],
          [
           0,
           0,
           1,
           1,
           21,
           -40,
           -40
          ],
          [
           3,
           2,
           7,
           7,
           24,
           -40,
           -40
          ],
          [
           0,
           0,
           2,
           2,
           0,
           -40,
           -60
          ],
          [
           1,
           1,
           0,
           0,
           0,
           -40,
           -60
          ],
          [
           2,
           2,
           1,
           1,
           1,
           -40,
           -60
          ],
          [
           0,
           0,
           0,
           0,
           0,
           -40,
           -60
          ],
          [
           0,
           1,
           0,
           0,
           1,
           -40,
           -60
          ],
          [
           0,
           0,
           3,
           3,
           0,
           -40,
           -60
          ],
          [
           1,
           0,
           1,
           1,
           0,
           -40,
           -60
          ],
          [
           0,
           0,
           0,
           0,
           0,
           -40,
           -60
          ],
          [
           0,
           0,
           1,
           1,
           0,
           -40,
           -60
          ],
          [
           0,
           0,
           0,
           0,
           0,
           -40,
           -60
          ],
          [
           0,
           0,
           0,
           0,
           0,
           -40,
           -60
          ],
          [
           0,
           0,
           0,
           0,
           0,
           -40,
           -60
          ],
          [
           0,
           0,
           1,
           1,
           0,
           -40,
           -60
          ],
          [
           0,
           0,
           1,
           1,
           0,
           -40,
           -60
          ],
          [
           0,
           0,
           0,
           0,
           0,
           -40,
           -60
          ],
          [
           0,
           1,
           0,
           0,
           0,
           -40,
           -60
          ],
          [
           0,
           0,
           1,
           1,
           1,
           -40,
           -60
          ],
          [
           2,
           1,
           9,
           10,
           29,
           -40,
           -60
          ],
          [
           0,
           0,
           0,
           1,
           4,
           -40,
           -60
          ],
          [
           0,
           0,
           1,
           1,
           10,
           -40,
           -60
          ],
          [
           1,
           3,
           7,
           7,
           34,
           -40,
           -60
          ],
          [
           3,
           4,
           12,
           15,
           34,
           -40,
           -60
          ],
          [
           0,
           0,
           1,
           1,
           10,
           -40,
           -60
          ],
          [
           0,
           0,
           2,
           4,
           17,
           -40,
           -60
          ],
          [
           1,
           0,
           2,
           2,
           19,
           -40,
           -60
          ],
          [
           0,
           0,
           4,
           4,
           11,
           -40,
           -60
          ],
          [
           4,
           4,
           5,
           5,
           25,
           -40,
           -60
          ],
          [
           0,
           0,
           3,
           3,
           17,
           -40,
           -60
          ],
          [
           1,
           1,
           2,
           2,
           13,
           -40,
           -60
          ],
          [
           0,
           1,
           3,
           1,
           10,
           -40,
           -60
          ],
          [
           0,
           0,
           0,
           0,
           7,
           -40,
           -60
          ],
          [
           10,
           20,
           20,
           24,
           34,
           -40,
           -60
          ],
          [
           3,
           5,
           12,
           6,
           13,
           -40,
           -60
          ],
          [
           3,
           2,
           1,
           1,
           15,
           -40,
           -60
          ],
          [
           0,
           0,
           1,
           1,
           10,
           -40,
           -60
          ],
          [
           12,
           11,
           21,
           24,
           33,
           -40,
           -60
          ],
          [
           3,
           5,
           9,
           11,
           33,
           -40,
           -60
          ],
          [
           1,
           1,
           1,
           1,
           29,
           -60,
           -60
          ],
          [
           1,
           0,
           5,
           7,
           29,
           -60,
           -60
          ],
          [
           0,
           1,
           3,
           3,
           34,
           -60,
           -60
          ],
          [
           2,
           2,
           9,
           9,
           34,
           -60,
           -60
          ],
          [
           0,
           0,
           2,
           3,
           27,
           -60,
           -60
          ],
          [
           1,
           2,
           3,
           4,
           32,
           -60,
           -60
          ],
          [
           0,
           0,
           2,
           2,
           35,
           -60,
           -60
          ],
          [
           1,
           3,
           8,
           10,
           34,
           -60,
           -60
          ],
          [
           0,
           0,
           2,
           4,
           33,
           -60,
           -60
          ],
          [
           2,
           1,
           12,
           12,
           45,
           -60,
           -60
          ],
          [
           0,
           0,
           5,
           7,
           35,
           -60,
           -60
          ],
          [
           1,
           4,
           7,
           5,
           11,
           -60,
           -60
          ],
          [
           0,
           0,
           5,
           6,
           35,
           -60,
           -60
          ],
          [
           0,
           1,
           11,
           13,
           31,
           -60,
           -60
          ],
          [
           0,
           1,
           2,
           2,
           24,
           -60,
           -60
          ],
          [
           2,
           2,
           8,
           9,
           36,
           -60,
           -60
          ],
          [
           2,
           3,
           11,
           13,
           53,
           -60,
           -60
          ],
          [
           1,
           1,
           2,
           2,
           20,
           -60,
           -60
          ],
          [
           1,
           1,
           9,
           10,
           34,
           -60,
           -60
          ],
          [
           1,
           4,
           7,
           6,
           17,
           -60,
           -60
          ],
          [
           0,
           1,
           7,
           7,
           37,
           -60,
           -60
          ],
          [
           1,
           1,
           6,
           8,
           26,
           -60,
           -60
          ],
          [
           0,
           1,
           17,
           18,
           44,
           -60,
           -60
          ],
          [
           1,
           3,
           4,
           3,
           9,
           -40,
           -60
          ]
         ],
         "zauto": false,
         "zmax": 100,
         "zmin": -60
        },
        {
         "marker": {
          "size": 300
         },
         "mode": "text",
         "name": "legend label",
         "text": [
          "No Call",
          "0",
          "10",
          "20",
          "100+",
          "",
          "Trait 2",
          "Trait 1"
         ],
         "textfont": {
          "family": "Raleway, sans-serif"
         },
         "textposition": "middle right",
         "type": "scatter",
         "x": [
          205.32500000000002,
          205.32500000000002,
          205.32500000000002,
          205.32500000000002,
          205.32500000000002,
          243.52500000000003,
          205.32500000000002,
          205.32500000000002
         ],
         "y": [
          2.45,
          2.6833333333333336,
          2.916666666666667,
          3.1500000000000004,
          3.3833333333333337,
          3.616666666666667,
          3.8500000000000005,
          4.083333333333334
         ]
        }
       ],
       "layout": {
        "margin": {
         "b": 50,
         "l": 50,
         "r": 50,
         "t": 60
        },
        "shapes": [
         {
          "fillcolor": "rgb(151, 154, 154)",
          "line": {
           "color": "black"
          },
          "opacity": 1,
          "type": "rect",
          "x0": 195.775,
          "x1": 200.55,
          "y0": 3.733333333333334,
          "y1": 3.9666666666666672
         },
         {
          "fillcolor": "rgb(208, 211, 212)",
          "line": {
           "color": "black"
          },
          "opacity": 1,
          "type": "rect",
          "x0": 195.775,
          "x1": 200.55,
          "y0": 3.9666666666666672,
          "y1": 4.2
         },
         {
          "fillcolor": "rgb(37,114,242)",
          "line": {
           "color": "black"
          },
          "opacity": 1,
          "type": "rect",
          "x0": 195.775,
          "x1": 200.55,
          "y0": 3.266666666666667,
          "y1": 3.5000000000000004
         },
         {
          "fillcolor": "rgb(67,138,254)",
          "line": {
           "color": "black"
          },
          "opacity": 1,
          "type": "rect",
          "x0": 195.775,
          "x1": 200.55,
          "y0": 3.0333333333333337,
          "y1": 3.266666666666667
         },
         {
          "fillcolor": "rgb(110,182,255)",
          "line": {
           "color": "black"
          },
          "opacity": 1,
          "type": "rect",
          "x0": 195.775,
          "x1": 200.55,
          "y0": 2.8000000000000003,
          "y1": 3.0333333333333337
         },
         {
          "fillcolor": "rgb(153,231,255)",
          "line": {
           "color": "black"
          },
          "opacity": 1,
          "type": "rect",
          "x0": 195.775,
          "x1": 200.55,
          "y0": 2.566666666666667,
          "y1": 2.8000000000000003
         },
         {
          "fillcolor": "rgb(255,255,255)",
          "line": {
           "color": "black"
          },
          "opacity": 1,
          "type": "rect",
          "x0": 195.775,
          "x1": 200.55,
          "y0": 2.3333333333333335,
          "y1": 2.566666666666667
         }
        ],
        "title": "Read Depth test 4X 191.vcf",
        "xaxis": {
         "range": [
          [
           1,
           2,
           3,
           4,
           5,
           6,
           7,
           8,
           9,
           10,
           11,
           12,
           13,
           14,
           15,
           16,
           17,
           18,
           19,
           20,
           21,
           22,
           23,
           24,
           25,
           26,
           27,
           28,
           29,
           30,
           31,
           32,
           33,
           34,
           35,
           36,
           37,
           38,
           39,
           40,
           41,
           42,
           43,
           44,
           45,
           46,
           47,
           48,
           49,
           50,
           51,
           52,
           53,
           54,
           55,
           56,
           57,
           58,
           59,
           60,
           61,
           62,
           63,
           64,
           65,
           66,
           67,
           68,
           69,
           70,
           71,
           72,
           73,
           74,
           75,
           76,
           77,
           78,
           79,
           80,
           81,
           82,
           83,
           84,
           85,
           86,
           87,
           88,
           89,
           90,
           91,
           92,
           93,
           94,
           95,
           96,
           97,
           98,
           99,
           100,
           101,
           102,
           103,
           104,
           105,
           106,
           107,
           108,
           109,
           110,
           111,
           112,
           113,
           114,
           115,
           116,
           117,
           118,
           119,
           120,
           121,
           122,
           123,
           124,
           125,
           126,
           127,
           128,
           129,
           130,
           131,
           132,
           133,
           134,
           135,
           136,
           137,
           138,
           139,
           140,
           141,
           142,
           143,
           144,
           145,
           146,
           147,
           148,
           149,
           150,
           151,
           152,
           153,
           154,
           155,
           156,
           157,
           158,
           159,
           160,
           161,
           162,
           163,
           164,
           165,
           166,
           167,
           168,
           169,
           170,
           171,
           172,
           173,
           174,
           175,
           176,
           177,
           178,
           179,
           180,
           181,
           182,
           183,
           184,
           185,
           186,
           187,
           188,
           189,
           190,
           191
          ]
         ],
         "showgrid": false,
         "showticklabels": false,
         "tickangle": 45,
         "ticktext": [
          [
           "cas1001"
          ],
          [
           "cas1003"
          ],
          [
           "cas1005"
          ],
          [
           "cas1010"
          ],
          [
           "cas1012"
          ],
          [
           "cas1013"
          ],
          [
           "cas1014"
          ],
          [
           "cas1015"
          ],
          [
           "cas1017"
          ],
          [
           "cas1018"
          ],
          [
           "cas1019"
          ],
          [
           "cas1020"
          ],
          [
           "cas1021"
          ],
          [
           "cas1022"
          ],
          [
           "cas1023"
          ],
          [
           "cas1024"
          ],
          [
           "cas2025"
          ],
          [
           "cas2027"
          ],
          [
           "cas2028"
          ],
          [
           "cas2029"
          ],
          [
           "cas2032"
          ],
          [
           "cas2033"
          ],
          [
           "cas2034"
          ],
          [
           "cas2035"
          ],
          [
           "cas2038"
          ],
          [
           "cas2039"
          ],
          [
           "cas2040"
          ],
          [
           "cas2041"
          ],
          [
           "cas2043"
          ],
          [
           "cas2044"
          ],
          [
           "cas2045"
          ],
          [
           "cas2048"
          ],
          [
           "cas3050"
          ],
          [
           "cas3051"
          ],
          [
           "cas3052"
          ],
          [
           "cas3053"
          ],
          [
           "cas3054"
          ],
          [
           "cas3055"
          ],
          [
           "cas3056"
          ],
          [
           "cas3057"
          ],
          [
           "cas3058"
          ],
          [
           "cas3059"
          ],
          [
           "cas3060"
          ],
          [
           "cas3061"
          ],
          [
           "cas3062"
          ],
          [
           "cas3065"
          ],
          [
           "cas3072"
          ],
          [
           "cas3073"
          ],
          [
           "cas3074"
          ],
          [
           "cas3075"
          ],
          [
           "cas3076"
          ],
          [
           "cas3077"
          ],
          [
           "cas3078"
          ],
          [
           "cas3079"
          ],
          [
           "cas3080"
          ],
          [
           "cas3081"
          ],
          [
           "cas3082"
          ],
          [
           "cas3083"
          ],
          [
           "cas3084"
          ],
          [
           "cas3085"
          ],
          [
           "cas3086"
          ],
          [
           "cas3089"
          ],
          [
           "cas3092"
          ],
          [
           "cas3096"
          ],
          [
           "cas4097"
          ],
          [
           "cas4098"
          ],
          [
           "cas4099"
          ],
          [
           "cas4100"
          ],
          [
           "cas4101"
          ],
          [
           "cas4102"
          ],
          [
           "cas4103"
          ],
          [
           "cas4104"
          ],
          [
           "cas4105"
          ],
          [
           "cas4106"
          ],
          [
           "cas4107"
          ],
          [
           "cas4108"
          ],
          [
           "cas4112"
          ],
          [
           "cas4115"
          ],
          [
           "cas4116"
          ],
          [
           "cas4121"
          ],
          [
           "cas4122"
          ],
          [
           "cas4123"
          ],
          [
           "cas4124"
          ],
          [
           "cas4125"
          ],
          [
           "cas4126"
          ],
          [
           "cas4127"
          ],
          [
           "cas4128"
          ],
          [
           "cas4129"
          ],
          [
           "cas4130"
          ],
          [
           "cas4131"
          ],
          [
           "cas4132"
          ],
          [
           "cas4133"
          ],
          [
           "cas4134"
          ],
          [
           "con4137"
          ],
          [
           "cas4139"
          ],
          [
           "cas4140"
          ],
          [
           "cas5145"
          ],
          [
           "cas5147"
          ],
          [
           "cas5150"
          ],
          [
           "cas5152"
          ],
          [
           "cas5153"
          ],
          [
           "cas5154"
          ],
          [
           "cas5155"
          ],
          [
           "cas5156"
          ],
          [
           "cas5162"
          ],
          [
           "cas5163"
          ],
          [
           "cas5164"
          ],
          [
           "cas5166"
          ],
          [
           "cas5168"
          ],
          [
           "cas5169"
          ],
          [
           "cas5170"
          ],
          [
           "cas5173"
          ],
          [
           "cas5176"
          ],
          [
           "cas5177"
          ],
          [
           "cas5178"
          ],
          [
           "cas5179"
          ],
          [
           "cas5180"
          ],
          [
           "cas5181"
          ],
          [
           "cas5183"
          ],
          [
           "cas5184"
          ],
          [
           "cas5185"
          ],
          [
           "cas5186"
          ],
          [
           "cas5187"
          ],
          [
           "cas5188"
          ],
          [
           "cas5189"
          ],
          [
           "cas5190"
          ],
          [
           "cas5191"
          ],
          [
           "cas5192"
          ],
          [
           "cas3067"
          ],
          [
           "cas4109"
          ],
          [
           "con1002"
          ],
          [
           "con1004"
          ],
          [
           "con1006"
          ],
          [
           "con1007"
          ],
          [
           "con1008"
          ],
          [
           "con1009"
          ],
          [
           "con1011"
          ],
          [
           "con1016"
          ],
          [
           "con2026"
          ],
          [
           "con2030"
          ],
          [
           "con2031"
          ],
          [
           "con2036"
          ],
          [
           "con2037"
          ],
          [
           "con2042"
          ],
          [
           "con2046"
          ],
          [
           "con2047"
          ],
          [
           "con3063"
          ],
          [
           "con3064"
          ],
          [
           "con3066"
          ],
          [
           "con3068"
          ],
          [
           "con3069"
          ],
          [
           "con3070"
          ],
          [
           "con3071"
          ],
          [
           "con3087"
          ],
          [
           "con3088"
          ],
          [
           "con3090"
          ],
          [
           "con3091"
          ],
          [
           "con3093"
          ],
          [
           "con3094"
          ],
          [
           "con3095"
          ],
          [
           "con4110"
          ],
          [
           "con4113"
          ],
          [
           "con4114"
          ],
          [
           "con4117"
          ],
          [
           "con4118"
          ],
          [
           "con4119"
          ],
          [
           "con4120"
          ],
          [
           "con4135"
          ],
          [
           "con4136"
          ],
          [
           "con4138"
          ],
          [
           "con4141"
          ],
          [
           "con4142"
          ],
          [
           "con4143"
          ],
          [
           "con4144"
          ],
          [
           "con5146"
          ],
          [
           "con5148"
          ],
          [
           "con5149"
          ],
          [
           "con5151"
          ],
          [
           "con5157"
          ],
          [
           "con5158"
          ],
          [
           "con5159"
          ],
          [
           "con5160"
          ],
          [
           "con5161"
          ],
          [
           "con5165"
          ],
          [
           "con5167"
          ],
          [
           "con5171"
          ],
          [
           "con5172"
          ],
          [
           "con5174"
          ],
          [
           "con5175"
          ],
          [
           "con5182"
          ],
          [
           "con4111"
          ]
         ],
         "tickvals": [
          1,
          2,
          3,
          4,
          5,
          6,
          7,
          8,
          9,
          10,
          11,
          12,
          13,
          14,
          15,
          16,
          17,
          18,
          19,
          20,
          21,
          22,
          23,
          24,
          25,
          26,
          27,
          28,
          29,
          30,
          31,
          32,
          33,
          34,
          35,
          36,
          37,
          38,
          39,
          40,
          41,
          42,
          43,
          44,
          45,
          46,
          47,
          48,
          49,
          50,
          51,
          52,
          53,
          54,
          55,
          56,
          57,
          58,
          59,
          60,
          61,
          62,
          63,
          64,
          65,
          66,
          67,
          68,
          69,
          70,
          71,
          72,
          73,
          74,
          75,
          76,
          77,
          78,
          79,
          80,
          81,
          82,
          83,
          84,
          85,
          86,
          87,
          88,
          89,
          90,
          91,
          92,
          93,
          94,
          95,
          96,
          97,
          98,
          99,
          100,
          101,
          102,
          103,
          104,
          105,
          106,
          107,
          108,
          109,
          110,
          111,
          112,
          113,
          114,
          115,
          116,
          117,
          118,
          119,
          120,
          121,
          122,
          123,
          124,
          125,
          126,
          127,
          128,
          129,
          130,
          131,
          132,
          133,
          134,
          135,
          136,
          137,
          138,
          139,
          140,
          141,
          142,
          143,
          144,
          145,
          146,
          147,
          148,
          149,
          150,
          151,
          152,
          153,
          154,
          155,
          156,
          157,
          158,
          159,
          160,
          161,
          162,
          163,
          164,
          165,
          166,
          167,
          168,
          169,
          170,
          171,
          172,
          173,
          174,
          175,
          176,
          177,
          178,
          179,
          180,
          181,
          182,
          183,
          184,
          185,
          186,
          187,
          188,
          189,
          190,
          191
         ],
         "title": "Sample ID (Grouped by case | control)",
         "zeroline": false
        },
        "yaxis": {
         "automargin": true,
         "hovermode": true,
         "range": [
          [
           1,
           2,
           3,
           4,
           5,
           6,
           7
          ]
         ],
         "showgrid": false,
         "tickfont": {
          "size": "10"
         },
         "ticktext": [
          "4",
          "seq_site_1,seq_site_2",
          "case,control"
         ],
         "tickvals": [
          1,
          6,
          7
         ],
         "title": "Genomic Location",
         "zeroline": false
        }
       }
      },
      "text/html": [
       "<div class='display:none'></div><unsafe-script style='display:none'>\n",
       "WebIO.mount(this.previousSibling,{&quot;props&quot;:{},&quot;nodeType&quot;:&quot;Scope&quot;,&quot;type&quot;:&quot;node&quot;,&quot;instanceArgs&quot;:{&quot;imports&quot;:{&quot;data&quot;:[{&quot;name&quot;:&quot;Plotly&quot;,&quot;type&quot;:&quot;js&quot;,&quot;url&quot;:&quot;/assetserver/47a6c8b8da5e6c0f0fce29e6441ca4441e24b09c-plotly-latest.min.js&quot;},{&quot;name&quot;:null,&quot;type&quot;:&quot;js&quot;,&quot;url&quot;:&quot;/assetserver/111f08ddf6b23302847825d4d609c91ca9f080a9-plotly_webio.bundle.js&quot;}],&quot;type&quot;:&quot;async_block&quot;},&quot;id&quot;:&quot;scope-c89276a0-f0a0-4783-a440-c3a1027e0c3f&quot;,&quot;handlers&quot;:{&quot;_toImage&quot;:[(function (options){return this.Plotly.toImage(this.plotElem,options).then((function (data){return WebIO.setval({&quot;name&quot;:&quot;image&quot;,&quot;scope&quot;:&quot;scope-c89276a0-f0a0-4783-a440-c3a1027e0c3f&quot;,&quot;id&quot;:&quot;ob_15&quot;,&quot;type&quot;:&quot;observable&quot;},data)}))})],&quot;__get_gd_contents&quot;:[(function (prop){prop==&quot;data&quot; ? (WebIO.setval({&quot;name&quot;:&quot;__gd_contents&quot;,&quot;scope&quot;:&quot;scope-c89276a0-f0a0-4783-a440-c3a1027e0c3f&quot;,&quot;id&quot;:&quot;ob_16&quot;,&quot;type&quot;:&quot;observable&quot;},this.plotElem.data)) : undefined; return prop==&quot;layout&quot; ? (WebIO.setval({&quot;name&quot;:&quot;__gd_contents&quot;,&quot;scope&quot;:&quot;scope-c89276a0-f0a0-4783-a440-c3a1027e0c3f&quot;,&quot;id&quot;:&quot;ob_16&quot;,&quot;type&quot;:&quot;observable&quot;},this.plotElem.layout)) : undefined})],&quot;_promises&quot;:{&quot;importsLoaded&quot;:[(function (Plotly){var gd=this.dom.querySelector(&quot;#plot-d2df8764-6d5e-4646-a487-32eb76b87cee&quot;); this.plotElem=gd; this.Plotly=Plotly; (window.Blink!==undefined) ? (gd.style.width=&quot;100%&quot;, gd.style.height=&quot;100vh&quot;, gd.style.marginLeft=&quot;0%&quot;, gd.style.marginTop=&quot;0vh&quot;) : undefined; window.onresize=(function (){return Plotly.Plots.resize(gd)}); Plotly.newPlot(gd,[{&quot;colorbar&quot;:{&quot;tickvals&quot;:[-60,-40,-20,0,20,40,60,80,99],&quot;title&quot;:&quot;Depth / Trait&quot;,&quot;ticktext&quot;:[&quot;Trait 2&quot;,&quot;Trait 1&quot;,&quot;No Call&quot;,&quot;0&quot;,&quot;20&quot;,&quot;40&quot;,&quot;60&quot;,&quot;80&quot;,&quot;100+&quot;]},&quot;colorscale&quot;:[[0,&quot;rgb(208, 211, 212)&quot;],[0.125,&quot;rgb(151, 154, 154)&quot;],[0.25,&quot;rgb(255, 255, 255)&quot;],[0.4,&quot;rgb(153,231,255)&quot;],[0.5,&quot;rgb(79,146,255)&quot;],[0.5625,&quot;rgb(43,124,255)&quot;],[1,&quot;rgb(0,64,168)&quot;]],&quot;text&quot;:[[&quot;ID: cas1001 \\n chr4,3076150 \\n DP: 0&quot;,&quot;ID: cas1003 \\n chr4,3076150 \\n DP: 0&quot;,&quot;ID: cas1005 \\n chr4,3076150 \\n DP: 1&quot;,&quot;ID: cas1010 \\n chr4,3076150 \\n DP: 1&quot;,&quot;ID: cas1012 \\n chr4,3076150 \\n DP: 0&quot;,&quot;ID: cas1013 \\n chr4,3076150 \\n DP: 1&quot;,&quot;ID: cas1014 \\n chr4,3076150 \\n DP: 2&quot;,&quot;ID: cas1015 \\n chr4,3076150 \\n DP: 1&quot;,&quot;ID: cas1017 \\n chr4,3076150 \\n DP: 2&quot;,&quot;ID: cas1018 \\n chr4,3076150 \\n DP: 1&quot;,&quot;ID: cas1019 \\n chr4,3076150 \\n DP: 1&quot;,&quot;ID: cas1020 \\n chr4,3076150 \\n DP: 0&quot;,&quot;ID: cas1021 \\n chr4,3076150 \\n DP: 0&quot;,&quot;ID: cas1022 \\n chr4,3076150 \\n DP: 4&quot;,&quot;ID: cas1023 \\n chr4,3076150 \\n DP: 2&quot;,&quot;ID: cas1024 \\n chr4,3076150 \\n DP: 0&quot;,&quot;ID: cas2025 \\n chr4,3076150 \\n DP: 0&quot;,&quot;ID: cas2027 \\n chr4,3076150 \\n DP: 0&quot;,&quot;ID: cas2028 \\n chr4,3076150 \\n DP: 0&quot;,&quot;ID: cas2029 \\n chr4,3076150 \\n DP: 0&quot;,&quot;ID: cas2032 \\n chr4,3076150 \\n DP: 0&quot;,&quot;ID: cas2033 \\n chr4,3076150 \\n DP: 0&quot;,&quot;ID: cas2034 \\n chr4,3076150 \\n DP: 0&quot;,&quot;ID: cas2035 \\n chr4,3076150 \\n DP: 0&quot;,&quot;ID: cas2038 \\n chr4,3076150 \\n DP: 1&quot;,&quot;ID: cas2039 \\n chr4,3076150 \\n DP: 0&quot;,&quot;ID: cas2040 \\n chr4,3076150 \\n DP: 1&quot;,&quot;ID: cas2041 \\n chr4,3076150 \\n DP: 0&quot;,&quot;ID: cas2043 \\n chr4,3076150 \\n DP: 0&quot;,&quot;ID: cas2044 \\n chr4,3076150 \\n DP: 0&quot;,&quot;ID: cas2045 \\n chr4,3076150 \\n DP: 0&quot;,&quot;ID: cas2048 \\n chr4,3076150 \\n DP: 0&quot;,&quot;ID: cas3050 \\n chr4,3076150 \\n DP: 1&quot;,&quot;ID: cas3051 \\n chr4,3076150 \\n DP: 0&quot;,&quot;ID: cas3052 \\n chr4,3076150 \\n DP: 1&quot;,&quot;ID: cas3053 \\n chr4,3076150 \\n DP: 0&quot;,&quot;ID: cas3054 \\n chr4,3076150 \\n DP: 1&quot;,&quot;ID: cas3055 \\n chr4,3076150 \\n DP: 0&quot;,&quot;ID: cas3056 \\n chr4,3076150 \\n DP: 10&quot;,&quot;ID: cas3057 \\n chr4,3076150 \\n DP: 0&quot;,&quot;ID: cas3058 \\n chr4,3076150 \\n DP: 1&quot;,&quot;ID: cas3059 \\n chr4,3076150 \\n DP: 0&quot;,&quot;ID: cas3060 \\n chr4,3076150 \\n DP: 0&quot;,&quot;ID: cas3061 \\n chr4,3076150 \\n DP: 0&quot;,&quot;ID: cas3062 \\n chr4,3076150 \\n DP: 1&quot;,&quot;ID: cas3065 \\n chr4,3076150 \\n DP: 1&quot;,&quot;ID: cas3072 \\n chr4,3076150 \\n DP: 4&quot;,&quot;ID: cas3073 \\n chr4,3076150 \\n DP: 0&quot;,&quot;ID: cas3074 \\n chr4,3076150 \\n DP: 0&quot;,&quot;ID: cas3075 \\n chr4,3076150 \\n DP: 1&quot;,&quot;ID: cas3076 \\n chr4,3076150 \\n DP: 1&quot;,&quot;ID: cas3077 \\n chr4,3076150 \\n DP: 1&quot;,&quot;ID: cas3078 \\n chr4,3076150 \\n DP: 0&quot;,&quot;ID: cas3079 \\n chr4,3076150 \\n DP: 0&quot;,&quot;ID: cas3080 \\n chr4,3076150 \\n DP: 0&quot;,&quot;ID: cas3081 \\n chr4,3076150 \\n DP: 4&quot;,&quot;ID: cas3082 \\n chr4,3076150 \\n DP: 0&quot;,&quot;ID: cas3083 \\n chr4,3076150 \\n DP: 0&quot;,&quot;ID: cas3084 \\n chr4,3076150 \\n DP: 0&quot;,&quot;ID: cas3085 \\n chr4,3076150 \\n DP: 0&quot;,&quot;ID: cas3086 \\n chr4,3076150 \\n DP: 4&quot;,&quot;ID: cas3089 \\n chr4,3076150 \\n DP: 1&quot;,&quot;ID: cas3092 \\n chr4,3076150 \\n DP: 0&quot;,&quot;ID: cas3096 \\n chr4,3076150 \\n DP: 1&quot;,&quot;ID: cas4097 \\n chr4,3076150 \\n DP: 0&quot;,&quot;ID: cas4098 \\n chr4,3076150 \\n DP: 1&quot;,&quot;ID: cas4099 \\n chr4,3076150 \\n DP: 0&quot;,&quot;ID: cas4100 \\n chr4,3076150 \\n DP: 0&quot;,&quot;ID: cas4101 \\n chr4,3076150 \\n DP: 0&quot;,&quot;ID: cas4102 \\n chr4,3076150 \\n DP: 0&quot;,&quot;ID: cas4103 \\n chr4,3076150 \\n DP: 0&quot;,&quot;ID: cas4104 \\n chr4,3076150 \\n DP: 0&quot;,&quot;ID: cas4105 \\n chr4,3076150 \\n DP: 0&quot;,&quot;ID: cas4106 \\n chr4,3076150 \\n DP: 0&quot;,&quot;ID: cas4107 \\n chr4,3076150 \\n DP: 2&quot;,&quot;ID: cas4108 \\n chr4,3076150 \\n DP: 1&quot;,&quot;ID: cas4112 \\n chr4,3076150 \\n DP: 0&quot;,&quot;ID: cas4115 \\n chr4,3076150 \\n DP: 3&quot;,&quot;ID: cas4116 \\n chr4,3076150 \\n DP: 0&quot;,&quot;ID: cas4121 \\n chr4,3076150 \\n DP: 4&quot;,&quot;ID: cas4122 \\n chr4,3076150 \\n DP: 0&quot;,&quot;ID: cas4123 \\n chr4,3076150 \\n DP: 0&quot;,&quot;ID: cas4124 \\n chr4,3076150 \\n DP: 0&quot;,&quot;ID: cas4125 \\n chr4,3076150 \\n DP: 2&quot;,&quot;ID: cas4126 \\n chr4,3076150 \\n DP: 0&quot;,&quot;ID: cas4127 \\n chr4,3076150 \\n DP: 0&quot;,&quot;ID: cas4128 \\n chr4,3076150 \\n DP: 0&quot;,&quot;ID: cas4129 \\n chr4,3076150 \\n DP: 0&quot;,&quot;ID: cas4130 \\n chr4,3076150 \\n DP: 1&quot;,&quot;ID: cas4131 \\n chr4,3076150 \\n DP: 1&quot;,&quot;ID: cas4132 \\n chr4,3076150 \\n DP: 0&quot;,&quot;ID: cas4133 \\n chr4,3076150 \\n DP: 0&quot;,&quot;ID: cas4134 \\n chr4,3076150 \\n DP: 0&quot;,&quot;ID: con4137 \\n chr4,3076150 \\n DP: 0&quot;,&quot;ID: cas4139 \\n chr4,3076150 \\n DP: 2&quot;,&quot;ID: cas4140 \\n chr4,3076150 \\n DP: 0&quot;,&quot;ID: cas5145 \\n chr4,3076150 \\n DP: 0&quot;,&quot;ID: cas5147 \\n chr4,3076150 \\n DP: 2&quot;,&quot;ID: cas5150 \\n chr4,3076150 \\n DP: 0&quot;,&quot;ID: cas5152 \\n chr4,3076150 \\n DP: 0&quot;,&quot;ID: cas5153 \\n chr4,3076150 \\n DP: 3&quot;,&quot;ID: cas5154 \\n chr4,3076150 \\n DP: 3&quot;,&quot;ID: cas5155 \\n chr4,3076150 \\n DP: 3&quot;,&quot;ID: cas5156 \\n chr4,3076150 \\n DP: 0&quot;,&quot;ID: cas5162 \\n chr4,3076150 \\n DP: 2&quot;,&quot;ID: cas5163 \\n chr4,3076150 \\n DP: 4&quot;,&quot;ID: cas5164 \\n chr4,3076150 \\n DP: 0&quot;,&quot;ID: cas5166 \\n chr4,3076150 \\n DP: 0&quot;,&quot;ID: cas5168 \\n chr4,3076150 \\n DP: 0&quot;,&quot;ID: cas5169 \\n chr4,3076150 \\n DP: 0&quot;,&quot;ID: cas5170 \\n chr4,3076150 \\n DP: 0&quot;,&quot;ID: cas5173 \\n chr4,3076150 \\n DP: 0&quot;,&quot;ID: cas5176 \\n chr4,3076150 \\n DP: 5&quot;,&quot;ID: cas5177 \\n chr4,3076150 \\n DP: 1&quot;,&quot;ID: cas5178 \\n chr4,3076150 \\n DP: 2&quot;,&quot;ID: cas5179 \\n chr4,3076150 \\n DP: 3&quot;,&quot;ID: cas5180 \\n chr4,3076150 \\n DP: 0&quot;,&quot;ID: cas5181 \\n chr4,3076150 \\n DP: 1&quot;,&quot;ID: cas5183 \\n chr4,3076150 \\n DP: 0&quot;,&quot;ID: cas5184 \\n chr4,3076150 \\n DP: 0&quot;,&quot;ID: cas5185 \\n chr4,3076150 \\n DP: 1&quot;,&quot;ID: cas5186 \\n chr4,3076150 \\n DP: 0&quot;,&quot;ID: cas5187 \\n chr4,3076150 \\n DP: 2&quot;,&quot;ID: cas5188 \\n chr4,3076150 \\n DP: 1&quot;,&quot;ID: cas5189 \\n chr4,3076150 \\n DP: 0&quot;,&quot;ID: cas5190 \\n chr4,3076150 \\n DP: 1&quot;,&quot;ID: cas5191 \\n chr4,3076150 \\n DP: 1&quot;,&quot;ID: cas5192 \\n chr4,3076150 \\n DP: 3&quot;,&quot;ID: cas3067 \\n chr4,3076150 \\n DP: 0&quot;,&quot;ID: cas4109 \\n chr4,3076150 \\n DP: 3&quot;,&quot;ID: con1002 \\n chr4,3076150 \\n DP: 0&quot;,&quot;ID: con1004 \\n chr4,3076150 \\n DP: 1&quot;,&quot;ID: con1006 \\n chr4,3076150 \\n DP: 2&quot;,&quot;ID: con1007 \\n chr4,3076150 \\n DP: 0&quot;,&quot;ID: con1008 \\n chr4,3076150 \\n DP: 0&quot;,&quot;ID: con1009 \\n chr4,3076150 \\n DP: 0&quot;,&quot;ID: con1011 \\n chr4,3076150 \\n DP: 1&quot;,&quot;ID: con1016 \\n chr4,3076150 \\n DP: 0&quot;,&quot;ID: con2026 \\n chr4,3076150 \\n DP: 0&quot;,&quot;ID: con2030 \\n chr4,3076150 \\n DP: 0&quot;,&quot;ID: con2031 \\n chr4,3076150 \\n DP: 0&quot;,&quot;ID: con2036 \\n chr4,3076150 \\n DP: 0&quot;,&quot;ID: con2037 \\n chr4,3076150 \\n DP: 0&quot;,&quot;ID: con2042 \\n chr4,3076150 \\n DP: 0&quot;,&quot;ID: con2046 \\n chr4,3076150 \\n DP: 0&quot;,&quot;ID: con2047 \\n chr4,3076150 \\n DP: 0&quot;,&quot;ID: con3063 \\n chr4,3076150 \\n DP: 0&quot;,&quot;ID: con3064 \\n chr4,3076150 \\n DP: 2&quot;,&quot;ID: con3066 \\n chr4,3076150 \\n DP: 0&quot;,&quot;ID: con3068 \\n chr4,3076150 \\n DP: 0&quot;,&quot;ID: con3069 \\n chr4,3076150 \\n DP: 1&quot;,&quot;ID: con3070 \\n chr4,3076150 \\n DP: 3&quot;,&quot;ID: con3071 \\n chr4,3076150 \\n DP: 0&quot;,&quot;ID: con3087 \\n chr4,3076150 \\n DP: 0&quot;,&quot;ID: con3088 \\n chr4,3076150 \\n DP: 1&quot;,&quot;ID: con3090 \\n chr4,3076150 \\n DP: 0&quot;,&quot;ID: con3091 \\n chr4,3076150 \\n DP: 4&quot;,&quot;ID: con3093 \\n chr4,3076150 \\n DP: 0&quot;,&quot;ID: con3094 \\n chr4,3076150 \\n DP: 1&quot;,&quot;ID: con3095 \\n chr4,3076150 \\n DP: 0&quot;,&quot;ID: con4110 \\n chr4,3076150 \\n DP: 0&quot;,&quot;ID: con4113 \\n chr4,3076150 \\n DP: 10&quot;,&quot;ID: con4114 \\n chr4,3076150 \\n DP: 3&quot;,&quot;ID: con4117 \\n chr4,3076150 \\n DP: 3&quot;,&quot;ID: con4118 \\n chr4,3076150 \\n DP: 0&quot;,&quot;ID: con4119 \\n chr4,3076150 \\n DP: 12&quot;,&quot;ID: con4120 \\n chr4,3076150 \\n DP: 3&quot;,&quot;ID: con4135 \\n chr4,3076150 \\n DP: 1&quot;,&quot;ID: con4136 \\n chr4,3076150 \\n DP: 1&quot;,&quot;ID: con4138 \\n chr4,3076150 \\n DP: 0&quot;,&quot;ID: con4141 \\n chr4,3076150 \\n DP: 2&quot;,&quot;ID: con4142 \\n chr4,3076150 \\n DP: 0&quot;,&quot;ID: con4143 \\n chr4,3076150 \\n DP: 1&quot;,&quot;ID: con4144 \\n chr4,3076150 \\n DP: 0&quot;,&quot;ID: con5146 \\n chr4,3076150 \\n DP: 1&quot;,&quot;ID: con5148 \\n chr4,3076150 \\n DP: 0&quot;,&quot;ID: con5149 \\n chr4,3076150 \\n DP: 2&quot;,&quot;ID: con5151 \\n chr4,3076150 \\n DP: 0&quot;,&quot;ID: con5157 \\n chr4,3076150 \\n DP: 1&quot;,&quot;ID: con5158 \\n chr4,3076150 \\n DP: 0&quot;,&quot;ID: con5159 \\n chr4,3076150 \\n DP: 0&quot;,&quot;ID: con5160 \\n chr4,3076150 \\n DP: 0&quot;,&quot;ID: con5161 \\n chr4,3076150 \\n DP: 2&quot;,&quot;ID: con5165 \\n chr4,3076150 \\n DP: 2&quot;,&quot;ID: con5167 \\n chr4,3076150 \\n DP: 1&quot;,&quot;ID: con5171 \\n chr4,3076150 \\n DP: 1&quot;,&quot;ID: con5172 \\n chr4,3076150 \\n DP: 1&quot;,&quot;ID: con5174 \\n chr4,3076150 \\n DP: 0&quot;,&quot;ID: con5175 \\n chr4,3076150 \\n DP: 1&quot;,&quot;ID: con5182 \\n chr4,3076150 \\n DP: 0&quot;,&quot;ID: con4111 \\n chr4,3076150 \\n DP: 1&quot;],[&quot;ID: cas1001 \\n chr4,3076181 \\n DP: 0&quot;,&quot;ID: cas1003 \\n chr4,3076181 \\n DP: 7&quot;,&quot;ID: cas1005 \\n chr4,3076181 \\n DP: 1&quot;,&quot;ID: cas1010 \\n chr4,3076181 \\n DP: 2&quot;,&quot;ID: cas1012 \\n chr4,3076181 \\n DP: 0&quot;,&quot;ID: cas1013 \\n chr4,3076181 \\n DP: 2&quot;,&quot;ID: cas1014 \\n chr4,3076181 \\n DP: 2&quot;,&quot;ID: cas1015 \\n chr4,3076181 \\n DP: 1&quot;,&quot;ID: cas1017 \\n chr4,3076181 \\n DP: 3&quot;,&quot;ID: cas1018 \\n chr4,3076181 \\n DP: 1&quot;,&quot;ID: cas1019 \\n chr4,3076181 \\n DP: 1&quot;,&quot;ID: cas1020 \\n chr4,3076181 \\n DP: 1&quot;,&quot;ID: cas1021 \\n chr4,3076181 \\n DP: 0&quot;,&quot;ID: cas1022 \\n chr4,3076181 \\n DP: 5&quot;,&quot;ID: cas1023 \\n chr4,3076181 \\n DP: 4&quot;,&quot;ID: cas1024 \\n chr4,3076181 \\n DP: 1&quot;,&quot;ID: cas2025 \\n chr4,3076181 \\n DP: 0&quot;,&quot;ID: cas2027 \\n chr4,3076181 \\n DP: 0&quot;,&quot;ID: cas2028 \\n chr4,3076181 \\n DP: 0&quot;,&quot;ID: cas2029 \\n chr4,3076181 \\n DP: 1&quot;,&quot;ID: cas2032 \\n chr4,3076181 \\n DP: 0&quot;,&quot;ID: cas2033 \\n chr4,3076181 \\n DP: 0&quot;,&quot;ID: cas2034 \\n chr4,3076181 \\n DP: 0&quot;,&quot;ID: cas2035 \\n chr4,3076181 \\n DP: 0&quot;,&quot;ID: cas2038 \\n chr4,3076181 \\n DP: 3&quot;,&quot;ID: cas2039 \\n chr4,3076181 \\n DP: 1&quot;,&quot;ID: cas2040 \\n chr4,3076181 \\n DP: 1&quot;,&quot;ID: cas2041 \\n chr4,3076181 \\n DP: 0&quot;,&quot;ID: cas2043 \\n chr4,3076181 \\n DP: 0&quot;,&quot;ID: cas2044 \\n chr4,3076181 \\n DP: 0&quot;,&quot;ID: cas2045 \\n chr4,3076181 \\n DP: 0&quot;,&quot;ID: cas2048 \\n chr4,3076181 \\n DP: 1&quot;,&quot;ID: cas3050 \\n chr4,3076181 \\n DP: 1&quot;,&quot;ID: cas3051 \\n chr4,3076181 \\n DP: 0&quot;,&quot;ID: cas3052 \\n chr4,3076181 \\n DP: 2&quot;,&quot;ID: cas3053 \\n chr4,3076181 \\n DP: 2&quot;,&quot;ID: cas3054 \\n chr4,3076181 \\n DP: 1&quot;,&quot;ID: cas3055 \\n chr4,3076181 \\n DP: 0&quot;,&quot;ID: cas3056 \\n chr4,3076181 \\n DP: 10&quot;,&quot;ID: cas3057 \\n chr4,3076181 \\n DP: 0&quot;,&quot;ID: cas3058 \\n chr4,3076181 \\n DP: 1&quot;,&quot;ID: cas3059 \\n chr4,3076181 \\n DP: 0&quot;,&quot;ID: cas3060 \\n chr4,3076181 \\n DP: 0&quot;,&quot;ID: cas3061 \\n chr4,3076181 \\n DP: 0&quot;,&quot;ID: cas3062 \\n chr4,3076181 \\n DP: 0&quot;,&quot;ID: cas3065 \\n chr4,3076181 \\n DP: 1&quot;,&quot;ID: cas3072 \\n chr4,3076181 \\n DP: 2&quot;,&quot;ID: cas3073 \\n chr4,3076181 \\n DP: 1&quot;,&quot;ID: cas3074 \\n chr4,3076181 \\n DP: 0&quot;,&quot;ID: cas3075 \\n chr4,3076181 \\n DP: 1&quot;,&quot;ID: cas3076 \\n chr4,3076181 \\n DP: 0&quot;,&quot;ID: cas3077 \\n chr4,3076181 \\n DP: 2&quot;,&quot;ID: cas3078 \\n chr4,3076181 \\n DP: 0&quot;,&quot;ID: cas3079 \\n chr4,3076181 \\n DP: 1&quot;,&quot;ID: cas3080 \\n chr4,3076181 \\n DP: 0&quot;,&quot;ID: cas3081 \\n chr4,3076181 \\n DP: 2&quot;,&quot;ID: cas3082 \\n chr4,3076181 \\n DP: 1&quot;,&quot;ID: cas3083 \\n chr4,3076181 \\n DP: 0&quot;,&quot;ID: cas3084 \\n chr4,3076181 \\n DP: 0&quot;,&quot;ID: cas3085 \\n chr4,3076181 \\n DP: 0&quot;,&quot;ID: cas3086 \\n chr4,3076181 \\n DP: 2&quot;,&quot;ID: cas3089 \\n chr4,3076181 \\n DP: 4&quot;,&quot;ID: cas3092 \\n chr4,3076181 \\n DP: 1&quot;,&quot;ID: cas3096 \\n chr4,3076181 \\n DP: 2&quot;,&quot;ID: cas4097 \\n chr4,3076181 \\n DP: 1&quot;,&quot;ID: cas4098 \\n chr4,3076181 \\n DP: 4&quot;,&quot;ID: cas4099 \\n chr4,3076181 \\n DP: 0&quot;,&quot;ID: cas4100 \\n chr4,3076181 \\n DP: 1&quot;,&quot;ID: cas4101 \\n chr4,3076181 \\n DP: 0&quot;,&quot;ID: cas4102 \\n chr4,3076181 \\n DP: 0&quot;,&quot;ID: cas4103 \\n chr4,3076181 \\n DP: 0&quot;,&quot;ID: cas4104 \\n chr4,3076181 \\n DP: 0&quot;,&quot;ID: cas4105 \\n chr4,3076181 \\n DP: 0&quot;,&quot;ID: cas4106 \\n chr4,3076181 \\n DP: 0&quot;,&quot;ID: cas4107 \\n chr4,3076181 \\n DP: 2&quot;,&quot;ID: cas4108 \\n chr4,3076181 \\n DP: 0&quot;,&quot;ID: cas4112 \\n chr4,3076181 \\n DP: 2&quot;,&quot;ID: cas4115 \\n chr4,3076181 \\n DP: 4&quot;,&quot;ID: cas4116 \\n chr4,3076181 \\n DP: 0&quot;,&quot;ID: cas4121 \\n chr4,3076181 \\n DP: 7&quot;,&quot;ID: cas4122 \\n chr4,3076181 \\n DP: 0&quot;,&quot;ID: cas4123 \\n chr4,3076181 \\n DP: 1&quot;,&quot;ID: cas4124 \\n chr4,3076181 \\n DP: 0&quot;,&quot;ID: cas4125 \\n chr4,3076181 \\n DP: 4&quot;,&quot;ID: cas4126 \\n chr4,3076181 \\n DP: 2&quot;,&quot;ID: cas4127 \\n chr4,3076181 \\n DP: 0&quot;,&quot;ID: cas4128 \\n chr4,3076181 \\n DP: 2&quot;,&quot;ID: cas4129 \\n chr4,3076181 \\n DP: 0&quot;,&quot;ID: cas4130 \\n chr4,3076181 \\n DP: 2&quot;,&quot;ID: cas4131 \\n chr4,3076181 \\n DP: 3&quot;,&quot;ID: cas4132 \\n chr4,3076181 \\n DP: 0&quot;,&quot;ID: cas4133 \\n chr4,3076181 \\n DP: 2&quot;,&quot;ID: cas4134 \\n chr4,3076181 \\n DP: 0&quot;,&quot;ID: con4137 \\n chr4,3076181 \\n DP: 1&quot;,&quot;ID: cas4139 \\n chr4,3076181 \\n DP: 3&quot;,&quot;ID: cas4140 \\n chr4,3076181 \\n DP: 0&quot;,&quot;ID: cas5145 \\n chr4,3076181 \\n DP: 0&quot;,&quot;ID: cas5147 \\n chr4,3076181 \\n DP: 2&quot;,&quot;ID: cas5150 \\n chr4,3076181 \\n DP: 0&quot;,&quot;ID: cas5152 \\n chr4,3076181 \\n DP: 0&quot;,&quot;ID: cas5153 \\n chr4,3076181 \\n DP: 7&quot;,&quot;ID: cas5154 \\n chr4,3076181 \\n DP: 7&quot;,&quot;ID: cas5155 \\n chr4,3076181 \\n DP: 4&quot;,&quot;ID: cas5156 \\n chr4,3076181 \\n DP: 1&quot;,&quot;ID: cas5162 \\n chr4,3076181 \\n DP: 2&quot;,&quot;ID: cas5163 \\n chr4,3076181 \\n DP: 7&quot;,&quot;ID: cas5164 \\n chr4,3076181 \\n DP: 1&quot;,&quot;ID: cas5166 \\n chr4,3076181 \\n DP: 1&quot;,&quot;ID: cas5168 \\n chr4,3076181 \\n DP: 0&quot;,&quot;ID: cas5169 \\n chr4,3076181 \\n DP: 0&quot;,&quot;ID: cas5170 \\n chr4,3076181 \\n DP: 0&quot;,&quot;ID: cas5173 \\n chr4,3076181 \\n DP: 0&quot;,&quot;ID: cas5176 \\n chr4,3076181 \\n DP: 5&quot;,&quot;ID: cas5177 \\n chr4,3076181 \\n DP: 2&quot;,&quot;ID: cas5178 \\n chr4,3076181 \\n DP: 3&quot;,&quot;ID: cas5179 \\n chr4,3076181 \\n DP: 4&quot;,&quot;ID: cas5180 \\n chr4,3076181 \\n DP: 0&quot;,&quot;ID: cas5181 \\n chr4,3076181 \\n DP: 5&quot;,&quot;ID: cas5183 \\n chr4,3076181 \\n DP: 0&quot;,&quot;ID: cas5184 \\n chr4,3076181 \\n DP: 0&quot;,&quot;ID: cas5185 \\n chr4,3076181 \\n DP: 2&quot;,&quot;ID: cas5186 \\n chr4,3076181 \\n DP: 1&quot;,&quot;ID: cas5187 \\n chr4,3076181 \\n DP: 1&quot;,&quot;ID: cas5188 \\n chr4,3076181 \\n DP: 4&quot;,&quot;ID: cas5189 \\n chr4,3076181 \\n DP: 0&quot;,&quot;ID: cas5190 \\n chr4,3076181 \\n DP: 2&quot;,&quot;ID: cas5191 \\n chr4,3076181 \\n DP: 0&quot;,&quot;ID: cas5192 \\n chr4,3076181 \\n DP: 2&quot;,&quot;ID: cas3067 \\n chr4,3076181 \\n DP: 0&quot;,&quot;ID: cas4109 \\n chr4,3076181 \\n DP: 2&quot;,&quot;ID: con1002 \\n chr4,3076181 \\n DP: 0&quot;,&quot;ID: con1004 \\n chr4,3076181 \\n DP: 1&quot;,&quot;ID: con1006 \\n chr4,3076181 \\n DP: 2&quot;,&quot;ID: con1007 \\n chr4,3076181 \\n DP: 0&quot;,&quot;ID: con1008 \\n chr4,3076181 \\n DP: 1&quot;,&quot;ID: con1009 \\n chr4,3076181 \\n DP: 0&quot;,&quot;ID: con1011 \\n chr4,3076181 \\n DP: 0&quot;,&quot;ID: con1016 \\n chr4,3076181 \\n DP: 0&quot;,&quot;ID: con2026 \\n chr4,3076181 \\n DP: 0&quot;,&quot;ID: con2030 \\n chr4,3076181 \\n DP: 0&quot;,&quot;ID: con2031 \\n chr4,3076181 \\n DP: 0&quot;,&quot;ID: con2036 \\n chr4,3076181 \\n DP: 0&quot;,&quot;ID: con2037 \\n chr4,3076181 \\n DP: 0&quot;,&quot;ID: con2042 \\n chr4,3076181 \\n DP: 0&quot;,&quot;ID: con2046 \\n chr4,3076181 \\n DP: 0&quot;,&quot;ID: con2047 \\n chr4,3076181 \\n DP: 1&quot;,&quot;ID: con3063 \\n chr4,3076181 \\n DP: 0&quot;,&quot;ID: con3064 \\n chr4,3076181 \\n DP: 1&quot;,&quot;ID: con3066 \\n chr4,3076181 \\n DP: 0&quot;,&quot;ID: con3068 \\n chr4,3076181 \\n DP: 0&quot;,&quot;ID: con3069 \\n chr4,3076181 \\n DP: 3&quot;,&quot;ID: con3070 \\n chr4,3076181 \\n DP: 4&quot;,&quot;ID: con3071 \\n chr4,3076181 \\n DP: 0&quot;,&quot;ID: con3087 \\n chr4,3076181 \\n DP: 0&quot;,&quot;ID: con3088 \\n chr4,3076181 \\n DP: 0&quot;,&quot;ID: con3090 \\n chr4,3076181 \\n DP: 0&quot;,&quot;ID: con3091 \\n chr4,3076181 \\n DP: 4&quot;,&quot;ID: con3093 \\n chr4,3076181 \\n DP: 0&quot;,&quot;ID: con3094 \\n chr4,3076181 \\n DP: 1&quot;,&quot;ID: con3095 \\n chr4,3076181 \\n DP: 1&quot;,&quot;ID: con4110 \\n chr4,3076181 \\n DP: 0&quot;,&quot;ID: con4113 \\n chr4,3076181 \\n DP: 20&quot;,&quot;ID: con4114 \\n chr4,3076181 \\n DP: 5&quot;,&quot;ID: con4117 \\n chr4,3076181 \\n DP: 2&quot;,&quot;ID: con4118 \\n chr4,3076181 \\n DP: 0&quot;,&quot;ID: con4119 \\n chr4,3076181 \\n DP: 11&quot;,&quot;ID: con4120 \\n chr4,3076181 \\n DP: 5&quot;,&quot;ID: con4135 \\n chr4,3076181 \\n DP: 1&quot;,&quot;ID: con4136 \\n chr4,3076181 \\n DP: 0&quot;,&quot;ID: con4138 \\n chr4,3076181 \\n DP: 1&quot;,&quot;ID: con4141 \\n chr4,3076181 \\n DP: 2&quot;,&quot;ID: con4142 \\n chr4,3076181 \\n DP: 0&quot;,&quot;ID: con4143 \\n chr4,3076181 \\n DP: 2&quot;,&quot;ID: con4144 \\n chr4,3076181 \\n DP: 0&quot;,&quot;ID: con5146 \\n chr4,3076181 \\n DP: 3&quot;,&quot;ID: con5148 \\n chr4,3076181 \\n DP: 0&quot;,&quot;ID: con5149 \\n chr4,3076181 \\n DP: 1&quot;,&quot;ID: con5151 \\n chr4,3076181 \\n DP: 0&quot;,&quot;ID: con5157 \\n chr4,3076181 \\n DP: 4&quot;,&quot;ID: con5158 \\n chr4,3076181 \\n DP: 0&quot;,&quot;ID: con5159 \\n chr4,3076181 \\n DP: 1&quot;,&quot;ID: con5160 \\n chr4,3076181 \\n DP: 1&quot;,&quot;ID: con5161 \\n chr4,3076181 \\n DP: 2&quot;,&quot;ID: con5165 \\n chr4,3076181 \\n DP: 3&quot;,&quot;ID: con5167 \\n chr4,3076181 \\n DP: 1&quot;,&quot;ID: con5171 \\n chr4,3076181 \\n DP: 1&quot;,&quot;ID: con5172 \\n chr4,3076181 \\n DP: 4&quot;,&quot;ID: con5174 \\n chr4,3076181 \\n DP: 1&quot;,&quot;ID: con5175 \\n chr4,3076181 \\n DP: 1&quot;,&quot;ID: con5182 \\n chr4,3076181 \\n DP: 1&quot;,&quot;ID: con4111 \\n chr4,3076181 \\n DP: 3&quot;],[&quot;ID: cas1001 \\n chr4,3076257 \\n DP: 0&quot;,&quot;ID: cas1003 \\n chr4,3076257 \\n DP: 8&quot;,&quot;ID: cas1005 \\n chr4,3076257 \\n DP: 0&quot;,&quot;ID: cas1010 \\n chr4,3076257 \\n DP: 4&quot;,&quot;ID: cas1012 \\n chr4,3076257 \\n DP: 0&quot;,&quot;ID: cas1013 \\n chr4,3076257 \\n DP: 2&quot;,&quot;ID: cas1014 \\n chr4,3076257 \\n DP: 1&quot;,&quot;ID: cas1015 \\n chr4,3076257 \\n DP: 0&quot;,&quot;ID: cas1017 \\n chr4,3076257 \\n DP: 2&quot;,&quot;ID: cas1018 \\n chr4,3076257 \\n DP: 4&quot;,&quot;ID: cas1019 \\n chr4,3076257 \\n DP: 0&quot;,&quot;ID: cas1020 \\n chr4,3076257 \\n DP: 0&quot;,&quot;ID: cas1021 \\n chr4,3076257 \\n DP: 1&quot;,&quot;ID: cas1022 \\n chr4,3076257 \\n DP: 1&quot;,&quot;ID: cas1023 \\n chr4,3076257 \\n DP: 3&quot;,&quot;ID: cas1024 \\n chr4,3076257 \\n DP: 0&quot;,&quot;ID: cas2025 \\n chr4,3076257 \\n DP: 1&quot;,&quot;ID: cas2027 \\n chr4,3076257 \\n DP: 0&quot;,&quot;ID: cas2028 \\n chr4,3076257 \\n DP: 1&quot;,&quot;ID: cas2029 \\n chr4,3076257 \\n DP: 2&quot;,&quot;ID: cas2032 \\n chr4,3076257 \\n DP: 1&quot;,&quot;ID: cas2033 \\n chr4,3076257 \\n DP: 1&quot;,&quot;ID: cas2034 \\n chr4,3076257 \\n DP: 0&quot;,&quot;ID: cas2035 \\n chr4,3076257 \\n DP: 0&quot;,&quot;ID: cas2038 \\n chr4,3076257 \\n DP: 6&quot;,&quot;ID: cas2039 \\n chr4,3076257 \\n DP: 1&quot;,&quot;ID: cas2040 \\n chr4,3076257 \\n DP: 3&quot;,&quot;ID: cas2041 \\n chr4,3076257 \\n DP: 1&quot;,&quot;ID: cas2043 \\n chr4,3076257 \\n DP: 2&quot;,&quot;ID: cas2044 \\n chr4,3076257 \\n DP: 0&quot;,&quot;ID: cas2045 \\n chr4,3076257 \\n DP: 0&quot;,&quot;ID: cas2048 \\n chr4,3076257 \\n DP: 2&quot;,&quot;ID: cas3050 \\n chr4,3076257 \\n DP: 1&quot;,&quot;ID: cas3051 \\n chr4,3076257 \\n DP: 1&quot;,&quot;ID: cas3052 \\n chr4,3076257 \\n DP: 6&quot;,&quot;ID: cas3053 \\n chr4,3076257 \\n DP: 2&quot;,&quot;ID: cas3054 \\n chr4,3076257 \\n DP: 10&quot;,&quot;ID: cas3055 \\n chr4,3076257 \\n DP: 3&quot;,&quot;ID: cas3056 \\n chr4,3076257 \\n DP: 25&quot;,&quot;ID: cas3057 \\n chr4,3076257 \\n DP: 3&quot;,&quot;ID: cas3058 \\n chr4,3076257 \\n DP: 2&quot;,&quot;ID: cas3059 \\n chr4,3076257 \\n DP: 0&quot;,&quot;ID: cas3060 \\n chr4,3076257 \\n DP: 0&quot;,&quot;ID: cas3061 \\n chr4,3076257 \\n DP: 5&quot;,&quot;ID: cas3062 \\n chr4,3076257 \\n DP: 3&quot;,&quot;ID: cas3065 \\n chr4,3076257 \\n DP: 0&quot;,&quot;ID: cas3072 \\n chr4,3076257 \\n DP: 1&quot;,&quot;ID: cas3073 \\n chr4,3076257 \\n DP: 5&quot;,&quot;ID: cas3074 \\n chr4,3076257 \\n DP: 3&quot;,&quot;ID: cas3075 \\n chr4,3076257 \\n DP: 3&quot;,&quot;ID: cas3076 \\n chr4,3076257 \\n DP: 5&quot;,&quot;ID: cas3077 \\n chr4,3076257 \\n DP: 3&quot;,&quot;ID: cas3078 \\n chr4,3076257 \\n DP: 1&quot;,&quot;ID: cas3079 \\n chr4,3076257 \\n DP: 0&quot;,&quot;ID: cas3080 \\n chr4,3076257 \\n DP: 2&quot;,&quot;ID: cas3081 \\n chr4,3076257 \\n DP: 0&quot;,&quot;ID: cas3082 \\n chr4,3076257 \\n DP: 9&quot;,&quot;ID: cas3083 \\n chr4,3076257 \\n DP: 2&quot;,&quot;ID: cas3084 \\n chr4,3076257 \\n DP: 0&quot;,&quot;ID: cas3085 \\n chr4,3076257 \\n DP: 0&quot;,&quot;ID: cas3086 \\n chr4,3076257 \\n DP: 6&quot;,&quot;ID: cas3089 \\n chr4,3076257 \\n DP: 8&quot;,&quot;ID: cas3092 \\n chr4,3076257 \\n DP: 0&quot;,&quot;ID: cas3096 \\n chr4,3076257 \\n DP: 4&quot;,&quot;ID: cas4097 \\n chr4,3076257 \\n DP: 4&quot;,&quot;ID: cas4098 \\n chr4,3076257 \\n DP: 4&quot;,&quot;ID: cas4099 \\n chr4,3076257 \\n DP: 0&quot;,&quot;ID: cas4100 \\n chr4,3076257 \\n DP: 1&quot;,&quot;ID: cas4101 \\n chr4,3076257 \\n DP: 2&quot;,&quot;ID: cas4102 \\n chr4,3076257 \\n DP: 0&quot;,&quot;ID: cas4103 \\n chr4,3076257 \\n DP: 2&quot;,&quot;ID: cas4104 \\n chr4,3076257 \\n DP: 0&quot;,&quot;ID: cas4105 \\n chr4,3076257 \\n DP: 6&quot;,&quot;ID: cas4106 \\n chr4,3076257 \\n DP: 5&quot;,&quot;ID: cas4107 \\n chr4,3076257 \\n DP: 8&quot;,&quot;ID: cas4108 \\n chr4,3076257 \\n DP: 1&quot;,&quot;ID: cas4112 \\n chr4,3076257 \\n DP: 2&quot;,&quot;ID: cas4115 \\n chr4,3076257 \\n DP: 5&quot;,&quot;ID: cas4116 \\n chr4,3076257 \\n DP: 0&quot;,&quot;ID: cas4121 \\n chr4,3076257 \\n DP: 12&quot;,&quot;ID: cas4122 \\n chr4,3076257 \\n DP: 5&quot;,&quot;ID: cas4123 \\n chr4,3076257 \\n DP: 3&quot;,&quot;ID: cas4124 \\n chr4,3076257 \\n DP: 2&quot;,&quot;ID: cas4125 \\n chr4,3076257 \\n DP: 10&quot;,&quot;ID: cas4126 \\n chr4,3076257 \\n DP: 3&quot;,&quot;ID: cas4127 \\n chr4,3076257 \\n DP: 2&quot;,&quot;ID: cas4128 \\n chr4,3076257 \\n DP: 3&quot;,&quot;ID: cas4129 \\n chr4,3076257 \\n DP: 3&quot;,&quot;ID: cas4130 \\n chr4,3076257 \\n DP: 3&quot;,&quot;ID: cas4131 \\n chr4,3076257 \\n DP: 7&quot;,&quot;ID: cas4132 \\n chr4,3076257 \\n DP: 5&quot;,&quot;ID: cas4133 \\n chr4,3076257 \\n DP: 7&quot;,&quot;ID: cas4134 \\n chr4,3076257 \\n DP: 4&quot;,&quot;ID: con4137 \\n chr4,3076257 \\n DP: 10&quot;,&quot;ID: cas4139 \\n chr4,3076257 \\n DP: 3&quot;,&quot;ID: cas4140 \\n chr4,3076257 \\n DP: 10&quot;,&quot;ID: cas5145 \\n chr4,3076257 \\n DP: 3&quot;,&quot;ID: cas5147 \\n chr4,3076257 \\n DP: 6&quot;,&quot;ID: cas5150 \\n chr4,3076257 \\n DP: 2&quot;,&quot;ID: cas5152 \\n chr4,3076257 \\n DP: 2&quot;,&quot;ID: cas5153 \\n chr4,3076257 \\n DP: 8&quot;,&quot;ID: cas5154 \\n chr4,3076257 \\n DP: 15&quot;,&quot;ID: cas5155 \\n chr4,3076257 \\n DP: 5&quot;,&quot;ID: cas5156 \\n chr4,3076257 \\n DP: 14&quot;,&quot;ID: cas5162 \\n chr4,3076257 \\n DP: 4&quot;,&quot;ID: cas5163 \\n chr4,3076257 \\n DP: 21&quot;,&quot;ID: cas5164 \\n chr4,3076257 \\n DP: 9&quot;,&quot;ID: cas5166 \\n chr4,3076257 \\n DP: 1&quot;,&quot;ID: cas5168 \\n chr4,3076257 \\n DP: 1&quot;,&quot;ID: cas5169 \\n chr4,3076257 \\n DP: 5&quot;,&quot;ID: cas5170 \\n chr4,3076257 \\n DP: 14&quot;,&quot;ID: cas5173 \\n chr4,3076257 \\n DP: 6&quot;,&quot;ID: cas5176 \\n chr4,3076257 \\n DP: 17&quot;,&quot;ID: cas5177 \\n chr4,3076257 \\n DP: 9&quot;,&quot;ID: cas5178 \\n chr4,3076257 \\n DP: 5&quot;,&quot;ID: cas5179 \\n chr4,3076257 \\n DP: 6&quot;,&quot;ID: cas5180 \\n chr4,3076257 \\n DP: 3&quot;,&quot;ID: cas5181 \\n chr4,3076257 \\n DP: 17&quot;,&quot;ID: cas5183 \\n chr4,3076257 \\n DP: 10&quot;,&quot;ID: cas5184 \\n chr4,3076257 \\n DP: 3&quot;,&quot;ID: cas5185 \\n chr4,3076257 \\n DP: 4&quot;,&quot;ID: cas5186 \\n chr4,3076257 \\n DP: 5&quot;,&quot;ID: cas5187 \\n chr4,3076257 \\n DP: 11&quot;,&quot;ID: cas5188 \\n chr4,3076257 \\n DP: 7&quot;,&quot;ID: cas5189 \\n chr4,3076257 \\n DP: 7&quot;,&quot;ID: cas5190 \\n chr4,3076257 \\n DP: 7&quot;,&quot;ID: cas5191 \\n chr4,3076257 \\n DP: 8&quot;,&quot;ID: cas5192 \\n chr4,3076257 \\n DP: 2&quot;,&quot;ID: cas3067 \\n chr4,3076257 \\n DP: 1&quot;,&quot;ID: cas4109 \\n chr4,3076257 \\n DP: 7&quot;,&quot;ID: con1002 \\n chr4,3076257 \\n DP: 2&quot;,&quot;ID: con1004 \\n chr4,3076257 \\n DP: 0&quot;,&quot;ID: con1006 \\n chr4,3076257 \\n DP: 1&quot;,&quot;ID: con1007 \\n chr4,3076257 \\n DP: 0&quot;,&quot;ID: con1008 \\n chr4,3076257 \\n DP: 0&quot;,&quot;ID: con1009 \\n chr4,3076257 \\n DP: 3&quot;,&quot;ID: con1011 \\n chr4,3076257 \\n DP: 1&quot;,&quot;ID: con1016 \\n chr4,3076257 \\n DP: 0&quot;,&quot;ID: con2026 \\n chr4,3076257 \\n DP: 1&quot;,&quot;ID: con2030 \\n chr4,3076257 \\n DP: 0&quot;,&quot;ID: con2031 \\n chr4,3076257 \\n DP: 0&quot;,&quot;ID: con2036 \\n chr4,3076257 \\n DP: 0&quot;,&quot;ID: con2037 \\n chr4,3076257 \\n DP: 1&quot;,&quot;ID: con2042 \\n chr4,3076257 \\n DP: 1&quot;,&quot;ID: con2046 \\n chr4,3076257 \\n DP: 0&quot;,&quot;ID: con2047 \\n chr4,3076257 \\n DP: 0&quot;,&quot;ID: con3063 \\n chr4,3076257 \\n DP: 1&quot;,&quot;ID: con3064 \\n chr4,3076257 \\n DP: 9&quot;,&quot;ID: con3066 \\n chr4,3076257 \\n DP: 0&quot;,&quot;ID: con3068 \\n chr4,3076257 \\n DP: 1&quot;,&quot;ID: con3069 \\n chr4,3076257 \\n DP: 7&quot;,&quot;ID: con3070 \\n chr4,3076257 \\n DP: 12&quot;,&quot;ID: con3071 \\n chr4,3076257 \\n DP: 1&quot;,&quot;ID: con3087 \\n chr4,3076257 \\n DP: 2&quot;,&quot;ID: con3088 \\n chr4,3076257 \\n DP: 2&quot;,&quot;ID: con3090 \\n chr4,3076257 \\n DP: 4&quot;,&quot;ID: con3091 \\n chr4,3076257 \\n DP: 5&quot;,&quot;ID: con3093 \\n chr4,3076257 \\n DP: 3&quot;,&quot;ID: con3094 \\n chr4,3076257 \\n DP: 2&quot;,&quot;ID: con3095 \\n chr4,3076257 \\n DP: 3&quot;,&quot;ID: con4110 \\n chr4,3076257 \\n DP: 0&quot;,&quot;ID: con4113 \\n chr4,3076257 \\n DP: 20&quot;,&quot;ID: con4114 \\n chr4,3076257 \\n DP: 12&quot;,&quot;ID: con4117 \\n chr4,3076257 \\n DP: 1&quot;,&quot;ID: con4118 \\n chr4,3076257 \\n DP: 1&quot;,&quot;ID: con4119 \\n chr4,3076257 \\n DP: 21&quot;,&quot;ID: con4120 \\n chr4,3076257 \\n DP: 9&quot;,&quot;ID: con4135 \\n chr4,3076257 \\n DP: 1&quot;,&quot;ID: con4136 \\n chr4,3076257 \\n DP: 5&quot;,&quot;ID: con4138 \\n chr4,3076257 \\n DP: 3&quot;,&quot;ID: con4141 \\n chr4,3076257 \\n DP: 9&quot;,&quot;ID: con4142 \\n chr4,3076257 \\n DP: 2&quot;,&quot;ID: con4143 \\n chr4,3076257 \\n DP: 3&quot;,&quot;ID: con4144 \\n chr4,3076257 \\n DP: 2&quot;,&quot;ID: con5146 \\n chr4,3076257 \\n DP: 8&quot;,&quot;ID: con5148 \\n chr4,3076257 \\n DP: 2&quot;,&quot;ID: con5149 \\n chr4,3076257 \\n DP: 12&quot;,&quot;ID: con5151 \\n chr4,3076257 \\n DP: 5&quot;,&quot;ID: con5157 \\n chr4,3076257 \\n DP: 7&quot;,&quot;ID: con5158 \\n chr4,3076257 \\n DP: 5&quot;,&quot;ID: con5159 \\n chr4,3076257 \\n DP: 11&quot;,&quot;ID: con5160 \\n chr4,3076257 \\n DP: 2&quot;,&quot;ID: con5161 \\n chr4,3076257 \\n DP: 8&quot;,&quot;ID: con5165 \\n chr4,3076257 \\n DP: 11&quot;,&quot;ID: con5167 \\n chr4,3076257 \\n DP: 2&quot;,&quot;ID: con5171 \\n chr4,3076257 \\n DP: 9&quot;,&quot;ID: con5172 \\n chr4,3076257 \\n DP: 7&quot;,&quot;ID: con5174 \\n chr4,3076257 \\n DP: 7&quot;,&quot;ID: con5175 \\n chr4,3076257 \\n DP: 6&quot;,&quot;ID: con5182 \\n chr4,3076257 \\n DP: 17&quot;,&quot;ID: con4111 \\n chr4,3076257 \\n DP: 4&quot;],[&quot;ID: cas1001 \\n chr4,3076266 \\n DP: 0&quot;,&quot;ID: cas1003 \\n chr4,3076266 \\n DP: 2&quot;,&quot;ID: cas1005 \\n chr4,3076266 \\n DP: 0&quot;,&quot;ID: cas1010 \\n chr4,3076266 \\n DP: 3&quot;,&quot;ID: cas1012 \\n chr4,3076266 \\n DP: 0&quot;,&quot;ID: cas1013 \\n chr4,3076266 \\n DP: 1&quot;,&quot;ID: cas1014 \\n chr4,3076266 \\n DP: 1&quot;,&quot;ID: cas1015 \\n chr4,3076266 \\n DP: 0&quot;,&quot;ID: cas1017 \\n chr4,3076266 \\n DP: 1&quot;,&quot;ID: cas1018 \\n chr4,3076266 \\n DP: 4&quot;,&quot;ID: cas1019 \\n chr4,3076266 \\n DP: 0&quot;,&quot;ID: cas1020 \\n chr4,3076266 \\n DP: 0&quot;,&quot;ID: cas1021 \\n chr4,3076266 \\n DP: 1&quot;,&quot;ID: cas1022 \\n chr4,3076266 \\n DP: 1&quot;,&quot;ID: cas1023 \\n chr4,3076266 \\n DP: 2&quot;,&quot;ID: cas1024 \\n chr4,3076266 \\n DP: 0&quot;,&quot;ID: cas2025 \\n chr4,3076266 \\n DP: 1&quot;,&quot;ID: cas2027 \\n chr4,3076266 \\n DP: 0&quot;,&quot;ID: cas2028 \\n chr4,3076266 \\n DP: 1&quot;,&quot;ID: cas2029 \\n chr4,3076266 \\n DP: 1&quot;,&quot;ID: cas2032 \\n chr4,3076266 \\n DP: 1&quot;,&quot;ID: cas2033 \\n chr4,3076266 \\n DP: 1&quot;,&quot;ID: cas2034 \\n chr4,3076266 \\n DP: 0&quot;,&quot;ID: cas2035 \\n chr4,3076266 \\n DP: 0&quot;,&quot;ID: cas2038 \\n chr4,3076266 \\n DP: 5&quot;,&quot;ID: cas2039 \\n chr4,3076266 \\n DP: 1&quot;,&quot;ID: cas2040 \\n chr4,3076266 \\n DP: 3&quot;,&quot;ID: cas2041 \\n chr4,3076266 \\n DP: 1&quot;,&quot;ID: cas2043 \\n chr4,3076266 \\n DP: 2&quot;,&quot;ID: cas2044 \\n chr4,3076266 \\n DP: 0&quot;,&quot;ID: cas2045 \\n chr4,3076266 \\n DP: 0&quot;,&quot;ID: cas2048 \\n chr4,3076266 \\n DP: 2&quot;,&quot;ID: cas3050 \\n chr4,3076266 \\n DP: 2&quot;,&quot;ID: cas3051 \\n chr4,3076266 \\n DP: 1&quot;,&quot;ID: cas3052 \\n chr4,3076266 \\n DP: 6&quot;,&quot;ID: cas3053 \\n chr4,3076266 \\n DP: 2&quot;,&quot;ID: cas3054 \\n chr4,3076266 \\n DP: 10&quot;,&quot;ID: cas3055 \\n chr4,3076266 \\n DP: 3&quot;,&quot;ID: cas3056 \\n chr4,3076266 \\n DP: 30&quot;,&quot;ID: cas3057 \\n chr4,3076266 \\n DP: 2&quot;,&quot;ID: cas3058 \\n chr4,3076266 \\n DP: 2&quot;,&quot;ID: cas3059 \\n chr4,3076266 \\n DP: 0&quot;,&quot;ID: cas3060 \\n chr4,3076266 \\n DP: 0&quot;,&quot;ID: cas3061 \\n chr4,3076266 \\n DP: 5&quot;,&quot;ID: cas3062 \\n chr4,3076266 \\n DP: 3&quot;,&quot;ID: cas3065 \\n chr4,3076266 \\n DP: 0&quot;,&quot;ID: cas3072 \\n chr4,3076266 \\n DP: 2&quot;,&quot;ID: cas3073 \\n chr4,3076266 \\n DP: 4&quot;,&quot;ID: cas3074 \\n chr4,3076266 \\n DP: 4&quot;,&quot;ID: cas3075 \\n chr4,3076266 \\n DP: 3&quot;,&quot;ID: cas3076 \\n chr4,3076266 \\n DP: 6&quot;,&quot;ID: cas3077 \\n chr4,3076266 \\n DP: 5&quot;,&quot;ID: cas3078 \\n chr4,3076266 \\n DP: 2&quot;,&quot;ID: cas3079 \\n chr4,3076266 \\n DP: 0&quot;,&quot;ID: cas3080 \\n chr4,3076266 \\n DP: 1&quot;,&quot;ID: cas3081 \\n chr4,3076266 \\n DP: 1&quot;,&quot;ID: cas3082 \\n chr4,3076266 \\n DP: 10&quot;,&quot;ID: cas3083 \\n chr4,3076266 \\n DP: 2&quot;,&quot;ID: cas3084 \\n chr4,3076266 \\n DP: 0&quot;,&quot;ID: cas3085 \\n chr4,3076266 \\n DP: 0&quot;,&quot;ID: cas3086 \\n chr4,3076266 \\n DP: 6&quot;,&quot;ID: cas3089 \\n chr4,3076266 \\n DP: 9&quot;,&quot;ID: cas3092 \\n chr4,3076266 \\n DP: 0&quot;,&quot;ID: cas3096 \\n chr4,3076266 \\n DP: 4&quot;,&quot;ID: cas4097 \\n chr4,3076266 \\n DP: 4&quot;,&quot;ID: cas4098 \\n chr4,3076266 \\n DP: 7&quot;,&quot;ID: cas4099 \\n chr4,3076266 \\n DP: 0&quot;,&quot;ID: cas4100 \\n chr4,3076266 \\n DP: 1&quot;,&quot;ID: cas4101 \\n chr4,3076266 \\n DP: 2&quot;,&quot;ID: cas4102 \\n chr4,3076266 \\n DP: 1&quot;,&quot;ID: cas4103 \\n chr4,3076266 \\n DP: 2&quot;,&quot;ID: cas4104 \\n chr4,3076266 \\n DP: 0&quot;,&quot;ID: cas4105 \\n chr4,3076266 \\n DP: 6&quot;,&quot;ID: cas4106 \\n chr4,3076266 \\n DP: 5&quot;,&quot;ID: cas4107 \\n chr4,3076266 \\n DP: 10&quot;,&quot;ID: cas4108 \\n chr4,3076266 \\n DP: 2&quot;,&quot;ID: cas4112 \\n chr4,3076266 \\n DP: 2&quot;,&quot;ID: cas4115 \\n chr4,3076266 \\n DP: 5&quot;,&quot;ID: cas4116 \\n chr4,3076266 \\n DP: 0&quot;,&quot;ID: cas4121 \\n chr4,3076266 \\n DP: 12&quot;,&quot;ID: cas4122 \\n chr4,3076266 \\n DP: 6&quot;,&quot;ID: cas4123 \\n chr4,3076266 \\n DP: 4&quot;,&quot;ID: cas4124 \\n chr4,3076266 \\n DP: 3&quot;,&quot;ID: cas4125 \\n chr4,3076266 \\n DP: 10&quot;,&quot;ID: cas4126 \\n chr4,3076266 \\n DP: 5&quot;,&quot;ID: cas4127 \\n chr4,3076266 \\n DP: 2&quot;,&quot;ID: cas4128 \\n chr4,3076266 \\n DP: 3&quot;,&quot;ID: cas4129 \\n chr4,3076266 \\n DP: 7&quot;,&quot;ID: cas4130 \\n chr4,3076266 \\n DP: 6&quot;,&quot;ID: cas4131 \\n chr4,3076266 \\n DP: 7&quot;,&quot;ID: cas4132 \\n chr4,3076266 \\n DP: 10&quot;,&quot;ID: cas4133 \\n chr4,3076266 \\n DP: 6&quot;,&quot;ID: cas4134 \\n chr4,3076266 \\n DP: 4&quot;,&quot;ID: con4137 \\n chr4,3076266 \\n DP: 14&quot;,&quot;ID: cas4139 \\n chr4,3076266 \\n DP: 3&quot;,&quot;ID: cas4140 \\n chr4,3076266 \\n DP: 10&quot;,&quot;ID: cas5145 \\n chr4,3076266 \\n DP: 3&quot;,&quot;ID: cas5147 \\n chr4,3076266 \\n DP: 10&quot;,&quot;ID: cas5150 \\n chr4,3076266 \\n DP: 2&quot;,&quot;ID: cas5152 \\n chr4,3076266 \\n DP: 2&quot;,&quot;ID: cas5153 \\n chr4,3076266 \\n DP: 8&quot;,&quot;ID: cas5154 \\n chr4,3076266 \\n DP: 16&quot;,&quot;ID: cas5155 \\n chr4,3076266 \\n DP: 6&quot;,&quot;ID: cas5156 \\n chr4,3076266 \\n DP: 14&quot;,&quot;ID: cas5162 \\n chr4,3076266 \\n DP: 4&quot;,&quot;ID: cas5163 \\n chr4,3076266 \\n DP: 19&quot;,&quot;ID: cas5164 \\n chr4,3076266 \\n DP: 9&quot;,&quot;ID: cas5166 \\n chr4,3076266 \\n DP: 3&quot;,&quot;ID: cas5168 \\n chr4,3076266 \\n DP: 1&quot;,&quot;ID: cas5169 \\n chr4,3076266 \\n DP: 6&quot;,&quot;ID: cas5170 \\n chr4,3076266 \\n DP: 16&quot;,&quot;ID: cas5173 \\n chr4,3076266 \\n DP: 10&quot;,&quot;ID: cas5176 \\n chr4,3076266 \\n DP: 18&quot;,&quot;ID: cas5177 \\n chr4,3076266 \\n DP: 9&quot;,&quot;ID: cas5178 \\n chr4,3076266 \\n DP: 5&quot;,&quot;ID: cas5179 \\n chr4,3076266 \\n DP: 6&quot;,&quot;ID: cas5180 \\n chr4,3076266 \\n DP: 4&quot;,&quot;ID: cas5181 \\n chr4,3076266 \\n DP: 15&quot;,&quot;ID: cas5183 \\n chr4,3076266 \\n DP: 10&quot;,&quot;ID: cas5184 \\n chr4,3076266 \\n DP: 3&quot;,&quot;ID: cas5185 \\n chr4,3076266 \\n DP: 3&quot;,&quot;ID: cas5186 \\n chr4,3076266 \\n DP: 5&quot;,&quot;ID: cas5187 \\n chr4,3076266 \\n DP: 13&quot;,&quot;ID: cas5188 \\n chr4,3076266 \\n DP: 7&quot;,&quot;ID: cas5189 \\n chr4,3076266 \\n DP: 10&quot;,&quot;ID: cas5190 \\n chr4,3076266 \\n DP: 9&quot;,&quot;ID: cas5191 \\n chr4,3076266 \\n DP: 11&quot;,&quot;ID: cas5192 \\n chr4,3076266 \\n DP: 2&quot;,&quot;ID: cas3067 \\n chr4,3076266 \\n DP: 1&quot;,&quot;ID: cas4109 \\n chr4,3076266 \\n DP: 7&quot;,&quot;ID: con1002 \\n chr4,3076266 \\n DP: 2&quot;,&quot;ID: con1004 \\n chr4,3076266 \\n DP: 0&quot;,&quot;ID: con1006 \\n chr4,3076266 \\n DP: 1&quot;,&quot;ID: con1007 \\n chr4,3076266 \\n DP: 0&quot;,&quot;ID: con1008 \\n chr4,3076266 \\n DP: 0&quot;,&quot;ID: con1009 \\n chr4,3076266 \\n DP: 3&quot;,&quot;ID: con1011 \\n chr4,3076266 \\n DP: 1&quot;,&quot;ID: con1016 \\n chr4,3076266 \\n DP: 0&quot;,&quot;ID: con2026 \\n chr4,3076266 \\n DP: 1&quot;,&quot;ID: con2030 \\n chr4,3076266 \\n DP: 0&quot;,&quot;ID: con2031 \\n chr4,3076266 \\n DP: 0&quot;,&quot;ID: con2036 \\n chr4,3076266 \\n DP: 0&quot;,&quot;ID: con2037 \\n chr4,3076266 \\n DP: 1&quot;,&quot;ID: con2042 \\n chr4,3076266 \\n DP: 1&quot;,&quot;ID: con2046 \\n chr4,3076266 \\n DP: 0&quot;,&quot;ID: con2047 \\n chr4,3076266 \\n DP: 0&quot;,&quot;ID: con3063 \\n chr4,3076266 \\n DP: 1&quot;,&quot;ID: con3064 \\n chr4,3076266 \\n DP: 10&quot;,&quot;ID: con3066 \\n chr4,3076266 \\n DP: 1&quot;,&quot;ID: con3068 \\n chr4,3076266 \\n DP: 1&quot;,&quot;ID: con3069 \\n chr4,3076266 \\n DP: 7&quot;,&quot;ID: con3070 \\n chr4,3076266 \\n DP: 15&quot;,&quot;ID: con3071 \\n chr4,3076266 \\n DP: 1&quot;,&quot;ID: con3087 \\n chr4,3076266 \\n DP: 4&quot;,&quot;ID: con3088 \\n chr4,3076266 \\n DP: 2&quot;,&quot;ID: con3090 \\n chr4,3076266 \\n DP: 4&quot;,&quot;ID: con3091 \\n chr4,3076266 \\n DP: 5&quot;,&quot;ID: con3093 \\n chr4,3076266 \\n DP: 3&quot;,&quot;ID: con3094 \\n chr4,3076266 \\n DP: 2&quot;,&quot;ID: con3095 \\n chr4,3076266 \\n DP: 1&quot;,&quot;ID: con4110 \\n chr4,3076266 \\n DP: 0&quot;,&quot;ID: con4113 \\n chr4,3076266 \\n DP: 24&quot;,&quot;ID: con4114 \\n chr4,3076266 \\n DP: 6&quot;,&quot;ID: con4117 \\n chr4,3076266 \\n DP: 1&quot;,&quot;ID: con4118 \\n chr4,3076266 \\n DP: 1&quot;,&quot;ID: con4119 \\n chr4,3076266 \\n DP: 24&quot;,&quot;ID: con4120 \\n chr4,3076266 \\n DP: 11&quot;,&quot;ID: con4135 \\n chr4,3076266 \\n DP: 1&quot;,&quot;ID: con4136 \\n chr4,3076266 \\n DP: 7&quot;,&quot;ID: con4138 \\n chr4,3076266 \\n DP: 3&quot;,&quot;ID: con4141 \\n chr4,3076266 \\n DP: 9&quot;,&quot;ID: con4142 \\n chr4,3076266 \\n DP: 3&quot;,&quot;ID: con4143 \\n chr4,3076266 \\n DP: 4&quot;,&quot;ID: con4144 \\n chr4,3076266 \\n DP: 2&quot;,&quot;ID: con5146 \\n chr4,3076266 \\n DP: 10&quot;,&quot;ID: con5148 \\n chr4,3076266 \\n DP: 4&quot;,&quot;ID: con5149 \\n chr4,3076266 \\n DP: 12&quot;,&quot;ID: con5151 \\n chr4,3076266 \\n DP: 7&quot;,&quot;ID: con5157 \\n chr4,3076266 \\n DP: 5&quot;,&quot;ID: con5158 \\n chr4,3076266 \\n DP: 6&quot;,&quot;ID: con5159 \\n chr4,3076266 \\n DP: 13&quot;,&quot;ID: con5160 \\n chr4,3076266 \\n DP: 2&quot;,&quot;ID: con5161 \\n chr4,3076266 \\n DP: 9&quot;,&quot;ID: con5165 \\n chr4,3076266 \\n DP: 13&quot;,&quot;ID: con5167 \\n chr4,3076266 \\n DP: 2&quot;,&quot;ID: con5171 \\n chr4,3076266 \\n DP: 10&quot;,&quot;ID: con5172 \\n chr4,3076266 \\n DP: 6&quot;,&quot;ID: con5174 \\n chr4,3076266 \\n DP: 7&quot;,&quot;ID: con5175 \\n chr4,3076266 \\n DP: 8&quot;,&quot;ID: con5182 \\n chr4,3076266 \\n DP: 18&quot;,&quot;ID: con4111 \\n chr4,3076266 \\n DP: 3&quot;],[&quot;ID: cas1001 \\n chr4,3076339 \\n DP: 0&quot;,&quot;ID: cas1003 \\n chr4,3076339 \\n DP: 0&quot;,&quot;ID: cas1005 \\n chr4,3076339 \\n DP: 0&quot;,&quot;ID: cas1010 \\n chr4,3076339 \\n DP: 0&quot;,&quot;ID: cas1012 \\n chr4,3076339 \\n DP: 0&quot;,&quot;ID: cas1013 \\n chr4,3076339 \\n DP: 0&quot;,&quot;ID: cas1014 \\n chr4,3076339 \\n DP: 0&quot;,&quot;ID: cas1015 \\n chr4,3076339 \\n DP: 0&quot;,&quot;ID: cas1017 \\n chr4,3076339 \\n DP: 0&quot;,&quot;ID: cas1018 \\n chr4,3076339 \\n DP: 0&quot;,&quot;ID: cas1019 \\n chr4,3076339 \\n DP: 0&quot;,&quot;ID: cas1020 \\n chr4,3076339 \\n DP: 1&quot;,&quot;ID: cas1021 \\n chr4,3076339 \\n DP: 0&quot;,&quot;ID: cas1022 \\n chr4,3076339 \\n DP: 0&quot;,&quot;ID: cas1023 \\n chr4,3076339 \\n DP: 1&quot;,&quot;ID: cas1024 \\n chr4,3076339 \\n DP: 0&quot;,&quot;ID: cas2025 \\n chr4,3076339 \\n DP: 0&quot;,&quot;ID: cas2027 \\n chr4,3076339 \\n DP: 0&quot;,&quot;ID: cas2028 \\n chr4,3076339 \\n DP: 0&quot;,&quot;ID: cas2029 \\n chr4,3076339 \\n DP: 0&quot;,&quot;ID: cas2032 \\n chr4,3076339 \\n DP: 0&quot;,&quot;ID: cas2033 \\n chr4,3076339 \\n DP: 0&quot;,&quot;ID: cas2034 \\n chr4,3076339 \\n DP: 0&quot;,&quot;ID: cas2035 \\n chr4,3076339 \\n DP: 1&quot;,&quot;ID: cas2038 \\n chr4,3076339 \\n DP: 1&quot;,&quot;ID: cas2039 \\n chr4,3076339 \\n DP: 0&quot;,&quot;ID: cas2040 \\n chr4,3076339 \\n DP: 4&quot;,&quot;ID: cas2041 \\n chr4,3076339 \\n DP: 0&quot;,&quot;ID: cas2043 \\n chr4,3076339 \\n DP: 0&quot;,&quot;ID: cas2044 \\n chr4,3076339 \\n DP: 0&quot;,&quot;ID: cas2045 \\n chr4,3076339 \\n DP: 0&quot;,&quot;ID: cas2048 \\n chr4,3076339 \\n DP: 1&quot;,&quot;ID: cas3050 \\n chr4,3076339 \\n DP: 4&quot;,&quot;ID: cas3051 \\n chr4,3076339 \\n DP: 7&quot;,&quot;ID: cas3052 \\n chr4,3076339 \\n DP: 26&quot;,&quot;ID: cas3053 \\n chr4,3076339 \\n DP: 3&quot;,&quot;ID: cas3054 \\n chr4,3076339 \\n DP: 33&quot;,&quot;ID: cas3055 \\n chr4,3076339 \\n DP: 7&quot;,&quot;ID: cas3056 \\n chr4,3076339 \\n DP: 36&quot;,&quot;ID: cas3057 \\n chr4,3076339 \\n DP: 4&quot;,&quot;ID: cas3058 \\n chr4,3076339 \\n DP: 9&quot;,&quot;ID: cas3059 \\n chr4,3076339 \\n DP: 0&quot;,&quot;ID: cas3060 \\n chr4,3076339 \\n DP: 0&quot;,&quot;ID: cas3061 \\n chr4,3076339 \\n DP: 14&quot;,&quot;ID: cas3062 \\n chr4,3076339 \\n DP: 17&quot;,&quot;ID: cas3065 \\n chr4,3076339 \\n DP: 0&quot;,&quot;ID: cas3072 \\n chr4,3076339 \\n DP: 11&quot;,&quot;ID: cas3073 \\n chr4,3076339 \\n DP: 6&quot;,&quot;ID: cas3074 \\n chr4,3076339 \\n DP: 6&quot;,&quot;ID: cas3075 \\n chr4,3076339 \\n DP: 9&quot;,&quot;ID: cas3076 \\n chr4,3076339 \\n DP: 14&quot;,&quot;ID: cas3077 \\n chr4,3076339 \\n DP: 14&quot;,&quot;ID: cas3078 \\n chr4,3076339 \\n DP: 2&quot;,&quot;ID: cas3079 \\n chr4,3076339 \\n DP: 5&quot;,&quot;ID: cas3080 \\n chr4,3076339 \\n DP: 3&quot;,&quot;ID: cas3081 \\n chr4,3076339 \\n DP: 8&quot;,&quot;ID: cas3082 \\n chr4,3076339 \\n DP: 14&quot;,&quot;ID: cas3083 \\n chr4,3076339 \\n DP: 2&quot;,&quot;ID: cas3084 \\n chr4,3076339 \\n DP: 0&quot;,&quot;ID: cas3085 \\n chr4,3076339 \\n DP: 3&quot;,&quot;ID: cas3086 \\n chr4,3076339 \\n DP: 33&quot;,&quot;ID: cas3089 \\n chr4,3076339 \\n DP: 31&quot;,&quot;ID: cas3092 \\n chr4,3076339 \\n DP: 4&quot;,&quot;ID: cas3096 \\n chr4,3076339 \\n DP: 3&quot;,&quot;ID: cas4097 \\n chr4,3076339 \\n DP: 14&quot;,&quot;ID: cas4098 \\n chr4,3076339 \\n DP: 18&quot;,&quot;ID: cas4099 \\n chr4,3076339 \\n DP: 11&quot;,&quot;ID: cas4100 \\n chr4,3076339 \\n DP: 16&quot;,&quot;ID: cas4101 \\n chr4,3076339 \\n DP: 10&quot;,&quot;ID: cas4102 \\n chr4,3076339 \\n DP: 17&quot;,&quot;ID: cas4103 \\n chr4,3076339 \\n DP: 11&quot;,&quot;ID: cas4104 \\n chr4,3076339 \\n DP: 3&quot;,&quot;ID: cas4105 \\n chr4,3076339 \\n DP: 19&quot;,&quot;ID: cas4106 \\n chr4,3076339 \\n DP: 42&quot;,&quot;ID: cas4107 \\n chr4,3076339 \\n DP: 21&quot;,&quot;ID: cas4108 \\n chr4,3076339 \\n DP: 10&quot;,&quot;ID: cas4112 \\n chr4,3076339 \\n DP: 13&quot;,&quot;ID: cas4115 \\n chr4,3076339 \\n DP: 13&quot;,&quot;ID: cas4116 \\n chr4,3076339 \\n DP: 3&quot;,&quot;ID: cas4121 \\n chr4,3076339 \\n DP: 19&quot;,&quot;ID: cas4122 \\n chr4,3076339 \\n DP: 36&quot;,&quot;ID: cas4123 \\n chr4,3076339 \\n DP: 24&quot;,&quot;ID: cas4124 \\n chr4,3076339 \\n DP: 24&quot;,&quot;ID: cas4125 \\n chr4,3076339 \\n DP: 38&quot;,&quot;ID: cas4126 \\n chr4,3076339 \\n DP: 39&quot;,&quot;ID: cas4127 \\n chr4,3076339 \\n DP: 18&quot;,&quot;ID: cas4128 \\n chr4,3076339 \\n DP: 27&quot;,&quot;ID: cas4129 \\n chr4,3076339 \\n DP: 24&quot;,&quot;ID: cas4130 \\n chr4,3076339 \\n DP: 33&quot;,&quot;ID: cas4131 \\n chr4,3076339 \\n DP: 30&quot;,&quot;ID: cas4132 \\n chr4,3076339 \\n DP: 31&quot;,&quot;ID: cas4133 \\n chr4,3076339 \\n DP: 28&quot;,&quot;ID: cas4134 \\n chr4,3076339 \\n DP: 33&quot;,&quot;ID: con4137 \\n chr4,3076339 \\n DP: 53&quot;,&quot;ID: cas4139 \\n chr4,3076339 \\n DP: 17&quot;,&quot;ID: cas4140 \\n chr4,3076339 \\n DP: 35&quot;,&quot;ID: cas5145 \\n chr4,3076339 \\n DP: 18&quot;,&quot;ID: cas5147 \\n chr4,3076339 \\n DP: 33&quot;,&quot;ID: cas5150 \\n chr4,3076339 \\n DP: 34&quot;,&quot;ID: cas5152 \\n chr4,3076339 \\n DP: 21&quot;,&quot;ID: cas5153 \\n chr4,3076339 \\n DP: 27&quot;,&quot;ID: cas5154 \\n chr4,3076339 \\n DP: 34&quot;,&quot;ID: cas5155 \\n chr4,3076339 \\n DP: 34&quot;,&quot;ID: cas5156 \\n chr4,3076339 \\n DP: 28&quot;,&quot;ID: cas5162 \\n chr4,3076339 \\n DP: 15&quot;,&quot;ID: cas5163 \\n chr4,3076339 \\n DP: 40&quot;,&quot;ID: cas5164 \\n chr4,3076339 \\n DP: 24&quot;,&quot;ID: cas5166 \\n chr4,3076339 \\n DP: 18&quot;,&quot;ID: cas5168 \\n chr4,3076339 \\n DP: 18&quot;,&quot;ID: cas5169 \\n chr4,3076339 \\n DP: 34&quot;,&quot;ID: cas5170 \\n chr4,3076339 \\n DP: 35&quot;,&quot;ID: cas5173 \\n chr4,3076339 \\n DP: 42&quot;,&quot;ID: cas5176 \\n chr4,3076339 \\n DP: 38&quot;,&quot;ID: cas5177 \\n chr4,3076339 \\n DP: 34&quot;,&quot;ID: cas5178 \\n chr4,3076339 \\n DP: 36&quot;,&quot;ID: cas5179 \\n chr4,3076339 \\n DP: 25&quot;,&quot;ID: cas5180 \\n chr4,3076339 \\n DP: 20&quot;,&quot;ID: cas5181 \\n chr4,3076339 \\n DP: 38&quot;,&quot;ID: cas5183 \\n chr4,3076339 \\n DP: 34&quot;,&quot;ID: cas5184 \\n chr4,3076339 \\n DP: 20&quot;,&quot;ID: cas5185 \\n chr4,3076339 \\n DP: 16&quot;,&quot;ID: cas5186 \\n chr4,3076339 \\n DP: 29&quot;,&quot;ID: cas5187 \\n chr4,3076339 \\n DP: 40&quot;,&quot;ID: cas5188 \\n chr4,3076339 \\n DP: 33&quot;,&quot;ID: cas5189 \\n chr4,3076339 \\n DP: 32&quot;,&quot;ID: cas5190 \\n chr4,3076339 \\n DP: 34&quot;,&quot;ID: cas5191 \\n chr4,3076339 \\n DP: 37&quot;,&quot;ID: cas5192 \\n chr4,3076339 \\n DP: 21&quot;,&quot;ID: cas3067 \\n chr4,3076339 \\n DP: 21&quot;,&quot;ID: cas4109 \\n chr4,3076339 \\n DP: 24&quot;,&quot;ID: con1002 \\n chr4,3076339 \\n DP: 0&quot;,&quot;ID: con1004 \\n chr4,3076339 \\n DP: 0&quot;,&quot;ID: con1006 \\n chr4,3076339 \\n DP: 1&quot;,&quot;ID: con1007 \\n chr4,3076339 \\n DP: 0&quot;,&quot;ID: con1008 \\n chr4,3076339 \\n DP: 1&quot;,&quot;ID: con1009 \\n chr4,3076339 \\n DP: 0&quot;,&quot;ID: con1011 \\n chr4,3076339 \\n DP: 0&quot;,&quot;ID: con1016 \\n chr4,3076339 \\n DP: 0&quot;,&quot;ID: con2026 \\n chr4,3076339 \\n DP: 0&quot;,&quot;ID: con2030 \\n chr4,3076339 \\n DP: 0&quot;,&quot;ID: con2031 \\n chr4,3076339 \\n DP: 0&quot;,&quot;ID: con2036 \\n chr4,3076339 \\n DP: 0&quot;,&quot;ID: con2037 \\n chr4,3076339 \\n DP: 0&quot;,&quot;ID: con2042 \\n chr4,3076339 \\n DP: 0&quot;,&quot;ID: con2046 \\n chr4,3076339 \\n DP: 0&quot;,&quot;ID: con2047 \\n chr4,3076339 \\n DP: 0&quot;,&quot;ID: con3063 \\n chr4,3076339 \\n DP: 1&quot;,&quot;ID: con3064 \\n chr4,3076339 \\n DP: 29&quot;,&quot;ID: con3066 \\n chr4,3076339 \\n DP: 4&quot;,&quot;ID: con3068 \\n chr4,3076339 \\n DP: 10&quot;,&quot;ID: con3069 \\n chr4,3076339 \\n DP: 34&quot;,&quot;ID: con3070 \\n chr4,3076339 \\n DP: 34&quot;,&quot;ID: con3071 \\n chr4,3076339 \\n DP: 10&quot;,&quot;ID: con3087 \\n chr4,3076339 \\n DP: 17&quot;,&quot;ID: con3088 \\n chr4,3076339 \\n DP: 19&quot;,&quot;ID: con3090 \\n chr4,3076339 \\n DP: 11&quot;,&quot;ID: con3091 \\n chr4,3076339 \\n DP: 25&quot;,&quot;ID: con3093 \\n chr4,3076339 \\n DP: 17&quot;,&quot;ID: con3094 \\n chr4,3076339 \\n DP: 13&quot;,&quot;ID: con3095 \\n chr4,3076339 \\n DP: 10&quot;,&quot;ID: con4110 \\n chr4,3076339 \\n DP: 7&quot;,&quot;ID: con4113 \\n chr4,3076339 \\n DP: 34&quot;,&quot;ID: con4114 \\n chr4,3076339 \\n DP: 13&quot;,&quot;ID: con4117 \\n chr4,3076339 \\n DP: 15&quot;,&quot;ID: con4118 \\n chr4,3076339 \\n DP: 10&quot;,&quot;ID: con4119 \\n chr4,3076339 \\n DP: 33&quot;,&quot;ID: con4120 \\n chr4,3076339 \\n DP: 33&quot;,&quot;ID: con4135 \\n chr4,3076339 \\n DP: 29&quot;,&quot;ID: con4136 \\n chr4,3076339 \\n DP: 29&quot;,&quot;ID: con4138 \\n chr4,3076339 \\n DP: 34&quot;,&quot;ID: con4141 \\n chr4,3076339 \\n DP: 34&quot;,&quot;ID: con4142 \\n chr4,3076339 \\n DP: 27&quot;,&quot;ID: con4143 \\n chr4,3076339 \\n DP: 32&quot;,&quot;ID: con4144 \\n chr4,3076339 \\n DP: 35&quot;,&quot;ID: con5146 \\n chr4,3076339 \\n DP: 34&quot;,&quot;ID: con5148 \\n chr4,3076339 \\n DP: 33&quot;,&quot;ID: con5149 \\n chr4,3076339 \\n DP: 45&quot;,&quot;ID: con5151 \\n chr4,3076339 \\n DP: 35&quot;,&quot;ID: con5157 \\n chr4,3076339 \\n DP: 11&quot;,&quot;ID: con5158 \\n chr4,3076339 \\n DP: 35&quot;,&quot;ID: con5159 \\n chr4,3076339 \\n DP: 31&quot;,&quot;ID: con5160 \\n chr4,3076339 \\n DP: 24&quot;,&quot;ID: con5161 \\n chr4,3076339 \\n DP: 36&quot;,&quot;ID: con5165 \\n chr4,3076339 \\n DP: 53&quot;,&quot;ID: con5167 \\n chr4,3076339 \\n DP: 20&quot;,&quot;ID: con5171 \\n chr4,3076339 \\n DP: 34&quot;,&quot;ID: con5172 \\n chr4,3076339 \\n DP: 17&quot;,&quot;ID: con5174 \\n chr4,3076339 \\n DP: 37&quot;,&quot;ID: con5175 \\n chr4,3076339 \\n DP: 26&quot;,&quot;ID: con5182 \\n chr4,3076339 \\n DP: 44&quot;,&quot;ID: con4111 \\n chr4,3076339 \\n DP: 9&quot;],[&quot;ID: cas1001 \\n Trait 1: seq_site_1&quot;,&quot;ID: cas1003 \\n Trait 1: seq_site_1&quot;,&quot;ID: cas1005 \\n Trait 1: seq_site_1&quot;,&quot;ID: cas1010 \\n Trait 1: seq_site_1&quot;,&quot;ID: cas1012 \\n Trait 1: seq_site_1&quot;,&quot;ID: cas1013 \\n Trait 1: seq_site_1&quot;,&quot;ID: cas1014 \\n Trait 1: seq_site_1&quot;,&quot;ID: cas1015 \\n Trait 1: seq_site_1&quot;,&quot;ID: cas1017 \\n Trait 1: seq_site_1&quot;,&quot;ID: cas1018 \\n Trait 1: seq_site_1&quot;,&quot;ID: cas1019 \\n Trait 1: seq_site_1&quot;,&quot;ID: cas1020 \\n Trait 1: seq_site_1&quot;,&quot;ID: cas1021 \\n Trait 1: seq_site_1&quot;,&quot;ID: cas1022 \\n Trait 1: seq_site_1&quot;,&quot;ID: cas1023 \\n Trait 1: seq_site_1&quot;,&quot;ID: cas1024 \\n Trait 1: seq_site_1&quot;,&quot;ID: cas2025 \\n Trait 1: seq_site_1&quot;,&quot;ID: cas2027 \\n Trait 1: seq_site_1&quot;,&quot;ID: cas2028 \\n Trait 1: seq_site_1&quot;,&quot;ID: cas2029 \\n Trait 1: seq_site_1&quot;,&quot;ID: cas2032 \\n Trait 1: seq_site_1&quot;,&quot;ID: cas2033 \\n Trait 1: seq_site_1&quot;,&quot;ID: cas2034 \\n Trait 1: seq_site_1&quot;,&quot;ID: cas2035 \\n Trait 1: seq_site_1&quot;,&quot;ID: cas2038 \\n Trait 1: seq_site_1&quot;,&quot;ID: cas2039 \\n Trait 1: seq_site_1&quot;,&quot;ID: cas2040 \\n Trait 1: seq_site_1&quot;,&quot;ID: cas2041 \\n Trait 1: seq_site_1&quot;,&quot;ID: cas2043 \\n Trait 1: seq_site_1&quot;,&quot;ID: cas2044 \\n Trait 1: seq_site_1&quot;,&quot;ID: cas2045 \\n Trait 1: seq_site_1&quot;,&quot;ID: cas2048 \\n Trait 1: seq_site_1&quot;,&quot;ID: cas3050 \\n Trait 1: seq_site_1&quot;,&quot;ID: cas3051 \\n Trait 1: seq_site_1&quot;,&quot;ID: cas3052 \\n Trait 1: seq_site_1&quot;,&quot;ID: cas3053 \\n Trait 1: seq_site_1&quot;,&quot;ID: cas3054 \\n Trait 1: seq_site_1&quot;,&quot;ID: cas3055 \\n Trait 1: seq_site_1&quot;,&quot;ID: cas3056 \\n Trait 1: seq_site_1&quot;,&quot;ID: cas3057 \\n Trait 1: seq_site_1&quot;,&quot;ID: cas3058 \\n Trait 1: seq_site_1&quot;,&quot;ID: cas3059 \\n Trait 1: seq_site_1&quot;,&quot;ID: cas3060 \\n Trait 1: seq_site_1&quot;,&quot;ID: cas3061 \\n Trait 1: seq_site_1&quot;,&quot;ID: cas3062 \\n Trait 1: seq_site_1&quot;,&quot;ID: cas3065 \\n Trait 1: seq_site_1&quot;,&quot;ID: cas3072 \\n Trait 1: seq_site_1&quot;,&quot;ID: cas3073 \\n Trait 1: seq_site_1&quot;,&quot;ID: cas3074 \\n Trait 1: seq_site_1&quot;,&quot;ID: cas3075 \\n Trait 1: seq_site_1&quot;,&quot;ID: cas3076 \\n Trait 1: seq_site_1&quot;,&quot;ID: cas3077 \\n Trait 1: seq_site_1&quot;,&quot;ID: cas3078 \\n Trait 1: seq_site_1&quot;,&quot;ID: cas3079 \\n Trait 1: seq_site_1&quot;,&quot;ID: cas3080 \\n Trait 1: seq_site_1&quot;,&quot;ID: cas3081 \\n Trait 1: seq_site_1&quot;,&quot;ID: cas3082 \\n Trait 1: seq_site_1&quot;,&quot;ID: cas3083 \\n Trait 1: seq_site_1&quot;,&quot;ID: cas3084 \\n Trait 1: seq_site_1&quot;,&quot;ID: cas3085 \\n Trait 1: seq_site_1&quot;,&quot;ID: cas3086 \\n Trait 1: seq_site_1&quot;,&quot;ID: cas3089 \\n Trait 1: seq_site_1&quot;,&quot;ID: cas3092 \\n Trait 1: seq_site_1&quot;,&quot;ID: cas3096 \\n Trait 1: seq_site_1&quot;,&quot;ID: cas4097 \\n Trait 1: seq_site_1&quot;,&quot;ID: cas4098 \\n Trait 1: seq_site_1&quot;,&quot;ID: cas4099 \\n Trait 1: seq_site_1&quot;,&quot;ID: cas4100 \\n Trait 1: seq_site_1&quot;,&quot;ID: cas4101 \\n Trait 1: seq_site_1&quot;,&quot;ID: cas4102 \\n Trait 1: seq_site_1&quot;,&quot;ID: cas4103 \\n Trait 1: seq_site_1&quot;,&quot;ID: cas4104 \\n Trait 1: seq_site_1&quot;,&quot;ID: cas4105 \\n Trait 1: seq_site_1&quot;,&quot;ID: cas4106 \\n Trait 1: seq_site_1&quot;,&quot;ID: cas4107 \\n Trait 1: seq_site_1&quot;,&quot;ID: cas4108 \\n Trait 1: seq_site_1&quot;,&quot;ID: cas4112 \\n Trait 1: seq_site_1&quot;,&quot;ID: cas4115 \\n Trait 1: seq_site_1&quot;,&quot;ID: cas4116 \\n Trait 1: seq_site_1&quot;,&quot;ID: cas4121 \\n Trait 2: seq_site_2&quot;,&quot;ID: cas4122 \\n Trait 2: seq_site_2&quot;,&quot;ID: cas4123 \\n Trait 2: seq_site_2&quot;,&quot;ID: cas4124 \\n Trait 2: seq_site_2&quot;,&quot;ID: cas4125 \\n Trait 2: seq_site_2&quot;,&quot;ID: cas4126 \\n Trait 2: seq_site_2&quot;,&quot;ID: cas4127 \\n Trait 2: seq_site_2&quot;,&quot;ID: cas4128 \\n Trait 2: seq_site_2&quot;,&quot;ID: cas4129 \\n Trait 2: seq_site_2&quot;,&quot;ID: cas4130 \\n Trait 2: seq_site_2&quot;,&quot;ID: cas4131 \\n Trait 2: seq_site_2&quot;,&quot;ID: cas4132 \\n Trait 2: seq_site_2&quot;,&quot;ID: cas4133 \\n Trait 2: seq_site_2&quot;,&quot;ID: cas4134 \\n Trait 2: seq_site_2&quot;,&quot;ID: con4137 \\n Trait 2: seq_site_2&quot;,&quot;ID: cas4139 \\n Trait 2: seq_site_2&quot;,&quot;ID: cas4140 \\n Trait 2: seq_site_2&quot;,&quot;ID: cas5145 \\n Trait 2: seq_site_2&quot;,&quot;ID: cas5147 \\n Trait 2: seq_site_2&quot;,&quot;ID: cas5150 \\n Trait 2: seq_site_2&quot;,&quot;ID: cas5152 \\n Trait 2: seq_site_2&quot;,&quot;ID: cas5153 \\n Trait 2: seq_site_2&quot;,&quot;ID: cas5154 \\n Trait 2: seq_site_2&quot;,&quot;ID: cas5155 \\n Trait 2: seq_site_2&quot;,&quot;ID: cas5156 \\n Trait 2: seq_site_2&quot;,&quot;ID: cas5162 \\n Trait 2: seq_site_2&quot;,&quot;ID: cas5163 \\n Trait 2: seq_site_2&quot;,&quot;ID: cas5164 \\n Trait 2: seq_site_2&quot;,&quot;ID: cas5166 \\n Trait 2: seq_site_2&quot;,&quot;ID: cas5168 \\n Trait 2: seq_site_2&quot;,&quot;ID: cas5169 \\n Trait 2: seq_site_2&quot;,&quot;ID: cas5170 \\n Trait 2: seq_site_2&quot;,&quot;ID: cas5173 \\n Trait 2: seq_site_2&quot;,&quot;ID: cas5176 \\n Trait 2: seq_site_2&quot;,&quot;ID: cas5177 \\n Trait 2: seq_site_2&quot;,&quot;ID: cas5178 \\n Trait 2: seq_site_2&quot;,&quot;ID: cas5179 \\n Trait 2: seq_site_2&quot;,&quot;ID: cas5180 \\n Trait 2: seq_site_2&quot;,&quot;ID: cas5181 \\n Trait 2: seq_site_2&quot;,&quot;ID: cas5183 \\n Trait 2: seq_site_2&quot;,&quot;ID: cas5184 \\n Trait 2: seq_site_2&quot;,&quot;ID: cas5185 \\n Trait 2: seq_site_2&quot;,&quot;ID: cas5186 \\n Trait 2: seq_site_2&quot;,&quot;ID: cas5187 \\n Trait 2: seq_site_2&quot;,&quot;ID: cas5188 \\n Trait 2: seq_site_2&quot;,&quot;ID: cas5189 \\n Trait 2: seq_site_2&quot;,&quot;ID: cas5190 \\n Trait 2: seq_site_2&quot;,&quot;ID: cas5191 \\n Trait 2: seq_site_2&quot;,&quot;ID: cas5192 \\n Trait 2: seq_site_2&quot;,&quot;ID: cas3067 \\n Trait 1: seq_site_1&quot;,&quot;ID: cas4109 \\n Trait 1: seq_site_1&quot;,&quot;ID: con1002 \\n Trait 1: seq_site_1&quot;,&quot;ID: con1004 \\n Trait 1: seq_site_1&quot;,&quot;ID: con1006 \\n Trait 1: seq_site_1&quot;,&quot;ID: con1007 \\n Trait 1: seq_site_1&quot;,&quot;ID: con1008 \\n Trait 1: seq_site_1&quot;,&quot;ID: con1009 \\n Trait 1: seq_site_1&quot;,&quot;ID: con1011 \\n Trait 1: seq_site_1&quot;,&quot;ID: con1016 \\n Trait 1: seq_site_1&quot;,&quot;ID: con2026 \\n Trait 1: seq_site_1&quot;,&quot;ID: con2030 \\n Trait 1: seq_site_1&quot;,&quot;ID: con2031 \\n Trait 1: seq_site_1&quot;,&quot;ID: con2036 \\n Trait 1: seq_site_1&quot;,&quot;ID: con2037 \\n Trait 1: seq_site_1&quot;,&quot;ID: con2042 \\n Trait 1: seq_site_1&quot;,&quot;ID: con2046 \\n Trait 1: seq_site_1&quot;,&quot;ID: con2047 \\n Trait 1: seq_site_1&quot;,&quot;ID: con3063 \\n Trait 1: seq_site_1&quot;,&quot;ID: con3064 \\n Trait 1: seq_site_1&quot;,&quot;ID: con3066 \\n Trait 1: seq_site_1&quot;,&quot;ID: con3068 \\n Trait 1: seq_site_1&quot;,&quot;ID: con3069 \\n Trait 1: seq_site_1&quot;,&quot;ID: con3070 \\n Trait 1: seq_site_1&quot;,&quot;ID: con3071 \\n Trait 1: seq_site_1&quot;,&quot;ID: con3087 \\n Trait 1: seq_site_1&quot;,&quot;ID: con3088 \\n Trait 1: seq_site_1&quot;,&quot;ID: con3090 \\n Trait 1: seq_site_1&quot;,&quot;ID: con3091 \\n Trait 1: seq_site_1&quot;,&quot;ID: con3093 \\n Trait 1: seq_site_1&quot;,&quot;ID: con3094 \\n Trait 1: seq_site_1&quot;,&quot;ID: con3095 \\n Trait 1: seq_site_1&quot;,&quot;ID: con4110 \\n Trait 1: seq_site_1&quot;,&quot;ID: con4113 \\n Trait 1: seq_site_1&quot;,&quot;ID: con4114 \\n Trait 1: seq_site_1&quot;,&quot;ID: con4117 \\n Trait 1: seq_site_1&quot;,&quot;ID: con4118 \\n Trait 1: seq_site_1&quot;,&quot;ID: con4119 \\n Trait 1: seq_site_1&quot;,&quot;ID: con4120 \\n Trait 1: seq_site_1&quot;,&quot;ID: con4135 \\n Trait 2: seq_site_2&quot;,&quot;ID: con4136 \\n Trait 2: seq_site_2&quot;,&quot;ID: con4138 \\n Trait 2: seq_site_2&quot;,&quot;ID: con4141 \\n Trait 2: seq_site_2&quot;,&quot;ID: con4142 \\n Trait 2: seq_site_2&quot;,&quot;ID: con4143 \\n Trait 2: seq_site_2&quot;,&quot;ID: con4144 \\n Trait 2: seq_site_2&quot;,&quot;ID: con5146 \\n Trait 2: seq_site_2&quot;,&quot;ID: con5148 \\n Trait 2: seq_site_2&quot;,&quot;ID: con5149 \\n Trait 2: seq_site_2&quot;,&quot;ID: con5151 \\n Trait 2: seq_site_2&quot;,&quot;ID: con5157 \\n Trait 2: seq_site_2&quot;,&quot;ID: con5158 \\n Trait 2: seq_site_2&quot;,&quot;ID: con5159 \\n Trait 2: seq_site_2&quot;,&quot;ID: con5160 \\n Trait 2: seq_site_2&quot;,&quot;ID: con5161 \\n Trait 2: seq_site_2&quot;,&quot;ID: con5165 \\n Trait 2: seq_site_2&quot;,&quot;ID: con5167 \\n Trait 2: seq_site_2&quot;,&quot;ID: con5171 \\n Trait 2: seq_site_2&quot;,&quot;ID: con5172 \\n Trait 2: seq_site_2&quot;,&quot;ID: con5174 \\n Trait 2: seq_site_2&quot;,&quot;ID: con5175 \\n Trait 2: seq_site_2&quot;,&quot;ID: con5182 \\n Trait 2: seq_site_2&quot;,&quot;ID: con4111 \\n Trait 1: seq_site_1&quot;],[&quot;ID: cas1001 \\n Trait 1: case&quot;,&quot;ID: cas1003 \\n Trait 1: case&quot;,&quot;ID: cas1005 \\n Trait 1: case&quot;,&quot;ID: cas1010 \\n Trait 1: case&quot;,&quot;ID: cas1012 \\n Trait 1: case&quot;,&quot;ID: cas1013 \\n Trait 1: case&quot;,&quot;ID: cas1014 \\n Trait 1: case&quot;,&quot;ID: cas1015 \\n Trait 1: case&quot;,&quot;ID: cas1017 \\n Trait 1: case&quot;,&quot;ID: cas1018 \\n Trait 1: case&quot;,&quot;ID: cas1019 \\n Trait 1: case&quot;,&quot;ID: cas1020 \\n Trait 1: case&quot;,&quot;ID: cas1021 \\n Trait 1: case&quot;,&quot;ID: cas1022 \\n Trait 1: case&quot;,&quot;ID: cas1023 \\n Trait 1: case&quot;,&quot;ID: cas1024 \\n Trait 1: case&quot;,&quot;ID: cas2025 \\n Trait 1: case&quot;,&quot;ID: cas2027 \\n Trait 1: case&quot;,&quot;ID: cas2028 \\n Trait 1: case&quot;,&quot;ID: cas2029 \\n Trait 1: case&quot;,&quot;ID: cas2032 \\n Trait 1: case&quot;,&quot;ID: cas2033 \\n Trait 1: case&quot;,&quot;ID: cas2034 \\n Trait 1: case&quot;,&quot;ID: cas2035 \\n Trait 1: case&quot;,&quot;ID: cas2038 \\n Trait 1: case&quot;,&quot;ID: cas2039 \\n Trait 1: case&quot;,&quot;ID: cas2040 \\n Trait 1: case&quot;,&quot;ID: cas2041 \\n Trait 1: case&quot;,&quot;ID: cas2043 \\n Trait 1: case&quot;,&quot;ID: cas2044 \\n Trait 1: case&quot;,&quot;ID: cas2045 \\n Trait 1: case&quot;,&quot;ID: cas2048 \\n Trait 1: case&quot;,&quot;ID: cas3050 \\n Trait 1: case&quot;,&quot;ID: cas3051 \\n Trait 1: case&quot;,&quot;ID: cas3052 \\n Trait 1: case&quot;,&quot;ID: cas3053 \\n Trait 1: case&quot;,&quot;ID: cas3054 \\n Trait 1: case&quot;,&quot;ID: cas3055 \\n Trait 1: case&quot;,&quot;ID: cas3056 \\n Trait 1: case&quot;,&quot;ID: cas3057 \\n Trait 1: case&quot;,&quot;ID: cas3058 \\n Trait 1: case&quot;,&quot;ID: cas3059 \\n Trait 1: case&quot;,&quot;ID: cas3060 \\n Trait 1: case&quot;,&quot;ID: cas3061 \\n Trait 1: case&quot;,&quot;ID: cas3062 \\n Trait 1: case&quot;,&quot;ID: cas3065 \\n Trait 1: case&quot;,&quot;ID: cas3072 \\n Trait 1: case&quot;,&quot;ID: cas3073 \\n Trait 1: case&quot;,&quot;ID: cas3074 \\n Trait 1: case&quot;,&quot;ID: cas3075 \\n Trait 1: case&quot;,&quot;ID: cas3076 \\n Trait 1: case&quot;,&quot;ID: cas3077 \\n Trait 1: case&quot;,&quot;ID: cas3078 \\n Trait 1: case&quot;,&quot;ID: cas3079 \\n Trait 1: case&quot;,&quot;ID: cas3080 \\n Trait 1: case&quot;,&quot;ID: cas3081 \\n Trait 1: case&quot;,&quot;ID: cas3082 \\n Trait 1: case&quot;,&quot;ID: cas3083 \\n Trait 1: case&quot;,&quot;ID: cas3084 \\n Trait 1: case&quot;,&quot;ID: cas3085 \\n Trait 1: case&quot;,&quot;ID: cas3086 \\n Trait 1: case&quot;,&quot;ID: cas3089 \\n Trait 1: case&quot;,&quot;ID: cas3092 \\n Trait 1: case&quot;,&quot;ID: cas3096 \\n Trait 1: case&quot;,&quot;ID: cas4097 \\n Trait 1: case&quot;,&quot;ID: cas4098 \\n Trait 1: case&quot;,&quot;ID: cas4099 \\n Trait 1: case&quot;,&quot;ID: cas4100 \\n Trait 1: case&quot;,&quot;ID: cas4101 \\n Trait 1: case&quot;,&quot;ID: cas4102 \\n Trait 1: case&quot;,&quot;ID: cas4103 \\n Trait 1: case&quot;,&quot;ID: cas4104 \\n Trait 1: case&quot;,&quot;ID: cas4105 \\n Trait 1: case&quot;,&quot;ID: cas4106 \\n Trait 1: case&quot;,&quot;ID: cas4107 \\n Trait 1: case&quot;,&quot;ID: cas4108 \\n Trait 1: case&quot;,&quot;ID: cas4112 \\n Trait 1: case&quot;,&quot;ID: cas4115 \\n Trait 1: case&quot;,&quot;ID: cas4116 \\n Trait 1: case&quot;,&quot;ID: cas4121 \\n Trait 1: case&quot;,&quot;ID: cas4122 \\n Trait 1: case&quot;,&quot;ID: cas4123 \\n Trait 1: case&quot;,&quot;ID: cas4124 \\n Trait 1: case&quot;,&quot;ID: cas4125 \\n Trait 1: case&quot;,&quot;ID: cas4126 \\n Trait 1: case&quot;,&quot;ID: cas4127 \\n Trait 1: case&quot;,&quot;ID: cas4128 \\n Trait 1: case&quot;,&quot;ID: cas4129 \\n Trait 1: case&quot;,&quot;ID: cas4130 \\n Trait 1: case&quot;,&quot;ID: cas4131 \\n Trait 1: case&quot;,&quot;ID: cas4132 \\n Trait 1: case&quot;,&quot;ID: cas4133 \\n Trait 1: case&quot;,&quot;ID: cas4134 \\n Trait 1: case&quot;,&quot;ID: con4137 \\n Trait 1: case&quot;,&quot;ID: cas4139 \\n Trait 1: case&quot;,&quot;ID: cas4140 \\n Trait 1: case&quot;,&quot;ID: cas5145 \\n Trait 1: case&quot;,&quot;ID: cas5147 \\n Trait 1: case&quot;,&quot;ID: cas5150 \\n Trait 1: case&quot;,&quot;ID: cas5152 \\n Trait 1: case&quot;,&quot;ID: cas5153 \\n Trait 1: case&quot;,&quot;ID: cas5154 \\n Trait 1: case&quot;,&quot;ID: cas5155 \\n Trait 1: case&quot;,&quot;ID: cas5156 \\n Trait 1: case&quot;,&quot;ID: cas5162 \\n Trait 1: case&quot;,&quot;ID: cas5163 \\n Trait 1: case&quot;,&quot;ID: cas5164 \\n Trait 1: case&quot;,&quot;ID: cas5166 \\n Trait 1: case&quot;,&quot;ID: cas5168 \\n Trait 1: case&quot;,&quot;ID: cas5169 \\n Trait 1: case&quot;,&quot;ID: cas5170 \\n Trait 1: case&quot;,&quot;ID: cas5173 \\n Trait 1: case&quot;,&quot;ID: cas5176 \\n Trait 1: case&quot;,&quot;ID: cas5177 \\n Trait 1: case&quot;,&quot;ID: cas5178 \\n Trait 1: case&quot;,&quot;ID: cas5179 \\n Trait 1: case&quot;,&quot;ID: cas5180 \\n Trait 1: case&quot;,&quot;ID: cas5181 \\n Trait 1: case&quot;,&quot;ID: cas5183 \\n Trait 1: case&quot;,&quot;ID: cas5184 \\n Trait 1: case&quot;,&quot;ID: cas5185 \\n Trait 1: case&quot;,&quot;ID: cas5186 \\n Trait 1: case&quot;,&quot;ID: cas5187 \\n Trait 1: case&quot;,&quot;ID: cas5188 \\n Trait 1: case&quot;,&quot;ID: cas5189 \\n Trait 1: case&quot;,&quot;ID: cas5190 \\n Trait 1: case&quot;,&quot;ID: cas5191 \\n Trait 1: case&quot;,&quot;ID: cas5192 \\n Trait 1: case&quot;,&quot;ID: cas3067 \\n Trait 1: case&quot;,&quot;ID: cas4109 \\n Trait 1: case&quot;,&quot;ID: con1002 \\n Trait 2: control&quot;,&quot;ID: con1004 \\n Trait 2: control&quot;,&quot;ID: con1006 \\n Trait 2: control&quot;,&quot;ID: con1007 \\n Trait 2: control&quot;,&quot;ID: con1008 \\n Trait 2: control&quot;,&quot;ID: con1009 \\n Trait 2: control&quot;,&quot;ID: con1011 \\n Trait 2: control&quot;,&quot;ID: con1016 \\n Trait 2: control&quot;,&quot;ID: con2026 \\n Trait 2: control&quot;,&quot;ID: con2030 \\n Trait 2: control&quot;,&quot;ID: con2031 \\n Trait 2: control&quot;,&quot;ID: con2036 \\n Trait 2: control&quot;,&quot;ID: con2037 \\n Trait 2: control&quot;,&quot;ID: con2042 \\n Trait 2: control&quot;,&quot;ID: con2046 \\n Trait 2: control&quot;,&quot;ID: con2047 \\n Trait 2: control&quot;,&quot;ID: con3063 \\n Trait 2: control&quot;,&quot;ID: con3064 \\n Trait 2: control&quot;,&quot;ID: con3066 \\n Trait 2: control&quot;,&quot;ID: con3068 \\n Trait 2: control&quot;,&quot;ID: con3069 \\n Trait 2: control&quot;,&quot;ID: con3070 \\n Trait 2: control&quot;,&quot;ID: con3071 \\n Trait 2: control&quot;,&quot;ID: con3087 \\n Trait 2: control&quot;,&quot;ID: con3088 \\n Trait 2: control&quot;,&quot;ID: con3090 \\n Trait 2: control&quot;,&quot;ID: con3091 \\n Trait 2: control&quot;,&quot;ID: con3093 \\n Trait 2: control&quot;,&quot;ID: con3094 \\n Trait 2: control&quot;,&quot;ID: con3095 \\n Trait 2: control&quot;,&quot;ID: con4110 \\n Trait 2: control&quot;,&quot;ID: con4113 \\n Trait 2: control&quot;,&quot;ID: con4114 \\n Trait 2: control&quot;,&quot;ID: con4117 \\n Trait 2: control&quot;,&quot;ID: con4118 \\n Trait 2: control&quot;,&quot;ID: con4119 \\n Trait 2: control&quot;,&quot;ID: con4120 \\n Trait 2: control&quot;,&quot;ID: con4135 \\n Trait 2: control&quot;,&quot;ID: con4136 \\n Trait 2: control&quot;,&quot;ID: con4138 \\n Trait 2: control&quot;,&quot;ID: con4141 \\n Trait 2: control&quot;,&quot;ID: con4142 \\n Trait 2: control&quot;,&quot;ID: con4143 \\n Trait 2: control&quot;,&quot;ID: con4144 \\n Trait 2: control&quot;,&quot;ID: con5146 \\n Trait 2: control&quot;,&quot;ID: con5148 \\n Trait 2: control&quot;,&quot;ID: con5149 \\n Trait 2: control&quot;,&quot;ID: con5151 \\n Trait 2: control&quot;,&quot;ID: con5157 \\n Trait 2: control&quot;,&quot;ID: con5158 \\n Trait 2: control&quot;,&quot;ID: con5159 \\n Trait 2: control&quot;,&quot;ID: con5160 \\n Trait 2: control&quot;,&quot;ID: con5161 \\n Trait 2: control&quot;,&quot;ID: con5165 \\n Trait 2: control&quot;,&quot;ID: con5167 \\n Trait 2: control&quot;,&quot;ID: con5171 \\n Trait 2: control&quot;,&quot;ID: con5172 \\n Trait 2: control&quot;,&quot;ID: con5174 \\n Trait 2: control&quot;,&quot;ID: con5175 \\n Trait 2: control&quot;,&quot;ID: con5182 \\n Trait 2: control&quot;,&quot;ID: con4111 \\n Trait 2: control&quot;]],&quot;showscale&quot;:false,&quot;x&quot;:[1,2,3,4,5,6,7,8,9,10,11,12,13,14,15,16,17,18,19,20,21,22,23,24,25,26,27,28,29,30,31,32,33,34,35,36,37,38,39,40,41,42,43,44,45,46,47,48,49,50,51,52,53,54,55,56,57,58,59,60,61,62,63,64,65,66,67,68,69,70,71,72,73,74,75,76,77,78,79,80,81,82,83,84,85,86,87,88,89,90,91,92,93,94,95,96,97,98,99,100,101,102,103,104,105,106,107,108,109,110,111,112,113,114,115,116,117,118,119,120,121,122,123,124,125,126,127,128,129,130,131,132,133,134,135,136,137,138,139,140,141,142,143,144,145,146,147,148,149,150,151,152,153,154,155,156,157,158,159,160,161,162,163,164,165,166,167,168,169,170,171,172,173,174,175,176,177,178,179,180,181,182,183,184,185,186,187,188,189,190,191],&quot;gridcolor&quot;:&quot;#E2E2E2&quot;,&quot;zmin&quot;:-60,&quot;z&quot;:[[0,0,0,0,0,-40,-40],[0,7,8,2,0,-40,-40],[1,1,0,0,0,-40,-40],[1,2,4,3,0,-40,-40],[0,0,0,0,0,-40,-40],[1,2,2,1,0,-40,-40],[2,2,1,1,0,-40,-40],[1,1,0,0,0,-40,-40],[2,3,2,1,0,-40,-40],[1,1,4,4,0,-40,-40],[1,1,0,0,0,-40,-40],[0,1,0,0,1,-40,-40],[0,0,1,1,0,-40,-40],[4,5,1,1,0,-40,-40],[2,4,3,2,1,-40,-40],[0,1,0,0,0,-40,-40],[0,0,1,1,0,-40,-40],[0,0,0,0,0,-40,-40],[0,0,1,1,0,-40,-40],[0,1,2,1,0,-40,-40],[0,0,1,1,0,-40,-40],[0,0,1,1,0,-40,-40],[0,0,0,0,0,-40,-40],[0,0,0,0,1,-40,-40],[1,3,6,5,1,-40,-40],[0,1,1,1,0,-40,-40],[1,1,3,3,4,-40,-40],[0,0,1,1,0,-40,-40],[0,0,2,2,0,-40,-40],[0,0,0,0,0,-40,-40],[0,0,0,0,0,-40,-40],[0,1,2,2,1,-40,-40],[1,1,1,2,4,-40,-40],[0,0,1,1,7,-40,-40],[1,2,6,6,26,-40,-40],[0,2,2,2,3,-40,-40],[1,1,10,10,33,-40,-40],[0,0,3,3,7,-40,-40],[10,10,25,30,36,-40,-40],[0,0,3,2,4,-40,-40],[1,1,2,2,9,-40,-40],[0,0,0,0,0,-40,-40],[0,0,0,0,0,-40,-40],[0,0,5,5,14,-40,-40],[1,0,3,3,17,-40,-40],[1,1,0,0,0,-40,-40],[4,2,1,2,11,-40,-40],[0,1,5,4,6,-40,-40],[0,0,3,4,6,-40,-40],[1,1,3,3,9,-40,-40],[1,0,5,6,14,-40,-40],[1,2,3,5,14,-40,-40],[0,0,1,2,2,-40,-40],[0,1,0,0,5,-40,-40],[0,0,2,1,3,-40,-40],[4,2,0,1,8,-40,-40],[0,1,9,10,14,-40,-40],[0,0,2,2,2,-40,-40],[0,0,0,0,0,-40,-40],[0,0,0,0,3,-40,-40],[4,2,6,6,33,-40,-40],[1,4,8,9,31,-40,-40],[0,1,0,0,4,-40,-40],[1,2,4,4,3,-40,-40],[0,1,4,4,14,-40,-40],[1,4,4,7,18,-40,-40],[0,0,0,0,11,-40,-40],[0,1,1,1,16,-40,-40],[0,0,2,2,10,-40,-40],[0,0,0,1,17,-40,-40],[0,0,2,2,11,-40,-40],[0,0,0,0,3,-40,-40],[0,0,6,6,19,-40,-40],[0,0,5,5,42,-40,-40],[2,2,8,10,21,-40,-40],[1,0,1,2,10,-40,-40],[0,2,2,2,13,-40,-40],[3,4,5,5,13,-40,-40],[0,0,0,0,3,-40,-40],[4,7,12,12,19,-60,-40],[0,0,5,6,36,-60,-40],[0,1,3,4,24,-60,-40],[0,0,2,3,24,-60,-40],[2,4,10,10,38,-60,-40],[0,2,3,5,39,-60,-40],[0,0,2,2,18,-60,-40],[0,2,3,3,27,-60,-40],[0,0,3,7,24,-60,-40],[1,2,3,6,33,-60,-40],[1,3,7,7,30,-60,-40],[0,0,5,10,31,-60,-40],[0,2,7,6,28,-60,-40],[0,0,4,4,33,-60,-40],[0,1,10,14,53,-60,-40],[2,3,3,3,17,-60,-40],[0,0,10,10,35,-60,-40],[0,0,3,3,18,-60,-40],[2,2,6,10,33,-60,-40],[0,0,2,2,34,-60,-40],[0,0,2,2,21,-60,-40],[3,7,8,8,27,-60,-40],[3,7,15,16,34,-60,-40],[3,4,5,6,34,-60,-40],[0,1,14,14,28,-60,-40],[2,2,4,4,15,-60,-40],[4,7,21,19,40,-60,-40],[0,1,9,9,24,-60,-40],[0,1,1,3,18,-60,-40],[0,0,1,1,18,-60,-40],[0,0,5,6,34,-60,-40],[0,0,14,16,35,-60,-40],[0,0,6,10,42,-60,-40],[5,5,17,18,38,-60,-40],[1,2,9,9,34,-60,-40],[2,3,5,5,36,-60,-40],[3,4,6,6,25,-60,-40],[0,0,3,4,20,-60,-40],[1,5,17,15,38,-60,-40],[0,0,10,10,34,-60,-40],[0,0,3,3,20,-60,-40],[1,2,4,3,16,-60,-40],[0,1,5,5,29,-60,-40],[2,1,11,13,40,-60,-40],[1,4,7,7,33,-60,-40],[0,0,7,10,32,-60,-40],[1,2,7,9,34,-60,-40],[1,0,8,11,37,-60,-40],[3,2,2,2,21,-60,-40],[0,0,1,1,21,-40,-40],[3,2,7,7,24,-40,-40],[0,0,2,2,0,-40,-60],[1,1,0,0,0,-40,-60],[2,2,1,1,1,-40,-60],[0,0,0,0,0,-40,-60],[0,1,0,0,1,-40,-60],[0,0,3,3,0,-40,-60],[1,0,1,1,0,-40,-60],[0,0,0,0,0,-40,-60],[0,0,1,1,0,-40,-60],[0,0,0,0,0,-40,-60],[0,0,0,0,0,-40,-60],[0,0,0,0,0,-40,-60],[0,0,1,1,0,-40,-60],[0,0,1,1,0,-40,-60],[0,0,0,0,0,-40,-60],[0,1,0,0,0,-40,-60],[0,0,1,1,1,-40,-60],[2,1,9,10,29,-40,-60],[0,0,0,1,4,-40,-60],[0,0,1,1,10,-40,-60],[1,3,7,7,34,-40,-60],[3,4,12,15,34,-40,-60],[0,0,1,1,10,-40,-60],[0,0,2,4,17,-40,-60],[1,0,2,2,19,-40,-60],[0,0,4,4,11,-40,-60],[4,4,5,5,25,-40,-60],[0,0,3,3,17,-40,-60],[1,1,2,2,13,-40,-60],[0,1,3,1,10,-40,-60],[0,0,0,0,7,-40,-60],[10,20,20,24,34,-40,-60],[3,5,12,6,13,-40,-60],[3,2,1,1,15,-40,-60],[0,0,1,1,10,-40,-60],[12,11,21,24,33,-40,-60],[3,5,9,11,33,-40,-60],[1,1,1,1,29,-60,-60],[1,0,5,7,29,-60,-60],[0,1,3,3,34,-60,-60],[2,2,9,9,34,-60,-60],[0,0,2,3,27,-60,-60],[1,2,3,4,32,-60,-60],[0,0,2,2,35,-60,-60],[1,3,8,10,34,-60,-60],[0,0,2,4,33,-60,-60],[2,1,12,12,45,-60,-60],[0,0,5,7,35,-60,-60],[1,4,7,5,11,-60,-60],[0,0,5,6,35,-60,-60],[0,1,11,13,31,-60,-60],[0,1,2,2,24,-60,-60],[2,2,8,9,36,-60,-60],[2,3,11,13,53,-60,-60],[1,1,2,2,20,-60,-60],[1,1,9,10,34,-60,-60],[1,4,7,6,17,-60,-60],[0,1,7,7,37,-60,-60],[1,1,6,8,26,-60,-60],[0,1,17,18,44,-60,-60],[1,3,4,3,9,-40,-60]],&quot;zauto&quot;:false,&quot;zmax&quot;:100,&quot;y&quot;:[1,2,3,4,5,6,7],&quot;type&quot;:&quot;heatmap&quot;,&quot;hoverinfo&quot;:&quot;text&quot;,&quot;transpose&quot;:true},{&quot;marker&quot;:{&quot;size&quot;:300},&quot;mode&quot;:&quot;text&quot;,&quot;textfont&quot;:{&quot;family&quot;:&quot;Raleway, sans-serif&quot;},&quot;textposition&quot;:&quot;middle right&quot;,&quot;y&quot;:[2.45,2.6833333333333336,2.916666666666667,3.1500000000000004,3.3833333333333337,3.616666666666667,3.8500000000000005,4.083333333333334],&quot;type&quot;:&quot;scatter&quot;,&quot;name&quot;:&quot;legend label&quot;,&quot;text&quot;:[&quot;No Call&quot;,&quot;0&quot;,&quot;10&quot;,&quot;20&quot;,&quot;100+&quot;,&quot;&quot;,&quot;Trait 2&quot;,&quot;Trait 1&quot;],&quot;x&quot;:[205.32500000000002,205.32500000000002,205.32500000000002,205.32500000000002,205.32500000000002,243.52500000000003,205.32500000000002,205.32500000000002]}],{&quot;shapes&quot;:[{&quot;x0&quot;:195.775,&quot;fillcolor&quot;:&quot;rgb(151, 154, 154)&quot;,&quot;line&quot;:{&quot;color&quot;:&quot;black&quot;},&quot;type&quot;:&quot;rect&quot;,&quot;y0&quot;:3.733333333333334,&quot;y1&quot;:3.9666666666666672,&quot;opacity&quot;:1.0,&quot;x1&quot;:200.55},{&quot;x0&quot;:195.775,&quot;fillcolor&quot;:&quot;rgb(208, 211, 212)&quot;,&quot;line&quot;:{&quot;color&quot;:&quot;black&quot;},&quot;type&quot;:&quot;rect&quot;,&quot;y0&quot;:3.9666666666666672,&quot;y1&quot;:4.2,&quot;opacity&quot;:1.0,&quot;x1&quot;:200.55},{&quot;x0&quot;:195.775,&quot;fillcolor&quot;:&quot;rgb(37,114,242)&quot;,&quot;line&quot;:{&quot;color&quot;:&quot;black&quot;},&quot;type&quot;:&quot;rect&quot;,&quot;y0&quot;:3.266666666666667,&quot;y1&quot;:3.5000000000000004,&quot;opacity&quot;:1.0,&quot;x1&quot;:200.55},{&quot;x0&quot;:195.775,&quot;fillcolor&quot;:&quot;rgb(67,138,254)&quot;,&quot;line&quot;:{&quot;color&quot;:&quot;black&quot;},&quot;type&quot;:&quot;rect&quot;,&quot;y0&quot;:3.0333333333333337,&quot;y1&quot;:3.266666666666667,&quot;opacity&quot;:1.0,&quot;x1&quot;:200.55},{&quot;x0&quot;:195.775,&quot;fillcolor&quot;:&quot;rgb(110,182,255)&quot;,&quot;line&quot;:{&quot;color&quot;:&quot;black&quot;},&quot;type&quot;:&quot;rect&quot;,&quot;y0&quot;:2.8000000000000003,&quot;y1&quot;:3.0333333333333337,&quot;opacity&quot;:1.0,&quot;x1&quot;:200.55},{&quot;x0&quot;:195.775,&quot;fillcolor&quot;:&quot;rgb(153,231,255)&quot;,&quot;line&quot;:{&quot;color&quot;:&quot;black&quot;},&quot;type&quot;:&quot;rect&quot;,&quot;y0&quot;:2.566666666666667,&quot;y1&quot;:2.8000000000000003,&quot;opacity&quot;:1.0,&quot;x1&quot;:200.55},{&quot;x0&quot;:195.775,&quot;fillcolor&quot;:&quot;rgb(255,255,255)&quot;,&quot;line&quot;:{&quot;color&quot;:&quot;black&quot;},&quot;type&quot;:&quot;rect&quot;,&quot;y0&quot;:2.3333333333333335,&quot;y1&quot;:2.566666666666667,&quot;opacity&quot;:1.0,&quot;x1&quot;:200.55}],&quot;xaxis&quot;:{&quot;showgrid&quot;:false,&quot;tickangle&quot;:45,&quot;showticklabels&quot;:false,&quot;zeroline&quot;:false,&quot;tickvals&quot;:[1,2,3,4,5,6,7,8,9,10,11,12,13,14,15,16,17,18,19,20,21,22,23,24,25,26,27,28,29,30,31,32,33,34,35,36,37,38,39,40,41,42,43,44,45,46,47,48,49,50,51,52,53,54,55,56,57,58,59,60,61,62,63,64,65,66,67,68,69,70,71,72,73,74,75,76,77,78,79,80,81,82,83,84,85,86,87,88,89,90,91,92,93,94,95,96,97,98,99,100,101,102,103,104,105,106,107,108,109,110,111,112,113,114,115,116,117,118,119,120,121,122,123,124,125,126,127,128,129,130,131,132,133,134,135,136,137,138,139,140,141,142,143,144,145,146,147,148,149,150,151,152,153,154,155,156,157,158,159,160,161,162,163,164,165,166,167,168,169,170,171,172,173,174,175,176,177,178,179,180,181,182,183,184,185,186,187,188,189,190,191],&quot;title&quot;:&quot;Sample ID (Grouped by case | control)&quot;,&quot;range&quot;:[[1,2,3,4,5,6,7,8,9,10,11,12,13,14,15,16,17,18,19,20,21,22,23,24,25,26,27,28,29,30,31,32,33,34,35,36,37,38,39,40,41,42,43,44,45,46,47,48,49,50,51,52,53,54,55,56,57,58,59,60,61,62,63,64,65,66,67,68,69,70,71,72,73,74,75,76,77,78,79,80,81,82,83,84,85,86,87,88,89,90,91,92,93,94,95,96,97,98,99,100,101,102,103,104,105,106,107,108,109,110,111,112,113,114,115,116,117,118,119,120,121,122,123,124,125,126,127,128,129,130,131,132,133,134,135,136,137,138,139,140,141,142,143,144,145,146,147,148,149,150,151,152,153,154,155,156,157,158,159,160,161,162,163,164,165,166,167,168,169,170,171,172,173,174,175,176,177,178,179,180,181,182,183,184,185,186,187,188,189,190,191]],&quot;ticktext&quot;:[[&quot;cas1001&quot;],[&quot;cas1003&quot;],[&quot;cas1005&quot;],[&quot;cas1010&quot;],[&quot;cas1012&quot;],[&quot;cas1013&quot;],[&quot;cas1014&quot;],[&quot;cas1015&quot;],[&quot;cas1017&quot;],[&quot;cas1018&quot;],[&quot;cas1019&quot;],[&quot;cas1020&quot;],[&quot;cas1021&quot;],[&quot;cas1022&quot;],[&quot;cas1023&quot;],[&quot;cas1024&quot;],[&quot;cas2025&quot;],[&quot;cas2027&quot;],[&quot;cas2028&quot;],[&quot;cas2029&quot;],[&quot;cas2032&quot;],[&quot;cas2033&quot;],[&quot;cas2034&quot;],[&quot;cas2035&quot;],[&quot;cas2038&quot;],[&quot;cas2039&quot;],[&quot;cas2040&quot;],[&quot;cas2041&quot;],[&quot;cas2043&quot;],[&quot;cas2044&quot;],[&quot;cas2045&quot;],[&quot;cas2048&quot;],[&quot;cas3050&quot;],[&quot;cas3051&quot;],[&quot;cas3052&quot;],[&quot;cas3053&quot;],[&quot;cas3054&quot;],[&quot;cas3055&quot;],[&quot;cas3056&quot;],[&quot;cas3057&quot;],[&quot;cas3058&quot;],[&quot;cas3059&quot;],[&quot;cas3060&quot;],[&quot;cas3061&quot;],[&quot;cas3062&quot;],[&quot;cas3065&quot;],[&quot;cas3072&quot;],[&quot;cas3073&quot;],[&quot;cas3074&quot;],[&quot;cas3075&quot;],[&quot;cas3076&quot;],[&quot;cas3077&quot;],[&quot;cas3078&quot;],[&quot;cas3079&quot;],[&quot;cas3080&quot;],[&quot;cas3081&quot;],[&quot;cas3082&quot;],[&quot;cas3083&quot;],[&quot;cas3084&quot;],[&quot;cas3085&quot;],[&quot;cas3086&quot;],[&quot;cas3089&quot;],[&quot;cas3092&quot;],[&quot;cas3096&quot;],[&quot;cas4097&quot;],[&quot;cas4098&quot;],[&quot;cas4099&quot;],[&quot;cas4100&quot;],[&quot;cas4101&quot;],[&quot;cas4102&quot;],[&quot;cas4103&quot;],[&quot;cas4104&quot;],[&quot;cas4105&quot;],[&quot;cas4106&quot;],[&quot;cas4107&quot;],[&quot;cas4108&quot;],[&quot;cas4112&quot;],[&quot;cas4115&quot;],[&quot;cas4116&quot;],[&quot;cas4121&quot;],[&quot;cas4122&quot;],[&quot;cas4123&quot;],[&quot;cas4124&quot;],[&quot;cas4125&quot;],[&quot;cas4126&quot;],[&quot;cas4127&quot;],[&quot;cas4128&quot;],[&quot;cas4129&quot;],[&quot;cas4130&quot;],[&quot;cas4131&quot;],[&quot;cas4132&quot;],[&quot;cas4133&quot;],[&quot;cas4134&quot;],[&quot;con4137&quot;],[&quot;cas4139&quot;],[&quot;cas4140&quot;],[&quot;cas5145&quot;],[&quot;cas5147&quot;],[&quot;cas5150&quot;],[&quot;cas5152&quot;],[&quot;cas5153&quot;],[&quot;cas5154&quot;],[&quot;cas5155&quot;],[&quot;cas5156&quot;],[&quot;cas5162&quot;],[&quot;cas5163&quot;],[&quot;cas5164&quot;],[&quot;cas5166&quot;],[&quot;cas5168&quot;],[&quot;cas5169&quot;],[&quot;cas5170&quot;],[&quot;cas5173&quot;],[&quot;cas5176&quot;],[&quot;cas5177&quot;],[&quot;cas5178&quot;],[&quot;cas5179&quot;],[&quot;cas5180&quot;],[&quot;cas5181&quot;],[&quot;cas5183&quot;],[&quot;cas5184&quot;],[&quot;cas5185&quot;],[&quot;cas5186&quot;],[&quot;cas5187&quot;],[&quot;cas5188&quot;],[&quot;cas5189&quot;],[&quot;cas5190&quot;],[&quot;cas5191&quot;],[&quot;cas5192&quot;],[&quot;cas3067&quot;],[&quot;cas4109&quot;],[&quot;con1002&quot;],[&quot;con1004&quot;],[&quot;con1006&quot;],[&quot;con1007&quot;],[&quot;con1008&quot;],[&quot;con1009&quot;],[&quot;con1011&quot;],[&quot;con1016&quot;],[&quot;con2026&quot;],[&quot;con2030&quot;],[&quot;con2031&quot;],[&quot;con2036&quot;],[&quot;con2037&quot;],[&quot;con2042&quot;],[&quot;con2046&quot;],[&quot;con2047&quot;],[&quot;con3063&quot;],[&quot;con3064&quot;],[&quot;con3066&quot;],[&quot;con3068&quot;],[&quot;con3069&quot;],[&quot;con3070&quot;],[&quot;con3071&quot;],[&quot;con3087&quot;],[&quot;con3088&quot;],[&quot;con3090&quot;],[&quot;con3091&quot;],[&quot;con3093&quot;],[&quot;con3094&quot;],[&quot;con3095&quot;],[&quot;con4110&quot;],[&quot;con4113&quot;],[&quot;con4114&quot;],[&quot;con4117&quot;],[&quot;con4118&quot;],[&quot;con4119&quot;],[&quot;con4120&quot;],[&quot;con4135&quot;],[&quot;con4136&quot;],[&quot;con4138&quot;],[&quot;con4141&quot;],[&quot;con4142&quot;],[&quot;con4143&quot;],[&quot;con4144&quot;],[&quot;con5146&quot;],[&quot;con5148&quot;],[&quot;con5149&quot;],[&quot;con5151&quot;],[&quot;con5157&quot;],[&quot;con5158&quot;],[&quot;con5159&quot;],[&quot;con5160&quot;],[&quot;con5161&quot;],[&quot;con5165&quot;],[&quot;con5167&quot;],[&quot;con5171&quot;],[&quot;con5172&quot;],[&quot;con5174&quot;],[&quot;con5175&quot;],[&quot;con5182&quot;],[&quot;con4111&quot;]]},&quot;margin&quot;:{&quot;l&quot;:50,&quot;b&quot;:50,&quot;r&quot;:50,&quot;t&quot;:60},&quot;title&quot;:&quot;Read Depth test 4X 191.vcf&quot;,&quot;yaxis&quot;:{&quot;showgrid&quot;:false,&quot;zeroline&quot;:false,&quot;tickvals&quot;:[1,6,7],&quot;tickfont&quot;:{&quot;size&quot;:&quot;10&quot;},&quot;hovermode&quot;:true,&quot;title&quot;:&quot;Genomic Location&quot;,&quot;range&quot;:[[1,2,3,4,5,6,7]],&quot;ticktext&quot;:[&quot;4&quot;,&quot;seq_site_1,seq_site_2&quot;,&quot;case,control&quot;],&quot;automargin&quot;:true}},{}); gd.on(&quot;plotly_hover&quot;,(function (data){var filtered_data=WebIO.PlotlyCommands.filterEventData(gd,data,&quot;hover&quot;); return !(filtered_data.isnil) ? (WebIO.setval({&quot;name&quot;:&quot;hover&quot;,&quot;scope&quot;:&quot;scope-c89276a0-f0a0-4783-a440-c3a1027e0c3f&quot;,&quot;id&quot;:&quot;ob_11&quot;,&quot;type&quot;:&quot;observable&quot;},filtered_data.out)) : undefined})); gd.on(&quot;plotly_unhover&quot;,(function (){return WebIO.setval({&quot;name&quot;:&quot;hover&quot;,&quot;scope&quot;:&quot;scope-c89276a0-f0a0-4783-a440-c3a1027e0c3f&quot;,&quot;id&quot;:&quot;ob_11&quot;,&quot;type&quot;:&quot;observable&quot;},{})})); gd.on(&quot;plotly_selected&quot;,(function (data){var filtered_data=WebIO.PlotlyCommands.filterEventData(gd,data,&quot;selected&quot;); return !(filtered_data.isnil) ? (WebIO.setval({&quot;name&quot;:&quot;selected&quot;,&quot;scope&quot;:&quot;scope-c89276a0-f0a0-4783-a440-c3a1027e0c3f&quot;,&quot;id&quot;:&quot;ob_12&quot;,&quot;type&quot;:&quot;observable&quot;},filtered_data.out)) : undefined})); gd.on(&quot;plotly_deselect&quot;,(function (){return WebIO.setval({&quot;name&quot;:&quot;selected&quot;,&quot;scope&quot;:&quot;scope-c89276a0-f0a0-4783-a440-c3a1027e0c3f&quot;,&quot;id&quot;:&quot;ob_12&quot;,&quot;type&quot;:&quot;observable&quot;},{})})); gd.on(&quot;plotly_relayout&quot;,(function (data){var filtered_data=WebIO.PlotlyCommands.filterEventData(gd,data,&quot;relayout&quot;); return !(filtered_data.isnil) ? (WebIO.setval({&quot;name&quot;:&quot;relayout&quot;,&quot;scope&quot;:&quot;scope-c89276a0-f0a0-4783-a440-c3a1027e0c3f&quot;,&quot;id&quot;:&quot;ob_14&quot;,&quot;type&quot;:&quot;observable&quot;},filtered_data.out)) : undefined})); return gd.on(&quot;plotly_click&quot;,(function (data){var filtered_data=WebIO.PlotlyCommands.filterEventData(gd,data,&quot;click&quot;); return !(filtered_data.isnil) ? (WebIO.setval({&quot;name&quot;:&quot;click&quot;,&quot;scope&quot;:&quot;scope-c89276a0-f0a0-4783-a440-c3a1027e0c3f&quot;,&quot;id&quot;:&quot;ob_13&quot;,&quot;type&quot;:&quot;observable&quot;},filtered_data.out)) : undefined}))})]},&quot;_downloadImage&quot;:[(function (options){return this.Plotly.downloadImage(this.plotElem,options)})],&quot;_commands&quot;:[(function (args){var fn=args.shift(); var elem=this.plotElem; var Plotly=this.Plotly; args.unshift(elem); return Plotly[fn].apply(this,args)})]},&quot;systemjs_options&quot;:null,&quot;observables&quot;:{&quot;_toImage&quot;:{&quot;sync&quot;:false,&quot;id&quot;:&quot;ob_18&quot;,&quot;value&quot;:{}},&quot;hover&quot;:{&quot;sync&quot;:false,&quot;id&quot;:&quot;ob_11&quot;,&quot;value&quot;:{}},&quot;selected&quot;:{&quot;sync&quot;:false,&quot;id&quot;:&quot;ob_12&quot;,&quot;value&quot;:{}},&quot;__gd_contents&quot;:{&quot;sync&quot;:false,&quot;id&quot;:&quot;ob_16&quot;,&quot;value&quot;:{}},&quot;click&quot;:{&quot;sync&quot;:false,&quot;id&quot;:&quot;ob_13&quot;,&quot;value&quot;:{}},&quot;image&quot;:{&quot;sync&quot;:true,&quot;id&quot;:&quot;ob_15&quot;,&quot;value&quot;:&quot;&quot;},&quot;__get_gd_contents&quot;:{&quot;sync&quot;:false,&quot;id&quot;:&quot;ob_20&quot;,&quot;value&quot;:&quot;&quot;},&quot;_downloadImage&quot;:{&quot;sync&quot;:false,&quot;id&quot;:&quot;ob_19&quot;,&quot;value&quot;:{}},&quot;relayout&quot;:{&quot;sync&quot;:false,&quot;id&quot;:&quot;ob_14&quot;,&quot;value&quot;:{}},&quot;_commands&quot;:{&quot;sync&quot;:false,&quot;id&quot;:&quot;ob_17&quot;,&quot;value&quot;:[]}}},&quot;children&quot;:[{&quot;props&quot;:{&quot;id&quot;:&quot;plot-d2df8764-6d5e-4646-a487-32eb76b87cee&quot;},&quot;nodeType&quot;:&quot;DOM&quot;,&quot;type&quot;:&quot;node&quot;,&quot;instanceArgs&quot;:{&quot;namespace&quot;:&quot;html&quot;,&quot;tag&quot;:&quot;div&quot;},&quot;children&quot;:[]}]})</unsafe-script>"
      ],
      "text/plain": [
       "data: [\n",
       "  \"heatmap with fields colorbar, colorscale, gridcolor, hoverinfo, showscale, text, transpose, type, x, y, z, zauto, zmax, and zmin\",\n",
       "  \"scatter with fields marker, mode, name, text, textfont, textposition, type, x, and y\"\n",
       "]\n",
       "\n",
       "layout: \"layout with fields margin, shapes, title, xaxis, and yaxis\"\n",
       "\n"
      ]
     },
     "metadata": {},
     "output_type": "display_data"
    },
    {
     "name": "stdout",
     "output_type": "stream",
     "text": [
      "Saving read depth heatmap\n"
     ]
    }
   ],
   "source": [
    "jupyter_main(vcf_filename,saving_options,variant_filters,sample_selection,plotting_options)\n",
    ";"
   ]
  },
  {
   "cell_type": "code",
   "execution_count": null,
   "metadata": {},
   "outputs": [],
   "source": []
  },
  {
   "cell_type": "code",
   "execution_count": null,
   "metadata": {},
   "outputs": [],
   "source": []
  },
  {
   "cell_type": "code",
   "execution_count": null,
   "metadata": {},
   "outputs": [],
   "source": []
  },
  {
   "cell_type": "code",
   "execution_count": null,
   "metadata": {},
   "outputs": [],
   "source": []
  },
  {
   "cell_type": "code",
   "execution_count": null,
   "metadata": {},
   "outputs": [],
   "source": []
  },
  {
   "cell_type": "code",
   "execution_count": null,
   "metadata": {},
   "outputs": [],
   "source": []
  }
 ],
 "metadata": {
  "@webio": {
   "lastCommId": null,
   "lastKernelId": null
  },
  "kernelspec": {
   "display_name": "Julia 1.1.0",
   "language": "julia",
   "name": "julia-1.1"
  },
  "language_info": {
   "file_extension": ".jl",
   "mimetype": "application/julia",
   "name": "julia",
   "version": "1.1.0"
  }
 },
 "nbformat": 4,
 "nbformat_minor": 2
}
