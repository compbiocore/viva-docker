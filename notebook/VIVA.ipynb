{
  "cells": [
    {
      "cell_type": "code",
      "source": [
        "# VIVA: Visualization of Variants\n",
        "\n",
        "## VIVA is a tool for visualizing coverage and variant genotype information from variant call format (VCF) files. \n",
        "\n",
        "### Getting Started\n",
        "\n",
        "Enter your VCF filename below and choose your plotting options.\n",
        "\n",
        "Then run the entire notebook. Plots will be saved in the directory you keep your VIVA.ipynb in, or in the directory you specify in the plotting options.\n"
      ],
      "outputs": [],
      "execution_count": null,
      "metadata": {}
    },
    {
      "cell_type": "code",
      "source": [
        "# @hidden_cell\n",
        "println(\"Welcome to VIVA Jupyter Notebook.\")\n",
        "println()\n",
        "println(\"Loading packages:\")\n",
        "println()\n",
        "\n",
        "println(\"1/5 ArgParse\")\n",
        "using ArgParse\n",
        "\n",
        "println(\"2/5 VariantVisualization\")\n",
        "using Pkg #remove after VariantVisualization is deployed\n",
        "Pkg.activate(@__DIR__) #remove after VariantVisualization is deployed\n",
        "using VariantVisualization\n",
        "\n",
        "println(\"3/5 PlotlyJS\")\n",
        "using PlotlyJS\n",
        "\n",
        "println(\"4/5 GeneticVariation\")\n",
        "using GeneticVariation\n",
        "\n",
        "println(\"5/5 DelimitedFiles\")\n",
        "using DelimitedFiles"
      ],
      "outputs": [
        {
          "output_type": "stream",
          "name": "stdout",
          "text": [
            "Welcome to VIVA Jupyter Notebook.\n",
            "\n",
            "Loading packages:\n",
            "\n",
            "1/5 ArgParse\n",
            "2/5 VariantVisualization\n"
          ]
        },
        {
          "output_type": "stream",
          "name": "stderr",
          "text": [
            "┌ Info: Recompiling stale cache file /Users/George/.julia/compiled/v0.7/VariantVisualization/v8cR2.ji for VariantVisualization [7f8bf45c-0ad5-53b5-97e6-33c1305e0aa4]\n",
            "└ @ Base loading.jl:1185\n"
          ]
        },
        {
          "output_type": "display_data",
          "data": {
            "text/plain": [
              "HTML{String}(\"    <script class='js-collapse-script'>\\n        var curMatch =\\n            window.location.href\\n            .match(/(.*?)\\\\/notebooks\\\\/.*\\\\.ipynb/);\\n\\n        curMatch = curMatch ||\\n            window.location.href\\n            .match(/(.*?)\\\\/apps\\\\/.*\\\\.ipynb/);\\n\\n        if ( curMatch ) {\\n            \\$('head').append('<base href=\\\"' + curMatch[1] + '/\\\">');\\n        }\\n    </script>\\n\")"
            ],
            "text/html": [
              "    <script class='js-collapse-script'>\n",
              "        var curMatch =\n",
              "            window.location.href\n",
              "            .match(/(.*?)\\/notebooks\\/.*\\.ipynb/);\n",
              "\n",
              "        curMatch = curMatch ||\n",
              "            window.location.href\n",
              "            .match(/(.*?)\\/apps\\/.*\\.ipynb/);\n",
              "\n",
              "        if ( curMatch ) {\n",
              "            $('head').append('<base href=\"' + curMatch[1] + '/\">');\n",
              "        }\n",
              "    </script>\n"
            ]
          },
          "metadata": {}
        },
        {
          "output_type": "display_data",
          "data": {
            "text/plain": [
              "HTML{String}(\"<script class='js-collapse-script' src='/assetserver/d66afc8b80ce609a2ce630d051df1008d166cdff-assets/webio/dist/bundle.js'></script>\")"
            ],
            "text/html": [
              "<script class='js-collapse-script' src='/assetserver/d66afc8b80ce609a2ce630d051df1008d166cdff-assets/webio/dist/bundle.js'></script>"
            ]
          },
          "metadata": {}
        },
        {
          "output_type": "display_data",
          "data": {
            "text/plain": [
              "HTML{String}(\"<script class='js-collapse-script' src='/assetserver/d66afc8b80ce609a2ce630d051df1008d166cdff-assets/providers/ijulia_setup.js'></script>\")"
            ],
            "text/html": [
              "<script class='js-collapse-script' src='/assetserver/d66afc8b80ce609a2ce630d051df1008d166cdff-assets/providers/ijulia_setup.js'></script>"
            ]
          },
          "metadata": {}
        },
        {
          "output_type": "display_data",
          "data": {
            "text/plain": [
              "HTML{String}(\"  <script class='js-collapse-script'>\\n    \\$('.js-collapse-script').parent('.output_subarea').css('padding', '0');\\n  </script>\\n\")"
            ],
            "text/html": [
              "  <script class='js-collapse-script'>\n",
              "    $('.js-collapse-script').parent('.output_subarea').css('padding', '0');\n",
              "  </script>\n"
            ]
          },
          "metadata": {}
        },
        {
          "output_type": "stream",
          "name": "stderr",
          "text": [
            "┌ Warning: `using A: B` will only be allowed for single bindings, not modules. Use `using A.B` instead\n",
            "│   caller = ip:0x0\n",
            "└ @ Core :-1\n"
          ]
        },
        {
          "output_type": "stream",
          "name": "stdout",
          "text": [
            "3/5 PlotlyJS\n",
            "4/5 GeneticVariation\n",
            "5/5 DelimitedFiles\n"
          ]
        }
      ],
      "execution_count": 1,
      "metadata": {}
    },
    {
      "cell_type": "code",
      "source": [
        "### Enter You VCF filename\n",
        "\nEnter filename or file path of a VCF file to visualize. "
      ],
      "outputs": [
        {
          "output_type": "error",
          "ename": "LoadError",
          "evalue": "syntax: extra token \"filename\" after end of expression",
          "traceback": [
            "syntax: extra token \"filename\" after end of expression",
            ""
          ]
        }
      ],
      "execution_count": 2,
      "metadata": {}
    },
    {
      "cell_type": "code",
      "source": [
        "vcf_filename = \"/Users/George/.julia/dev/VariantVisualization/test/test_files/test_4X_191.vcf\" ;\n"
      ],
      "outputs": [],
      "execution_count": 3,
      "metadata": {}
    },
    {
      "cell_type": "code",
      "source": [
        "### Variant Selection\n",
        "\n",
        "Select variant record rows of your VCF file to visualize.\n",
        "\n*Important Note* Variant selection is recommending when visualizing large VCF files as plotting capability is limited by user's computing power."
      ],
      "outputs": [
        {
          "output_type": "error",
          "ename": "LoadError",
          "evalue": "syntax: extra token \"variant\" after end of expression",
          "traceback": [
            "syntax: extra token \"variant\" after end of expression",
            ""
          ]
        }
      ],
      "execution_count": 4,
      "metadata": {}
    },
    {
      "cell_type": "code",
      "source": [
        "genomic_range = \"\" #specify genomic range of variants to select in the format chr4:0-560000000\n",
        "pass_filter = \"\" #if \"true\", selects variants with Filter Status = PASS\n",
        "positions_list = \"\" #include path and filename to list of variant positions to selects ;\n"
      ],
      "outputs": [],
      "execution_count": 5,
      "metadata": {}
    },
    {
      "cell_type": "code",
      "source": [
        "### Sample Grouping and Selection\n",
        "\n",
        "Add sample metadata to heatmap plots and group sample columns by metadata traits. This feature is useful for identifying batch effects or differential variation between samples. \n",
        "\n",
        "Additionally, you may select unique samples to include in heatmap and average read depth scatter plots. \n",
        "\n*Note* If you would like to group samples using a metadata table in combination with the sample selection feature, the metadata table must only include metadata for the samples to be selected."
      ],
      "outputs": [
        {
          "output_type": "error",
          "ename": "LoadError",
          "evalue": "syntax: extra token \"sample\" after end of expression",
          "traceback": [
            "syntax: extra token \"sample\" after end of expression",
            ""
          ]
        }
      ],
      "execution_count": 6,
      "metadata": {}
    },
    {
      "cell_type": "code",
      "source": [
        "group_samples = \"/Users/George/.julia/dev/VariantVisualization/test/test_files/sample_metadata_matrix.csv\" #include path and filename to matrix to group by\n",
        "select_samples = \"\" #include path and filename to list of sample names\n",
        "\n"
      ],
      "outputs": [
        {
          "output_type": "execute_result",
          "execution_count": 7,
          "data": {
            "text/plain": [
              "\"\""
            ]
          },
          "metadata": {}
        }
      ],
      "execution_count": 7,
      "metadata": {}
    },
    {
      "cell_type": "code",
      "source": [
        "### Plotting Options"
      ],
      "outputs": [],
      "execution_count": 8,
      "metadata": {}
    },
    {
      "cell_type": "code",
      "source": [
        "heatmaps = \"genotype,read_depth\" #make default both - genotype, read_depth, or genotype,read_depth\n",
        "read_depth_scatter_plots = \"\" \n",
        "y_axis_label_option = \"chromosomes\"#defaults to \"chromosome labels\". If \"positions\", each variant position is labeled on y axis. If \"none\", no y-axis ticklabels are plotted.\n",
        "x_axis_label_option = \"\" #if true, sample ids are labelled on x axis labels\n"
      ],
      "outputs": [
        {
          "output_type": "execute_result",
          "execution_count": 9,
          "data": {
            "text/plain": [
              "\"\""
            ]
          },
          "metadata": {}
        }
      ],
      "execution_count": 9,
      "metadata": {}
    },
    {
      "cell_type": "code",
      "source": [
        "### Saving Options"
      ],
      "outputs": [],
      "execution_count": 10,
      "metadata": {}
    },
    {
      "cell_type": "code",
      "source": [
        "heatmap_title = \"\"\n",
        "save_format = \"html\" #Options include html, pdf, svg, eps, png\n",
        "output_directory = \"\"\n",
        "num_array = \"\" #if \"true\", saves labeled number array of filtered heatmap input\n",
        "save_remotely = \"true\" #if true, html outputs are shareable but viewer must have internet connection to open"
      ],
      "outputs": [
        {
          "output_type": "execute_result",
          "execution_count": 17,
          "data": {
            "text/plain": [
              "\"true\""
            ]
          },
          "metadata": {}
        }
      ],
      "execution_count": 17,
      "metadata": {}
    },
    {
      "cell_type": "code",
      "source": [
        "# @hidden_cell\n",
        "\n",
        "#Passing settings to VIVA. Do not adjust.\n",
        "\n",
        "variant_filters = genomic_range,pass_filter,positions_list\n",
        "sample_selection = group_samples,select_samples\n",
        "plotting_options = heatmaps,read_depth_scatter_plots,y_axis_label_option,x_axis_label_option\n",
        "saving_options = heatmap_title,save_format,output_directory,num_array,save_remotely"
      ],
      "outputs": [
        {
          "output_type": "execute_result",
          "execution_count": 18,
          "data": {
            "text/plain": [
              "(\"\", \"html\", \"\", \"\", \"true\")"
            ]
          },
          "metadata": {}
        }
      ],
      "execution_count": 18,
      "metadata": {}
    },
    {
      "cell_type": "code",
      "source": [
        "jupyter_main(vcf_filename,saving_options,variant_filters,sample_selection,plotting_options)\n"
      ],
      "outputs": [
        {
          "output_type": "stream",
          "name": "stdout",
          "text": [
            "Reading /Users/George/.julia/dev/VariantVisualization/test/test_files/test_4X_191.vcf\n",
            "chromosomes\n",
            "no filters applied. Large vcf files will take a long time to process and heatmap visualizations will not be useful at this scale.\n",
            "\n",
            "Loading VCF file into memory for visualization\n",
            "\n",
            "Finished Filtering. Total time to filter:\n",
            "_______________________________________________\n",
            "String\n",
            "Saving genotype heatmap\n"
          ]
        },
        {
          "output_type": "error",
          "ename": "MethodError",
          "evalue": "MethodError: no method matching save_graphic(::PlotlyJS.SyncPlot, ::String, ::String, ::String)\nClosest candidates are:\n  save_graphic(::Any, ::Any, ::Any, ::Any, !Matched::Any) at /Users/George/.julia/dev/VariantVisualization/src/vcf_utils_complete.jl:1446",
          "traceback": [
            "MethodError: no method matching save_graphic(::PlotlyJS.SyncPlot, ::String, ::String, ::String)\nClosest candidates are:\n  save_graphic(::Any, ::Any, ::Any, ::Any, !Matched::Any) at /Users/George/.julia/dev/VariantVisualization/src/vcf_utils_complete.jl:1446",
            "",
            "Stacktrace:",
            " [1] jupyter_main(::String, ::NTuple{5,String}, ::Tuple{String,String,String}, ::Tuple{String,String}, ::NTuple{4,String}) at /Users/George/.julia/dev/VariantVisualization/src/new_notebook_utils.jl:348",
            " [2] top-level scope at In[19]:1"
          ]
        }
      ],
      "execution_count": 19,
      "metadata": {}
    },
    {
      "cell_type": "code",
      "source": [],
      "outputs": [],
      "execution_count": null,
      "metadata": {}
    },
    {
      "cell_type": "code",
      "source": [],
      "outputs": [],
      "execution_count": null,
      "metadata": {
        "collapsed": false,
        "outputHidden": false,
        "inputHidden": false
      }
    },
    {
      "cell_type": "code",
      "source": [],
      "outputs": [],
      "execution_count": 18,
      "metadata": {
        "collapsed": false,
        "outputHidden": false,
        "inputHidden": false
      }
    },
    {
      "cell_type": "code",
      "source": [],
      "outputs": [],
      "execution_count": 19,
      "metadata": {
        "collapsed": false,
        "outputHidden": false,
        "inputHidden": false
      }
    },
    {
      "cell_type": "code",
      "source": [],
      "outputs": [],
      "execution_count": null,
      "metadata": {
        "collapsed": false,
        "outputHidden": false,
        "inputHidden": false
      }
    }
  ],
  "metadata": {
    "kernelspec": {
      "name": "julia-0.7",
      "language": "julia",
      "display_name": "Julia 0.7.0"
    },
    "language_info": {
      "file_extension": ".jl",
      "name": "julia",
      "mimetype": "application/julia",
      "version": "0.7.0"
    },
    "kernel_info": {
      "name": "julia-0.7"
    },
    "nteract": {
      "version": "0.12.3"
    }
  },
  "nbformat": 4,
  "nbformat_minor": 2
}