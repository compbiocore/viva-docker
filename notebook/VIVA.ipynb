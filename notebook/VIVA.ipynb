{
 "cells": [
  {
   "cell_type": "markdown",
   "metadata": {},
   "source": [
    "# VIVA: Visualization of Variants\n",
    "\n",
    "## VIVA is a tool for visualizing variant genotype and read depth (coverage) data from variant call format (VCF) files. \n",
    "\n",
    "### Getting Started\n",
    "\n",
    "Enter your VCF filename below and choose your plotting options.\n",
    "\n",
    "Then run the entire notebook. Plots will be saved in the directory you keep your VIVA.ipynb in, or in the directory you specify in the plotting options.\n"
   ]
  },
  {
   "cell_type": "markdown",
   "metadata": {},
   "source": [
    "### Enter You VCF filename\n",
    "\n",
    "Enter filename or file path of a VCF file to visualize. "
   ]
  },
  {
   "cell_type": "code",
   "execution_count": 1,
   "metadata": {},
   "outputs": [
    {
     "name": "stdout",
     "output_type": "stream",
     "text": [
      "loaded filename\n"
     ]
    }
   ],
   "source": [
    "vcf_filename = \"data/file.vcf\" ;\n",
    "println(\"loaded filename\")"
   ]
  },
  {
   "cell_type": "markdown",
   "metadata": {},
   "source": [
    "### Variant Selection Options\n",
    "\n",
    "Select variant record rows of your VCF file to visualize. Leave \"\" empty to bypass filters.\n",
    "\n",
    "*Important Note* Variant selection is recommending when visualizing large VCF files as plotting capability is limited by user's computing power."
   ]
  },
  {
   "cell_type": "code",
   "execution_count": 2,
   "metadata": {},
   "outputs": [
    {
     "name": "stdout",
     "output_type": "stream",
     "text": [
      "loaded options\n"
     ]
    }
   ],
   "source": [
    "genomic_range = \"\" #specify genomic range of variants to select in the format: genomic_range = chr4:0-560000000\n",
    "pass_filter = \"\" #if \"true\", selects variants with Filter Status = PASS\n",
    "positions_list = \"\" #include path and filename to list of variant positions to selects\n",
    "; \n",
    "println(\"loaded options\")"
   ]
  },
  {
   "cell_type": "markdown",
   "metadata": {},
   "source": [
    "### Sample Grouping and Selection\n",
    "\n",
    "Add sample metadata to heatmap plots and group sample columns by metadata traits. This feature is useful for identifying batch effects or differential variation between samples. \n",
    "\n",
    "Additionally, you may select unique samples to include in heatmap and average read depth scatter plots. \n",
    "\n",
    "*Note* If you would like to group samples using a metadata table in combination with the sample selection feature, the metadata table must only include metadata for the samples to be selected."
   ]
  },
  {
   "cell_type": "code",
   "execution_count": 3,
   "metadata": {},
   "outputs": [
    {
     "name": "stdout",
     "output_type": "stream",
     "text": [
      "loaded options\n"
     ]
    }
   ],
   "source": [
    "group_samples = \"\" #include path or filename to matrix to group by, as well as trait to group by according to the manual, in format: group_samples = \"test_files/sample_metadata_matrix.csv\",\"case,control\"\n",
    "select_samples = \"\" #include path and filename to list of sample names\n",
    ";\n",
    "println(\"loaded options\")"
   ]
  },
  {
   "cell_type": "markdown",
   "metadata": {},
   "source": [
    "### Plotting Options"
   ]
  },
  {
   "cell_type": "code",
   "execution_count": 4,
   "metadata": {},
   "outputs": [
    {
     "name": "stdout",
     "output_type": "stream",
     "text": [
      "loaded options\n"
     ]
    }
   ],
   "source": [
    "heatmaps = \"genotype,read_depth\" #make default both - genotype, read_depth, or genotype,read_depth\n",
    "read_depth_scatter_plots = \"\" \n",
    "y_axis_label_option = \"chromosomes\"#defaults to \"chromosome\" which displays chromosome labels. If y_axis_label_option = \"positions\", each variant position is labeled on y axis. If y_axis_label_option = \"none\", no y-axis ticklabels are plotted.\n",
    "x_axis_label_option = \"\" #if true, sample ids are labelled on x axis labels\n",
    ";\n",
    "println(\"loaded options\")"
   ]
  },
  {
   "cell_type": "markdown",
   "metadata": {},
   "source": [
    "### Saving Options"
   ]
  },
  {
   "cell_type": "code",
   "execution_count": 5,
   "metadata": {},
   "outputs": [
    {
     "name": "stdout",
     "output_type": "stream",
     "text": [
      "loaded options\n"
     ]
    }
   ],
   "source": [
    "heatmap_title = \"\"\n",
    "save_format = \"html\" #Options include html(interactive), pdf(scalable), svg(scalable), eps, png\n",
    "output_directory = \"\"\n",
    "num_array = \"\" #if \"true\", saves labeled number array of filtered heatmap input\n",
    "save_remotely = \"true\" #if true, html outputs are shareable but viewer must have internet connection to open \n",
    ";\n",
    "println(\"loaded options\")"
   ]
  },
  {
   "cell_type": "markdown",
   "metadata": {},
   "source": [
    "### Run the Analysis\n",
    "##### Now that you've entered your settings, click 'Run All' in the Cell dropdown in the notebook menubar to run the whole notebook and run the VIVA options.\n",
    "Do not alter the code in the cells below. Your files will save to the output directory in which the notebook file (.ipynb) is saved, unless you chose a non-default output directory in the settings."
   ]
  },
  {
   "cell_type": "code",
   "execution_count": 6,
   "metadata": {},
   "outputs": [
    {
     "name": "stdout",
     "output_type": "stream",
     "text": [
      "Welcome to VIVA Jupyter Notebook.\n",
      "\n",
      "Loading packages:\n",
      "\n",
      "1/5 ArgParse\n",
      "2/5 VariantVisualization\n"
     ]
    },
    {
     "name": "stderr",
     "output_type": "stream",
     "text": [
      "┌ Info: Precompiling VariantVisualization [7f8bf45c-0ad5-53b5-97e6-33c1305e0aa4]\n",
      "└ @ Base loading.jl:1186\n",
      "ERROR: LoadError: LoadError: LoadError: Unable to load \n",
      "\n",
      "librsvg (/Users/George/.julia/packages/Homebrew/s09IX/deps/usr/lib/librsvg-2.2.dylib)\n",
      "\n",
      "Please re-run Pkg.build(package), and restart Julia.\n",
      "Stacktrace:\n",
      " [1] error(::String, ::String) at ./error.jl:42\n",
      " [2] @checked_lib(::LineNumberNode, ::Module, ::Any, ::Any) at /Users/George/.julia/packages/Rsvg/uwc9D/deps/deps.jl:11\n",
      " [3] include at ./boot.jl:326 [inlined]\n",
      " [4] include_relative(::Module, ::String) at ./loading.jl:1038\n",
      " [5] include at ./sysimg.jl:29 [inlined]\n",
      " [6] include(::String) at /Users/George/.julia/packages/Rsvg/uwc9D/src/Rsvg.jl:2\n",
      " [7] top-level scope at none:0\n",
      " [8] include at ./boot.jl:326 [inlined]\n",
      " [9] include_relative(::Module, ::String) at ./loading.jl:1038\n",
      " [10] include(::Module, ::String) at ./sysimg.jl:29\n",
      " [11] top-level scope at none:2\n",
      " [12] eval at ./boot.jl:328 [inlined]\n",
      " [13] eval(::Expr) at ./client.jl:404\n",
      " [14] top-level scope at ./none:3\n",
      "in expression starting at /Users/George/.julia/packages/Rsvg/uwc9D/deps/deps.jl:21\n",
      "in expression starting at /Users/George/.julia/packages/Rsvg/uwc9D/deps/deps.jl:21\n",
      "in expression starting at /Users/George/.julia/packages/Rsvg/uwc9D/src/Rsvg.jl:5\n",
      "ERROR: LoadError: Failed to precompile Rsvg [c4c386cf-5103-5370-be45-f3a111cca3b8] to /Users/George/.julia/compiled/v1.1/Rsvg/aWLhH.ji.\n",
      "Stacktrace:\n",
      " [1] error(::String) at ./error.jl:33\n",
      " [2] compilecache(::Base.PkgId, ::String) at ./loading.jl:1197\n",
      " [3] _require(::Base.PkgId) at ./loading.jl:960\n",
      " [4] require(::Base.PkgId) at ./loading.jl:858\n",
      " [5] require(::Module, ::Symbol) at ./loading.jl:853\n",
      " [6] include at ./boot.jl:326 [inlined]\n",
      " [7] include_relative(::Module, ::String) at ./loading.jl:1038\n",
      " [8] include(::Module, ::String) at ./sysimg.jl:29\n",
      " [9] top-level scope at none:2\n",
      " [10] eval at ./boot.jl:328 [inlined]\n",
      " [11] eval(::Expr) at ./client.jl:404\n",
      " [12] top-level scope at ./none:3\n",
      "in expression starting at /Users/George/.julia/packages/VariantVisualization/cbN7w/src/VariantVisualization.jl:6\n"
     ]
    },
    {
     "ename": "ErrorException",
     "evalue": "Failed to precompile VariantVisualization [7f8bf45c-0ad5-53b5-97e6-33c1305e0aa4] to /Users/George/.julia/compiled/v1.1/VariantVisualization/v8cR2.ji.",
     "output_type": "error",
     "traceback": [
      "Failed to precompile VariantVisualization [7f8bf45c-0ad5-53b5-97e6-33c1305e0aa4] to /Users/George/.julia/compiled/v1.1/VariantVisualization/v8cR2.ji.",
      "",
      "Stacktrace:",
      " [1] error(::String) at ./error.jl:33",
      " [2] compilecache(::Base.PkgId, ::String) at ./loading.jl:1197",
      " [3] _require(::Base.PkgId) at ./loading.jl:960",
      " [4] require(::Base.PkgId) at ./loading.jl:858",
      " [5] require(::Module, ::Symbol) at ./loading.jl:853",
      " [6] top-level scope at In[6]:16"
     ]
    }
   ],
   "source": [
    "### DO NOT ALTER THE CODE IN THIS CELL ###\n",
    "### Navigate to `Cell` tab in the menubar and click `Run All` to generate plots ###\n",
    "\n",
    "#Passing settings to VIVA. Do not adjust.\n",
    "\n",
    "println(\"Welcome to VIVA Jupyter Notebook.\")\n",
    "println()\n",
    "println(\"Loading packages:\")\n",
    "println()\n",
    "\n",
    "\n",
    "println(\"1/5 ArgParse\")\n",
    "using ArgParse\n",
    "\n",
    "println(\"2/5 VariantVisualization\")\n",
    "using VariantVisualization\n",
    "\n",
    "println(\"3/5 PlotlyJS\")\n",
    "using PlotlyJS\n",
    "\n",
    "println(\"4/5 GeneticVariation\")\n",
    "using GeneticVariation\n",
    "\n",
    "println(\"5/5 DelimitedFiles\")\n",
    "using DelimitedFiles\n",
    "\n",
    "variant_filters = genomic_range,pass_filter,positions_list\n",
    "sample_selection = group_samples,select_samples\n",
    "plotting_options = heatmaps,read_depth_scatter_plots,y_axis_label_option,x_axis_label_option\n",
    "saving_options = heatmap_title,save_format,output_directory,num_array,save_remotely"
   ]
  },
  {
   "cell_type": "code",
   "execution_count": 7,
   "metadata": {},
   "outputs": [
    {
     "ename": "UndefVarError",
     "evalue": "UndefVarError: jupyter_main not defined",
     "output_type": "error",
     "traceback": [
      "UndefVarError: jupyter_main not defined",
      "",
      "Stacktrace:",
      " [1] top-level scope at In[7]:1"
     ]
    }
   ],
   "source": [
    "jupyter_main(vcf_filename,saving_options,variant_filters,sample_selection,plotting_options)\n",
    ";"
   ]
  },
  {
   "cell_type": "code",
   "execution_count": null,
   "metadata": {},
   "outputs": [],
   "source": []
  },
  {
   "cell_type": "code",
   "execution_count": null,
   "metadata": {},
   "outputs": [],
   "source": []
  },
  {
   "cell_type": "code",
   "execution_count": null,
   "metadata": {},
   "outputs": [],
   "source": []
  },
  {
   "cell_type": "code",
   "execution_count": null,
   "metadata": {},
   "outputs": [],
   "source": []
  },
  {
   "cell_type": "code",
   "execution_count": null,
   "metadata": {},
   "outputs": [],
   "source": []
  },
  {
   "cell_type": "code",
   "execution_count": null,
   "metadata": {},
   "outputs": [],
   "source": []
  }
 ],
 "metadata": {
  "@webio": {
   "lastCommId": null,
   "lastKernelId": null
  },
  "kernelspec": {
   "display_name": "Julia 1.1.0",
   "language": "julia",
   "name": "julia-1.1"
  },
  "language_info": {
   "file_extension": ".jl",
   "mimetype": "application/julia",
   "name": "julia",
   "version": "1.1.0"
  }
 },
 "nbformat": 4,
 "nbformat_minor": 2
}
