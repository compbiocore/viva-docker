{
 "cells": [
  {
   "cell_type": "markdown",
   "metadata": {},
   "source": [
    "# VIVA: Visualization of Variants\n",
    "\n",
    "## VIVA is a tool for visualizing variant genotype and read depth (coverage) data from variant call format (VCF) files. \n",
    "\n",
    "### Getting Started\n",
    "\n",
    "Enter your VCF filename below and choose your plotting options.\n",
    "\n",
    "Then run the entire notebook. Plots will be saved in the directory you keep your VIVA.ipynb in, or in the directory you specify in the plotting options.\n"
   ]
  },
  {
   "cell_type": "markdown",
   "metadata": {},
   "source": [
    "### Enter You VCF filename\n",
    "\n",
    "Enter filename or file path of a VCF file to visualize. "
   ]
  },
  {
   "cell_type": "code",
   "execution_count": 1,
   "metadata": {},
   "outputs": [
    {
     "name": "stdout",
     "output_type": "stream",
     "text": [
      "loaded filename\n"
     ]
    }
   ],
   "source": [
    "vcf_filename = \"test/test_files/test_4X_191.vcf\" ;\n",
    "println(\"loaded filename\")"
   ]
  },
  {
   "cell_type": "markdown",
   "metadata": {},
   "source": [
    "### Variant Selection Options\n",
    "\n",
    "Select variant record rows of your VCF file to visualize. Leave \"\" empty to bypass filters.\n",
    "\n",
    "*Important Note* Variant selection is recommending when visualizing large VCF files as plotting capability is limited by user's computing power."
   ]
  },
  {
   "cell_type": "code",
   "execution_count": 2,
   "metadata": {},
   "outputs": [
    {
     "name": "stdout",
     "output_type": "stream",
     "text": [
      "loaded options\n"
     ]
    }
   ],
   "source": [
    "genomic_range = \"\" #specify genomic range of variants to select in the format: genomic_range = chr4:0-560000000\n",
    "pass_filter = \"\" #if \"true\", selects variants with Filter Status = PASS\n",
    "positions_list = \"\" #include path and filename to list of variant positions to selects\n",
    "; \n",
    "println(\"loaded options\")"
   ]
  },
  {
   "cell_type": "markdown",
   "metadata": {},
   "source": [
    "### Sample Grouping and Selection\n",
    "\n",
    "Add sample metadata to heatmap plots and group sample columns by metadata traits. This feature is useful for identifying batch effects or differential variation between samples. \n",
    "\n",
    "Additionally, you may select unique samples to include in heatmap and average read depth scatter plots. \n",
    "\n",
    "*Note* If you would like to group samples using a metadata table in combination with the sample selection feature, the metadata table must only include metadata for the samples to be selected."
   ]
  },
  {
   "cell_type": "code",
   "execution_count": 3,
   "metadata": {},
   "outputs": [
    {
     "name": "stdout",
     "output_type": "stream",
     "text": [
      "loaded options\n"
     ]
    }
   ],
   "source": [
    "group_samples = \"\" #include path or filename to matrix to group by, as well as trait to group by according to the manual, in format: group_samples = \"test_files/sample_metadata_matrix.csv\",\"case,control\"\n",
    "select_samples = \"\" #include path and filename to list of sample names\n",
    ";\n",
    "println(\"loaded options\")"
   ]
  },
  {
   "cell_type": "markdown",
   "metadata": {},
   "source": [
    "### Plotting Options"
   ]
  },
  {
   "cell_type": "code",
   "execution_count": 4,
   "metadata": {},
   "outputs": [
    {
     "name": "stdout",
     "output_type": "stream",
     "text": [
      "loaded options\n"
     ]
    }
   ],
   "source": [
    "heatmaps = \"genotype,read_depth\" #make default both - genotype, read_depth, or genotype,read_depth\n",
    "read_depth_scatter_plots = \"\" \n",
    "y_axis_label_option = \"chromosomes\"#defaults to \"chromosome\" which displays chromosome labels. If y_axis_label_option = \"positions\", each variant position is labeled on y axis. If y_axis_label_option = \"none\", no y-axis ticklabels are plotted.\n",
    "x_axis_label_option = \"\" #if true, sample ids are labelled on x axis labels\n",
    ";\n",
    "println(\"loaded options\")"
   ]
  },
  {
   "cell_type": "markdown",
   "metadata": {},
   "source": [
    "### Saving Options"
   ]
  },
  {
   "cell_type": "code",
   "execution_count": 5,
   "metadata": {},
   "outputs": [
    {
     "name": "stdout",
     "output_type": "stream",
     "text": [
      "loaded options\n"
     ]
    }
   ],
   "source": [
    "heatmap_title = \"\"\n",
    "save_format = \"html\" #Options include html(interactive), pdf(scalable), svg(scalable), eps, png\n",
    "output_directory = \"\"\n",
    "num_array = \"\" #if \"true\", saves labeled number array of filtered heatmap input\n",
    "save_remotely = \"true\" #if true, html outputs are shareable but viewer must have internet connection to open \n",
    ";\n",
    "println(\"loaded options\")"
   ]
  },
  {
   "cell_type": "markdown",
   "metadata": {},
   "source": [
    "### Run the Analysis\n",
    "##### Now that you've entered your settings, click 'Run All' in the Cell dropdown in the notebook menubar to run the whole notebook and run the VIVA options.\n",
    "Do not alter the code in the cells below. Your files will save to the output directory in which the notebook file (.ipynb) is saved, unless you chose a non-default output directory in the settings."
   ]
  },
  {
   "cell_type": "code",
   "execution_count": 6,
   "metadata": {},
   "outputs": [
    {
     "name": "stdout",
     "output_type": "stream",
     "text": [
      "Welcome to VIVA Jupyter Notebook.\n",
      "\n",
      "Loading packages:\n",
      "\n",
      "1/5 ArgParse\n"
     ]
    },
    {
     "name": "stderr",
     "output_type": "stream",
     "text": [
      "┌ Info: Precompiling ArgParse [c7e460c6-2fb9-53a9-8c5b-16f535851c63]\n",
      "└ @ Base loading.jl:1186\n"
     ]
    },
    {
     "name": "stdout",
     "output_type": "stream",
     "text": [
      "2/5 VariantVisualization\n"
     ]
    },
    {
     "name": "stderr",
     "output_type": "stream",
     "text": [
      "┌ Info: Precompiling VariantVisualization [7f8bf45c-0ad5-53b5-97e6-33c1305e0aa4]\n",
      "└ @ Base loading.jl:1186\n",
      "┌ Warning: Package DataFrames does not have StatsBase in its dependencies:\n",
      "│ - If you have DataFrames checked out for development and have\n",
      "│   added StatsBase as a dependency but haven't updated your primary\n",
      "│   environment's manifest file, try `Pkg.resolve()`.\n",
      "│ - Otherwise you may need to report an issue with DataFrames\n",
      "└ Loading StatsBase into DataFrames from project dependency, future warnings for DataFrames are suppressed.\n",
      "ERROR: LoadError: ArgumentError: Package Tables does not have Requires in its dependencies:\n",
      "- If you have Tables checked out for development and have\n",
      "  added Requires as a dependency but haven't updated your primary\n",
      "  environment's manifest file, try `Pkg.resolve()`.\n",
      "- Otherwise you may need to report an issue with Tables\n",
      "Stacktrace:\n",
      " [1] require(::Module, ::Symbol) at /Applications/JuliaPro-1.1.1.1.app/Contents/Resources/julia/Contents/Resources/julia/lib/julia/sys.dylib:?\n",
      " [2] include_relative(::Module, ::String) at /Applications/JuliaPro-1.1.1.1.app/Contents/Resources/julia/Contents/Resources/julia/lib/julia/sys.dylib:?\n",
      " [3] include(::Module, ::String) at /Applications/JuliaPro-1.1.1.1.app/Contents/Resources/julia/Contents/Resources/julia/lib/julia/sys.dylib:?\n",
      " [4] top-level scope at none:2\n",
      " [5] eval at ./boot.jl:328 [inlined]\n",
      " [6] eval(::Expr) at ./client.jl:404\n",
      " [7] top-level scope at ./none:3\n",
      "in expression starting at /Users/fgelin/.juliapro/JuliaPro_v1.1.1.1/packages/Tables/1OsNZ/src/Tables.jl:3\n",
      "ERROR: LoadError: LoadError: Failed to precompile Tables [bd369af6-aec1-5ad0-b16a-f7cc5008161c] to /Users/fgelin/.juliapro/JuliaPro_v1.1.1.1/compiled/v1.1/Tables/Z804B.ji.\n",
      "Stacktrace:\n",
      " [1] error(::String) at /Applications/JuliaPro-1.1.1.1.app/Contents/Resources/julia/Contents/Resources/julia/lib/julia/sys.dylib:?\n",
      " [2] compilecache(::Base.PkgId, ::String) at /Applications/JuliaPro-1.1.1.1.app/Contents/Resources/julia/Contents/Resources/julia/lib/julia/sys.dylib:?\n",
      " [3] _require(::Base.PkgId) at /Applications/JuliaPro-1.1.1.1.app/Contents/Resources/julia/Contents/Resources/julia/lib/julia/sys.dylib:?\n",
      " [4] require(::Base.PkgId) at /Applications/JuliaPro-1.1.1.1.app/Contents/Resources/julia/Contents/Resources/julia/lib/julia/sys.dylib:? (repeats 2 times)\n",
      " [5] include at ./boot.jl:326 [inlined]\n",
      " [6] include_relative(::Module, ::String) at ./loading.jl:1038\n",
      " [7] include at ./sysimg.jl:29 [inlined]\n",
      " [8] include(::String) at /Users/fgelin/.juliapro/JuliaPro_v1.1.1.1/packages/DataFrames/CZrca/src/DataFrames.jl:1\n",
      " [9] top-level scope at none:0\n",
      " [10] include_relative(::Module, ::String) at /Applications/JuliaPro-1.1.1.1.app/Contents/Resources/julia/Contents/Resources/julia/lib/julia/sys.dylib:?\n",
      " [11] include(::Module, ::String) at /Applications/JuliaPro-1.1.1.1.app/Contents/Resources/julia/Contents/Resources/julia/lib/julia/sys.dylib:?\n",
      " [12] top-level scope at none:2\n",
      " [13] eval at ./boot.jl:328 [inlined]\n",
      " [14] eval(::Expr) at ./client.jl:404\n",
      " [15] top-level scope at ./none:3\n",
      "in expression starting at /Users/fgelin/.juliapro/JuliaPro_v1.1.1.1/packages/DataFrames/CZrca/src/other/tables.jl:1\n",
      "in expression starting at /Users/fgelin/.juliapro/JuliaPro_v1.1.1.1/packages/DataFrames/CZrca/src/DataFrames.jl:100\n",
      "ERROR: LoadError: Failed to precompile DataFrames [a93c6f00-e57d-5684-b7b6-d8193f3e46c0] to /Users/fgelin/.juliapro/JuliaPro_v1.1.1.1/compiled/v1.1/DataFrames/AR9oZ.ji.\n",
      "Stacktrace:\n",
      " [1] error(::String) at /Applications/JuliaPro-1.1.1.1.app/Contents/Resources/julia/Contents/Resources/julia/lib/julia/sys.dylib:?\n",
      " [2] compilecache(::Base.PkgId, ::String) at /Applications/JuliaPro-1.1.1.1.app/Contents/Resources/julia/Contents/Resources/julia/lib/julia/sys.dylib:?\n",
      " [3] _require(::Base.PkgId) at /Applications/JuliaPro-1.1.1.1.app/Contents/Resources/julia/Contents/Resources/julia/lib/julia/sys.dylib:?\n",
      " [4] require(::Base.PkgId) at /Applications/JuliaPro-1.1.1.1.app/Contents/Resources/julia/Contents/Resources/julia/lib/julia/sys.dylib:? (repeats 2 times)\n",
      " [5] include_relative(::Module, ::String) at /Applications/JuliaPro-1.1.1.1.app/Contents/Resources/julia/Contents/Resources/julia/lib/julia/sys.dylib:?\n",
      " [6] include(::Module, ::String) at /Applications/JuliaPro-1.1.1.1.app/Contents/Resources/julia/Contents/Resources/julia/lib/julia/sys.dylib:?\n",
      " [7] top-level scope at none:2\n",
      " [8] eval at ./boot.jl:328 [inlined]\n",
      " [9] eval(::Expr) at ./client.jl:404\n",
      " [10] top-level scope at ./none:3\n",
      "in expression starting at /Users/fgelin/.julia/dev/VariantVisualization/src/VariantVisualization.jl:3\n"
     ]
    },
    {
     "ename": "ErrorException",
     "evalue": "Failed to precompile VariantVisualization [7f8bf45c-0ad5-53b5-97e6-33c1305e0aa4] to /Users/fgelin/.juliapro/JuliaPro_v1.1.1.1/compiled/v1.1/VariantVisualization/v8cR2.ji.",
     "output_type": "error",
     "traceback": [
      "Failed to precompile VariantVisualization [7f8bf45c-0ad5-53b5-97e6-33c1305e0aa4] to /Users/fgelin/.juliapro/JuliaPro_v1.1.1.1/compiled/v1.1/VariantVisualization/v8cR2.ji.",
      "",
      "Stacktrace:",
      " [1] error(::String) at /Applications/JuliaPro-1.1.1.1.app/Contents/Resources/julia/Contents/Resources/julia/lib/julia/sys.dylib:?",
      " [2] compilecache(::Base.PkgId, ::String) at ./loading.jl:1197",
      " [3] _require(::Base.PkgId) at ./loading.jl:960",
      " [4] require(::Base.PkgId) at ./loading.jl:858",
      " [5] require(::Module, ::Symbol) at ./loading.jl:853",
      " [6] top-level scope at In[6]:16"
     ]
    }
   ],
   "source": [
    "### DO NOT ALTER THE CODE IN THIS CELL ###\n",
    "### Navigate to `Cell` tab in the menubar and click `Run All` to generate plots ###\n",
    "\n",
    "#Passing settings to VIVA. Do not adjust.\n",
    "\n",
    "println(\"Welcome to VIVA Jupyter Notebook.\")\n",
    "println()\n",
    "println(\"Loading packages:\")\n",
    "println()\n",
    "\n",
    "\n",
    "println(\"1/5 ArgParse\")\n",
    "using ArgParse\n",
    "\n",
    "println(\"2/5 VariantVisualization\")\n",
    "using VariantVisualization\n",
    "\n",
    "println(\"3/5 PlotlyJS\")\n",
    "using PlotlyJS\n",
    "\n",
    "println(\"4/5 GeneticVariation\")\n",
    "using GeneticVariation\n",
    "\n",
    "println(\"5/5 DelimitedFiles\")\n",
    "using DelimitedFiles\n",
    "\n",
    "variant_filters = genomic_range,pass_filter,positions_list\n",
    "sample_selection = group_samples,select_samples\n",
    "plotting_options = heatmaps,read_depth_scatter_plots,y_axis_label_option,x_axis_label_option\n",
    "saving_options = heatmap_title,save_format,output_directory,num_array,save_remotely"
   ]
  },
  {
   "cell_type": "code",
   "execution_count": 7,
   "metadata": {},
   "outputs": [
    {
     "ename": "UndefVarError",
     "evalue": "UndefVarError: jupyter_main not defined",
     "output_type": "error",
     "traceback": [
      "UndefVarError: jupyter_main not defined",
      "",
      "Stacktrace:",
      " [1] top-level scope at In[7]:1"
     ]
    }
   ],
   "source": [
    "jupyter_main(vcf_filename,saving_options,variant_filters,sample_selection,plotting_options)\n",
    ";"
   ]
  },
  {
   "cell_type": "code",
   "execution_count": null,
   "metadata": {},
   "outputs": [],
   "source": []
  },
  {
   "cell_type": "code",
   "execution_count": null,
   "metadata": {},
   "outputs": [],
   "source": []
  },
  {
   "cell_type": "code",
   "execution_count": null,
   "metadata": {},
   "outputs": [],
   "source": []
  },
  {
   "cell_type": "code",
   "execution_count": null,
   "metadata": {},
   "outputs": [],
   "source": []
  },
  {
   "cell_type": "code",
   "execution_count": null,
   "metadata": {},
   "outputs": [],
   "source": []
  },
  {
   "cell_type": "code",
   "execution_count": null,
   "metadata": {},
   "outputs": [],
   "source": []
  }
 ],
 "metadata": {
  "@webio": {
   "lastCommId": null,
   "lastKernelId": null
  },
  "kernelspec": {
   "display_name": "Julia 1.1.1",
   "language": "julia",
   "name": "julia-1.1"
  },
  "language_info": {
   "file_extension": ".jl",
   "mimetype": "application/julia",
   "name": "julia",
   "version": "1.1.1"
  }
 },
 "nbformat": 4,
 "nbformat_minor": 2
}
